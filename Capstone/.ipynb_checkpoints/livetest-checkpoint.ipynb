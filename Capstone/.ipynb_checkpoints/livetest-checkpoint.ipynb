{
 "cells": [
  {
   "cell_type": "code",
   "execution_count": 1,
   "id": "f5ad1c17-8f99-4a03-963d-0bd4d3e6670d",
   "metadata": {},
   "outputs": [],
   "source": [
    "from matplotlib import pyplot as plt\n",
    "import numpy as np\n",
    "from astropy.io import fits\n",
    "from astropy.table import Table\n",
    "from sklearn.decomposition import FastICA\n",
    "import requests\n",
    "from tqdm import tqdm\n",
    "from more_itertools import locate\n",
    "\n",
    "def import_data():\n",
    "    sb2_fits = fits.open(\"/Users/blaine/Documents/astrodata/apogee_sb2s-v1_0.fits\", memmap=True)\n",
    "    a = sb2_fits[1].data\n",
    "    all_visit = fits.open(\"/Users/blaine/Documents/astrodata/allVisit-dr17-synspec_rev1.fits\", memmap=True)\n",
    "    b = all_visit[1].data\n",
    "    all_star = fits.open(\"/Users/blaine/Documents/astrodata/allStar-dr17-synspec_rev1.fits\", memmap=True)\n",
    "    c = all_star[1].data\n",
    "\n",
    "    return a,b,c\n",
    "\n",
    "def filter_sb2(sb2):\n",
    "    ret = []\n",
    "    for i in range(0, sb2.shape[0]):\n",
    "        arr = sb2[i][10]\n",
    "        if arr[0] >= 3 and arr[1] >= 3 and arr[2] == 0 and arr[3] == 0:\n",
    "            ret.append(i)\n",
    "    return ret\n",
    "\n",
    "def filter_allVisit(visit_id, visit, id_lst):\n",
    "    ret = []\n",
    "    offset = 0\n",
    "    for dat in tqdm(id_lst):\n",
    "        dat_mjd = dat[0]\n",
    "        dat_id = dat[1]\n",
    "        temp = list(locate(visit_id[offset:-1], lambda x:x[1] == dat_mjd and x[0] == dat_id))\n",
    "        if len(temp) > 0:\n",
    "            idx = offset + temp[0]\n",
    "            ret.append([visit[idx][3], idx])\n",
    "            offset = idx - 100\n",
    "            print(idx)\n",
    "            print(offset)\n",
    "        else:\n",
    "            continue\n",
    "    return ret\n",
    "\n",
    "def dict_display(dict,N):\n",
    "    for i in range(0,N):\n",
    "        print(list(dict.items())[i])\n",
    "        print(\"\")"
   ]
  },
  {
   "cell_type": "code",
   "execution_count": 2,
   "id": "0ca10ca6-e93e-4dc0-99cc-421e7dac7b37",
   "metadata": {
    "collapsed": true,
    "jupyter": {
     "outputs_hidden": true
    },
    "tags": []
   },
   "outputs": [
    {
     "name": "stdout",
     "output_type": "stream",
     "text": [
      "Collecting numpy==1.21.5\n",
      "  Using cached numpy-1.21.5-cp39-cp39-macosx_10_9_x86_64.whl (17.0 MB)\n",
      "Installing collected packages: numpy\n",
      "  Attempting uninstall: numpy\n",
      "    Found existing installation: numpy 1.24.2\n",
      "    Uninstalling numpy-1.24.2:\n",
      "      Successfully uninstalled numpy-1.24.2\n",
      "\u001b[31mERROR: pip's dependency resolver does not currently take into account all the packages that are installed. This behaviour is the source of the following dependency conflicts.\n",
      "daal4py 2021.3.0 requires daal==2021.2.3, which is not installed.\n",
      "tensorflow 2.5.0 requires numpy~=1.19.2, but you have numpy 1.21.5 which is incompatible.\n",
      "tensorflow 2.5.0 requires typing-extensions~=3.7.4, but you have typing-extensions 4.1.1 which is incompatible.\n",
      "spleeter 2.3.0 requires numpy<1.20.0,>=1.16.0, but you have numpy 1.21.5 which is incompatible.\u001b[0m\n",
      "Successfully installed numpy-1.21.5\n",
      "Note: you may need to restart the kernel to use updated packages.\n"
     ]
    }
   ],
   "source": [
    "pip install numpy==1.21.5"
   ]
  },
  {
   "cell_type": "code",
   "execution_count": 2,
   "id": "ccd42f5a-b315-4e86-8063-1f2481f303b9",
   "metadata": {},
   "outputs": [],
   "source": [
    "sb2_raw, visit_raw, star_raw = import_data()\n",
    "#Filter sb2 data to have both ratings above 3\n",
    "sb2_idx = filter_sb2(sb2_raw)"
   ]
  },
  {
   "cell_type": "code",
   "execution_count": 3,
   "id": "a9fad3ab-afdb-471e-802a-6a275a2fc778",
   "metadata": {},
   "outputs": [],
   "source": [
    "#Condense SB2 Data into a list of all filtered elements\n",
    "sb2_data = [sb2_raw[idx] for idx in sb2_idx]"
   ]
  },
  {
   "cell_type": "code",
   "execution_count": 4,
   "id": "3f35af57-0ae5-4cb1-8fd5-f93b39bc4815",
   "metadata": {},
   "outputs": [],
   "source": [
    "#Create a Dictionary of all elements of sb2 logged by appogee ID\n",
    "sb2_mjd = [[int(np.floor(element[1])), element] for element in sb2_data]"
   ]
  },
  {
   "cell_type": "code",
   "execution_count": 5,
   "id": "99ac0bd4-2de1-4e3c-b9cf-d0741cc3362b",
   "metadata": {},
   "outputs": [],
   "source": [
    "#Convert fits format to list of data\n",
    "visit_id_list = [[visit[0], visit[7]] for visit in visit_raw]"
   ]
  },
  {
   "cell_type": "code",
   "execution_count": 6,
   "id": "854b5396-b911-40d3-a0b5-0db88bc7a845",
   "metadata": {},
   "outputs": [],
   "source": [
    "sb2_info_list = [[b2[0],b2[1][0]] for b2 in sb2_mjd] "
   ]
  },
  {
   "cell_type": "code",
   "execution_count": 18,
   "id": "3121bb2a-f1bf-42f1-9ea6-f6eb3cf67986",
   "metadata": {
    "tags": []
   },
   "outputs": [
    {
     "data": {
      "text/plain": [
       "'asVisit-dr17-12776-59154-069.fits'"
      ]
     },
     "execution_count": 18,
     "metadata": {},
     "output_type": "execute_result"
    }
   ],
   "source": [
    "visit_raw[656][3]"
   ]
  },
  {
   "cell_type": "code",
   "execution_count": 7,
   "id": "c912d807-ed0b-4e98-be4f-b8be4adee7d2",
   "metadata": {
    "tags": []
   },
   "outputs": [
    {
     "name": "stderr",
     "output_type": "stream",
     "text": [
      "  0%|                                                                                                                                                                  | 0/100 [00:00<?, ?it/s]"
     ]
    },
    {
     "name": "stdout",
     "output_type": "stream",
     "text": [
      "[656]\n"
     ]
    },
    {
     "name": "stderr",
     "output_type": "stream",
     "text": [
      "  2%|███                                                                                                                                                       | 2/100 [00:08<06:41,  4.10s/it]"
     ]
    },
    {
     "name": "stdout",
     "output_type": "stream",
     "text": [
      "[661]\n"
     ]
    },
    {
     "name": "stderr",
     "output_type": "stream",
     "text": [
      "  3%|████▌                                                                                                                                                     | 3/100 [00:11<05:58,  3.70s/it]"
     ]
    },
    {
     "name": "stdout",
     "output_type": "stream",
     "text": [
      "[655]\n"
     ]
    },
    {
     "name": "stderr",
     "output_type": "stream",
     "text": [
      "  4%|██████▏                                                                                                                                                   | 4/100 [00:15<05:37,  3.51s/it]"
     ]
    },
    {
     "name": "stdout",
     "output_type": "stream",
     "text": [
      "[657]\n"
     ]
    },
    {
     "name": "stderr",
     "output_type": "stream",
     "text": [
      "  5%|███████▋                                                                                                                                                  | 5/100 [00:18<05:23,  3.40s/it]"
     ]
    },
    {
     "name": "stdout",
     "output_type": "stream",
     "text": [
      "[654]\n"
     ]
    },
    {
     "name": "stderr",
     "output_type": "stream",
     "text": [
      "  6%|█████████▏                                                                                                                                                | 6/100 [00:21<05:14,  3.34s/it]"
     ]
    },
    {
     "name": "stdout",
     "output_type": "stream",
     "text": [
      "[662]\n"
     ]
    },
    {
     "name": "stderr",
     "output_type": "stream",
     "text": [
      "  7%|██████████▊                                                                                                                                               | 7/100 [00:24<05:07,  3.30s/it]"
     ]
    },
    {
     "name": "stdout",
     "output_type": "stream",
     "text": [
      "[663]\n"
     ]
    },
    {
     "name": "stderr",
     "output_type": "stream",
     "text": [
      "  8%|████████████▎                                                                                                                                             | 8/100 [00:27<05:01,  3.28s/it]"
     ]
    },
    {
     "name": "stdout",
     "output_type": "stream",
     "text": [
      "[771]\n"
     ]
    },
    {
     "name": "stderr",
     "output_type": "stream",
     "text": [
      "  9%|█████████████▊                                                                                                                                            | 9/100 [00:31<04:56,  3.26s/it]"
     ]
    },
    {
     "name": "stdout",
     "output_type": "stream",
     "text": [
      "[817]\n"
     ]
    },
    {
     "name": "stderr",
     "output_type": "stream",
     "text": [
      " 10%|███████████████▎                                                                                                                                         | 10/100 [00:34<04:52,  3.25s/it]"
     ]
    },
    {
     "name": "stdout",
     "output_type": "stream",
     "text": [
      "[816]\n"
     ]
    },
    {
     "name": "stderr",
     "output_type": "stream",
     "text": [
      " 11%|████████████████▊                                                                                                                                        | 11/100 [00:37<04:48,  3.24s/it]"
     ]
    },
    {
     "name": "stdout",
     "output_type": "stream",
     "text": [
      "[1974]\n"
     ]
    },
    {
     "name": "stderr",
     "output_type": "stream",
     "text": [
      " 12%|██████████████████▎                                                                                                                                      | 12/100 [00:40<04:44,  3.23s/it]"
     ]
    },
    {
     "name": "stdout",
     "output_type": "stream",
     "text": [
      "[1975]\n"
     ]
    },
    {
     "name": "stderr",
     "output_type": "stream",
     "text": [
      " 13%|███████████████████▉                                                                                                                                     | 13/100 [00:43<04:41,  3.23s/it]"
     ]
    },
    {
     "name": "stdout",
     "output_type": "stream",
     "text": [
      "[2649]\n"
     ]
    },
    {
     "name": "stderr",
     "output_type": "stream",
     "text": [
      " 14%|█████████████████████▍                                                                                                                                   | 14/100 [00:47<04:37,  3.23s/it]"
     ]
    },
    {
     "name": "stdout",
     "output_type": "stream",
     "text": [
      "[2639]\n"
     ]
    },
    {
     "name": "stderr",
     "output_type": "stream",
     "text": [
      " 15%|██████████████████████▉                                                                                                                                  | 15/100 [00:50<04:33,  3.22s/it]"
     ]
    },
    {
     "name": "stdout",
     "output_type": "stream",
     "text": [
      "[2644]\n"
     ]
    },
    {
     "name": "stderr",
     "output_type": "stream",
     "text": [
      " 16%|████████████████████████▍                                                                                                                                | 16/100 [00:53<04:30,  3.23s/it]"
     ]
    },
    {
     "name": "stdout",
     "output_type": "stream",
     "text": [
      "[2647]\n"
     ]
    },
    {
     "name": "stderr",
     "output_type": "stream",
     "text": [
      " 17%|██████████████████████████                                                                                                                               | 17/100 [00:56<04:27,  3.22s/it]"
     ]
    },
    {
     "name": "stdout",
     "output_type": "stream",
     "text": [
      "[2629]\n"
     ]
    },
    {
     "name": "stderr",
     "output_type": "stream",
     "text": [
      " 18%|███████████████████████████▌                                                                                                                             | 18/100 [01:00<04:24,  3.22s/it]"
     ]
    },
    {
     "name": "stdout",
     "output_type": "stream",
     "text": [
      "[2625]\n"
     ]
    },
    {
     "name": "stderr",
     "output_type": "stream",
     "text": [
      " 19%|█████████████████████████████                                                                                                                            | 19/100 [01:03<04:21,  3.22s/it]"
     ]
    },
    {
     "name": "stdout",
     "output_type": "stream",
     "text": [
      "[2635]\n"
     ]
    },
    {
     "name": "stderr",
     "output_type": "stream",
     "text": [
      " 20%|██████████████████████████████▌                                                                                                                          | 20/100 [01:06<04:17,  3.22s/it]"
     ]
    },
    {
     "name": "stdout",
     "output_type": "stream",
     "text": [
      "[2646]\n"
     ]
    },
    {
     "name": "stderr",
     "output_type": "stream",
     "text": [
      " 21%|████████████████████████████████▏                                                                                                                        | 21/100 [01:09<04:14,  3.22s/it]"
     ]
    },
    {
     "name": "stdout",
     "output_type": "stream",
     "text": [
      "[2651]\n"
     ]
    },
    {
     "name": "stderr",
     "output_type": "stream",
     "text": [
      " 22%|█████████████████████████████████▋                                                                                                                       | 22/100 [01:12<04:11,  3.22s/it]"
     ]
    },
    {
     "name": "stdout",
     "output_type": "stream",
     "text": [
      "[2650]\n"
     ]
    },
    {
     "name": "stderr",
     "output_type": "stream",
     "text": [
      " 23%|███████████████████████████████████▏                                                                                                                     | 23/100 [01:16<04:08,  3.22s/it]"
     ]
    },
    {
     "name": "stdout",
     "output_type": "stream",
     "text": [
      "[2643]\n"
     ]
    },
    {
     "name": "stderr",
     "output_type": "stream",
     "text": [
      " 24%|████████████████████████████████████▋                                                                                                                    | 24/100 [01:19<04:04,  3.22s/it]"
     ]
    },
    {
     "name": "stdout",
     "output_type": "stream",
     "text": [
      "[2642]\n"
     ]
    },
    {
     "name": "stderr",
     "output_type": "stream",
     "text": [
      " 25%|██████████████████████████████████████▎                                                                                                                  | 25/100 [01:22<04:01,  3.22s/it]"
     ]
    },
    {
     "name": "stdout",
     "output_type": "stream",
     "text": [
      "[2641]\n"
     ]
    },
    {
     "name": "stderr",
     "output_type": "stream",
     "text": [
      " 26%|███████████████████████████████████████▊                                                                                                                 | 26/100 [01:25<03:58,  3.23s/it]"
     ]
    },
    {
     "name": "stdout",
     "output_type": "stream",
     "text": [
      "[2640]\n"
     ]
    },
    {
     "name": "stderr",
     "output_type": "stream",
     "text": [
      " 27%|█████████████████████████████████████████▎                                                                                                               | 27/100 [01:29<03:55,  3.23s/it]"
     ]
    },
    {
     "name": "stdout",
     "output_type": "stream",
     "text": [
      "[2637]\n"
     ]
    },
    {
     "name": "stderr",
     "output_type": "stream",
     "text": [
      " 28%|██████████████████████████████████████████▊                                                                                                              | 28/100 [01:32<03:52,  3.22s/it]"
     ]
    },
    {
     "name": "stdout",
     "output_type": "stream",
     "text": [
      "[2634]\n"
     ]
    },
    {
     "name": "stderr",
     "output_type": "stream",
     "text": [
      " 29%|████████████████████████████████████████████▎                                                                                                            | 29/100 [01:35<03:48,  3.22s/it]"
     ]
    },
    {
     "name": "stdout",
     "output_type": "stream",
     "text": [
      "[2633]\n"
     ]
    },
    {
     "name": "stderr",
     "output_type": "stream",
     "text": [
      " 30%|█████████████████████████████████████████████▉                                                                                                           | 30/100 [01:38<03:45,  3.22s/it]"
     ]
    },
    {
     "name": "stdout",
     "output_type": "stream",
     "text": [
      "[2623]\n"
     ]
    },
    {
     "name": "stderr",
     "output_type": "stream",
     "text": [
      " 31%|███████████████████████████████████████████████▍                                                                                                         | 31/100 [01:42<03:42,  3.22s/it]"
     ]
    },
    {
     "name": "stdout",
     "output_type": "stream",
     "text": [
      "[2622]\n"
     ]
    },
    {
     "name": "stderr",
     "output_type": "stream",
     "text": [
      " 32%|████████████████████████████████████████████████▉                                                                                                        | 32/100 [01:45<03:39,  3.23s/it]"
     ]
    },
    {
     "name": "stdout",
     "output_type": "stream",
     "text": [
      "[2624]\n"
     ]
    },
    {
     "name": "stderr",
     "output_type": "stream",
     "text": [
      " 33%|██████████████████████████████████████████████████▍                                                                                                      | 33/100 [01:48<03:36,  3.23s/it]"
     ]
    },
    {
     "name": "stdout",
     "output_type": "stream",
     "text": [
      "[2619]\n"
     ]
    },
    {
     "name": "stderr",
     "output_type": "stream",
     "text": [
      " 34%|████████████████████████████████████████████████████                                                                                                     | 34/100 [01:51<03:33,  3.24s/it]"
     ]
    },
    {
     "name": "stdout",
     "output_type": "stream",
     "text": [
      "[2630]\n"
     ]
    },
    {
     "name": "stderr",
     "output_type": "stream",
     "text": [
      " 35%|█████████████████████████████████████████████████████▌                                                                                                   | 35/100 [01:55<03:31,  3.25s/it]"
     ]
    },
    {
     "name": "stdout",
     "output_type": "stream",
     "text": [
      "[2631]\n"
     ]
    },
    {
     "name": "stderr",
     "output_type": "stream",
     "text": [
      " 36%|███████████████████████████████████████████████████████                                                                                                  | 36/100 [01:58<03:27,  3.25s/it]"
     ]
    },
    {
     "name": "stdout",
     "output_type": "stream",
     "text": [
      "[2632]\n"
     ]
    },
    {
     "name": "stderr",
     "output_type": "stream",
     "text": [
      " 37%|████████████████████████████████████████████████████████▌                                                                                                | 37/100 [02:01<03:24,  3.24s/it]"
     ]
    },
    {
     "name": "stdout",
     "output_type": "stream",
     "text": [
      "[2627]\n"
     ]
    },
    {
     "name": "stderr",
     "output_type": "stream",
     "text": [
      " 38%|██████████████████████████████████████████████████████████▏                                                                                              | 38/100 [02:04<03:20,  3.24s/it]"
     ]
    },
    {
     "name": "stdout",
     "output_type": "stream",
     "text": [
      "[2676]\n"
     ]
    },
    {
     "name": "stderr",
     "output_type": "stream",
     "text": [
      " 39%|███████████████████████████████████████████████████████████▋                                                                                             | 39/100 [02:07<03:17,  3.23s/it]"
     ]
    },
    {
     "name": "stdout",
     "output_type": "stream",
     "text": [
      "[2678]\n"
     ]
    },
    {
     "name": "stderr",
     "output_type": "stream",
     "text": [
      " 40%|█████████████████████████████████████████████████████████████▏                                                                                           | 40/100 [02:11<03:13,  3.23s/it]"
     ]
    },
    {
     "name": "stdout",
     "output_type": "stream",
     "text": [
      "[3001]\n"
     ]
    },
    {
     "name": "stderr",
     "output_type": "stream",
     "text": [
      " 41%|██████████████████████████████████████████████████████████████▋                                                                                          | 41/100 [02:14<03:10,  3.23s/it]"
     ]
    },
    {
     "name": "stdout",
     "output_type": "stream",
     "text": [
      "[3072]\n"
     ]
    },
    {
     "name": "stderr",
     "output_type": "stream",
     "text": [
      " 42%|████████████████████████████████████████████████████████████████▎                                                                                        | 42/100 [02:17<03:07,  3.23s/it]"
     ]
    },
    {
     "name": "stdout",
     "output_type": "stream",
     "text": [
      "[3952]\n"
     ]
    },
    {
     "name": "stderr",
     "output_type": "stream",
     "text": [
      " 43%|█████████████████████████████████████████████████████████████████▊                                                                                       | 43/100 [02:20<03:03,  3.22s/it]"
     ]
    },
    {
     "name": "stdout",
     "output_type": "stream",
     "text": [
      "[3951]\n"
     ]
    },
    {
     "name": "stderr",
     "output_type": "stream",
     "text": [
      " 44%|███████████████████████████████████████████████████████████████████▎                                                                                     | 44/100 [02:24<03:00,  3.22s/it]"
     ]
    },
    {
     "name": "stdout",
     "output_type": "stream",
     "text": [
      "[4669]\n"
     ]
    },
    {
     "name": "stderr",
     "output_type": "stream",
     "text": [
      " 45%|████████████████████████████████████████████████████████████████████▊                                                                                    | 45/100 [02:27<02:57,  3.22s/it]"
     ]
    },
    {
     "name": "stdout",
     "output_type": "stream",
     "text": [
      "[4950]\n"
     ]
    },
    {
     "name": "stderr",
     "output_type": "stream",
     "text": [
      " 46%|██████████████████████████████████████████████████████████████████████▍                                                                                  | 46/100 [02:30<02:53,  3.22s/it]"
     ]
    },
    {
     "name": "stdout",
     "output_type": "stream",
     "text": [
      "[4952]\n"
     ]
    },
    {
     "name": "stderr",
     "output_type": "stream",
     "text": [
      " 47%|███████████████████████████████████████████████████████████████████████▉                                                                                 | 47/100 [02:33<02:50,  3.22s/it]"
     ]
    },
    {
     "name": "stdout",
     "output_type": "stream",
     "text": [
      "[4951]\n"
     ]
    },
    {
     "name": "stderr",
     "output_type": "stream",
     "text": [
      " 48%|█████████████████████████████████████████████████████████████████████████▍                                                                               | 48/100 [02:36<02:47,  3.22s/it]"
     ]
    },
    {
     "name": "stdout",
     "output_type": "stream",
     "text": [
      "[5164]\n"
     ]
    },
    {
     "name": "stderr",
     "output_type": "stream",
     "text": [
      " 49%|██████████████████████████████████████████████████████████████████████████▉                                                                              | 49/100 [02:40<02:44,  3.22s/it]"
     ]
    },
    {
     "name": "stdout",
     "output_type": "stream",
     "text": [
      "[5167]\n"
     ]
    },
    {
     "name": "stderr",
     "output_type": "stream",
     "text": [
      " 50%|████████████████████████████████████████████████████████████████████████████▌                                                                            | 50/100 [02:43<02:41,  3.22s/it]"
     ]
    },
    {
     "name": "stdout",
     "output_type": "stream",
     "text": [
      "[5170]\n"
     ]
    },
    {
     "name": "stderr",
     "output_type": "stream",
     "text": [
      " 51%|██████████████████████████████████████████████████████████████████████████████                                                                           | 51/100 [02:46<02:37,  3.22s/it]"
     ]
    },
    {
     "name": "stdout",
     "output_type": "stream",
     "text": [
      "[5171]\n"
     ]
    },
    {
     "name": "stderr",
     "output_type": "stream",
     "text": [
      " 52%|███████████████████████████████████████████████████████████████████████████████▌                                                                         | 52/100 [02:49<02:34,  3.22s/it]"
     ]
    },
    {
     "name": "stdout",
     "output_type": "stream",
     "text": [
      "[5172]\n"
     ]
    },
    {
     "name": "stderr",
     "output_type": "stream",
     "text": [
      " 53%|█████████████████████████████████████████████████████████████████████████████████                                                                        | 53/100 [02:53<02:31,  3.22s/it]"
     ]
    },
    {
     "name": "stdout",
     "output_type": "stream",
     "text": [
      "[5166]\n"
     ]
    },
    {
     "name": "stderr",
     "output_type": "stream",
     "text": [
      " 54%|██████████████████████████████████████████████████████████████████████████████████▌                                                                      | 54/100 [02:56<02:28,  3.22s/it]"
     ]
    },
    {
     "name": "stdout",
     "output_type": "stream",
     "text": [
      "[5168]\n"
     ]
    },
    {
     "name": "stderr",
     "output_type": "stream",
     "text": [
      " 55%|████████████████████████████████████████████████████████████████████████████████████▏                                                                    | 55/100 [02:59<02:25,  3.22s/it]"
     ]
    },
    {
     "name": "stdout",
     "output_type": "stream",
     "text": [
      "[5433]\n"
     ]
    },
    {
     "name": "stderr",
     "output_type": "stream",
     "text": [
      " 56%|█████████████████████████████████████████████████████████████████████████████████████▋                                                                   | 56/100 [03:02<02:21,  3.22s/it]"
     ]
    },
    {
     "name": "stdout",
     "output_type": "stream",
     "text": [
      "[5430]\n"
     ]
    },
    {
     "name": "stderr",
     "output_type": "stream",
     "text": [
      " 57%|███████████████████████████████████████████████████████████████████████████████████████▏                                                                 | 57/100 [03:05<02:18,  3.22s/it]"
     ]
    },
    {
     "name": "stdout",
     "output_type": "stream",
     "text": [
      "[5434]\n"
     ]
    },
    {
     "name": "stderr",
     "output_type": "stream",
     "text": [
      " 58%|████████████████████████████████████████████████████████████████████████████████████████▋                                                                | 58/100 [03:09<02:15,  3.22s/it]"
     ]
    },
    {
     "name": "stdout",
     "output_type": "stream",
     "text": [
      "[5435]\n"
     ]
    },
    {
     "name": "stderr",
     "output_type": "stream",
     "text": [
      " 59%|██████████████████████████████████████████████████████████████████████████████████████████▎                                                              | 59/100 [03:12<02:12,  3.22s/it]"
     ]
    },
    {
     "name": "stdout",
     "output_type": "stream",
     "text": [
      "[6079]\n"
     ]
    },
    {
     "name": "stderr",
     "output_type": "stream",
     "text": [
      " 60%|███████████████████████████████████████████████████████████████████████████████████████████▊                                                             | 60/100 [03:15<02:08,  3.22s/it]"
     ]
    },
    {
     "name": "stdout",
     "output_type": "stream",
     "text": [
      "[6080]\n"
     ]
    },
    {
     "name": "stderr",
     "output_type": "stream",
     "text": [
      " 61%|█████████████████████████████████████████████████████████████████████████████████████████████▎                                                           | 61/100 [03:18<02:05,  3.23s/it]"
     ]
    },
    {
     "name": "stdout",
     "output_type": "stream",
     "text": [
      "[6149]\n"
     ]
    },
    {
     "name": "stderr",
     "output_type": "stream",
     "text": [
      " 62%|██████████████████████████████████████████████████████████████████████████████████████████████▊                                                          | 62/100 [03:22<02:02,  3.23s/it]"
     ]
    },
    {
     "name": "stdout",
     "output_type": "stream",
     "text": [
      "[6558]\n"
     ]
    },
    {
     "name": "stderr",
     "output_type": "stream",
     "text": [
      " 63%|████████████████████████████████████████████████████████████████████████████████████████████████▍                                                        | 63/100 [03:25<01:59,  3.22s/it]"
     ]
    },
    {
     "name": "stdout",
     "output_type": "stream",
     "text": [
      "[6729]\n"
     ]
    },
    {
     "name": "stderr",
     "output_type": "stream",
     "text": [
      " 64%|█████████████████████████████████████████████████████████████████████████████████████████████████▉                                                       | 64/100 [03:28<01:55,  3.22s/it]"
     ]
    },
    {
     "name": "stdout",
     "output_type": "stream",
     "text": [
      "[6815]\n"
     ]
    },
    {
     "name": "stderr",
     "output_type": "stream",
     "text": [
      " 65%|███████████████████████████████████████████████████████████████████████████████████████████████████▍                                                     | 65/100 [03:31<01:52,  3.22s/it]"
     ]
    },
    {
     "name": "stdout",
     "output_type": "stream",
     "text": [
      "[6820]\n"
     ]
    },
    {
     "name": "stderr",
     "output_type": "stream",
     "text": [
      " 66%|████████████████████████████████████████████████████████████████████████████████████████████████████▉                                                    | 66/100 [03:34<01:49,  3.22s/it]"
     ]
    },
    {
     "name": "stdout",
     "output_type": "stream",
     "text": [
      "[6817]\n"
     ]
    },
    {
     "name": "stderr",
     "output_type": "stream",
     "text": [
      " 67%|██████████████████████████████████████████████████████████████████████████████████████████████████████▌                                                  | 67/100 [03:38<01:46,  3.22s/it]"
     ]
    },
    {
     "name": "stdout",
     "output_type": "stream",
     "text": [
      "[6909]\n"
     ]
    },
    {
     "name": "stderr",
     "output_type": "stream",
     "text": [
      " 68%|████████████████████████████████████████████████████████████████████████████████████████████████████████                                                 | 68/100 [03:41<01:43,  3.22s/it]"
     ]
    },
    {
     "name": "stdout",
     "output_type": "stream",
     "text": [
      "[6908]\n"
     ]
    },
    {
     "name": "stderr",
     "output_type": "stream",
     "text": [
      " 69%|█████████████████████████████████████████████████████████████████████████████████████████████████████████▌                                               | 69/100 [03:44<01:39,  3.22s/it]"
     ]
    },
    {
     "name": "stdout",
     "output_type": "stream",
     "text": [
      "[7311]\n"
     ]
    },
    {
     "name": "stderr",
     "output_type": "stream",
     "text": [
      " 70%|███████████████████████████████████████████████████████████████████████████████████████████████████████████                                              | 70/100 [03:47<01:36,  3.22s/it]"
     ]
    },
    {
     "name": "stdout",
     "output_type": "stream",
     "text": [
      "[7304]\n"
     ]
    },
    {
     "name": "stderr",
     "output_type": "stream",
     "text": [
      " 71%|████████████████████████████████████████████████████████████████████████████████████████████████████████████▋                                            | 71/100 [03:51<01:33,  3.22s/it]"
     ]
    },
    {
     "name": "stdout",
     "output_type": "stream",
     "text": [
      "[7308]\n"
     ]
    },
    {
     "name": "stderr",
     "output_type": "stream",
     "text": [
      " 72%|██████████████████████████████████████████████████████████████████████████████████████████████████████████████▏                                          | 72/100 [03:54<01:30,  3.22s/it]"
     ]
    },
    {
     "name": "stdout",
     "output_type": "stream",
     "text": [
      "[7307]\n"
     ]
    },
    {
     "name": "stderr",
     "output_type": "stream",
     "text": [
      " 73%|███████████████████████████████████████████████████████████████████████████████████████████████████████████████▋                                         | 73/100 [03:57<01:27,  3.22s/it]"
     ]
    },
    {
     "name": "stdout",
     "output_type": "stream",
     "text": [
      "[7303]\n"
     ]
    },
    {
     "name": "stderr",
     "output_type": "stream",
     "text": [
      " 74%|█████████████████████████████████████████████████████████████████████████████████████████████████████████████████▏                                       | 74/100 [04:00<01:23,  3.23s/it]"
     ]
    },
    {
     "name": "stdout",
     "output_type": "stream",
     "text": [
      "[7305]\n"
     ]
    },
    {
     "name": "stderr",
     "output_type": "stream",
     "text": [
      " 75%|██████████████████████████████████████████████████████████████████████████████████████████████████████████████████▊                                      | 75/100 [04:03<01:20,  3.24s/it]"
     ]
    },
    {
     "name": "stdout",
     "output_type": "stream",
     "text": [
      "[7310]\n"
     ]
    },
    {
     "name": "stderr",
     "output_type": "stream",
     "text": [
      " 76%|████████████████████████████████████████████████████████████████████████████████████████████████████████████████████▎                                    | 76/100 [04:07<01:17,  3.24s/it]"
     ]
    },
    {
     "name": "stdout",
     "output_type": "stream",
     "text": [
      "[7309]\n"
     ]
    },
    {
     "name": "stderr",
     "output_type": "stream",
     "text": [
      " 77%|█████████████████████████████████████████████████████████████████████████████████████████████████████████████████████▊                                   | 77/100 [04:10<01:14,  3.24s/it]"
     ]
    },
    {
     "name": "stdout",
     "output_type": "stream",
     "text": [
      "[7302]\n"
     ]
    },
    {
     "name": "stderr",
     "output_type": "stream",
     "text": [
      " 78%|███████████████████████████████████████████████████████████████████████████████████████████████████████████████████████▎                                 | 78/100 [04:13<01:11,  3.23s/it]"
     ]
    },
    {
     "name": "stdout",
     "output_type": "stream",
     "text": [
      "[7362]\n"
     ]
    },
    {
     "name": "stderr",
     "output_type": "stream",
     "text": [
      " 79%|████████████████████████████████████████████████████████████████████████████████████████████████████████████████████████▊                                | 79/100 [04:16<01:07,  3.23s/it]"
     ]
    },
    {
     "name": "stdout",
     "output_type": "stream",
     "text": [
      "[7363]\n"
     ]
    },
    {
     "name": "stderr",
     "output_type": "stream",
     "text": [
      " 80%|██████████████████████████████████████████████████████████████████████████████████████████████████████████████████████████▍                              | 80/100 [04:20<01:04,  3.23s/it]"
     ]
    },
    {
     "name": "stdout",
     "output_type": "stream",
     "text": [
      "[7359]\n"
     ]
    },
    {
     "name": "stderr",
     "output_type": "stream",
     "text": [
      " 81%|███████████████████████████████████████████████████████████████████████████████████████████████████████████████████████████▉                             | 81/100 [04:23<01:01,  3.23s/it]"
     ]
    },
    {
     "name": "stdout",
     "output_type": "stream",
     "text": [
      "[7393]\n"
     ]
    },
    {
     "name": "stderr",
     "output_type": "stream",
     "text": [
      " 82%|█████████████████████████████████████████████████████████████████████████████████████████████████████████████████████████████▍                           | 82/100 [04:26<00:58,  3.22s/it]"
     ]
    },
    {
     "name": "stdout",
     "output_type": "stream",
     "text": [
      "[8415]\n"
     ]
    },
    {
     "name": "stderr",
     "output_type": "stream",
     "text": [
      " 83%|██████████████████████████████████████████████████████████████████████████████████████████████████████████████████████████████▉                          | 83/100 [04:29<00:54,  3.22s/it]"
     ]
    },
    {
     "name": "stdout",
     "output_type": "stream",
     "text": [
      "[9980]\n"
     ]
    },
    {
     "name": "stderr",
     "output_type": "stream",
     "text": [
      " 84%|████████████████████████████████████████████████████████████████████████████████████████████████████████████████████████████████▌                        | 84/100 [04:33<00:51,  3.23s/it]"
     ]
    },
    {
     "name": "stdout",
     "output_type": "stream",
     "text": [
      "[10399]\n"
     ]
    },
    {
     "name": "stderr",
     "output_type": "stream",
     "text": [
      " 85%|██████████████████████████████████████████████████████████████████████████████████████████████████████████████████████████████████                       | 85/100 [04:36<00:48,  3.23s/it]"
     ]
    },
    {
     "name": "stdout",
     "output_type": "stream",
     "text": [
      "[10400]\n"
     ]
    },
    {
     "name": "stderr",
     "output_type": "stream",
     "text": [
      " 86%|███████████████████████████████████████████████████████████████████████████████████████████████████████████████████████████████████▌                     | 86/100 [04:39<00:45,  3.22s/it]"
     ]
    },
    {
     "name": "stdout",
     "output_type": "stream",
     "text": [
      "[10401]\n"
     ]
    },
    {
     "name": "stderr",
     "output_type": "stream",
     "text": [
      " 87%|█████████████████████████████████████████████████████████████████████████████████████████████████████████████████████████████████████                    | 87/100 [04:42<00:41,  3.22s/it]"
     ]
    },
    {
     "name": "stdout",
     "output_type": "stream",
     "text": [
      "[10402]\n"
     ]
    },
    {
     "name": "stderr",
     "output_type": "stream",
     "text": [
      " 88%|██████████████████████████████████████████████████████████████████████████████████████████████████████████████████████████████████████▋                  | 88/100 [04:45<00:38,  3.22s/it]"
     ]
    },
    {
     "name": "stdout",
     "output_type": "stream",
     "text": [
      "[10403]\n"
     ]
    },
    {
     "name": "stderr",
     "output_type": "stream",
     "text": [
      " 89%|████████████████████████████████████████████████████████████████████████████████████████████████████████████████████████████████████████▏                | 89/100 [04:49<00:35,  3.22s/it]"
     ]
    },
    {
     "name": "stdout",
     "output_type": "stream",
     "text": [
      "[11043]\n"
     ]
    },
    {
     "name": "stderr",
     "output_type": "stream",
     "text": [
      " 90%|█████████████████████████████████████████████████████████████████████████████████████████████████████████████████████████████████████████▋               | 90/100 [04:52<00:32,  3.22s/it]"
     ]
    },
    {
     "name": "stdout",
     "output_type": "stream",
     "text": [
      "[11237]\n"
     ]
    },
    {
     "name": "stderr",
     "output_type": "stream",
     "text": [
      " 91%|███████████████████████████████████████████████████████████████████████████████████████████████████████████████████████████████████████████▏             | 91/100 [04:55<00:29,  3.22s/it]"
     ]
    },
    {
     "name": "stdout",
     "output_type": "stream",
     "text": [
      "[11461]\n"
     ]
    },
    {
     "name": "stderr",
     "output_type": "stream",
     "text": [
      " 92%|████████████████████████████████████████████████████████████████████████████████████████████████████████████████████████████████████████████▊            | 92/100 [04:58<00:25,  3.22s/it]"
     ]
    },
    {
     "name": "stdout",
     "output_type": "stream",
     "text": [
      "[12751]\n"
     ]
    },
    {
     "name": "stderr",
     "output_type": "stream",
     "text": [
      " 93%|██████████████████████████████████████████████████████████████████████████████████████████████████████████████████████████████████████████████▎          | 93/100 [05:02<00:22,  3.22s/it]"
     ]
    },
    {
     "name": "stdout",
     "output_type": "stream",
     "text": [
      "[12755]\n"
     ]
    },
    {
     "name": "stderr",
     "output_type": "stream",
     "text": [
      " 94%|███████████████████████████████████████████████████████████████████████████████████████████████████████████████████████████████████████████████▊         | 94/100 [05:05<00:19,  3.22s/it]"
     ]
    },
    {
     "name": "stdout",
     "output_type": "stream",
     "text": [
      "[12752]\n"
     ]
    },
    {
     "name": "stderr",
     "output_type": "stream",
     "text": [
      " 95%|█████████████████████████████████████████████████████████████████████████████████████████████████████████████████████████████████████████████████▎       | 95/100 [05:08<00:16,  3.22s/it]"
     ]
    },
    {
     "name": "stdout",
     "output_type": "stream",
     "text": [
      "[13159]\n"
     ]
    },
    {
     "name": "stderr",
     "output_type": "stream",
     "text": [
      " 96%|██████████████████████████████████████████████████████████████████████████████████████████████████████████████████████████████████████████████████▉      | 96/100 [05:11<00:12,  3.22s/it]"
     ]
    },
    {
     "name": "stdout",
     "output_type": "stream",
     "text": [
      "[13444]\n"
     ]
    },
    {
     "name": "stderr",
     "output_type": "stream",
     "text": [
      " 97%|████████████████████████████████████████████████████████████████████████████████████████████████████████████████████████████████████████████████████▍    | 97/100 [05:14<00:09,  3.22s/it]"
     ]
    },
    {
     "name": "stdout",
     "output_type": "stream",
     "text": [
      "[13443]\n"
     ]
    },
    {
     "name": "stderr",
     "output_type": "stream",
     "text": [
      " 98%|█████████████████████████████████████████████████████████████████████████████████████████████████████████████████████████████████████████████████████▉   | 98/100 [05:18<00:06,  3.22s/it]"
     ]
    },
    {
     "name": "stdout",
     "output_type": "stream",
     "text": [
      "[13442]\n"
     ]
    },
    {
     "name": "stderr",
     "output_type": "stream",
     "text": [
      " 99%|███████████████████████████████████████████████████████████████████████████████████████████████████████████████████████████████████████████████████████▍ | 99/100 [05:21<00:03,  3.22s/it]"
     ]
    },
    {
     "name": "stdout",
     "output_type": "stream",
     "text": [
      "[14546]\n"
     ]
    },
    {
     "name": "stderr",
     "output_type": "stream",
     "text": [
      "100%|████████████████████████████████████████████████████████████████████████████████████████████████████████████████████████████████████████████████████████| 100/100 [05:24<00:00,  3.25s/it]"
     ]
    },
    {
     "name": "stdout",
     "output_type": "stream",
     "text": [
      "[15128]\n"
     ]
    },
    {
     "name": "stderr",
     "output_type": "stream",
     "text": [
      "\n"
     ]
    }
   ],
   "source": [
    "#Get the index of all_visit data that matches sb2_appid_lst\n",
    "filtered_allVisit = filter_allVisit(visit_id_list, visit_raw, sb2_info_list[0:100])"
   ]
  },
  {
   "cell_type": "code",
   "execution_count": 8,
   "id": "f0e5c85b-9d35-4792-97d2-e87610c878af",
   "metadata": {},
   "outputs": [
    {
     "data": {
      "text/plain": [
       "[['asVisit-dr17-12776-59154-069.fits', 656],\n",
       " ['asVisit-dr17-12776-59155-069.fits', 661],\n",
       " ['asVisit-dr17-12776-59156-069.fits', 655],\n",
       " ['asVisit-dr17-12776-59157-069.fits', 657],\n",
       " ['asVisit-dr17-12776-59164-070.fits', 654],\n",
       " ['asVisit-dr17-12776-59165-070.fits', 662],\n",
       " ['asVisit-dr17-12776-59166-070.fits', 663],\n",
       " ['apVisit-dr17-7063-56666-028.fits', 771],\n",
       " ['apVisit-dr17-9243-57677-015.fits', 817],\n",
       " ['apVisit-dr17-9243-57654-016.fits', 816],\n",
       " ['apVisit-dr17-12184-58776-247.fits', 1974],\n",
       " ['apVisit-dr17-12184-58861-253.fits', 1975],\n",
       " ['apVisit-dr17-9069-57822-224.fits', 2649],\n",
       " ['apVisit-dr17-9069-58150-224.fits', 2639],\n",
       " ['apVisit-dr17-9264-59059-221.fits', 2644],\n",
       " ['apVisit-dr17-9264-59159-227.fits', 2647],\n",
       " ['apVisit-dr17-7950-58731-227.fits', 2629],\n",
       " ['apVisit-dr17-7950-59074-224.fits', 2625],\n",
       " ['apVisit-dr17-7951-59155-278.fits', 2635],\n",
       " ['apVisit-dr17-9264-57672-224.fits', 2646],\n",
       " ['apVisit-dr17-9264-57709-227.fits', 2651],\n",
       " ['apVisit-dr17-9519-57760-224.fits', 2650],\n",
       " ['apVisit-dr17-9264-58009-218.fits', 2643],\n",
       " ['apVisit-dr17-9519-58028-221.fits', 2642],\n",
       " ['apVisit-dr17-9264-58054-224.fits', 2641],\n",
       " ['apVisit-dr17-9519-58083-224.fits', 2640],\n",
       " ['apVisit-dr17-9519-58121-224.fits', 2637],\n",
       " ['apVisit-dr17-5095-55821-233.fits', 2634],\n",
       " ['apVisit-dr17-5095-55824-230.fits', 2633],\n",
       " ['apVisit-dr17-5095-55840-230.fits', 2623],\n",
       " ['apVisit-dr17-9084-57556-224.fits', 2622],\n",
       " ['apVisit-dr17-9082-57789-218.fits', 2624],\n",
       " ['apVisit-dr17-9083-57887-275.fits', 2619],\n",
       " ['apVisit-dr17-7950-58060-224.fits', 2630],\n",
       " ['apVisit-dr17-7950-58085-224.fits', 2631],\n",
       " ['apVisit-dr17-9135-58295-233.fits', 2632],\n",
       " ['apVisit-dr17-7950-58384-224.fits', 2627],\n",
       " ['apVisit-dr17-6560-56584-077.fits', 2676],\n",
       " ['apVisit-dr17-12700-59077-234.fits', 2678],\n",
       " ['apVisit-dr17-7063-56666-117.fits', 3001],\n",
       " ['apVisit-dr17-9243-57654-010.fits', 3072],\n",
       " ['apVisit-dr17-9243-58033-279.fits', 3952],\n",
       " ['apVisit-dr17-9243-57654-285.fits', 3951],\n",
       " ['asVisit-dr17-12776-59147-039.fits', 4669],\n",
       " ['apVisit-dr17-9243-57677-119.fits', 4950],\n",
       " ['apVisit-dr17-9243-58033-113.fits', 4952],\n",
       " ['apVisit-dr17-9243-57654-011.fits', 4951],\n",
       " ['apVisit-dr17-7062-56635-105.fits', 5164],\n",
       " ['apVisit-dr17-7063-56644-106.fits', 5167],\n",
       " ['apVisit-dr17-7063-56666-106.fits', 5170],\n",
       " ['apVisit-dr17-7494-56848-058.fits', 5171],\n",
       " ['apVisit-dr17-9243-57654-112.fits', 5172],\n",
       " ['apVisit-dr17-9243-57677-010.fits', 5166],\n",
       " ['apVisit-dr17-9243-58033-004.fits', 5168],\n",
       " ['apVisit-dr17-7062-56635-278.fits', 5433],\n",
       " ['apVisit-dr17-7063-56644-218.fits', 5430],\n",
       " ['apVisit-dr17-7063-56666-182.fits', 5434],\n",
       " ['apVisit-dr17-7494-56848-236.fits', 5435],\n",
       " ['apVisit-dr17-9243-57654-118.fits', 6079],\n",
       " ['apVisit-dr17-9243-57677-093.fits', 6080],\n",
       " ['apVisit-dr17-9243-58033-249.fits', 6149],\n",
       " ['asVisit-dr17-11914-58804-254.fits', 6558],\n",
       " ['apVisit-dr17-9243-57677-139.fits', 6729],\n",
       " ['apVisit-dr17-5266-55869-023.fits', 6815],\n",
       " ['apVisit-dr17-5267-55871-026.fits', 6820],\n",
       " ['apVisit-dr17-5267-56204-008.fits', 6817],\n",
       " ['apVisit-dr17-12700-59074-039.fits', 6909],\n",
       " ['apVisit-dr17-12700-59077-039.fits', 6908],\n",
       " ['apVisit-dr17-9243-57677-256.fits', 7311],\n",
       " ['apVisit-dr17-9243-58033-202.fits', 7304],\n",
       " ['apVisit-dr17-7062-56635-256.fits', 7308],\n",
       " ['apVisit-dr17-7063-56644-244.fits', 7307],\n",
       " ['apVisit-dr17-7062-56646-298.fits', 7303],\n",
       " ['apVisit-dr17-7063-56666-244.fits', 7305],\n",
       " ['apVisit-dr17-7494-56848-244.fits', 7310],\n",
       " ['apVisit-dr17-9243-57654-255.fits', 7309],\n",
       " ['apVisit-dr17-9243-57674-256.fits', 7302],\n",
       " ['apVisit-dr17-7062-56646-295.fits', 7362],\n",
       " ['apVisit-dr17-7062-56650-295.fits', 7363],\n",
       " ['apVisit-dr17-7494-56848-246.fits', 7359],\n",
       " ['apVisit-dr17-7062-56650-144.fits', 7393],\n",
       " ['asVisit-dr17-10081-58025-255.fits', 8415],\n",
       " ['asVisit-dr17-11914-58804-246.fits', 9980],\n",
       " ['apVisit-dr17-7062-56635-033.fits', 10399],\n",
       " ['apVisit-dr17-7063-56644-081.fits', 10400],\n",
       " ['apVisit-dr17-7062-56646-033.fits', 10401],\n",
       " ['apVisit-dr17-7062-56650-033.fits', 10402],\n",
       " ['apVisit-dr17-7063-56666-033.fits', 10403],\n",
       " ['apVisit-dr17-7063-56666-034.fits', 11043],\n",
       " ['asVisit-dr17-11914-58804-203.fits', 11237],\n",
       " ['asVisit-dr17-11933-58824-152.fits', 11461],\n",
       " ['asVisit-dr17-11932-58794-016.fits', 12751],\n",
       " ['asVisit-dr17-11933-58796-015.fits', 12755],\n",
       " ['asVisit-dr17-11933-58803-022.fits', 12752],\n",
       " ['asVisit-dr17-11914-58804-212.fits', 13159],\n",
       " ['asVisit-dr17-11933-58796-045.fits', 13444],\n",
       " ['asVisit-dr17-11933-58824-046.fits', 13443],\n",
       " ['asVisit-dr17-11933-58803-045.fits', 13442],\n",
       " ['apVisit-dr17-8088-58753-028.fits', 14546],\n",
       " ['apVisit-dr17-7535-57347-211.fits', 15128]]"
      ]
     },
     "execution_count": 8,
     "metadata": {},
     "output_type": "execute_result"
    }
   ],
   "source": [
    "filtered_allVisit"
   ]
  },
  {
   "cell_type": "code",
   "execution_count": 108,
   "id": "600417ad-6944-4002-b314-38d87eb9fcb2",
   "metadata": {},
   "outputs": [
    {
     "data": {
      "text/plain": [
       "16690"
      ]
     },
     "execution_count": 108,
     "metadata": {},
     "output_type": "execute_result"
    }
   ],
   "source": [
    "len(sb2_mjd)"
   ]
  },
  {
   "cell_type": "code",
   "execution_count": 25,
   "id": "500955d7-be25-4b33-a93e-e3b87fd48afd",
   "metadata": {},
   "outputs": [],
   "source": [
    "allvisit_mjd_list = [x[7] for x in filtered_allVisit]\n",
    "unique_all_visit = list(dict.fromkeys(allvisit_mjd_list))"
   ]
  },
  {
   "cell_type": "code",
   "execution_count": 91,
   "id": "fed9ef88-0066-4b3f-92fe-2241096ba205",
   "metadata": {},
   "outputs": [
    {
     "name": "stderr",
     "output_type": "stream",
     "text": [
      "100%|███████████████████████████████████████████████████████████████████████████████████████████████████████████████████████████████████████████████████| 16690/16690 [02:41<00:00, 103.43it/s]\n"
     ]
    }
   ],
   "source": [
    "a_visit_file_name = []\n",
    "un = []\n",
    "cnt = 0\n",
    "for mjd in tqdm(sb2_mjd):\n",
    "    try:\n",
    "        idx = allvisit_mjd_list.index(mjd[0])\n",
    "        a_visit_file_name.append([filtered_allVisit[idx][0],mjd[0],filtered_allVisit[idx][3]])\n",
    "    except ValueError:\n",
    "        cnt += 1\n",
    "        continue"
   ]
  },
  {
   "cell_type": "code",
   "execution_count": 93,
   "id": "e769b979-484a-4d5a-951b-71275c3f2faf",
   "metadata": {},
   "outputs": [
    {
     "data": {
      "text/plain": [
       "[56666,\n",
       " ('2M00005196+0022164', 56666.57177999988, 0.216528, 0.371225, array([0.25662703, 0.21850794,        nan,        nan]), array([ 29.46407411, -17.65743485,          nan,          nan]), array([52.53603337, 47.88960938,         nan,         nan]), array([0.05002191, 0.06486619,        nan,        nan]), array([ 9.80478907, 10.19373827,         nan,         nan]), array([13.88279918, 13.73243388,         nan,         nan]), array([4, 3, 0, 0]), 2)]"
      ]
     },
     "execution_count": 93,
     "metadata": {},
     "output_type": "execute_result"
    }
   ],
   "source": [
    "sb2_mjd[7]"
   ]
  },
  {
   "cell_type": "code",
   "execution_count": 99,
   "id": "3dca0385-5563-4a3c-8805-4c1700ee099b",
   "metadata": {},
   "outputs": [
    {
     "data": {
      "text/plain": [
       "[56666,\n",
       " ('2M00024876-0018006', 56666.57177999988, 0.703181, -0.300184, array([0.40185354, 0.383164  ,        nan,        nan]), array([-24.4777411 ,  10.32298773,          nan,          nan]), array([26.81078694, 28.1441704 ,         nan,         nan]), array([0.03413323, 0.03321208,        nan,        nan]), array([1.80823461, 1.94489359,        nan,        nan]), array([4.03958774, 4.42918817,        nan,        nan]), array([4, 4, 0, 0]), 2)]"
      ]
     },
     "execution_count": 99,
     "metadata": {},
     "output_type": "execute_result"
    }
   ],
   "source": [
    "sb2_mjd[39]"
   ]
  },
  {
   "cell_type": "code",
   "execution_count": 92,
   "id": "83a3ca02-e19a-48da-befb-2eb3a8165d1e",
   "metadata": {
    "tags": []
   },
   "outputs": [
    {
     "data": {
      "text/plain": [
       "[['2M00004521-7219055', 59154, 'asVisit-dr17-12776-59154-069.fits'],\n",
       " ['2M00004521-7219055', 59155, 'asVisit-dr17-12776-59155-069.fits'],\n",
       " ['2M00004521-7219055', 59156, 'asVisit-dr17-12776-59156-069.fits'],\n",
       " ['2M00004521-7219055', 59157, 'asVisit-dr17-12776-59157-069.fits'],\n",
       " ['2M00004521-7219055', 59164, 'asVisit-dr17-12776-59164-070.fits'],\n",
       " ['2M00004521-7219055', 59165, 'asVisit-dr17-12776-59165-070.fits'],\n",
       " ['2M00004521-7219055', 59166, 'asVisit-dr17-12776-59166-070.fits'],\n",
       " ['2M00005196+0022164', 56666, 'apVisit-dr17-7063-56666-028.fits'],\n",
       " ['2M00005196+0022164', 57677, 'apVisit-dr17-9243-57677-022.fits'],\n",
       " ['2M00005196+0022164', 57654, 'apVisit-dr17-9243-57654-028.fits'],\n",
       " ['2M00015725+5726512', 58776, 'apVisit-dr17-12184-58776-247.fits'],\n",
       " ['2M00015725+5726512', 58861, 'apVisit-dr17-12184-58861-253.fits'],\n",
       " ['2M00023036+8524194', 57822, 'apVisit-dr17-9069-57822-224.fits'],\n",
       " ['2M00023036+8524194', 58150, 'apVisit-dr17-9069-58150-224.fits'],\n",
       " ['2M00023036+8524194', 59059, 'apVisit-dr17-9264-59059-221.fits'],\n",
       " ['2M00004521-7219055', 59159, 'asVisit-dr17-12776-59159-069.fits'],\n",
       " ['2M00023036+8524194', 58731, 'apVisit-dr17-7950-58731-227.fits'],\n",
       " ['2M00023036+8524194', 59074, 'apVisit-dr17-7950-59074-224.fits'],\n",
       " ['2M00004521-7219055', 59155, 'asVisit-dr17-12776-59155-069.fits'],\n",
       " ['2M00023036+8524194', 57672, 'apVisit-dr17-9264-57672-224.fits'],\n",
       " ['2M00023036+8524194', 57709, 'apVisit-dr17-9264-57709-227.fits'],\n",
       " ['2M00023036+8524194', 57760, 'apVisit-dr17-9519-57760-224.fits'],\n",
       " ['2M00023036+8524194', 58009, 'apVisit-dr17-9264-58009-218.fits'],\n",
       " ['2M00023036+8524194', 58028, 'apVisit-dr17-9519-58028-221.fits'],\n",
       " ['2M00023036+8524194', 58054, 'apVisit-dr17-9264-58054-224.fits'],\n",
       " ['2M00023036+8524194', 58083, 'apVisit-dr17-9519-58083-224.fits'],\n",
       " ['2M00023036+8524194', 58121, 'apVisit-dr17-9519-58121-224.fits'],\n",
       " ['2M00023036+8524194', 55821, 'apVisit-dr17-5095-55821-233.fits'],\n",
       " ['2M00023036+8524194', 55824, 'apVisit-dr17-5095-55824-230.fits'],\n",
       " ['2M00023036+8524194', 55840, 'apVisit-dr17-5095-55840-230.fits'],\n",
       " ['2M00023036+8524194', 57556, 'apVisit-dr17-9084-57556-224.fits'],\n",
       " ['2M00023036+8524194', 57789, 'apVisit-dr17-9082-57789-218.fits'],\n",
       " ['2M00023036+8524194', 57887, 'apVisit-dr17-9083-57887-275.fits'],\n",
       " ['2M00023036+8524194', 58060, 'apVisit-dr17-7950-58060-224.fits'],\n",
       " ['2M00023036+8524194', 58085, 'apVisit-dr17-7950-58085-224.fits'],\n",
       " ['2M00023036+8524194', 58295, 'apVisit-dr17-9135-58295-233.fits'],\n",
       " ['2M00023036+8524194', 58384, 'apVisit-dr17-7950-58384-224.fits'],\n",
       " ['2M00023179+1521164', 56584, 'apVisit-dr17-6560-56584-077.fits'],\n",
       " ['2M00023179+1521164', 59077, 'apVisit-dr17-12700-59077-234.fits'],\n",
       " ['2M00005196+0022164', 56666, 'apVisit-dr17-7063-56666-028.fits'],\n",
       " ['2M00005196+0022164', 57654, 'apVisit-dr17-9243-57654-028.fits'],\n",
       " ['2M00005196+0022164', 58033, 'apVisit-dr17-9243-58033-021.fits'],\n",
       " ['2M00005196+0022164', 57654, 'apVisit-dr17-9243-57654-028.fits'],\n",
       " ['2M00004521-7219055', 59147, 'asVisit-dr17-12776-59147-070.fits'],\n",
       " ['2M00005196+0022164', 57677, 'apVisit-dr17-9243-57677-022.fits'],\n",
       " ['2M00005196+0022164', 58033, 'apVisit-dr17-9243-58033-021.fits'],\n",
       " ['2M00005196+0022164', 57654, 'apVisit-dr17-9243-57654-028.fits'],\n",
       " ['2M00005196+0022164', 56635, 'apVisit-dr17-7062-56635-021.fits'],\n",
       " ['2M00005196+0022164', 56644, 'apVisit-dr17-7063-56644-022.fits'],\n",
       " ['2M00005196+0022164', 56666, 'apVisit-dr17-7063-56666-028.fits'],\n",
       " ['2M00005196+0022164', 56848, 'apVisit-dr17-7494-56848-027.fits'],\n",
       " ['2M00005196+0022164', 57654, 'apVisit-dr17-9243-57654-028.fits'],\n",
       " ['2M00005196+0022164', 57677, 'apVisit-dr17-9243-57677-022.fits'],\n",
       " ['2M00005196+0022164', 58033, 'apVisit-dr17-9243-58033-021.fits'],\n",
       " ['2M00005196+0022164', 56635, 'apVisit-dr17-7062-56635-021.fits'],\n",
       " ['2M00005196+0022164', 56644, 'apVisit-dr17-7063-56644-022.fits'],\n",
       " ['2M00005196+0022164', 56666, 'apVisit-dr17-7063-56666-028.fits'],\n",
       " ['2M00005196+0022164', 56848, 'apVisit-dr17-7494-56848-027.fits'],\n",
       " ['2M00005196+0022164', 57654, 'apVisit-dr17-9243-57654-028.fits'],\n",
       " ['2M00005196+0022164', 57677, 'apVisit-dr17-9243-57677-022.fits'],\n",
       " ['2M00005196+0022164', 58033, 'apVisit-dr17-9243-58033-021.fits'],\n",
       " ['2M00060737-5145009', 58804, 'asVisit-dr17-11914-58804-254.fits'],\n",
       " ['2M00005196+0022164', 57677, 'apVisit-dr17-9243-57677-022.fits'],\n",
       " ['2M00062867+6955129', 55869, 'apVisit-dr17-5266-55869-023.fits'],\n",
       " ['2M00062867+6955129', 55871, 'apVisit-dr17-5267-55871-026.fits'],\n",
       " ['2M00062867+6955129', 56204, 'apVisit-dr17-5267-56204-008.fits'],\n",
       " ['2M00023036+8524194', 59074, 'apVisit-dr17-7950-59074-224.fits'],\n",
       " ['2M00023179+1521164', 59077, 'apVisit-dr17-12700-59077-234.fits'],\n",
       " ['2M00005196+0022164', 57677, 'apVisit-dr17-9243-57677-022.fits'],\n",
       " ['2M00005196+0022164', 58033, 'apVisit-dr17-9243-58033-021.fits'],\n",
       " ['2M00005196+0022164', 56635, 'apVisit-dr17-7062-56635-021.fits'],\n",
       " ['2M00005196+0022164', 56644, 'apVisit-dr17-7063-56644-022.fits'],\n",
       " ['2M00005196+0022164', 56646, 'apVisit-dr17-7062-56646-028.fits'],\n",
       " ['2M00005196+0022164', 56666, 'apVisit-dr17-7063-56666-028.fits'],\n",
       " ['2M00005196+0022164', 56848, 'apVisit-dr17-7494-56848-027.fits'],\n",
       " ['2M00005196+0022164', 57654, 'apVisit-dr17-9243-57654-028.fits'],\n",
       " ['2M00005196+0022164', 57674, 'apVisit-dr17-9243-57674-021.fits'],\n",
       " ['2M00005196+0022164', 56646, 'apVisit-dr17-7062-56646-028.fits'],\n",
       " ['2M00005196+0022164', 56650, 'apVisit-dr17-7062-56650-028.fits'],\n",
       " ['2M00005196+0022164', 56848, 'apVisit-dr17-7494-56848-027.fits'],\n",
       " ['2M00005196+0022164', 56650, 'apVisit-dr17-7062-56650-028.fits'],\n",
       " ['2M00074456-7655057', 58025, 'asVisit-dr17-10081-58025-255.fits'],\n",
       " ['2M00060737-5145009', 58804, 'asVisit-dr17-11914-58804-254.fits'],\n",
       " ['2M00005196+0022164', 56635, 'apVisit-dr17-7062-56635-021.fits'],\n",
       " ['2M00005196+0022164', 56644, 'apVisit-dr17-7063-56644-022.fits'],\n",
       " ['2M00005196+0022164', 56646, 'apVisit-dr17-7062-56646-028.fits'],\n",
       " ['2M00005196+0022164', 56650, 'apVisit-dr17-7062-56650-028.fits'],\n",
       " ['2M00005196+0022164', 56666, 'apVisit-dr17-7063-56666-028.fits'],\n",
       " ['2M00005196+0022164', 56666, 'apVisit-dr17-7063-56666-028.fits'],\n",
       " ['2M00060737-5145009', 58804, 'asVisit-dr17-11914-58804-254.fits'],\n",
       " ['2M00101177-2004054', 58824, 'asVisit-dr17-11933-58824-152.fits'],\n",
       " ['2M00101177-2004054', 58794, 'asVisit-dr17-11932-58794-080.fits'],\n",
       " ['2M00101177-2004054', 58796, 'asVisit-dr17-11933-58796-152.fits'],\n",
       " ['2M00101177-2004054', 58803, 'asVisit-dr17-11933-58803-200.fits'],\n",
       " ['2M00060737-5145009', 58804, 'asVisit-dr17-11914-58804-254.fits'],\n",
       " ['2M00101177-2004054', 58796, 'asVisit-dr17-11933-58796-152.fits'],\n",
       " ['2M00101177-2004054', 58824, 'asVisit-dr17-11933-58824-152.fits'],\n",
       " ['2M00101177-2004054', 58803, 'asVisit-dr17-11933-58803-200.fits'],\n",
       " ['2M00125652+1406190', 58753, 'apVisit-dr17-8088-58753-028.fits'],\n",
       " ['2M00132431-1410460', 57347, 'apVisit-dr17-7535-57347-211.fits'],\n",
       " ['2M00101177-2004054', 58824, 'asVisit-dr17-11933-58824-152.fits'],\n",
       " ['2M00101177-2004054', 58794, 'asVisit-dr17-11932-58794-080.fits'],\n",
       " ['2M00101177-2004054', 58796, 'asVisit-dr17-11933-58796-152.fits'],\n",
       " ['2M00101177-2004054', 58802, 'asVisit-dr17-11932-58802-083.fits'],\n",
       " ['2M00101177-2004054', 58803, 'asVisit-dr17-11933-58803-200.fits'],\n",
       " ['2M00101177-2004054', 58824, 'asVisit-dr17-11933-58824-152.fits'],\n",
       " ['2M00023036+8524194', 59074, 'apVisit-dr17-7950-59074-224.fits'],\n",
       " ['2M00023036+8524194', 57556, 'apVisit-dr17-9084-57556-224.fits'],\n",
       " ['2M00023036+8524194', 57789, 'apVisit-dr17-9082-57789-218.fits'],\n",
       " ['2M00023036+8524194', 58060, 'apVisit-dr17-7950-58060-224.fits'],\n",
       " ['2M00023036+8524194', 58085, 'apVisit-dr17-7950-58085-224.fits'],\n",
       " ['2M00023036+8524194', 58295, 'apVisit-dr17-9135-58295-233.fits'],\n",
       " ['2M00023036+8524194', 58384, 'apVisit-dr17-7950-58384-224.fits'],\n",
       " ['2M00023036+8524194', 58504, 'apVisit-dr17-7951-58504-227.fits'],\n",
       " ['2M00023036+8524194', 58731, 'apVisit-dr17-7950-58731-227.fits'],\n",
       " ['2M00141786-7757569', 58092, 'asVisit-dr17-10123-58092-010.fits'],\n",
       " ['2M00141786-7757569', 58322, 'asVisit-dr17-10123-58322-220.fits'],\n",
       " ['2M00141786-7757569', 58350, 'asVisit-dr17-10123-58350-220.fits'],\n",
       " ['2M00141786-7757569', 58355, 'asVisit-dr17-10123-58355-219.fits'],\n",
       " ['2M00141786-7757569', 58414, 'asVisit-dr17-10123-58414-220.fits'],\n",
       " ['2M00141786-7757569', 58419, 'asVisit-dr17-11157-58419-219.fits'],\n",
       " ['2M00141786-7757569', 58446, 'asVisit-dr17-10123-58446-225.fits'],\n",
       " ['2M00141786-7757569', 58655, 'asVisit-dr17-11157-58655-219.fits'],\n",
       " ['2M00004521-7219055', 59155, 'asVisit-dr17-12776-59155-069.fits'],\n",
       " ['2M00023036+8524194', 57295, 'apVisit-dr17-7950-57295-224.fits'],\n",
       " ['2M00023036+8524194', 57556, 'apVisit-dr17-9084-57556-224.fits'],\n",
       " ['2M00023036+8524194', 57789, 'apVisit-dr17-9082-57789-218.fits'],\n",
       " ['2M00023036+8524194', 58060, 'apVisit-dr17-7950-58060-224.fits'],\n",
       " ['2M00023036+8524194', 58085, 'apVisit-dr17-7950-58085-224.fits'],\n",
       " ['2M00023036+8524194', 58384, 'apVisit-dr17-7950-58384-224.fits'],\n",
       " ['2M00023036+8524194', 58731, 'apVisit-dr17-7950-58731-227.fits'],\n",
       " ['2M00023036+8524194', 57736, 'apVisit-dr17-9519-57736-218.fits'],\n",
       " ['2M00023036+8524194', 58028, 'apVisit-dr17-9519-58028-221.fits'],\n",
       " ['2M00023036+8524194', 59074, 'apVisit-dr17-7950-59074-224.fits'],\n",
       " ['2M00023036+8524194', 58054, 'apVisit-dr17-9264-58054-224.fits'],\n",
       " ['2M00023036+8524194', 58150, 'apVisit-dr17-9069-58150-224.fits'],\n",
       " ['2M00023036+8524194', 55840, 'apVisit-dr17-5095-55840-230.fits'],\n",
       " ['2M00023036+8524194', 57295, 'apVisit-dr17-7950-57295-224.fits'],\n",
       " ['2M00023036+8524194', 57556, 'apVisit-dr17-9084-57556-224.fits'],\n",
       " ['2M00023036+8524194', 58060, 'apVisit-dr17-7950-58060-224.fits'],\n",
       " ['2M00023036+8524194', 58295, 'apVisit-dr17-9135-58295-233.fits'],\n",
       " ['2M00023036+8524194', 58731, 'apVisit-dr17-7950-58731-227.fits'],\n",
       " ['2M00132431-1410460', 57294, 'apVisit-dr17-7535-57294-216.fits'],\n",
       " ['2M00132431-1410460', 57321, 'apVisit-dr17-7535-57321-211.fits'],\n",
       " ['2M00132431-1410460', 57323, 'apVisit-dr17-7535-57323-211.fits'],\n",
       " ['2M00132431-1410460', 57347, 'apVisit-dr17-7535-57347-211.fits'],\n",
       " ['2M00132431-1410460', 57294, 'apVisit-dr17-7535-57294-216.fits'],\n",
       " ['2M00132431-1410460', 57321, 'apVisit-dr17-7535-57321-211.fits'],\n",
       " ['2M00132431-1410460', 57323, 'apVisit-dr17-7535-57323-211.fits'],\n",
       " ['2M00132431-1410460', 57347, 'apVisit-dr17-7535-57347-211.fits'],\n",
       " ['2M00125652+1406190', 58752, 'apVisit-dr17-8088-58752-028.fits'],\n",
       " ['2M00125652+1406190', 58753, 'apVisit-dr17-8088-58753-028.fits'],\n",
       " ['2M00174462+0000472', 59083, 'apVisit-dr17-12769-59083-020.fits'],\n",
       " ['2M00174462+0000472', 59084, 'apVisit-dr17-12769-59084-020.fits'],\n",
       " ['2M00174462+0000472', 59085, 'apVisit-dr17-12769-59085-020.fits'],\n",
       " ['2M00174462+0000472', 59083, 'apVisit-dr17-12769-59083-020.fits'],\n",
       " ['2M00174462+0000472', 59084, 'apVisit-dr17-12769-59084-020.fits'],\n",
       " ['2M00132431-1410460', 57323, 'apVisit-dr17-7535-57323-211.fits'],\n",
       " ['2M00132431-1410460', 57294, 'apVisit-dr17-7535-57294-216.fits'],\n",
       " ['2M00132431-1410460', 57294, 'apVisit-dr17-7535-57294-216.fits'],\n",
       " ['2M00074456-7655057', 58025, 'asVisit-dr17-10081-58025-255.fits'],\n",
       " ['2M00141786-7757569', 58414, 'asVisit-dr17-10123-58414-220.fits'],\n",
       " ['2M00125652+1406190', 58752, 'apVisit-dr17-8088-58752-028.fits'],\n",
       " ['2M00125652+1406190', 58753, 'apVisit-dr17-8088-58753-028.fits'],\n",
       " ['2M00125652+1406190', 58752, 'apVisit-dr17-8088-58752-028.fits'],\n",
       " ['2M00125652+1406190', 58753, 'apVisit-dr17-8088-58753-028.fits'],\n",
       " ['2M00141786-7757569', 58092, 'asVisit-dr17-10123-58092-010.fits'],\n",
       " ['2M00141786-7757569', 58358, 'asVisit-dr17-10123-58358-220.fits'],\n",
       " ['2M00023036+8524194', 58384, 'apVisit-dr17-7950-58384-224.fits'],\n",
       " ['2M00141786-7757569', 58414, 'asVisit-dr17-10123-58414-220.fits'],\n",
       " ['2M00141786-7757569', 58419, 'asVisit-dr17-11157-58419-219.fits'],\n",
       " ['2M00141786-7757569', 58419, 'asVisit-dr17-11157-58419-219.fits'],\n",
       " ['2M00141786-7757569', 58446, 'asVisit-dr17-10123-58446-225.fits'],\n",
       " ['2M00074456-7655057', 58053, 'asVisit-dr17-10081-58053-267.fits'],\n",
       " ['2M00132431-1410460', 57321, 'apVisit-dr17-7535-57321-211.fits'],\n",
       " ['2M00132431-1410460', 57347, 'apVisit-dr17-7535-57347-211.fits'],\n",
       " ['2M00132431-1410460', 57294, 'apVisit-dr17-7535-57294-216.fits'],\n",
       " ['2M00132431-1410460', 57323, 'apVisit-dr17-7535-57323-211.fits'],\n",
       " ['2M00212698+0309415', 58084, 'apVisit-dr17-7921-58084-282.fits'],\n",
       " ['2M00174462+0000472', 59084, 'apVisit-dr17-12769-59084-020.fits'],\n",
       " ['2M00174462+0000472', 59085, 'apVisit-dr17-12769-59085-020.fits'],\n",
       " ['2M00132431-1410460', 57294, 'apVisit-dr17-7535-57294-216.fits'],\n",
       " ['2M00132431-1410460', 57321, 'apVisit-dr17-7535-57321-211.fits'],\n",
       " ['2M00132431-1410460', 57322, 'apVisit-dr17-7535-57322-211.fits'],\n",
       " ['2M00132431-1410460', 57323, 'apVisit-dr17-7535-57323-211.fits'],\n",
       " ['2M00132431-1410460', 57347, 'apVisit-dr17-7535-57347-211.fits'],\n",
       " ['2M00141786-7757569', 58358, 'asVisit-dr17-10123-58358-220.fits'],\n",
       " ['2M00141786-7757569', 58089, 'asVisit-dr17-10123-58089-010.fits'],\n",
       " ['2M00141786-7757569', 58092, 'asVisit-dr17-10123-58092-010.fits'],\n",
       " ['2M00141786-7757569', 58322, 'asVisit-dr17-10123-58322-220.fits'],\n",
       " ['2M00141786-7757569', 58350, 'asVisit-dr17-10123-58350-220.fits'],\n",
       " ['2M00141786-7757569', 58355, 'asVisit-dr17-10123-58355-219.fits'],\n",
       " ['2M00023036+8524194', 58384, 'apVisit-dr17-7950-58384-224.fits'],\n",
       " ['2M00141786-7757569', 58414, 'asVisit-dr17-10123-58414-220.fits'],\n",
       " ['2M00141786-7757569', 58419, 'asVisit-dr17-11157-58419-219.fits'],\n",
       " ['2M00141786-7757569', 58419, 'asVisit-dr17-11157-58419-219.fits'],\n",
       " ['2M00141786-7757569', 58446, 'asVisit-dr17-10123-58446-225.fits'],\n",
       " ['2M00141786-7757569', 58677, 'asVisit-dr17-10123-58677-226.fits'],\n",
       " ['2M00174462+0000472', 59084, 'apVisit-dr17-12769-59084-020.fits'],\n",
       " ['2M00174462+0000472', 59085, 'apVisit-dr17-12769-59085-020.fits'],\n",
       " ['2M00223728-0012297', 58017, 'apVisit-dr17-8656-58017-023.fits'],\n",
       " ['2M00223728-0012297', 58018, 'apVisit-dr17-8656-58018-023.fits'],\n",
       " ['2M00223728-0012297', 58021, 'apVisit-dr17-8656-58021-023.fits'],\n",
       " ['2M00223728-0012297', 58022, 'apVisit-dr17-8656-58022-023.fits'],\n",
       " ['2M00174462+0000472', 59084, 'apVisit-dr17-12769-59084-020.fits'],\n",
       " ['2M00174462+0000472', 59085, 'apVisit-dr17-12769-59085-020.fits'],\n",
       " ['2M00174462+0000472', 59083, 'apVisit-dr17-12769-59083-020.fits'],\n",
       " ['2M00174462+0000472', 59084, 'apVisit-dr17-12769-59084-020.fits'],\n",
       " ['2M00074456-7655057', 58053, 'asVisit-dr17-10081-58053-267.fits'],\n",
       " ['2M00074456-7655057', 58061, 'asVisit-dr17-10081-58061-147.fits'],\n",
       " ['2M00141786-7757569', 58092, 'asVisit-dr17-10123-58092-010.fits'],\n",
       " ['2M00141786-7757569', 58322, 'asVisit-dr17-10123-58322-220.fits'],\n",
       " ['2M00141786-7757569', 58350, 'asVisit-dr17-10123-58350-220.fits'],\n",
       " ['2M00141786-7757569', 58355, 'asVisit-dr17-10123-58355-219.fits'],\n",
       " ['2M00141786-7757569', 58358, 'asVisit-dr17-10123-58358-220.fits'],\n",
       " ['2M00023036+8524194', 58384, 'apVisit-dr17-7950-58384-224.fits'],\n",
       " ['2M00141786-7757569', 58414, 'asVisit-dr17-10123-58414-220.fits'],\n",
       " ['2M00141786-7757569', 58419, 'asVisit-dr17-11157-58419-219.fits'],\n",
       " ['2M00141786-7757569', 58419, 'asVisit-dr17-11157-58419-219.fits'],\n",
       " ['2M00141786-7757569', 58446, 'asVisit-dr17-10123-58446-225.fits'],\n",
       " ['2M00174462+0000472', 59083, 'apVisit-dr17-12769-59083-020.fits'],\n",
       " ['2M00174462+0000472', 59084, 'apVisit-dr17-12769-59084-020.fits'],\n",
       " ['2M00174462+0000472', 59085, 'apVisit-dr17-12769-59085-020.fits'],\n",
       " ['2M00023036+8524194', 58384, 'apVisit-dr17-7950-58384-224.fits'],\n",
       " ['2M00174462+0000472', 59083, 'apVisit-dr17-12769-59083-020.fits'],\n",
       " ['2M00174462+0000472', 59084, 'apVisit-dr17-12769-59084-020.fits'],\n",
       " ['2M00223728-0012297', 58017, 'apVisit-dr17-8656-58017-023.fits'],\n",
       " ['2M00223728-0012297', 58018, 'apVisit-dr17-8656-58018-023.fits'],\n",
       " ['2M00223728-0012297', 58021, 'apVisit-dr17-8656-58021-023.fits'],\n",
       " ['2M00223728-0012297', 58022, 'apVisit-dr17-8656-58022-023.fits'],\n",
       " ['2M00212698+0309415', 58038, 'apVisit-dr17-7921-58038-277.fits'],\n",
       " ['2M00023036+8524194', 58060, 'apVisit-dr17-7950-58060-224.fits'],\n",
       " ['2M00223728-0012297', 58017, 'apVisit-dr17-8656-58017-023.fits'],\n",
       " ['2M00223728-0012297', 58018, 'apVisit-dr17-8656-58018-023.fits'],\n",
       " ['2M00223728-0012297', 58021, 'apVisit-dr17-8656-58021-023.fits'],\n",
       " ['2M00223728-0012297', 58022, 'apVisit-dr17-8656-58022-023.fits'],\n",
       " ['2M00023036+8524194', 58060, 'apVisit-dr17-7950-58060-224.fits'],\n",
       " ['2M00212698+0309415', 58064, 'apVisit-dr17-7921-58064-282.fits'],\n",
       " ['2M00212698+0309415', 58084, 'apVisit-dr17-7921-58084-282.fits'],\n",
       " ['2M00254729+7011069', 56224, 'apVisit-dr17-6232-56224-089.fits'],\n",
       " ['2M00265766-1440511', 59206, 'asVisit-dr17-12806-59206-298.fits'],\n",
       " ['2M00254729+7011069', 56262, 'apVisit-dr17-6233-56262-088.fits'],\n",
       " ['2M00280680+5558136', 56225, 'apVisit-dr17-6234-56225-275.fits'],\n",
       " ['2M00280680+5558136', 56206, 'apVisit-dr17-6234-56206-275.fits'],\n",
       " ['2M00280680+5558136', 56226, 'apVisit-dr17-6235-56226-287.fits'],\n",
       " ['2M00280680+5558136', 56230, 'apVisit-dr17-6235-56230-275.fits'],\n",
       " ['2M00254729+7011069', 56233, 'apVisit-dr17-6232-56233-089.fits'],\n",
       " ['2M00283291+1414505', 58805, 'apVisit-dr17-8089-58805-091.fits'],\n",
       " ['2M00283291+1414505', 58791, 'apVisit-dr17-8089-58791-102.fits'],\n",
       " ['2M00283291+1414505', 58791, 'apVisit-dr17-8089-58791-102.fits'],\n",
       " ['2M00280680+5558136', 56206, 'apVisit-dr17-6234-56206-275.fits'],\n",
       " ['2M00254729+7011069', 56233, 'apVisit-dr17-6232-56233-089.fits'],\n",
       " ['2M00280680+5558136', 56225, 'apVisit-dr17-6234-56225-275.fits'],\n",
       " ['2M00310931-1345468', 59204, 'asVisit-dr17-12805-59204-069.fits'],\n",
       " ['2M00310931-1345468', 59207, 'asVisit-dr17-12805-59207-069.fits'],\n",
       " ['2M00310931-1345468', 59204, 'asVisit-dr17-12805-59204-069.fits'],\n",
       " ['2M00265766-1440511', 59206, 'asVisit-dr17-12806-59206-298.fits'],\n",
       " ['2M00310931-1345468', 59207, 'asVisit-dr17-12805-59207-069.fits'],\n",
       " ['2M00315685+5743383', 57348, 'apVisit-dr17-8702-57348-257.fits'],\n",
       " ['2M00315685+5743383', 57374, 'apVisit-dr17-8702-57374-254.fits'],\n",
       " ['2M00265766-1440511', 59206, 'asVisit-dr17-12806-59206-298.fits'],\n",
       " ['2M00310931-1345468', 59207, 'asVisit-dr17-12805-59207-069.fits'],\n",
       " ['2M00310931-1345468', 59204, 'asVisit-dr17-12805-59204-069.fits'],\n",
       " ['2M00265766-1440511', 59206, 'asVisit-dr17-12806-59206-298.fits'],\n",
       " ['2M00310931-1345468', 59207, 'asVisit-dr17-12805-59207-069.fits'],\n",
       " ['2M00322198+3942141', 58389, 'apVisit-dr17-11207-58389-228.fits'],\n",
       " ['2M00223728-0012297', 58017, 'apVisit-dr17-8656-58017-023.fits'],\n",
       " ['2M00223728-0012297', 58018, 'apVisit-dr17-8656-58018-023.fits'],\n",
       " ['2M00223728-0012297', 58021, 'apVisit-dr17-8656-58021-023.fits'],\n",
       " ['2M00223728-0012297', 58022, 'apVisit-dr17-8656-58022-023.fits'],\n",
       " ['2M00310931-1345468', 59204, 'asVisit-dr17-12805-59204-069.fits'],\n",
       " ['2M00265766-1440511', 59206, 'asVisit-dr17-12806-59206-298.fits'],\n",
       " ['2M00310931-1345468', 59207, 'asVisit-dr17-12805-59207-069.fits'],\n",
       " ['2M00334007-0015031', 58013, 'apVisit-dr17-8657-58013-014.fits'],\n",
       " ['2M00342415-7309345', 58413, 'asVisit-dr17-11183-58413-249.fits'],\n",
       " ['2M00023036+8524194', 58028, 'apVisit-dr17-9519-58028-221.fits'],\n",
       " ['2M00023036+8524194', 58054, 'apVisit-dr17-9264-58054-224.fits'],\n",
       " ['2M00342415-7309345', 58057, 'asVisit-dr17-10083-58057-260.fits'],\n",
       " ['2M00343521+5117195', 56991, 'apVisit-dr17-7777-56991-188.fits'],\n",
       " ['2M00343521+5117195', 57000, 'apVisit-dr17-7777-57000-188.fits'],\n",
       " ['2M00023036+8524194', 58085, 'apVisit-dr17-7950-58085-224.fits'],\n",
       " ['2M00334007-0015031', 57665, 'apVisit-dr17-8657-57665-029.fits'],\n",
       " ['2M00334007-0015031', 58014, 'apVisit-dr17-8657-58014-014.fits'],\n",
       " ['2M00334007-0015031', 57667, 'apVisit-dr17-8657-57667-029.fits'],\n",
       " ['2M00334007-0015031', 58011, 'apVisit-dr17-8657-58011-014.fits'],\n",
       " ['2M00334007-0015031', 58013, 'apVisit-dr17-8657-58013-014.fits'],\n",
       " ['2M00322198+3942141', 58116, 'apVisit-dr17-10347-58116-277.fits'],\n",
       " ['2M00322198+3942141', 58119, 'apVisit-dr17-10347-58119-276.fits'],\n",
       " ['2M00351115+1452172', 58848, 'apVisit-dr17-8569-58848-213.fits'],\n",
       " ['2M00351115+1452172', 58849, 'apVisit-dr17-8569-58849-213.fits'],\n",
       " ['2M00351115+1452172', 58841, 'apVisit-dr17-8569-58841-213.fits'],\n",
       " ['2M00322198+3942141', 58119, 'apVisit-dr17-10347-58119-276.fits'],\n",
       " ['2M00280680+5558136', 56225, 'apVisit-dr17-6234-56225-275.fits'],\n",
       " ['2M00360002+5519491', 55896, 'apVisit-dr17-5264-55896-168.fits'],\n",
       " ['2M00360002+5519491', 56168, 'apVisit-dr17-5264-56168-175.fits'],\n",
       " ['2M00360002+5519491', 56205, 'apVisit-dr17-5265-56205-253.fits'],\n",
       " ['2M00280680+5558136', 56206, 'apVisit-dr17-6234-56206-275.fits'],\n",
       " ['2M00254729+7011069', 56224, 'apVisit-dr17-6232-56224-089.fits'],\n",
       " ['2M00280680+5558136', 56230, 'apVisit-dr17-6235-56230-275.fits'],\n",
       " ['2M00362511+3408151', 57676, 'apVisit-dr17-8684-57676-282.fits'],\n",
       " ['2M00362511+3408151', 57711, 'apVisit-dr17-8684-57711-288.fits'],\n",
       " ['2M00362511+3408151', 57708, 'apVisit-dr17-8684-57708-288.fits'],\n",
       " ['2M00362511+3408151', 57711, 'apVisit-dr17-8684-57711-288.fits'],\n",
       " ['2M00023036+8524194', 57295, 'apVisit-dr17-7950-57295-224.fits'],\n",
       " ['2M00023036+8524194', 57789, 'apVisit-dr17-9082-57789-218.fits'],\n",
       " ['2M00023036+8524194', 58085, 'apVisit-dr17-7950-58085-224.fits'],\n",
       " ['2M00023036+8524194', 58384, 'apVisit-dr17-7950-58384-224.fits'],\n",
       " ['2M00334007-0015031', 58014, 'apVisit-dr17-8657-58014-014.fits'],\n",
       " ['2M00334007-0015031', 58011, 'apVisit-dr17-8657-58011-014.fits'],\n",
       " ['2M00334007-0015031', 58013, 'apVisit-dr17-8657-58013-014.fits'],\n",
       " ['2M00322198+3942141', 58116, 'apVisit-dr17-10347-58116-277.fits'],\n",
       " ['2M00322198+3942141', 58386, 'apVisit-dr17-11207-58386-228.fits'],\n",
       " ['2M00322198+3942141', 58389, 'apVisit-dr17-11207-58389-228.fits'],\n",
       " ['2M00023036+8524194', 57295, 'apVisit-dr17-7950-57295-224.fits'],\n",
       " ['2M00023036+8524194', 58731, 'apVisit-dr17-7950-58731-227.fits'],\n",
       " ['2M00351115+1452172', 58844, 'apVisit-dr17-8569-58844-213.fits'],\n",
       " ['2M00351115+1452172', 58848, 'apVisit-dr17-8569-58848-213.fits'],\n",
       " ['2M00351115+1452172', 58849, 'apVisit-dr17-8569-58849-213.fits'],\n",
       " ['2M00280680+5558136', 56206, 'apVisit-dr17-6234-56206-275.fits'],\n",
       " ['2M00254729+7011069', 56233, 'apVisit-dr17-6232-56233-089.fits'],\n",
       " ['2M00280680+5558136', 56225, 'apVisit-dr17-6234-56225-275.fits'],\n",
       " ['2M00074456-7655057', 58025, 'asVisit-dr17-10081-58025-255.fits'],\n",
       " ['2M00023036+8524194', 58028, 'apVisit-dr17-9519-58028-221.fits'],\n",
       " ['2M00023036+8524194', 58054, 'apVisit-dr17-9264-58054-224.fits'],\n",
       " ['2M00382899+0802387', 58880, 'apVisit-dr17-12317-58880-017.fits'],\n",
       " ['2M00004521-7219055', 59155, 'asVisit-dr17-12776-59155-069.fits'],\n",
       " ['2M00023036+8524194', 57295, 'apVisit-dr17-7950-57295-224.fits'],\n",
       " ['2M00023036+8524194', 57556, 'apVisit-dr17-9084-57556-224.fits'],\n",
       " ['2M00023036+8524194', 58060, 'apVisit-dr17-7950-58060-224.fits'],\n",
       " ['2M00023036+8524194', 58085, 'apVisit-dr17-7950-58085-224.fits'],\n",
       " ['2M00023036+8524194', 58384, 'apVisit-dr17-7950-58384-224.fits'],\n",
       " ['2M00023036+8524194', 58731, 'apVisit-dr17-7950-58731-227.fits'],\n",
       " ['2M00362511+3408151', 57676, 'apVisit-dr17-8684-57676-282.fits'],\n",
       " ['2M00362511+3408151', 57711, 'apVisit-dr17-8684-57711-288.fits'],\n",
       " ['2M00351115+1452172', 58844, 'apVisit-dr17-8569-58844-213.fits'],\n",
       " ['2M00351115+1452172', 58848, 'apVisit-dr17-8569-58848-213.fits'],\n",
       " ['2M00351115+1452172', 58849, 'apVisit-dr17-8569-58849-213.fits'],\n",
       " ['2M00392099+0416286', 58821, 'apVisit-dr17-12313-58821-190.fits'],\n",
       " ['2M00392099+0416286', 58829, 'apVisit-dr17-12313-58829-195.fits'],\n",
       " ['2M00392099+0416286', 59046, 'apVisit-dr17-12313-59046-190.fits'],\n",
       " ['2M00023036+8524194', 57645, 'apVisit-dr17-9264-57645-227.fits'],\n",
       " ['2M00023036+8524194', 57295, 'apVisit-dr17-7950-57295-224.fits'],\n",
       " ['2M00023036+8524194', 58295, 'apVisit-dr17-9135-58295-233.fits'],\n",
       " ['2M00004521-7219055', 59155, 'asVisit-dr17-12776-59155-069.fits'],\n",
       " ['2M00023036+8524194', 58295, 'apVisit-dr17-9135-58295-233.fits'],\n",
       " ['2M00023036+8524194', 58384, 'apVisit-dr17-7950-58384-224.fits'],\n",
       " ['2M00400630+5644107', 57271, 'apVisit-dr17-8000-57271-065.fits'],\n",
       " ['2M00023036+8524194', 57295, 'apVisit-dr17-7950-57295-224.fits'],\n",
       " ['2M00400630+5644107', 56968, 'apVisit-dr17-8000-56968-065.fits'],\n",
       " ['2M00351115+1452172', 58844, 'apVisit-dr17-8569-58844-213.fits'],\n",
       " ['2M00351115+1452172', 58849, 'apVisit-dr17-8569-58849-213.fits'],\n",
       " ['2M00351115+1452172', 58840, 'apVisit-dr17-8569-58840-213.fits'],\n",
       " ['2M00351115+1452172', 58848, 'apVisit-dr17-8569-58848-213.fits'],\n",
       " ['2M00322198+3942141', 58116, 'apVisit-dr17-10347-58116-277.fits'],\n",
       " ['2M00382899+0802387', 58831, 'apVisit-dr17-12317-58831-014.fits'],\n",
       " ['2M00334007-0015031', 58014, 'apVisit-dr17-8657-58014-014.fits'],\n",
       " ['2M00334007-0015031', 58013, 'apVisit-dr17-8657-58013-014.fits'],\n",
       " ['2M00362511+3408151', 57676, 'apVisit-dr17-8684-57676-282.fits'],\n",
       " ['2M00362511+3408151', 57708, 'apVisit-dr17-8684-57708-288.fits'],\n",
       " ['2M00322198+3942141', 58116, 'apVisit-dr17-10347-58116-277.fits'],\n",
       " ['2M00322198+3942141', 58385, 'apVisit-dr17-10347-58385-223.fits'],\n",
       " ['2M00412193+1657591', 56587, 'apVisit-dr17-6561-56587-093.fits'],\n",
       " ['2M00412193+1657591', 56607, 'apVisit-dr17-6561-56607-094.fits'],\n",
       " ['2M00412193+1657591', 56616, 'apVisit-dr17-6561-56616-105.fits'],\n",
       " ['2M00023036+8524194', 57556, 'apVisit-dr17-9084-57556-224.fits'],\n",
       " ['2M00023036+8524194', 57789, 'apVisit-dr17-9082-57789-218.fits'],\n",
       " ['2M00023036+8524194', 58295, 'apVisit-dr17-9135-58295-233.fits'],\n",
       " ['2M00023036+8524194', 58384, 'apVisit-dr17-7950-58384-224.fits'],\n",
       " ['2M00023036+8524194', 58504, 'apVisit-dr17-7951-58504-227.fits'],\n",
       " ['2M00004521-7219055', 59155, 'asVisit-dr17-12776-59155-069.fits'],\n",
       " ['2M00362511+3408151', 57676, 'apVisit-dr17-8684-57676-282.fits'],\n",
       " ['2M00362511+3408151', 57711, 'apVisit-dr17-8684-57711-288.fits'],\n",
       " ['2M00362511+3408151', 57708, 'apVisit-dr17-8684-57708-288.fits'],\n",
       " ['2M00322198+3942141', 58119, 'apVisit-dr17-10347-58119-276.fits'],\n",
       " ['2M00322198+3942141', 58417, 'apVisit-dr17-11207-58417-271.fits'],\n",
       " ['2M00351115+1452172', 58844, 'apVisit-dr17-8569-58844-213.fits'],\n",
       " ['2M00351115+1452172', 58848, 'apVisit-dr17-8569-58848-213.fits'],\n",
       " ['2M00351115+1452172', 58849, 'apVisit-dr17-8569-58849-213.fits'],\n",
       " ['2M00420049+0222352', 58032, 'asVisit-dr17-10036-58032-160.fits'],\n",
       " ['2M00342415-7309345', 58057, 'asVisit-dr17-10083-58057-260.fits'],\n",
       " ['2M00322198+3942141', 58386, 'apVisit-dr17-11207-58386-228.fits'],\n",
       " ['2M00322198+3942141', 58389, 'apVisit-dr17-11207-58389-228.fits'],\n",
       " ['2M00334007-0015031', 57665, 'apVisit-dr17-8657-57665-029.fits'],\n",
       " ['2M00334007-0015031', 57667, 'apVisit-dr17-8657-57667-029.fits'],\n",
       " ['2M00334007-0015031', 58014, 'apVisit-dr17-8657-58014-014.fits'],\n",
       " ['2M00334007-0015031', 58013, 'apVisit-dr17-8657-58013-014.fits'],\n",
       " ['2M00362511+3408151', 57708, 'apVisit-dr17-8684-57708-288.fits'],\n",
       " ['2M00322198+3942141', 58116, 'apVisit-dr17-10347-58116-277.fits'],\n",
       " ['2M00322198+3942141', 58119, 'apVisit-dr17-10347-58119-276.fits'],\n",
       " ['2M00343521+5117195', 56945, 'apVisit-dr17-7777-56945-188.fits'],\n",
       " ['2M00424339+0347249', 57022, 'apVisit-dr17-7771-57022-279.fits'],\n",
       " ['2M00425752-6659570', 58027, 'asVisit-dr17-10082-58027-262.fits'],\n",
       " ['2M00425752-6659570', 58094, 'asVisit-dr17-10125-58094-063.fits'],\n",
       " ['2M00425752-6659570', 58349, 'asVisit-dr17-10124-58349-063.fits'],\n",
       " ['2M00425752-6659570', 58352, 'asVisit-dr17-10124-58352-063.fits'],\n",
       " ['2M00141786-7757569', 58355, 'asVisit-dr17-10123-58355-219.fits'],\n",
       " ['2M00425752-6659570', 58382, 'asVisit-dr17-10124-58382-069.fits'],\n",
       " ['2M00425752-6659570', 58444, 'asVisit-dr17-10125-58444-063.fits'],\n",
       " ['2M00023036+8524194', 59059, 'apVisit-dr17-9264-59059-221.fits'],\n",
       " ['2M00004521-7219055', 59159, 'asVisit-dr17-12776-59159-069.fits'],\n",
       " ['2M00392934+8500595', 55815, 'apVisit-dr17-5221-55815-003.fits'],\n",
       " ['2M00392934+8500595', 55822, 'apVisit-dr17-5221-55822-015.fits'],\n",
       " ['2M00392934+8500595', 55841, 'apVisit-dr17-5221-55841-003.fits'],\n",
       " ['2M00392934+8500595', 55866, 'apVisit-dr17-5221-55866-016.fits'],\n",
       " ['2M00392934+8500595', 55876, 'apVisit-dr17-5221-55876-015.fits'],\n",
       " ['2M00392934+8500595', 56653, 'apVisit-dr17-5221-56653-015.fits'],\n",
       " ['2M00392934+8500595', 56656, 'apVisit-dr17-5221-56656-015.fits'],\n",
       " ['2M00392934+8500595', 56902, 'apVisit-dr17-6104-56902-021.fits'],\n",
       " ['2M00023036+8524194', 57645, 'apVisit-dr17-9264-57645-227.fits'],\n",
       " ['2M00023036+8524194', 57672, 'apVisit-dr17-9264-57672-224.fits'],\n",
       " ['2M00023036+8524194', 57709, 'apVisit-dr17-9264-57709-227.fits'],\n",
       " ['2M00023036+8524194', 57736, 'apVisit-dr17-9519-57736-218.fits'],\n",
       " ['2M00023036+8524194', 57760, 'apVisit-dr17-9519-57760-224.fits'],\n",
       " ['2M00023036+8524194', 58009, 'apVisit-dr17-9264-58009-218.fits'],\n",
       " ['2M00023036+8524194', 58028, 'apVisit-dr17-9519-58028-221.fits'],\n",
       " ['2M00023036+8524194', 58121, 'apVisit-dr17-9519-58121-224.fits'],\n",
       " ['2M00023036+8524194', 58150, 'apVisit-dr17-9069-58150-224.fits'],\n",
       " ['2M00431061-1125472', 57649, 'apVisit-dr17-8659-57649-272.fits'],\n",
       " ['2M00431061-1125472', 57673, 'apVisit-dr17-8659-57673-272.fits'],\n",
       " ['2M00425752-6659570', 58024, 'asVisit-dr17-10082-58024-070.fits'],\n",
       " ['2M00425752-6659570', 58027, 'asVisit-dr17-10082-58027-262.fits'],\n",
       " ['2M00023036+8524194', 57822, 'apVisit-dr17-9069-57822-224.fits'],\n",
       " ['2M00382899+0802387', 58831, 'apVisit-dr17-12317-58831-014.fits'],\n",
       " ['2M00362511+3408151', 57711, 'apVisit-dr17-8684-57711-288.fits'],\n",
       " ['2M00023036+8524194', 57295, 'apVisit-dr17-7950-57295-224.fits'],\n",
       " ['2M00023036+8524194', 57789, 'apVisit-dr17-9082-57789-218.fits'],\n",
       " ['2M00023036+8524194', 57887, 'apVisit-dr17-9083-57887-275.fits'],\n",
       " ['2M00023036+8524194', 58384, 'apVisit-dr17-7950-58384-224.fits'],\n",
       " ['2M00431061-1125472', 57649, 'apVisit-dr17-8659-57649-272.fits'],\n",
       " ['2M00442921-7214555', 58438, 'asVisit-dr17-11182-58438-255.fits'],\n",
       " ['2M00424339+0347249', 57029, 'apVisit-dr17-7771-57029-273.fits'],\n",
       " ['2M00424339+0347249', 57029, 'apVisit-dr17-7771-57029-273.fits'],\n",
       " ['2M00342415-7309345', 58057, 'asVisit-dr17-10083-58057-260.fits'],\n",
       " ['2M00424339+0347249', 57022, 'apVisit-dr17-7771-57022-279.fits'],\n",
       " ['2M00382899+0802387', 58831, 'apVisit-dr17-12317-58831-014.fits'],\n",
       " ['2M00382899+0802387', 58880, 'apVisit-dr17-12317-58880-017.fits'],\n",
       " ['2M00351115+1452172', 58840, 'apVisit-dr17-8569-58840-213.fits'],\n",
       " ['2M00351115+1452172', 58844, 'apVisit-dr17-8569-58844-213.fits'],\n",
       " ['2M00351115+1452172', 58849, 'apVisit-dr17-8569-58849-213.fits'],\n",
       " ['2M00454413+1428238', 58754, 'apVisit-dr17-8091-58754-018.fits'],\n",
       " ['2M00454413+1428238', 58755, 'apVisit-dr17-8091-58755-018.fits'],\n",
       " ['2M00460582+0633168', 58830, 'apVisit-dr17-12316-58830-276.fits'],\n",
       " ['2M00424339+0347249', 57029, 'apVisit-dr17-7771-57029-273.fits'],\n",
       " ['2M00412193+1657591', 56607, 'apVisit-dr17-6561-56607-094.fits'],\n",
       " ['2M00023036+8524194', 57295, 'apVisit-dr17-7950-57295-224.fits'],\n",
       " ['2M00023036+8524194', 57789, 'apVisit-dr17-9082-57789-218.fits'],\n",
       " ['2M00023036+8524194', 58060, 'apVisit-dr17-7950-58060-224.fits'],\n",
       " ['2M00023036+8524194', 58085, 'apVisit-dr17-7950-58085-224.fits'],\n",
       " ['2M00023036+8524194', 58384, 'apVisit-dr17-7950-58384-224.fits'],\n",
       " ['2M00004521-7219055', 59155, 'asVisit-dr17-12776-59155-069.fits'],\n",
       " ['2M00420049+0222352', 58032, 'asVisit-dr17-10036-58032-160.fits'],\n",
       " ['2M00465622-2201390', 58708, 'asVisit-dr17-11900-58708-270.fits'],\n",
       " ['2M00343521+5117195', 56945, 'apVisit-dr17-7777-56945-188.fits'],\n",
       " ['2M00424339+0347249', 57029, 'apVisit-dr17-7771-57029-273.fits'],\n",
       " ['2M00382899+0802387', 58831, 'apVisit-dr17-12317-58831-014.fits'],\n",
       " ['2M00460582+0633168', 58830, 'apVisit-dr17-12316-58830-276.fits'],\n",
       " ['2M00460582+0633168', 58830, 'apVisit-dr17-12316-58830-276.fits'],\n",
       " ['2M00475517+0057047', 59079, 'apVisit-dr17-12696-59079-271.fits'],\n",
       " ['2M00475517+0057047', 59080, 'apVisit-dr17-12696-59080-271.fits'],\n",
       " ['2M00174462+0000472', 59083, 'apVisit-dr17-12769-59083-020.fits'],\n",
       " ['2M00420049+0222352', 58032, 'asVisit-dr17-10036-58032-160.fits'],\n",
       " ['2M00465622-2201390', 58708, 'asVisit-dr17-11900-58708-270.fits'],\n",
       " ['2M00465622-2201390', 58713, 'asVisit-dr17-11900-58713-283.fits'],\n",
       " ['2M00465622-2201390', 58714, 'asVisit-dr17-11901-58714-252.fits'],\n",
       " ['2M00465622-2201390', 58767, 'asVisit-dr17-11900-58767-295.fits'],\n",
       " ['2M00465622-2201390', 58768, 'asVisit-dr17-11901-58768-252.fits'],\n",
       " ['2M00490383-7305198', 58093, 'asVisit-dr17-10126-58093-134.fits'],\n",
       " ['2M00490383-7305198', 58096, 'asVisit-dr17-10126-58096-041.fits'],\n",
       " ['2M00465622-2201390', 58768, 'asVisit-dr17-11901-58768-252.fits'],\n",
       " ['2M00493192+4026429', 57265, 'apVisit-dr17-8114-57265-234.fits'],\n",
       " ['2M00454413+1428238', 58754, 'apVisit-dr17-8091-58754-018.fits'],\n",
       " ['2M00023036+8524194', 58054, 'apVisit-dr17-9264-58054-224.fits'],\n",
       " ['2M00465622-2201390', 58708, 'asVisit-dr17-11900-58708-270.fits'],\n",
       " ['2M00465622-2201390', 58713, 'asVisit-dr17-11900-58713-283.fits'],\n",
       " ['2M00465622-2201390', 58714, 'asVisit-dr17-11901-58714-252.fits'],\n",
       " ['2M00465622-2201390', 58767, 'asVisit-dr17-11900-58767-295.fits'],\n",
       " ['2M00465622-2201390', 58768, 'asVisit-dr17-11901-58768-252.fits'],\n",
       " ['2M00465622-2201390', 58799, 'asVisit-dr17-11901-58799-247.fits'],\n",
       " ['2M00502253-2642292', 58331, 'asVisit-dr17-11037-58331-265.fits'],\n",
       " ['2M00503993-0004499', 58781, 'apVisit-dr17-12073-58781-015.fits'],\n",
       " ['2M00503993-0004499', 58782, 'apVisit-dr17-12073-58782-015.fits'],\n",
       " ['2M00431061-1125472', 57377, 'apVisit-dr17-8659-57377-275.fits'],\n",
       " ['2M00431061-1125472', 57649, 'apVisit-dr17-8659-57649-272.fits'],\n",
       " ['2M00431061-1125472', 57652, 'apVisit-dr17-8659-57652-272.fits'],\n",
       " ['2M00431061-1125472', 57673, 'apVisit-dr17-8659-57673-272.fits'],\n",
       " ['2M00511286+0940478', 58029, 'asVisit-dr17-10037-58029-230.fits'],\n",
       " ['2M00454413+1428238', 58754, 'apVisit-dr17-8091-58754-018.fits'],\n",
       " ['2M00454413+1428238', 58755, 'apVisit-dr17-8091-58755-018.fits'],\n",
       " ['2M00023036+8524194', 58054, 'apVisit-dr17-9264-58054-224.fits'],\n",
       " ['2M00490383-7305198', 58447, 'asVisit-dr17-10126-58447-050.fits'],\n",
       " ['2M00023036+8524194', 58295, 'apVisit-dr17-9135-58295-233.fits'],\n",
       " ['2M00425752-6659570', 58329, 'asVisit-dr17-10124-58329-064.fits'],\n",
       " ['2M00522826-7015580', 58357, 'asVisit-dr17-10139-58357-177.fits'],\n",
       " ['2M00322198+3942141', 58385, 'apVisit-dr17-10347-58385-223.fits'],\n",
       " ['2M00431061-1125472', 57649, 'apVisit-dr17-8659-57649-272.fits'],\n",
       " ['2M00511286+0940478', 58029, 'asVisit-dr17-10037-58029-230.fits'],\n",
       " ['2M00493192+4026429', 57265, 'apVisit-dr17-8114-57265-234.fits'],\n",
       " ['2M00400630+5644107', 57271, 'apVisit-dr17-8000-57271-065.fits'],\n",
       " ['2M00465622-2201390', 58768, 'asVisit-dr17-11901-58768-252.fits'],\n",
       " ['2M00511286+0940478', 58029, 'asVisit-dr17-10037-58029-230.fits'],\n",
       " ['2M00531430+0003189', 58825, 'apVisit-dr17-12311-58825-243.fits'],\n",
       " ['2M00493192+4026429', 57265, 'apVisit-dr17-8114-57265-234.fits'],\n",
       " ['2M00400630+5644107', 57271, 'apVisit-dr17-8000-57271-065.fits'],\n",
       " ['2M00460582+0633168', 58830, 'apVisit-dr17-12316-58830-276.fits'],\n",
       " ['2M00460582+0633168', 58830, 'apVisit-dr17-12316-58830-276.fits'],\n",
       " ['2M00174462+0000472', 59083, 'apVisit-dr17-12769-59083-020.fits'],\n",
       " ['2M00465622-2201390', 58714, 'asVisit-dr17-11901-58714-252.fits'],\n",
       " ['2M00465622-2201390', 58799, 'asVisit-dr17-11901-58799-247.fits'],\n",
       " ['2M00490383-7305198', 58324, 'asVisit-dr17-10126-58324-044.fits'],\n",
       " ['2M00425752-6659570', 58329, 'asVisit-dr17-10124-58329-064.fits'],\n",
       " ['2M00141786-7757569', 58350, 'asVisit-dr17-10123-58350-220.fits'],\n",
       " ['2M00522826-7015580', 58095, 'asVisit-dr17-10137-58095-177.fits'],\n",
       " ['2M00023036+8524194', 58295, 'apVisit-dr17-9135-58295-233.fits'],\n",
       " ['2M00522826-7015580', 58296, 'asVisit-dr17-10138-58296-267.fits'],\n",
       " ['2M00522826-7015580', 58297, 'asVisit-dr17-10139-58297-178.fits'],\n",
       " ['2M00522826-7015580', 58328, 'asVisit-dr17-10138-58328-177.fits'],\n",
       " ['2M00425752-6659570', 58329, 'asVisit-dr17-10124-58329-064.fits'],\n",
       " ['2M00425752-6659570', 58352, 'asVisit-dr17-10124-58352-063.fits'],\n",
       " ['2M00522826-7015580', 58357, 'asVisit-dr17-10139-58357-177.fits'],\n",
       " ['2M00522826-7015580', 58383, 'asVisit-dr17-11161-58383-178.fits'],\n",
       " ['2M00322198+3942141', 58385, 'apVisit-dr17-10347-58385-223.fits'],\n",
       " ['2M00522826-7015580', 58644, 'asVisit-dr17-11161-58644-177.fits'],\n",
       " ['2M00490383-7305198', 58660, 'asVisit-dr17-11156-58660-044.fits'],\n",
       " ['2M00522826-7015580', 58675, 'asVisit-dr17-10140-58675-178.fits'],\n",
       " ['2M00511286+0940478', 58029, 'asVisit-dr17-10037-58029-230.fits'],\n",
       " ['2M00005196+0022164', 58033, 'apVisit-dr17-9243-58033-021.fits'],\n",
       " ['2M00503993-0004499', 58781, 'apVisit-dr17-12073-58781-015.fits'],\n",
       " ['2M00503993-0004499', 58782, 'apVisit-dr17-12073-58782-015.fits'],\n",
       " ['2M00503993-0004499', 58783, 'apVisit-dr17-12073-58783-015.fits'],\n",
       " ['2M00475517+0057047', 59080, 'apVisit-dr17-12696-59080-271.fits'],\n",
       " ['2M00174462+0000472', 59083, 'apVisit-dr17-12769-59083-020.fits'],\n",
       " ['2M00475517+0057047', 59079, 'apVisit-dr17-12696-59079-271.fits'],\n",
       " ['2M00475517+0057047', 59080, 'apVisit-dr17-12696-59080-271.fits'],\n",
       " ['2M00005196+0022164', 58033, 'apVisit-dr17-9243-58033-021.fits'],\n",
       " ['2M00542595+0328219', 58062, 'asVisit-dr17-10039-58062-297.fits'],\n",
       " ['2M00490383-7305198', 58324, 'asVisit-dr17-10126-58324-044.fits'],\n",
       " ['2M00141786-7757569', 58350, 'asVisit-dr17-10123-58350-220.fits'],\n",
       " ['2M00490383-7305198', 58324, 'asVisit-dr17-10126-58324-044.fits'],\n",
       " ['2M00502253-2642292', 58325, 'asVisit-dr17-11037-58325-294.fits'],\n",
       " ['2M00425752-6659570', 58329, 'asVisit-dr17-10124-58329-064.fits'],\n",
       " ['2M00503993-0004499', 58783, 'apVisit-dr17-12073-58783-015.fits'],\n",
       " ['2M00554823+1407343', 58784, 'apVisit-dr17-12092-58784-107.fits'],\n",
       " ['2M00555518-6512090', 59151, 'asVisit-dr17-12747-59151-249.fits'],\n",
       " ['2M00555518-6512090', 59152, 'asVisit-dr17-12747-59152-249.fits'],\n",
       " ['2M00004521-7219055', 59156, 'asVisit-dr17-12776-59156-069.fits'],\n",
       " ['2M00503993-0004499', 58783, 'apVisit-dr17-12073-58783-015.fits'],\n",
       " ['2M00554823+1407343', 58784, 'apVisit-dr17-12092-58784-107.fits'],\n",
       " ['2M00023036+8524194', 58731, 'apVisit-dr17-7950-58731-227.fits'],\n",
       " ['2M00005196+0022164', 58033, 'apVisit-dr17-9243-58033-021.fits'],\n",
       " ['2M00542595+0328219', 58062, 'asVisit-dr17-10039-58062-297.fits'],\n",
       " ['2M00542595+0328219', 58063, 'asVisit-dr17-10039-58063-244.fits'],\n",
       " ['2M00503993-0004499', 58781, 'apVisit-dr17-12073-58781-015.fits'],\n",
       " ['2M00503993-0004499', 58782, 'apVisit-dr17-12073-58782-015.fits'],\n",
       " ['2M00503993-0004499', 58783, 'apVisit-dr17-12073-58783-015.fits'],\n",
       " ['2M00531430+0003189', 58825, 'apVisit-dr17-12311-58825-243.fits'],\n",
       " ['2M00454413+1428238', 58754, 'apVisit-dr17-8091-58754-018.fits'],\n",
       " ['2M00454413+1428238', 58755, 'apVisit-dr17-8091-58755-018.fits'],\n",
       " ['2M00004521-7219055', 59147, 'asVisit-dr17-12776-59147-070.fits'],\n",
       " ['2M00555518-6512090', 59148, 'asVisit-dr17-12747-59148-249.fits'],\n",
       " ['2M00555518-6512090', 59149, 'asVisit-dr17-12747-59149-249.fits'],\n",
       " ['2M00555518-6512090', 59151, 'asVisit-dr17-12747-59151-249.fits'],\n",
       " ['2M00555518-6512090', 59152, 'asVisit-dr17-12747-59152-249.fits'],\n",
       " ['2M00004521-7219055', 59154, 'asVisit-dr17-12776-59154-069.fits'],\n",
       " ['2M00004521-7219055', 59155, 'asVisit-dr17-12776-59155-069.fits'],\n",
       " ['2M00004521-7219055', 59156, 'asVisit-dr17-12776-59156-069.fits'],\n",
       " ['2M00004521-7219055', 59158, 'asVisit-dr17-12776-59158-069.fits'],\n",
       " ['2M00004521-7219055', 59159, 'asVisit-dr17-12776-59159-069.fits'],\n",
       " ['2M00522826-7015580', 58328, 'asVisit-dr17-10138-58328-177.fits'],\n",
       " ['2M00425752-6659570', 58329, 'asVisit-dr17-10124-58329-064.fits'],\n",
       " ['2M00522826-7015580', 58357, 'asVisit-dr17-10139-58357-177.fits'],\n",
       " ['2M00522826-7015580', 58383, 'asVisit-dr17-11161-58383-178.fits'],\n",
       " ['2M00322198+3942141', 58385, 'apVisit-dr17-10347-58385-223.fits'],\n",
       " ['2M00522826-7015580', 58675, 'asVisit-dr17-10140-58675-178.fits'],\n",
       " ['2M00542595+0328219', 58062, 'asVisit-dr17-10039-58062-297.fits'],\n",
       " ['2M00542595+0328219', 58063, 'asVisit-dr17-10039-58063-244.fits'],\n",
       " ['2M00141786-7757569', 58350, 'asVisit-dr17-10123-58350-220.fits'],\n",
       " ['2M00503993-0004499', 58783, 'apVisit-dr17-12073-58783-015.fits'],\n",
       " ['2M00542595+0328219', 58062, 'asVisit-dr17-10039-58062-297.fits'],\n",
       " ['2M00542595+0328219', 58063, 'asVisit-dr17-10039-58063-244.fits'],\n",
       " ['2M00004521-7219055', 59156, 'asVisit-dr17-12776-59156-069.fits'],\n",
       " ['2M00581292+6332015', 56990, 'apVisit-dr17-8035-56990-233.fits'],\n",
       " ['2M00581292+6332015', 57293, 'apVisit-dr17-8035-57293-191.fits'],\n",
       " ['2M00565961+0027096', 58853, 'apVisit-dr17-12314-58853-016.fits'],\n",
       " ['2M00503993-0004499', 58783, 'apVisit-dr17-12073-58783-015.fits'],\n",
       " ['2M00554823+1407343', 58784, 'apVisit-dr17-12092-58784-107.fits'],\n",
       " ['2M00023036+8524194', 57295, 'apVisit-dr17-7950-57295-224.fits'],\n",
       " ['2M00023036+8524194', 57789, 'apVisit-dr17-9082-57789-218.fits'],\n",
       " ['2M00023036+8524194', 58060, 'apVisit-dr17-7950-58060-224.fits'],\n",
       " ['2M00023036+8524194', 58384, 'apVisit-dr17-7950-58384-224.fits'],\n",
       " ['2M00503993-0004499', 58782, 'apVisit-dr17-12073-58782-015.fits'],\n",
       " ['2M00503993-0004499', 58783, 'apVisit-dr17-12073-58783-015.fits'],\n",
       " ['2M00023036+8524194', 55844, 'apVisit-dr17-5095-55844-239.fits'],\n",
       " ['2M00023036+8524194', 55821, 'apVisit-dr17-5095-55821-233.fits'],\n",
       " ['2M00023036+8524194', 55840, 'apVisit-dr17-5095-55840-230.fits'],\n",
       " ['2M01000824-7616562', 58709, 'asVisit-dr17-10127-58709-280.fits'],\n",
       " ['2M00522826-7015580', 58095, 'asVisit-dr17-10137-58095-177.fits'],\n",
       " ['2M00023036+8524194', 58295, 'apVisit-dr17-9135-58295-233.fits'],\n",
       " ['2M00522826-7015580', 58296, 'asVisit-dr17-10138-58296-267.fits'],\n",
       " ['2M00522826-7015580', 58297, 'asVisit-dr17-10139-58297-178.fits'],\n",
       " ['2M00425752-6659570', 58329, 'asVisit-dr17-10124-58329-064.fits'],\n",
       " ['2M00425752-6659570', 58352, 'asVisit-dr17-10124-58352-063.fits'],\n",
       " ['2M00522826-7015580', 58357, 'asVisit-dr17-10139-58357-177.fits'],\n",
       " ['2M00322198+3942141', 58385, 'apVisit-dr17-10347-58385-223.fits'],\n",
       " ['2M00522826-7015580', 58644, 'asVisit-dr17-11161-58644-177.fits'],\n",
       " ['2M00522826-7015580', 58675, 'asVisit-dr17-10140-58675-178.fits'],\n",
       " ['2M01001870+1041192', 59041, 'apVisit-dr17-12310-59041-109.fits'],\n",
       " ['2M01001870+1041192', 58860, 'apVisit-dr17-12310-58860-102.fits'],\n",
       " ['2M00554823+1407343', 58784, 'apVisit-dr17-12092-58784-107.fits'],\n",
       " ['2M00425752-6659570', 58329, 'asVisit-dr17-10124-58329-064.fits'],\n",
       " ['2M00554823+1407343', 58784, 'apVisit-dr17-12092-58784-107.fits'],\n",
       " ['2M00023036+8524194', 55840, 'apVisit-dr17-5095-55840-230.fits'],\n",
       " ['2M00023036+8524194', 55844, 'apVisit-dr17-5095-55844-239.fits'],\n",
       " ['2M01001870+1041192', 58860, 'apVisit-dr17-12310-58860-102.fits'],\n",
       " ['2M01001870+1041192', 59041, 'apVisit-dr17-12310-59041-109.fits'],\n",
       " ['2M01012150+0156240', 57655, 'apVisit-dr17-8661-57655-014.fits'],\n",
       " ['2M01012150+0156240', 57678, 'apVisit-dr17-8661-57678-017.fits'],\n",
       " ['2M00392099+0416286', 58829, 'apVisit-dr17-12313-58829-195.fits'],\n",
       " ['2M00565961+0027096', 58853, 'apVisit-dr17-12314-58853-016.fits'],\n",
       " ['2M01012150+0156240', 57650, 'apVisit-dr17-8661-57650-029.fits'],\n",
       " ['2M00023036+8524194', 58028, 'apVisit-dr17-9519-58028-221.fits'],\n",
       " ['2M00023036+8524194', 58054, 'apVisit-dr17-9264-58054-224.fits'],\n",
       " ['2M00023036+8524194', 58083, 'apVisit-dr17-9519-58083-224.fits'],\n",
       " ['2M00392934+8500595', 55815, 'apVisit-dr17-5221-55815-003.fits'],\n",
       " ['2M00392934+8500595', 55822, 'apVisit-dr17-5221-55822-015.fits'],\n",
       " ['2M00392934+8500595', 55841, 'apVisit-dr17-5221-55841-003.fits'],\n",
       " ['2M00023036+8524194', 57295, 'apVisit-dr17-7950-57295-224.fits'],\n",
       " ['2M00023036+8524194', 58060, 'apVisit-dr17-7950-58060-224.fits'],\n",
       " ['2M00023036+8524194', 58085, 'apVisit-dr17-7950-58085-224.fits'],\n",
       " ['2M01014798+0551352', 59175, 'asVisit-dr17-12740-59175-260.fits'],\n",
       " ['2M00174462+0000472', 59085, 'apVisit-dr17-12769-59085-020.fits'],\n",
       " ['2M01012150+0156240', 57650, 'apVisit-dr17-8661-57650-029.fits'],\n",
       " ['2M01014798+0551352', 59175, 'asVisit-dr17-12740-59175-260.fits'],\n",
       " ['2M00392099+0416286', 58829, 'apVisit-dr17-12313-58829-195.fits'],\n",
       " ['2M00174462+0000472', 59085, 'apVisit-dr17-12769-59085-020.fits'],\n",
       " ['2M00392099+0416286', 58829, 'apVisit-dr17-12313-58829-195.fits'],\n",
       " ['2M00565961+0027096', 58853, 'apVisit-dr17-12314-58853-016.fits'],\n",
       " ['2M00503993-0004499', 58783, 'apVisit-dr17-12073-58783-015.fits'],\n",
       " ['2M00554823+1407343', 58784, 'apVisit-dr17-12092-58784-107.fits'],\n",
       " ['2M01014798+0551352', 59175, 'asVisit-dr17-12740-59175-260.fits'],\n",
       " ['2M00554823+1407343', 58784, 'apVisit-dr17-12092-58784-107.fits'],\n",
       " ['2M00342415-7309345', 58413, 'asVisit-dr17-11183-58413-249.fits'],\n",
       " ['2M01042058+1418262', 58814, 'apVisit-dr17-12094-58814-020.fits'],\n",
       " ['2M01042058+1418262', 58819, 'apVisit-dr17-12094-58819-020.fits'],\n",
       " ['2M01042058+1418262', 58868, 'apVisit-dr17-12094-58868-020.fits'],\n",
       " ['2M01043554+0919402', 58856, 'apVisit-dr17-12309-58856-239.fits'],\n",
       " ['2M01014798+0551352', 59175, 'asVisit-dr17-12740-59175-260.fits'],\n",
       " ['2M01042058+1418262', 58814, 'apVisit-dr17-12094-58814-020.fits'],\n",
       " ['2M01042058+1418262', 58819, 'apVisit-dr17-12094-58819-020.fits'],\n",
       " ['2M01045170+3742429', 58392, 'apVisit-dr17-11212-58392-030.fits'],\n",
       " ['2M00141786-7757569', 58419, 'asVisit-dr17-11157-58419-219.fits'],\n",
       " ['2M00174462+0000472', 59085, 'apVisit-dr17-12769-59085-020.fits'],\n",
       " ['2M00004521-7219055', 59147, 'asVisit-dr17-12776-59147-070.fits'],\n",
       " ['2M00555518-6512090', 59148, 'asVisit-dr17-12747-59148-249.fits'],\n",
       " ['2M00555518-6512090', 59149, 'asVisit-dr17-12747-59149-249.fits'],\n",
       " ['2M00555518-6512090', 59150, 'asVisit-dr17-12747-59150-249.fits'],\n",
       " ['2M00555518-6512090', 59151, 'asVisit-dr17-12747-59151-249.fits'],\n",
       " ['2M00555518-6512090', 59152, 'asVisit-dr17-12747-59152-249.fits'],\n",
       " ['2M00004521-7219055', 59154, 'asVisit-dr17-12776-59154-069.fits'],\n",
       " ['2M00004521-7219055', 59155, 'asVisit-dr17-12776-59155-069.fits'],\n",
       " ['2M00004521-7219055', 59156, 'asVisit-dr17-12776-59156-069.fits'],\n",
       " ['2M00004521-7219055', 59157, 'asVisit-dr17-12776-59157-069.fits'],\n",
       " ['2M00004521-7219055', 59159, 'asVisit-dr17-12776-59159-069.fits'],\n",
       " ['2M00490383-7305198', 58660, 'asVisit-dr17-11156-58660-044.fits'],\n",
       " ['2M00522826-7015580', 58675, 'asVisit-dr17-10140-58675-178.fits'],\n",
       " ['2M01053790+5116300', 56995, 'apVisit-dr17-7548-56995-194.fits'],\n",
       " ['2M01053790+5116300', 56944, 'apVisit-dr17-7548-56944-200.fits'],\n",
       " ['2M01053790+5116300', 57021, 'apVisit-dr17-7548-57021-188.fits'],\n",
       " ['2M01001870+1041192', 59041, 'apVisit-dr17-12310-59041-109.fits'],\n",
       " ['2M01012150+0156240', 57650, 'apVisit-dr17-8661-57650-029.fits'],\n",
       " ['2M01012150+0156240', 57655, 'apVisit-dr17-8661-57655-014.fits'],\n",
       " ['2M00392099+0416286', 58829, 'apVisit-dr17-12313-58829-195.fits'],\n",
       " ['2M00565961+0027096', 58853, 'apVisit-dr17-12314-58853-016.fits'],\n",
       " ['2M00392099+0416286', 58829, 'apVisit-dr17-12313-58829-195.fits'],\n",
       " ['2M01012150+0156240', 57650, 'apVisit-dr17-8661-57650-029.fits'],\n",
       " ['2M01012150+0156240', 57678, 'apVisit-dr17-8661-57678-017.fits'],\n",
       " ['2M01045513-0100504', 58788, 'apVisit-dr17-12074-58788-118.fits'],\n",
       " ['2M01064280-0841503', 58676, 'asVisit-dr17-11902-58676-256.fits'],\n",
       " ['2M00490383-7305198', 58681, 'asVisit-dr17-11156-58681-041.fits'],\n",
       " ['2M01064280-0841503', 58707, 'asVisit-dr17-11902-58707-249.fits'],\n",
       " ['2M00465622-2201390', 58708, 'asVisit-dr17-11900-58708-270.fits'],\n",
       " ['2M01012150+0156240', 57650, 'apVisit-dr17-8661-57650-029.fits'],\n",
       " ['2M01012150+0156240', 57655, 'apVisit-dr17-8661-57655-014.fits'],\n",
       " ['2M01012150+0156240', 57678, 'apVisit-dr17-8661-57678-017.fits'],\n",
       " ['2M00555518-6512090', 59148, 'asVisit-dr17-12747-59148-249.fits'],\n",
       " ['2M00555518-6512090', 59149, 'asVisit-dr17-12747-59149-249.fits'],\n",
       " ['2M00555518-6512090', 59150, 'asVisit-dr17-12747-59150-249.fits'],\n",
       " ['2M00555518-6512090', 59151, 'asVisit-dr17-12747-59151-249.fits'],\n",
       " ['2M00004521-7219055', 59159, 'asVisit-dr17-12776-59159-069.fits'],\n",
       " ['2M01065279+3904054', 58418, 'apVisit-dr17-10352-58418-276.fits'],\n",
       " ['2M01065279+3904054', 58421, 'apVisit-dr17-10352-58421-277.fits'],\n",
       " ['2M01065279+3904054', 58390, 'apVisit-dr17-10352-58390-271.fits'],\n",
       " ['2M01012150+0156240', 57650, 'apVisit-dr17-8661-57650-029.fits'],\n",
       " ['2M01012150+0156240', 57655, 'apVisit-dr17-8661-57655-014.fits'],\n",
       " ['2M00342415-7309345', 58413, 'asVisit-dr17-11183-58413-249.fits'],\n",
       " ['2M01014798+0551352', 59175, 'asVisit-dr17-12740-59175-260.fits'],\n",
       " ['2M01064280-0841503', 58800, 'asVisit-dr17-11902-58800-250.fits'],\n",
       " ['2M00141786-7757569', 58677, 'asVisit-dr17-10123-58677-226.fits'],\n",
       " ['2M00490383-7305198', 58681, 'asVisit-dr17-11156-58681-041.fits'],\n",
       " ['2M00465622-2201390', 58708, 'asVisit-dr17-11900-58708-270.fits'],\n",
       " ['2M00465622-2201390', 58713, 'asVisit-dr17-11900-58713-283.fits'],\n",
       " ['2M01064280-0841503', 58800, 'asVisit-dr17-11902-58800-250.fits'],\n",
       " ['2M00490383-7305198', 58657, 'asVisit-dr17-11156-58657-038.fits'],\n",
       " ['2M01064280-0841503', 58676, 'asVisit-dr17-11902-58676-256.fits'],\n",
       " ['2M00554823+1407343', 58784, 'apVisit-dr17-12092-58784-107.fits'],\n",
       " ['2M01053790+5116300', 56995, 'apVisit-dr17-7548-56995-194.fits'],\n",
       " ['2M01014798+0551352', 59175, 'asVisit-dr17-12740-59175-260.fits'],\n",
       " ['2M01085087-0051179', 59192, 'asVisit-dr17-12743-59192-257.fits'],\n",
       " ['2M00023036+8524194', 57760, 'apVisit-dr17-9519-57760-224.fits'],\n",
       " ['2M00023036+8524194', 57822, 'apVisit-dr17-9069-57822-224.fits'],\n",
       " ['2M00023036+8524194', 58009, 'apVisit-dr17-9264-58009-218.fits'],\n",
       " ['2M00023036+8524194', 58083, 'apVisit-dr17-9519-58083-224.fits'],\n",
       " ['2M00392934+8500595', 55841, 'apVisit-dr17-5221-55841-003.fits'],\n",
       " ['2M00392934+8500595', 55876, 'apVisit-dr17-5221-55876-015.fits'],\n",
       " ['2M00023036+8524194', 57789, 'apVisit-dr17-9082-57789-218.fits'],\n",
       " ['2M00023036+8524194', 57887, 'apVisit-dr17-9083-57887-275.fits'],\n",
       " ['2M00023036+8524194', 58085, 'apVisit-dr17-7950-58085-224.fits'],\n",
       " ['2M00023036+8524194', 58295, 'apVisit-dr17-9135-58295-233.fits'],\n",
       " ['2M00023036+8524194', 58384, 'apVisit-dr17-7950-58384-224.fits'],\n",
       " ['2M00023036+8524194', 58731, 'apVisit-dr17-7950-58731-227.fits'],\n",
       " ['2M01045513-0100504', 58788, 'apVisit-dr17-12074-58788-118.fits'],\n",
       " ['2M00004521-7219055', 59147, 'asVisit-dr17-12776-59147-070.fits'],\n",
       " ['2M00555518-6512090', 59148, 'asVisit-dr17-12747-59148-249.fits'],\n",
       " ['2M00555518-6512090', 59149, 'asVisit-dr17-12747-59149-249.fits'],\n",
       " ['2M00555518-6512090', 59150, 'asVisit-dr17-12747-59150-249.fits'],\n",
       " ['2M00555518-6512090', 59151, 'asVisit-dr17-12747-59151-249.fits'],\n",
       " ['2M00004521-7219055', 59156, 'asVisit-dr17-12776-59156-069.fits'],\n",
       " ['2M00004521-7219055', 59157, 'asVisit-dr17-12776-59157-069.fits'],\n",
       " ['2M00004521-7219055', 59158, 'asVisit-dr17-12776-59158-069.fits'],\n",
       " ['2M01085087-0051179', 59192, 'asVisit-dr17-12743-59192-257.fits'],\n",
       " ['2M00490383-7305198', 58657, 'asVisit-dr17-11156-58657-038.fits'],\n",
       " ['2M01093834+0233501', 59176, 'asVisit-dr17-12742-59176-291.fits'],\n",
       " ['2M00174462+0000472', 59085, 'apVisit-dr17-12769-59085-020.fits'],\n",
       " ['2M00141786-7757569', 58677, 'asVisit-dr17-10123-58677-226.fits'],\n",
       " ['2M00490383-7305198', 58681, 'asVisit-dr17-11156-58681-041.fits'],\n",
       " ['2M00465622-2201390', 58708, 'asVisit-dr17-11900-58708-270.fits'],\n",
       " ['2M00465622-2201390', 58713, 'asVisit-dr17-11900-58713-283.fits'],\n",
       " ['2M00465622-2201390', 58768, 'asVisit-dr17-11901-58768-252.fits'],\n",
       " ['2M00554823+1407343', 58784, 'apVisit-dr17-12092-58784-107.fits'],\n",
       " ['2M01080426+1436467', 58786, 'apVisit-dr17-12093-58786-015.fits'],\n",
       " ['2M00554823+1407343', 58784, 'apVisit-dr17-12092-58784-107.fits'],\n",
       " ['2M01042058+1418262', 58814, 'apVisit-dr17-12094-58814-020.fits'],\n",
       " ['2M01042058+1418262', 58868, 'apVisit-dr17-12094-58868-020.fits'],\n",
       " ['2M01080426+1436467', 58786, 'apVisit-dr17-12093-58786-015.fits'],\n",
       " ['2M00490383-7305198', 58681, 'asVisit-dr17-11156-58681-041.fits'],\n",
       " ['2M00465622-2201390', 58708, 'asVisit-dr17-11900-58708-270.fits'],\n",
       " ['2M01042058+1418262', 58868, 'apVisit-dr17-12094-58868-020.fits'],\n",
       " ['2M01042058+1418262', 58814, 'apVisit-dr17-12094-58814-020.fits'],\n",
       " ['2M01042058+1418262', 58819, 'apVisit-dr17-12094-58819-020.fits'],\n",
       " ['2M01133153+0550269', 58854, 'apVisit-dr17-12308-58854-107.fits'],\n",
       " ['2M01085087-0051179', 59192, 'asVisit-dr17-12743-59192-257.fits'],\n",
       " ['2M01135326+0659425', 58031, 'asVisit-dr17-10038-58031-293.fits'],\n",
       " ['2M00283291+1414505', 58805, 'apVisit-dr17-8089-58805-091.fits'],\n",
       " ['2M00283291+1414505', 58805, 'apVisit-dr17-8089-58805-091.fits'],\n",
       " ['2M01042058+1418262', 58819, 'apVisit-dr17-12094-58819-020.fits'],\n",
       " ['2M01045513-0100504', 58788, 'apVisit-dr17-12074-58788-118.fits'],\n",
       " ['2M01143901+0032354', 58779, 'apVisit-dr17-12075-58779-224.fits'],\n",
       " ['2M01143901+0032354', 58780, 'apVisit-dr17-12075-58780-224.fits'],\n",
       " ['2M01135326+0659425', 58031, 'asVisit-dr17-10038-58031-293.fits'],\n",
       " ['2M00283291+1414505', 58805, 'apVisit-dr17-8089-58805-091.fits'],\n",
       " ['2M01143901+0032354', 58779, 'apVisit-dr17-12075-58779-224.fits'],\n",
       " ['2M01143901+0032354', 58780, 'apVisit-dr17-12075-58780-224.fits'],\n",
       " ['2M01160618+1137191', 57947, 'asVisit-dr17-9910-57947-179.fits'],\n",
       " ['2M00554823+1407343', 58784, 'apVisit-dr17-12092-58784-107.fits'],\n",
       " ['2M01164835-0021037', 58823, 'apVisit-dr17-12318-58823-105.fits'],\n",
       " ['2M00283291+1414505', 58805, 'apVisit-dr17-8089-58805-091.fits'],\n",
       " ['2M01171327+1049599', 59195, 'asVisit-dr17-12741-59195-080.fits'],\n",
       " ['2M01160618+1137191', 57947, 'asVisit-dr17-9910-57947-179.fits'],\n",
       " ['2M00554823+1407343', 58784, 'apVisit-dr17-12092-58784-107.fits'],\n",
       " ['2M01172141+1526186', 58836, 'apVisit-dr17-8092-58836-241.fits'],\n",
       " ['2M01172141+1526186', 58837, 'apVisit-dr17-8092-58837-241.fits'],\n",
       " ['2M01171327+1049599', 59195, 'asVisit-dr17-12741-59195-080.fits'],\n",
       " ['2M01143901+0032354', 58779, 'apVisit-dr17-12075-58779-224.fits'],\n",
       " ['2M01164835-0021037', 58832, 'apVisit-dr17-12318-58832-106.fits'],\n",
       " ['2M01164835-0021037', 58823, 'apVisit-dr17-12318-58823-105.fits'],\n",
       " ['2M01164835-0021037', 58832, 'apVisit-dr17-12318-58832-106.fits'],\n",
       " ['2M01133153+0550269', 58854, 'apVisit-dr17-12308-58854-107.fits'],\n",
       " ['2M00283291+1414505', 58805, 'apVisit-dr17-8089-58805-091.fits'],\n",
       " ['2M00351115+1452172', 58848, 'apVisit-dr17-8569-58848-213.fits'],\n",
       " ['2M00351115+1452172', 58849, 'apVisit-dr17-8569-58849-213.fits'],\n",
       " ['2M01172141+1526186', 58834, 'apVisit-dr17-8092-58834-241.fits'],\n",
       " ['2M01172141+1526186', 58835, 'apVisit-dr17-8092-58835-241.fits'],\n",
       " ['2M01172141+1526186', 58836, 'apVisit-dr17-8092-58836-241.fits'],\n",
       " ['2M01172141+1526186', 58837, 'apVisit-dr17-8092-58837-241.fits'],\n",
       " ['2M01160618+1137191', 57947, 'asVisit-dr17-9910-57947-179.fits'],\n",
       " ['2M01164835-0021037', 58823, 'apVisit-dr17-12318-58823-105.fits'],\n",
       " ['2M01133153+0550269', 58854, 'apVisit-dr17-12308-58854-107.fits'],\n",
       " ['2M01164835-0021037', 58832, 'apVisit-dr17-12318-58832-106.fits'],\n",
       " ['2M01143901+0032354', 58779, 'apVisit-dr17-12075-58779-224.fits'],\n",
       " ['2M01143901+0032354', 58780, 'apVisit-dr17-12075-58780-224.fits'],\n",
       " ['2M01171327+1049599', 59195, 'asVisit-dr17-12741-59195-080.fits'],\n",
       " ['2M01160618+1137191', 57947, 'asVisit-dr17-9910-57947-179.fits'],\n",
       " ['2M00023036+8524194', 57672, 'apVisit-dr17-9264-57672-224.fits'],\n",
       " ['2M00023036+8524194', 57736, 'apVisit-dr17-9519-57736-218.fits'],\n",
       " ['2M00023036+8524194', 57760, 'apVisit-dr17-9519-57760-224.fits'],\n",
       " ['2M00023036+8524194', 57822, 'apVisit-dr17-9069-57822-224.fits'],\n",
       " ['2M00023036+8524194', 58009, 'apVisit-dr17-9264-58009-218.fits'],\n",
       " ['2M00023036+8524194', 58028, 'apVisit-dr17-9519-58028-221.fits'],\n",
       " ['2M00023036+8524194', 58054, 'apVisit-dr17-9264-58054-224.fits'],\n",
       " ['2M00023036+8524194', 58083, 'apVisit-dr17-9519-58083-224.fits'],\n",
       " ['2M00023036+8524194', 58121, 'apVisit-dr17-9519-58121-224.fits'],\n",
       " ['2M00023036+8524194', 58150, 'apVisit-dr17-9069-58150-224.fits'],\n",
       " ['2M00392934+8500595', 55815, 'apVisit-dr17-5221-55815-003.fits'],\n",
       " ['2M00392934+8500595', 55822, 'apVisit-dr17-5221-55822-015.fits'],\n",
       " ['2M00392934+8500595', 55841, 'apVisit-dr17-5221-55841-003.fits'],\n",
       " ['2M00392934+8500595', 55866, 'apVisit-dr17-5221-55866-016.fits'],\n",
       " ['2M00392934+8500595', 55876, 'apVisit-dr17-5221-55876-015.fits'],\n",
       " ['2M00392934+8500595', 56654, 'apVisit-dr17-5221-56654-015.fits'],\n",
       " ['2M00392934+8500595', 56656, 'apVisit-dr17-5221-56656-015.fits'],\n",
       " ['2M00392934+8500595', 56902, 'apVisit-dr17-6104-56902-021.fits'],\n",
       " ['2M00023036+8524194', 57295, 'apVisit-dr17-7950-57295-224.fits'],\n",
       " ['2M00023036+8524194', 57556, 'apVisit-dr17-9084-57556-224.fits'],\n",
       " ['2M00023036+8524194', 57789, 'apVisit-dr17-9082-57789-218.fits'],\n",
       " ['2M00023036+8524194', 57887, 'apVisit-dr17-9083-57887-275.fits'],\n",
       " ['2M00023036+8524194', 58085, 'apVisit-dr17-7950-58085-224.fits'],\n",
       " ['2M00023036+8524194', 58384, 'apVisit-dr17-7950-58384-224.fits'],\n",
       " ['2M00023036+8524194', 58504, 'apVisit-dr17-7951-58504-227.fits'],\n",
       " ['2M00023036+8524194', 58731, 'apVisit-dr17-7950-58731-227.fits'],\n",
       " ['2M00023036+8524194', 59059, 'apVisit-dr17-9264-59059-221.fits'],\n",
       " ['2M00392934+8500595', 56653, 'apVisit-dr17-5221-56653-015.fits'],\n",
       " ['2M00023036+8524194', 59074, 'apVisit-dr17-7950-59074-224.fits'],\n",
       " ['2M00023036+8524194', 57645, 'apVisit-dr17-9264-57645-227.fits'],\n",
       " ['2M00023036+8524194', 57672, 'apVisit-dr17-9264-57672-224.fits'],\n",
       " ['2M00023036+8524194', 57709, 'apVisit-dr17-9264-57709-227.fits'],\n",
       " ['2M00023036+8524194', 58009, 'apVisit-dr17-9264-58009-218.fits'],\n",
       " ['2M00023036+8524194', 58150, 'apVisit-dr17-9069-58150-224.fits'],\n",
       " ['2M00392934+8500595', 55815, 'apVisit-dr17-5221-55815-003.fits'],\n",
       " ['2M00392934+8500595', 55866, 'apVisit-dr17-5221-55866-016.fits'],\n",
       " ['2M00392934+8500595', 56653, 'apVisit-dr17-5221-56653-015.fits'],\n",
       " ['2M00392934+8500595', 56654, 'apVisit-dr17-5221-56654-015.fits'],\n",
       " ['2M00023036+8524194', 58384, 'apVisit-dr17-7950-58384-224.fits'],\n",
       " ['2M01164835-0021037', 58832, 'apVisit-dr17-12318-58832-106.fits'],\n",
       " ['2M01143901+0032354', 58780, 'apVisit-dr17-12075-58780-224.fits'],\n",
       " ['2M01160618+1137191', 57947, 'asVisit-dr17-9910-57947-179.fits'],\n",
       " ['2M01164835-0021037', 58823, 'apVisit-dr17-12318-58823-105.fits'],\n",
       " ['2M01164835-0021037', 58832, 'apVisit-dr17-12318-58832-106.fits'],\n",
       " ['2M01160618+1137191', 57947, 'asVisit-dr17-9910-57947-179.fits'],\n",
       " ['2M01143901+0032354', 58779, 'apVisit-dr17-12075-58779-224.fits'],\n",
       " ['2M01143901+0032354', 58779, 'apVisit-dr17-12075-58779-224.fits'],\n",
       " ['2M01143901+0032354', 58780, 'apVisit-dr17-12075-58780-224.fits'],\n",
       " ['2M01210653+0103456', 57675, 'apVisit-dr17-8683-57675-027.fits'],\n",
       " ['2M01210653+0103456', 57679, 'apVisit-dr17-8683-57679-111.fits'],\n",
       " ['2M01180997+1408313', 58866, 'apVisit-dr17-8093-58866-022.fits'],\n",
       " ['2M00351115+1452172', 58848, 'apVisit-dr17-8569-58848-213.fits'],\n",
       " ['2M00351115+1452172', 58849, 'apVisit-dr17-8569-58849-213.fits'],\n",
       " ['2M01180997+1408313', 58863, 'apVisit-dr17-8093-58863-022.fits'],\n",
       " ['2M01210653+0103456', 57651, 'apVisit-dr17-8683-57651-003.fits'],\n",
       " ['2M01180997+1408313', 58863, 'apVisit-dr17-8093-58863-022.fits'],\n",
       " ['2M01143901+0032354', 58779, 'apVisit-dr17-12075-58779-224.fits'],\n",
       " ['2M01143901+0032354', 58780, 'apVisit-dr17-12075-58780-224.fits'],\n",
       " ['2M00004521-7219055', 59157, 'asVisit-dr17-12776-59157-069.fits'],\n",
       " ['2M00004521-7219055', 59160, 'asVisit-dr17-12776-59160-069.fits'],\n",
       " ['2M00004521-7219055', 59162, 'asVisit-dr17-12776-59162-069.fits'],\n",
       " ['2M01221847-7432419', 59163, 'asVisit-dr17-12775-59163-249.fits'],\n",
       " ['2M01221847-7432419', 59179, 'asVisit-dr17-12775-59179-256.fits'],\n",
       " ['2M01221847-7432419', 59191, 'asVisit-dr17-12775-59191-249.fits'],\n",
       " ['2M01171327+1049599', 59195, 'asVisit-dr17-12741-59195-080.fits'],\n",
       " ['2M00351115+1452172', 58848, 'apVisit-dr17-8569-58848-213.fits'],\n",
       " ['2M00351115+1452172', 58849, 'apVisit-dr17-8569-58849-213.fits'],\n",
       " ['2M01224927-0732223', 59203, 'asVisit-dr17-12810-59203-291.fits'],\n",
       " ['2M01224927-0732223', 59212, 'asVisit-dr17-12810-59212-190.fits'],\n",
       " ['2M01172141+1526186', 58835, 'apVisit-dr17-8092-58835-241.fits'],\n",
       " ['2M01172141+1526186', 58836, 'apVisit-dr17-8092-58836-241.fits'],\n",
       " ['2M00351115+1452172', 58848, 'apVisit-dr17-8569-58848-213.fits'],\n",
       " ['2M01180997+1408313', 58863, 'apVisit-dr17-8093-58863-022.fits'],\n",
       " ['2M01180997+1408313', 58866, 'apVisit-dr17-8093-58866-022.fits'],\n",
       " ['2M01143901+0032354', 58780, 'apVisit-dr17-12075-58780-224.fits'],\n",
       " ['2M01234714-0731564', 59211, 'asVisit-dr17-12809-59211-184.fits'],\n",
       " ['2M01234714-0731564', 59214, 'asVisit-dr17-12809-59214-183.fits'],\n",
       " ['2M01143901+0032354', 58779, 'apVisit-dr17-12075-58779-224.fits'],\n",
       " ['2M01143901+0032354', 58780, 'apVisit-dr17-12075-58780-224.fits'],\n",
       " ['2M01164835-0021037', 58823, 'apVisit-dr17-12318-58823-105.fits'],\n",
       " ['2M01164835-0021037', 58832, 'apVisit-dr17-12318-58832-106.fits'],\n",
       " ['2M01210653+0103456', 57651, 'apVisit-dr17-8683-57651-003.fits'],\n",
       " ['2M01210653+0103456', 57675, 'apVisit-dr17-8683-57675-027.fits'],\n",
       " ['2M01210653+0103456', 57679, 'apVisit-dr17-8683-57679-111.fits'],\n",
       " ['2M01210653+0103456', 57651, 'apVisit-dr17-8683-57651-003.fits'],\n",
       " ['2M01210653+0103456', 57675, 'apVisit-dr17-8683-57675-027.fits'],\n",
       " ['2M01210653+0103456', 57679, 'apVisit-dr17-8683-57679-111.fits'],\n",
       " ['2M01252951+1737245', 56642, 'apVisit-dr17-6562-56642-294.fits'],\n",
       " ['2M00005196+0022164', 56644, 'apVisit-dr17-7063-56644-022.fits'],\n",
       " ['2M01210653+0103456', 57651, 'apVisit-dr17-8683-57651-003.fits'],\n",
       " ['2M01210653+0103456', 57679, 'apVisit-dr17-8683-57679-111.fits'],\n",
       " ['2M01210653+0103456', 57651, 'apVisit-dr17-8683-57651-003.fits'],\n",
       " ['2M01234714-0731564', 59211, 'asVisit-dr17-12809-59211-184.fits'],\n",
       " ['2M01224927-0732223', 59212, 'asVisit-dr17-12810-59212-190.fits'],\n",
       " ['2M01234714-0731564', 59214, 'asVisit-dr17-12809-59214-183.fits'],\n",
       " ['2M01254512+1443355', 58838, 'apVisit-dr17-8570-58838-232.fits'],\n",
       " ['2M01254512+1443355', 58839, 'apVisit-dr17-8570-58839-232.fits'],\n",
       " ['2M01234714-0731564', 59211, 'asVisit-dr17-12809-59211-184.fits'],\n",
       " ['2M01254512+1443355', 58838, 'apVisit-dr17-8570-58838-232.fits'],\n",
       " ['2M01254512+1443355', 58839, 'apVisit-dr17-8570-58839-232.fits'],\n",
       " ['2M01234714-0731564', 59211, 'asVisit-dr17-12809-59211-184.fits'],\n",
       " ['2M01234714-0731564', 59214, 'asVisit-dr17-12809-59214-183.fits'],\n",
       " ['2M01210653+0103456', 57675, 'apVisit-dr17-8683-57675-027.fits'],\n",
       " ['2M01210653+0103456', 57679, 'apVisit-dr17-8683-57679-111.fits'],\n",
       " ['2M00555518-6512090', 59148, 'asVisit-dr17-12747-59148-249.fits'],\n",
       " ['2M00004521-7219055', 59166, 'asVisit-dr17-12776-59166-070.fits'],\n",
       " ['2M01283574-7717482', 59167, 'asVisit-dr17-12746-59167-244.fits'],\n",
       " ['2M01093834+0233501', 59176, 'asVisit-dr17-12742-59176-291.fits'],\n",
       " ['2M01221847-7432419', 59179, 'asVisit-dr17-12775-59179-256.fits'],\n",
       " ['2M01221847-7432419', 59182, 'asVisit-dr17-12775-59182-249.fits'],\n",
       " ['2M01221847-7432419', 59188, 'asVisit-dr17-12775-59188-249.fits'],\n",
       " ['2M01254512+1443355', 58838, 'apVisit-dr17-8570-58838-232.fits'],\n",
       " ['2M00542595+0328219', 58063, 'asVisit-dr17-10039-58063-244.fits'],\n",
       " ['2M01284573+0636114', 59198, 'asVisit-dr17-12744-59198-256.fits'],\n",
       " ['2M00542595+0328219', 58063, 'asVisit-dr17-10039-58063-244.fits'],\n",
       " ['2M01284573+0636114', 59198, 'asVisit-dr17-12744-59198-256.fits'],\n",
       " ['2M00342415-7309345', 58413, 'asVisit-dr17-11183-58413-249.fits'],\n",
       " ['2M00425752-6659570', 58027, 'asVisit-dr17-10082-58027-262.fits'],\n",
       " ['2M00183444-7722092', 58056, 'asVisit-dr17-10081-58056-056.fits'],\n",
       " ['2M01292717-7300378', 58059, 'asVisit-dr17-10085-58059-130.fits'],\n",
       " ['2M00490383-7305198', 58090, 'asVisit-dr17-10126-58090-194.fits'],\n",
       " ['2M00522826-7015580', 58357, 'asVisit-dr17-10139-58357-177.fits'],\n",
       " ['2M00522826-7015580', 58383, 'asVisit-dr17-11161-58383-178.fits'],\n",
       " ['2M00141786-7757569', 58446, 'asVisit-dr17-10123-58446-225.fits'],\n",
       " ['2M01064280-0841503', 58683, 'asVisit-dr17-11902-58683-249.fits'],\n",
       " ['2M01064280-0841503', 58707, 'asVisit-dr17-11902-58707-249.fits'],\n",
       " ['2M01292717-7300378', 58710, 'asVisit-dr17-10128-58710-099.fits'],\n",
       " ['2M00542595+0328219', 58063, 'asVisit-dr17-10039-58063-244.fits'],\n",
       " ['2M01283574-7717482', 59167, 'asVisit-dr17-12746-59167-244.fits'],\n",
       " ['2M01284573+0636114', 59198, 'asVisit-dr17-12744-59198-256.fits'],\n",
       " ['2M01210653+0103456', 57651, 'apVisit-dr17-8683-57651-003.fits'],\n",
       " ['2M00542595+0328219', 58063, 'asVisit-dr17-10039-58063-244.fits'],\n",
       " ['2M01284573+0636114', 59198, 'asVisit-dr17-12744-59198-256.fits'],\n",
       " ['2M01254512+1443355', 58838, 'apVisit-dr17-8570-58838-232.fits'],\n",
       " ['2M01254512+1443355', 58839, 'apVisit-dr17-8570-58839-232.fits'],\n",
       " ['2M01332948+3109288', 58450, 'apVisit-dr17-10099-58450-285.fits'],\n",
       " ['2M01292717-7300378', 58059, 'asVisit-dr17-10085-58059-130.fits'],\n",
       " ['2M01332948+3109288', 58067, 'apVisit-dr17-10099-58067-292.fits'],\n",
       " ['2M00023036+8524194', 58085, 'apVisit-dr17-7950-58085-224.fits'],\n",
       " ['2M00542595+0328219', 58063, 'asVisit-dr17-10039-58063-244.fits'],\n",
       " ['2M01340133-8330137', 58795, 'asVisit-dr17-11995-58795-170.fits'],\n",
       " ['2M01340133-8330137', 58798, 'asVisit-dr17-11995-58798-173.fits'],\n",
       " ['2M01340133-8330137', 58798, 'asVisit-dr17-11995-58798-173.fits'],\n",
       " ['2M01342845+3145547', 57712, 'apVisit-dr17-9291-57712-221.fits'],\n",
       " ['2M00542595+0328219', 58063, 'asVisit-dr17-10039-58063-244.fits'],\n",
       " ['2M01345988+6651462', 56534, 'apVisit-dr17-5598-56534-198.fits'],\n",
       " ['2M01340133-8330137', 58798, 'asVisit-dr17-11995-58798-173.fits'],\n",
       " ['2M00004521-7219055', 59166, 'asVisit-dr17-12776-59166-070.fits'],\n",
       " ['2M01342845+3145547', 57738, 'apVisit-dr17-9291-57738-221.fits'],\n",
       " ['2M00183444-7722092', 58056, 'asVisit-dr17-10081-58056-056.fits'],\n",
       " ['2M01292717-7300378', 58059, 'asVisit-dr17-10085-58059-130.fits'],\n",
       " ['2M00023036+8524194', 58085, 'apVisit-dr17-7950-58085-224.fits'],\n",
       " ['2M00465622-2201390', 58767, 'asVisit-dr17-11900-58767-295.fits'],\n",
       " ['2M01333116+2956445', 58769, 'apVisit-dr17-10098-58769-100.fits'],\n",
       " ['2M01363091+1437072', 58806, 'apVisit-dr17-8095-58806-226.fits'],\n",
       " ['2M01292717-7300378', 58059, 'asVisit-dr17-10085-58059-130.fits'],\n",
       " ['2M01332948+3109288', 58067, 'apVisit-dr17-10099-58067-292.fits'],\n",
       " ['2M01363091+1437072', 58792, 'apVisit-dr17-8095-58792-226.fits'],\n",
       " ['2M01363091+1437072', 58806, 'apVisit-dr17-8095-58806-226.fits'],\n",
       " ['2M01342845+3145547', 57712, 'apVisit-dr17-9291-57712-221.fits'],\n",
       " ['2M01342845+3145547', 57735, 'apVisit-dr17-9291-57735-212.fits'],\n",
       " ['2M01342845+3145547', 57738, 'apVisit-dr17-9291-57738-221.fits'],\n",
       " ['2M01394214+3650034', 58733, 'apVisit-dr17-11213-58733-015.fits'],\n",
       " ['2M01394214+3650034', 58449, 'apVisit-dr17-11213-58449-015.fits'],\n",
       " ['2M01395761-0013396', 58055, 'apVisit-dr17-7926-58055-020.fits'],\n",
       " ['2M01395761-0013396', 58037, 'apVisit-dr17-7926-58037-020.fits'],\n",
       " ['2M01363091+1437072', 58792, 'apVisit-dr17-8095-58792-226.fits'],\n",
       " ['2M01395761-0013396', 58037, 'apVisit-dr17-7926-58037-020.fits'],\n",
       " ['2M01395761-0013396', 58055, 'apVisit-dr17-7926-58055-020.fits'],\n",
       " ['2M01340133-8330137', 58798, 'asVisit-dr17-11995-58798-173.fits'],\n",
       " ['2M01340133-8330137', 59174, 'asVisit-dr17-11996-59174-173.fits'],\n",
       " ['2M01410040-1811188', 57349, 'apVisit-dr17-8660-57349-213.fits'],\n",
       " ['2M00005196+0022164', 57654, 'apVisit-dr17-9243-57654-028.fits'],\n",
       " ['2M00004521-7219055', 59157, 'asVisit-dr17-12776-59157-069.fits'],\n",
       " ['2M01093834+0233501', 59176, 'asVisit-dr17-12742-59176-291.fits'],\n",
       " ['2M00511286+0940478', 58029, 'asVisit-dr17-10037-58029-230.fits'],\n",
       " ['2M01395761-0013396', 58055, 'apVisit-dr17-7926-58055-020.fits'],\n",
       " ['2M01421805+1344056', 58041, 'apVisit-dr17-8097-58041-017.fits'],\n",
       " ['2M01363091+1437072', 58792, 'apVisit-dr17-8095-58792-226.fits'],\n",
       " ['2M01363091+1437072', 58806, 'apVisit-dr17-8095-58806-226.fits'],\n",
       " ['2M01421805+1344056', 58789, 'apVisit-dr17-8096-58789-044.fits'],\n",
       " ['2M01421805+1344056', 58790, 'apVisit-dr17-8096-58790-044.fits'],\n",
       " ['2M01421805+1344056', 58042, 'apVisit-dr17-8097-58042-017.fits'],\n",
       " ['2M01421805+1344056', 58043, 'apVisit-dr17-8097-58043-017.fits'],\n",
       " ['2M01421805+1344056', 58044, 'apVisit-dr17-8097-58044-017.fits'],\n",
       " ['2M01421805+1344056', 58049, 'apVisit-dr17-8097-58049-017.fits'],\n",
       " ['2M00511286+0940478', 58029, 'asVisit-dr17-10037-58029-230.fits'],\n",
       " ['2M01395761-0013396', 58037, 'apVisit-dr17-7926-58037-020.fits'],\n",
       " ['2M01395761-0013396', 58055, 'apVisit-dr17-7926-58055-020.fits'],\n",
       " ['2M01342845+3145547', 57735, 'apVisit-dr17-9291-57735-212.fits'],\n",
       " ['2M01342845+3145547', 57738, 'apVisit-dr17-9291-57738-221.fits'],\n",
       " ['2M01421805+1344056', 58789, 'apVisit-dr17-8096-58789-044.fits'],\n",
       " ['2M01424367+3554585', 58388, 'apVisit-dr17-10353-58388-115.fits'],\n",
       " ['2M00442921-7214555', 58438, 'asVisit-dr17-11182-58438-255.fits'],\n",
       " ['2M01000824-7616562', 58442, 'asVisit-dr17-10127-58442-225.fits'],\n",
       " ['2M01363091+1437072', 58792, 'apVisit-dr17-8095-58792-226.fits'],\n",
       " ['2M01363091+1437072', 58806, 'apVisit-dr17-8095-58806-226.fits'],\n",
       " ['2M01421805+1344056', 58789, 'apVisit-dr17-8096-58789-044.fits'],\n",
       " ['2M01421805+1344056', 58790, 'apVisit-dr17-8096-58790-044.fits'],\n",
       " ['2M01000824-7616562', 58442, 'asVisit-dr17-10127-58442-225.fits'],\n",
       " ['2M01363091+1437072', 58811, 'apVisit-dr17-8095-58811-226.fits'],\n",
       " ['2M01421805+1344056', 58041, 'apVisit-dr17-8097-58041-017.fits'],\n",
       " ['2M01421805+1344056', 58043, 'apVisit-dr17-8097-58043-017.fits'],\n",
       " ['2M01421805+1344056', 58044, 'apVisit-dr17-8097-58044-017.fits'],\n",
       " ['2M01363091+1437072', 58792, 'apVisit-dr17-8095-58792-226.fits'],\n",
       " ['2M01421805+1344056', 58042, 'apVisit-dr17-8097-58042-017.fits'],\n",
       " ['2M01421805+1344056', 58049, 'apVisit-dr17-8097-58049-017.fits'],\n",
       " ['2M01342845+3145547', 57738, 'apVisit-dr17-9291-57738-221.fits'],\n",
       " ['2M01342845+3145547', 57712, 'apVisit-dr17-9291-57712-221.fits'],\n",
       " ...]"
      ]
     },
     "execution_count": 92,
     "metadata": {},
     "output_type": "execute_result"
    }
   ],
   "source": [
    "a_visit_file_name"
   ]
  },
  {
   "cell_type": "code",
   "execution_count": 87,
   "id": "5925c711-ec37-47dd-a1fe-db432ddc4d10",
   "metadata": {},
   "outputs": [
    {
     "data": {
      "text/plain": [
       "'asVisit-dr17-12776-59154-069.fits'"
      ]
     },
     "execution_count": 87,
     "metadata": {},
     "output_type": "execute_result"
    }
   ],
   "source": [
    "temp_1"
   ]
  },
  {
   "cell_type": "code",
   "execution_count": 83,
   "id": "9789532d-a506-4a41-a0b4-65a4fb2a4148",
   "metadata": {},
   "outputs": [
    {
     "data": {
      "text/plain": [
       "['asVisit-dr17-12776-59154-069.fits',\n",
       " 'asVisit-dr17-12776-59155-069.fits',\n",
       " 'asVisit-dr17-12776-59156-069.fits',\n",
       " 'asVisit-dr17-12776-59157-069.fits',\n",
       " 'asVisit-dr17-12776-59164-070.fits']"
      ]
     },
     "execution_count": 83,
     "metadata": {},
     "output_type": "execute_result"
    }
   ],
   "source": [
    "start = 0\n",
    "for i in tqdm(range(0,len(temp_1))):\n",
    "    try:\n",
    "        mjd_0 = all_sb2_mjd[i]\n",
    "        idx = all_visit_mjd.index(mjd_0)\n",
    "        extract_data_0 = binary[idx]\n",
    "        extract_data_1 = filtered_sb2_data[i]\n",
    "        \n",
    "        filename = str(extract_data_0[3])\n",
    "        mjd = int(extract_data_0[7])\n",
    "        apogeeID = extract_data_1[0]\n",
    "        visitno = int(extract_data_0[4])\n",
    "        try:\n",
    "            testing_data = fits.open(\"../../../data/\" + extract_data_0[3], memmap=True)\n",
    "        except FileNotFoundError:\n",
    "            continue\n",
    "        fluxa = [float(a) for a in testing_data[1].data[0]]\n",
    "        wavelengtha = [float(a) for a in testing_data[4].data[0]]\n",
    "        fluxb = [float(a) for a in testing_data[1].data[1]]\n",
    "        wavelengthb = [float(a) for a in testing_data[4].data[1]]\n",
    "        fluxc = [float(a) for a in testing_data[1].data[2]]\n",
    "        wavelengthc = [float(a) for a in testing_data[4].data[2]]\n",
    "        ampa = float(extract_data_1[4][0])\n",
    "        vhelioa = float(extract_data_1[5][0])\n",
    "        fwhma = float(extract_data_1[6][0])\n",
    "        ampb = float(extract_data_1[4][1])\n",
    "        vheliob = float(extract_data_1[5][1])\n",
    "        fwhmb = float(extract_data_1[6][1])\n",
    "        SNR = float(extract_data_0[\"SNR\"])\n",
    "        if np.isnan(ampa) or np.isnan(SNR) or np.isnan(vhelioa) or np.isnan(ampa) or np.isnan(fwhma) or np.isnan(ampb) or np.isnan(vheliob) or np.isnan(fwhmb):\n",
    "            continue\n",
    "        attr = [\"filename\", \"apogeeID\", \"visitno\", \"fluxa\", \"wavelengtha\", \"fluxb\", \"wavelengthb\", \"fluxc\", \"wavelengthc\",\n",
    "                     \"ampa\", \"vhelioa\", \"fwhma\", \"ampb\", \"vheliob\", \"fwhmb\", \"SNR\", \"mjd\"]\n",
    "        vals = [filename, apogeeID, visitno, fluxa, wavelengtha, fluxb, wavelengthb, fluxc, wavelengthc,\n",
    "                         ampa, vhelioa, fwhma, ampb, vheliob, fwhmb, SNR, mjd]\n",
    "        to_json = {a:b for a,b in zip(attr,vals)}\n",
    "        requests.post('http://127.0.0.1:5000/test', json=to_json)\n",
    "    except ValueError:\n",
    "        print(\"bruh\")\n",
    "        pass"
   ]
  },
  {
   "cell_type": "code",
   "execution_count": null,
   "id": "e2fdcc92-0fb0-4d50-abf8-e67ef6d4cc64",
   "metadata": {},
   "outputs": [],
   "source": []
  }
 ],
 "metadata": {
  "kernelspec": {
   "display_name": "Python 3 (ipykernel)",
   "language": "python",
   "name": "python3"
  },
  "language_info": {
   "codemirror_mode": {
    "name": "ipython",
    "version": 3
   },
   "file_extension": ".py",
   "mimetype": "text/x-python",
   "name": "python",
   "nbconvert_exporter": "python",
   "pygments_lexer": "ipython3",
   "version": "3.9.7"
  }
 },
 "nbformat": 4,
 "nbformat_minor": 5
}
