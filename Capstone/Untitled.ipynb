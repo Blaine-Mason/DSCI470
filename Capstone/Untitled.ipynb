{
 "cells": [
  {
   "cell_type": "code",
   "execution_count": 1,
   "id": "ce58d991-a64b-4853-ab7c-55f278cd4db1",
   "metadata": {},
   "outputs": [],
   "source": [
    "import fitsio\n",
    "from matplotlib import pyplot as plt\n",
    "import numpy as np\n",
    "from astropy.io import fits\n",
    "from astropy.table import Table\n",
    "from sklearn.decomposition import FastICA\n",
    "import requests\n",
    "from icasso import Icasso\n",
    "from tqdm import tqdm"
   ]
  },
  {
   "cell_type": "code",
   "execution_count": 2,
   "id": "6229f642-b7f8-4f8f-b4f6-0b50a6b8df08",
   "metadata": {},
   "outputs": [],
   "source": [
    "temp = fits.open(\"apStar-dr17-2M14512083+0443291.fits\")"
   ]
  },
  {
   "cell_type": "code",
   "execution_count": 23,
   "id": "baefbb35-782b-490b-9f21-7ec79c25b970",
   "metadata": {},
   "outputs": [
    {
     "data": {
      "text/plain": [
       "array([0., 0., 0., ..., 0., 0., 0.])"
      ]
     },
     "execution_count": 23,
     "metadata": {},
     "output_type": "execute_result"
    }
   ],
   "source": [
    "sum(temp[1].data[2])"
   ]
  },
  {
   "cell_type": "code",
   "execution_count": null,
   "id": "6780c358-b478-4ff2-bf88-d554e51258a0",
   "metadata": {},
   "outputs": [],
   "source": []
  }
 ],
 "metadata": {
  "kernelspec": {
   "display_name": "Python 3 (ipykernel)",
   "language": "python",
   "name": "python3"
  },
  "language_info": {
   "codemirror_mode": {
    "name": "ipython",
    "version": 3
   },
   "file_extension": ".py",
   "mimetype": "text/x-python",
   "name": "python",
   "nbconvert_exporter": "python",
   "pygments_lexer": "ipython3",
   "version": "3.9.13"
  }
 },
 "nbformat": 4,
 "nbformat_minor": 5
}
