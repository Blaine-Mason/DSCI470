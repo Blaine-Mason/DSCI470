{
 "cells": [
  {
   "cell_type": "code",
   "execution_count": 1,
   "id": "f5ad1c17-8f99-4a03-963d-0bd4d3e6670d",
   "metadata": {},
   "outputs": [],
   "source": [
    "from matplotlib import pyplot as plt\n",
    "import numpy as np\n",
    "from astropy.io import fits\n",
    "from astropy.table import Table\n",
    "from sklearn.decomposition import FastICA\n",
    "import requests\n",
    "from tqdm import tqdm\n",
    "from more_itertools import locate\n",
    "\n",
    "def import_data():\n",
    "    sb2_fits = fits.open(\"/Users/blaine/Documents/astrodata/apogee_sb2s-v1_0.fits\", memmap=True)\n",
    "    a = sb2_fits[1].data\n",
    "    all_visit = fits.open(\"/Users/blaine/Documents/astrodata/allVisit-dr17-synspec_rev1.fits\", memmap=True)\n",
    "    b = all_visit[1].data\n",
    "    all_star = fits.open(\"/Users/blaine/Documents/astrodata/allStar-dr17-synspec_rev1.fits\", memmap=True)\n",
    "    c = all_star[1].data\n",
    "\n",
    "    return a,b,c\n",
    "\n",
    "def filter_sb2(sb2):\n",
    "    ret = []\n",
    "    for i in range(0, sb2.shape[0]):\n",
    "        arr = sb2[i][10]\n",
    "        if arr[0] >= 3 and arr[1] >= 3 and arr[2] == 0 and arr[3] == 0:\n",
    "            ret.append(i)\n",
    "    return ret\n",
    "\n",
    "def filter_allVisit(visit_id, visit, id_lst):\n",
    "    ret = []\n",
    "    for dat in tqdm(id_lst):\n",
    "        dat_mjd = dat[0]\n",
    "        dat_id = dat[1]\n",
    "        temp = list(locate(visit_id[offset:-1], lambda x:x[1] == dat_mjd and x[0] == dat_id))\n",
    "        if len(temp) > 0:\n",
    "            idx = temp[0]\n",
    "            ret.append([visit[idx][3], idx])\n",
    "        else:\n",
    "            continue\n",
    "    return ret\n",
    "\n",
    "def dict_display(dict,N):\n",
    "    for i in range(0,N):\n",
    "        print(list(dict.items())[i])\n",
    "        print(\"\")"
   ]
  },
  {
   "cell_type": "code",
   "execution_count": 2,
   "id": "0ca10ca6-e93e-4dc0-99cc-421e7dac7b37",
   "metadata": {
    "collapsed": true,
    "jupyter": {
     "outputs_hidden": true
    },
    "tags": []
   },
   "outputs": [
    {
     "name": "stdout",
     "output_type": "stream",
     "text": [
      "Collecting numpy==1.21.5\n",
      "  Using cached numpy-1.21.5-cp39-cp39-macosx_10_9_x86_64.whl (17.0 MB)\n",
      "Installing collected packages: numpy\n",
      "  Attempting uninstall: numpy\n",
      "    Found existing installation: numpy 1.24.2\n",
      "    Uninstalling numpy-1.24.2:\n",
      "      Successfully uninstalled numpy-1.24.2\n",
      "\u001b[31mERROR: pip's dependency resolver does not currently take into account all the packages that are installed. This behaviour is the source of the following dependency conflicts.\n",
      "daal4py 2021.3.0 requires daal==2021.2.3, which is not installed.\n",
      "tensorflow 2.5.0 requires numpy~=1.19.2, but you have numpy 1.21.5 which is incompatible.\n",
      "tensorflow 2.5.0 requires typing-extensions~=3.7.4, but you have typing-extensions 4.1.1 which is incompatible.\n",
      "spleeter 2.3.0 requires numpy<1.20.0,>=1.16.0, but you have numpy 1.21.5 which is incompatible.\u001b[0m\n",
      "Successfully installed numpy-1.21.5\n",
      "Note: you may need to restart the kernel to use updated packages.\n"
     ]
    }
   ],
   "source": [
    "pip install numpy==1.21.5"
   ]
  },
  {
   "cell_type": "code",
   "execution_count": 2,
   "id": "ccd42f5a-b315-4e86-8063-1f2481f303b9",
   "metadata": {},
   "outputs": [],
   "source": [
    "sb2_raw, visit_raw, star_raw = import_data()\n",
    "#Filter sb2 data to have both ratings above 3\n",
    "sb2_idx = filter_sb2(sb2_raw)"
   ]
  },
  {
   "cell_type": "code",
   "execution_count": 3,
   "id": "a9fad3ab-afdb-471e-802a-6a275a2fc778",
   "metadata": {},
   "outputs": [],
   "source": [
    "#Condense SB2 Data into a list of all filtered elements\n",
    "sb2_data = [sb2_raw[idx] for idx in sb2_idx]"
   ]
  },
  {
   "cell_type": "code",
   "execution_count": 4,
   "id": "3f35af57-0ae5-4cb1-8fd5-f93b39bc4815",
   "metadata": {},
   "outputs": [],
   "source": [
    "#Create a Dictionary of all elements of sb2 logged by appogee ID\n",
    "sb2_mjd = [[int(np.floor(element[1])), element] for element in sb2_data]"
   ]
  },
  {
   "cell_type": "code",
   "execution_count": 5,
   "id": "99ac0bd4-2de1-4e3c-b9cf-d0741cc3362b",
   "metadata": {},
   "outputs": [],
   "source": [
    "#Convert fits format to list of data\n",
    "visit_id_list = [[visit[0], visit[7]] for visit in visit_raw]"
   ]
  },
  {
   "cell_type": "code",
   "execution_count": 6,
   "id": "854b5396-b911-40d3-a0b5-0db88bc7a845",
   "metadata": {},
   "outputs": [],
   "source": [
    "sb2_info_list = [[b2[0],b2[1][0]] for b2 in sb2_mjd] "
   ]
  },
  {
   "cell_type": "code",
   "execution_count": 18,
   "id": "3121bb2a-f1bf-42f1-9ea6-f6eb3cf67986",
   "metadata": {
    "tags": []
   },
   "outputs": [
    {
     "data": {
      "text/plain": [
       "'asVisit-dr17-12776-59154-069.fits'"
      ]
     },
     "execution_count": 18,
     "metadata": {},
     "output_type": "execute_result"
    }
   ],
   "source": [
    "visit_raw[656][3]"
   ]
  },
  {
   "cell_type": "code",
   "execution_count": 7,
   "id": "c912d807-ed0b-4e98-be4f-b8be4adee7d2",
   "metadata": {
    "collapsed": true,
    "jupyter": {
     "outputs_hidden": true
    },
    "tags": []
   },
   "outputs": [
    {
     "name": "stderr",
     "output_type": "stream",
     "text": [
      "  0%|                                                                                                                                                                  | 0/100 [00:00<?, ?it/s]"
     ]
    },
    {
     "name": "stdout",
     "output_type": "stream",
     "text": [
      "[656]\n"
     ]
    },
    {
     "name": "stderr",
     "output_type": "stream",
     "text": [
      "  2%|███                                                                                                                                                       | 2/100 [00:08<06:41,  4.10s/it]"
     ]
    },
    {
     "name": "stdout",
     "output_type": "stream",
     "text": [
      "[661]\n"
     ]
    },
    {
     "name": "stderr",
     "output_type": "stream",
     "text": [
      "  3%|████▌                                                                                                                                                     | 3/100 [00:11<05:58,  3.70s/it]"
     ]
    },
    {
     "name": "stdout",
     "output_type": "stream",
     "text": [
      "[655]\n"
     ]
    },
    {
     "name": "stderr",
     "output_type": "stream",
     "text": [
      "  4%|██████▏                                                                                                                                                   | 4/100 [00:15<05:37,  3.51s/it]"
     ]
    },
    {
     "name": "stdout",
     "output_type": "stream",
     "text": [
      "[657]\n"
     ]
    },
    {
     "name": "stderr",
     "output_type": "stream",
     "text": [
      "  5%|███████▋                                                                                                                                                  | 5/100 [00:18<05:23,  3.40s/it]"
     ]
    },
    {
     "name": "stdout",
     "output_type": "stream",
     "text": [
      "[654]\n"
     ]
    },
    {
     "name": "stderr",
     "output_type": "stream",
     "text": [
      "  6%|█████████▏                                                                                                                                                | 6/100 [00:21<05:14,  3.34s/it]"
     ]
    },
    {
     "name": "stdout",
     "output_type": "stream",
     "text": [
      "[662]\n"
     ]
    },
    {
     "name": "stderr",
     "output_type": "stream",
     "text": [
      "  7%|██████████▊                                                                                                                                               | 7/100 [00:24<05:07,  3.30s/it]"
     ]
    },
    {
     "name": "stdout",
     "output_type": "stream",
     "text": [
      "[663]\n"
     ]
    },
    {
     "name": "stderr",
     "output_type": "stream",
     "text": [
      "  8%|████████████▎                                                                                                                                             | 8/100 [00:27<05:01,  3.28s/it]"
     ]
    },
    {
     "name": "stdout",
     "output_type": "stream",
     "text": [
      "[771]\n"
     ]
    },
    {
     "name": "stderr",
     "output_type": "stream",
     "text": [
      "  9%|█████████████▊                                                                                                                                            | 9/100 [00:31<04:56,  3.26s/it]"
     ]
    },
    {
     "name": "stdout",
     "output_type": "stream",
     "text": [
      "[817]\n"
     ]
    },
    {
     "name": "stderr",
     "output_type": "stream",
     "text": [
      " 10%|███████████████▎                                                                                                                                         | 10/100 [00:34<04:52,  3.25s/it]"
     ]
    },
    {
     "name": "stdout",
     "output_type": "stream",
     "text": [
      "[816]\n"
     ]
    },
    {
     "name": "stderr",
     "output_type": "stream",
     "text": [
      " 11%|████████████████▊                                                                                                                                        | 11/100 [00:37<04:48,  3.24s/it]"
     ]
    },
    {
     "name": "stdout",
     "output_type": "stream",
     "text": [
      "[1974]\n"
     ]
    },
    {
     "name": "stderr",
     "output_type": "stream",
     "text": [
      " 12%|██████████████████▎                                                                                                                                      | 12/100 [00:40<04:44,  3.23s/it]"
     ]
    },
    {
     "name": "stdout",
     "output_type": "stream",
     "text": [
      "[1975]\n"
     ]
    },
    {
     "name": "stderr",
     "output_type": "stream",
     "text": [
      " 13%|███████████████████▉                                                                                                                                     | 13/100 [00:43<04:41,  3.23s/it]"
     ]
    },
    {
     "name": "stdout",
     "output_type": "stream",
     "text": [
      "[2649]\n"
     ]
    },
    {
     "name": "stderr",
     "output_type": "stream",
     "text": [
      " 14%|█████████████████████▍                                                                                                                                   | 14/100 [00:47<04:37,  3.23s/it]"
     ]
    },
    {
     "name": "stdout",
     "output_type": "stream",
     "text": [
      "[2639]\n"
     ]
    },
    {
     "name": "stderr",
     "output_type": "stream",
     "text": [
      " 15%|██████████████████████▉                                                                                                                                  | 15/100 [00:50<04:33,  3.22s/it]"
     ]
    },
    {
     "name": "stdout",
     "output_type": "stream",
     "text": [
      "[2644]\n"
     ]
    },
    {
     "name": "stderr",
     "output_type": "stream",
     "text": [
      " 16%|████████████████████████▍                                                                                                                                | 16/100 [00:53<04:30,  3.23s/it]"
     ]
    },
    {
     "name": "stdout",
     "output_type": "stream",
     "text": [
      "[2647]\n"
     ]
    },
    {
     "name": "stderr",
     "output_type": "stream",
     "text": [
      " 17%|██████████████████████████                                                                                                                               | 17/100 [00:56<04:27,  3.22s/it]"
     ]
    },
    {
     "name": "stdout",
     "output_type": "stream",
     "text": [
      "[2629]\n"
     ]
    },
    {
     "name": "stderr",
     "output_type": "stream",
     "text": [
      " 18%|███████████████████████████▌                                                                                                                             | 18/100 [01:00<04:24,  3.22s/it]"
     ]
    },
    {
     "name": "stdout",
     "output_type": "stream",
     "text": [
      "[2625]\n"
     ]
    },
    {
     "name": "stderr",
     "output_type": "stream",
     "text": [
      " 19%|█████████████████████████████                                                                                                                            | 19/100 [01:03<04:21,  3.22s/it]"
     ]
    },
    {
     "name": "stdout",
     "output_type": "stream",
     "text": [
      "[2635]\n"
     ]
    },
    {
     "name": "stderr",
     "output_type": "stream",
     "text": [
      " 20%|██████████████████████████████▌                                                                                                                          | 20/100 [01:06<04:17,  3.22s/it]"
     ]
    },
    {
     "name": "stdout",
     "output_type": "stream",
     "text": [
      "[2646]\n"
     ]
    },
    {
     "name": "stderr",
     "output_type": "stream",
     "text": [
      " 21%|████████████████████████████████▏                                                                                                                        | 21/100 [01:09<04:14,  3.22s/it]"
     ]
    },
    {
     "name": "stdout",
     "output_type": "stream",
     "text": [
      "[2651]\n"
     ]
    },
    {
     "name": "stderr",
     "output_type": "stream",
     "text": [
      " 22%|█████████████████████████████████▋                                                                                                                       | 22/100 [01:12<04:11,  3.22s/it]"
     ]
    },
    {
     "name": "stdout",
     "output_type": "stream",
     "text": [
      "[2650]\n"
     ]
    },
    {
     "name": "stderr",
     "output_type": "stream",
     "text": [
      " 23%|███████████████████████████████████▏                                                                                                                     | 23/100 [01:16<04:08,  3.22s/it]"
     ]
    },
    {
     "name": "stdout",
     "output_type": "stream",
     "text": [
      "[2643]\n"
     ]
    },
    {
     "name": "stderr",
     "output_type": "stream",
     "text": [
      " 24%|████████████████████████████████████▋                                                                                                                    | 24/100 [01:19<04:04,  3.22s/it]"
     ]
    },
    {
     "name": "stdout",
     "output_type": "stream",
     "text": [
      "[2642]\n"
     ]
    },
    {
     "name": "stderr",
     "output_type": "stream",
     "text": [
      " 25%|██████████████████████████████████████▎                                                                                                                  | 25/100 [01:22<04:01,  3.22s/it]"
     ]
    },
    {
     "name": "stdout",
     "output_type": "stream",
     "text": [
      "[2641]\n"
     ]
    },
    {
     "name": "stderr",
     "output_type": "stream",
     "text": [
      " 26%|███████████████████████████████████████▊                                                                                                                 | 26/100 [01:25<03:58,  3.23s/it]"
     ]
    },
    {
     "name": "stdout",
     "output_type": "stream",
     "text": [
      "[2640]\n"
     ]
    },
    {
     "name": "stderr",
     "output_type": "stream",
     "text": [
      " 27%|█████████████████████████████████████████▎                                                                                                               | 27/100 [01:29<03:55,  3.23s/it]"
     ]
    },
    {
     "name": "stdout",
     "output_type": "stream",
     "text": [
      "[2637]\n"
     ]
    },
    {
     "name": "stderr",
     "output_type": "stream",
     "text": [
      " 28%|██████████████████████████████████████████▊                                                                                                              | 28/100 [01:32<03:52,  3.22s/it]"
     ]
    },
    {
     "name": "stdout",
     "output_type": "stream",
     "text": [
      "[2634]\n"
     ]
    },
    {
     "name": "stderr",
     "output_type": "stream",
     "text": [
      " 29%|████████████████████████████████████████████▎                                                                                                            | 29/100 [01:35<03:48,  3.22s/it]"
     ]
    },
    {
     "name": "stdout",
     "output_type": "stream",
     "text": [
      "[2633]\n"
     ]
    },
    {
     "name": "stderr",
     "output_type": "stream",
     "text": [
      " 30%|█████████████████████████████████████████████▉                                                                                                           | 30/100 [01:38<03:45,  3.22s/it]"
     ]
    },
    {
     "name": "stdout",
     "output_type": "stream",
     "text": [
      "[2623]\n"
     ]
    },
    {
     "name": "stderr",
     "output_type": "stream",
     "text": [
      " 31%|███████████████████████████████████████████████▍                                                                                                         | 31/100 [01:42<03:42,  3.22s/it]"
     ]
    },
    {
     "name": "stdout",
     "output_type": "stream",
     "text": [
      "[2622]\n"
     ]
    },
    {
     "name": "stderr",
     "output_type": "stream",
     "text": [
      " 32%|████████████████████████████████████████████████▉                                                                                                        | 32/100 [01:45<03:39,  3.23s/it]"
     ]
    },
    {
     "name": "stdout",
     "output_type": "stream",
     "text": [
      "[2624]\n"
     ]
    },
    {
     "name": "stderr",
     "output_type": "stream",
     "text": [
      " 33%|██████████████████████████████████████████████████▍                                                                                                      | 33/100 [01:48<03:36,  3.23s/it]"
     ]
    },
    {
     "name": "stdout",
     "output_type": "stream",
     "text": [
      "[2619]\n"
     ]
    },
    {
     "name": "stderr",
     "output_type": "stream",
     "text": [
      " 34%|████████████████████████████████████████████████████                                                                                                     | 34/100 [01:51<03:33,  3.24s/it]"
     ]
    },
    {
     "name": "stdout",
     "output_type": "stream",
     "text": [
      "[2630]\n"
     ]
    },
    {
     "name": "stderr",
     "output_type": "stream",
     "text": [
      " 35%|█████████████████████████████████████████████████████▌                                                                                                   | 35/100 [01:55<03:31,  3.25s/it]"
     ]
    },
    {
     "name": "stdout",
     "output_type": "stream",
     "text": [
      "[2631]\n"
     ]
    },
    {
     "name": "stderr",
     "output_type": "stream",
     "text": [
      " 36%|███████████████████████████████████████████████████████                                                                                                  | 36/100 [01:58<03:27,  3.25s/it]"
     ]
    },
    {
     "name": "stdout",
     "output_type": "stream",
     "text": [
      "[2632]\n"
     ]
    },
    {
     "name": "stderr",
     "output_type": "stream",
     "text": [
      " 37%|████████████████████████████████████████████████████████▌                                                                                                | 37/100 [02:01<03:24,  3.24s/it]"
     ]
    },
    {
     "name": "stdout",
     "output_type": "stream",
     "text": [
      "[2627]\n"
     ]
    },
    {
     "name": "stderr",
     "output_type": "stream",
     "text": [
      " 38%|██████████████████████████████████████████████████████████▏                                                                                              | 38/100 [02:04<03:20,  3.24s/it]"
     ]
    },
    {
     "name": "stdout",
     "output_type": "stream",
     "text": [
      "[2676]\n"
     ]
    },
    {
     "name": "stderr",
     "output_type": "stream",
     "text": [
      " 39%|███████████████████████████████████████████████████████████▋                                                                                             | 39/100 [02:07<03:17,  3.23s/it]"
     ]
    },
    {
     "name": "stdout",
     "output_type": "stream",
     "text": [
      "[2678]\n"
     ]
    },
    {
     "name": "stderr",
     "output_type": "stream",
     "text": [
      " 40%|█████████████████████████████████████████████████████████████▏                                                                                           | 40/100 [02:11<03:13,  3.23s/it]"
     ]
    },
    {
     "name": "stdout",
     "output_type": "stream",
     "text": [
      "[3001]\n"
     ]
    },
    {
     "name": "stderr",
     "output_type": "stream",
     "text": [
      " 41%|██████████████████████████████████████████████████████████████▋                                                                                          | 41/100 [02:14<03:10,  3.23s/it]"
     ]
    },
    {
     "name": "stdout",
     "output_type": "stream",
     "text": [
      "[3072]\n"
     ]
    },
    {
     "name": "stderr",
     "output_type": "stream",
     "text": [
      " 42%|████████████████████████████████████████████████████████████████▎                                                                                        | 42/100 [02:17<03:07,  3.23s/it]"
     ]
    },
    {
     "name": "stdout",
     "output_type": "stream",
     "text": [
      "[3952]\n"
     ]
    },
    {
     "name": "stderr",
     "output_type": "stream",
     "text": [
      " 43%|█████████████████████████████████████████████████████████████████▊                                                                                       | 43/100 [02:20<03:03,  3.22s/it]"
     ]
    },
    {
     "name": "stdout",
     "output_type": "stream",
     "text": [
      "[3951]\n"
     ]
    },
    {
     "name": "stderr",
     "output_type": "stream",
     "text": [
      " 44%|███████████████████████████████████████████████████████████████████▎                                                                                     | 44/100 [02:24<03:00,  3.22s/it]"
     ]
    },
    {
     "name": "stdout",
     "output_type": "stream",
     "text": [
      "[4669]\n"
     ]
    },
    {
     "name": "stderr",
     "output_type": "stream",
     "text": [
      " 45%|████████████████████████████████████████████████████████████████████▊                                                                                    | 45/100 [02:27<02:57,  3.22s/it]"
     ]
    },
    {
     "name": "stdout",
     "output_type": "stream",
     "text": [
      "[4950]\n"
     ]
    },
    {
     "name": "stderr",
     "output_type": "stream",
     "text": [
      " 46%|██████████████████████████████████████████████████████████████████████▍                                                                                  | 46/100 [02:30<02:53,  3.22s/it]"
     ]
    },
    {
     "name": "stdout",
     "output_type": "stream",
     "text": [
      "[4952]\n"
     ]
    },
    {
     "name": "stderr",
     "output_type": "stream",
     "text": [
      " 47%|███████████████████████████████████████████████████████████████████████▉                                                                                 | 47/100 [02:33<02:50,  3.22s/it]"
     ]
    },
    {
     "name": "stdout",
     "output_type": "stream",
     "text": [
      "[4951]\n"
     ]
    },
    {
     "name": "stderr",
     "output_type": "stream",
     "text": [
      " 48%|█████████████████████████████████████████████████████████████████████████▍                                                                               | 48/100 [02:36<02:47,  3.22s/it]"
     ]
    },
    {
     "name": "stdout",
     "output_type": "stream",
     "text": [
      "[5164]\n"
     ]
    },
    {
     "name": "stderr",
     "output_type": "stream",
     "text": [
      " 49%|██████████████████████████████████████████████████████████████████████████▉                                                                              | 49/100 [02:40<02:44,  3.22s/it]"
     ]
    },
    {
     "name": "stdout",
     "output_type": "stream",
     "text": [
      "[5167]\n"
     ]
    },
    {
     "name": "stderr",
     "output_type": "stream",
     "text": [
      " 50%|████████████████████████████████████████████████████████████████████████████▌                                                                            | 50/100 [02:43<02:41,  3.22s/it]"
     ]
    },
    {
     "name": "stdout",
     "output_type": "stream",
     "text": [
      "[5170]\n"
     ]
    },
    {
     "name": "stderr",
     "output_type": "stream",
     "text": [
      " 51%|██████████████████████████████████████████████████████████████████████████████                                                                           | 51/100 [02:46<02:37,  3.22s/it]"
     ]
    },
    {
     "name": "stdout",
     "output_type": "stream",
     "text": [
      "[5171]\n"
     ]
    },
    {
     "name": "stderr",
     "output_type": "stream",
     "text": [
      " 52%|███████████████████████████████████████████████████████████████████████████████▌                                                                         | 52/100 [02:49<02:34,  3.22s/it]"
     ]
    },
    {
     "name": "stdout",
     "output_type": "stream",
     "text": [
      "[5172]\n"
     ]
    },
    {
     "name": "stderr",
     "output_type": "stream",
     "text": [
      " 53%|█████████████████████████████████████████████████████████████████████████████████                                                                        | 53/100 [02:53<02:31,  3.22s/it]"
     ]
    },
    {
     "name": "stdout",
     "output_type": "stream",
     "text": [
      "[5166]\n"
     ]
    },
    {
     "name": "stderr",
     "output_type": "stream",
     "text": [
      " 54%|██████████████████████████████████████████████████████████████████████████████████▌                                                                      | 54/100 [02:56<02:28,  3.22s/it]"
     ]
    },
    {
     "name": "stdout",
     "output_type": "stream",
     "text": [
      "[5168]\n"
     ]
    },
    {
     "name": "stderr",
     "output_type": "stream",
     "text": [
      " 55%|████████████████████████████████████████████████████████████████████████████████████▏                                                                    | 55/100 [02:59<02:25,  3.22s/it]"
     ]
    },
    {
     "name": "stdout",
     "output_type": "stream",
     "text": [
      "[5433]\n"
     ]
    },
    {
     "name": "stderr",
     "output_type": "stream",
     "text": [
      " 56%|█████████████████████████████████████████████████████████████████████████████████████▋                                                                   | 56/100 [03:02<02:21,  3.22s/it]"
     ]
    },
    {
     "name": "stdout",
     "output_type": "stream",
     "text": [
      "[5430]\n"
     ]
    },
    {
     "name": "stderr",
     "output_type": "stream",
     "text": [
      " 57%|███████████████████████████████████████████████████████████████████████████████████████▏                                                                 | 57/100 [03:05<02:18,  3.22s/it]"
     ]
    },
    {
     "name": "stdout",
     "output_type": "stream",
     "text": [
      "[5434]\n"
     ]
    },
    {
     "name": "stderr",
     "output_type": "stream",
     "text": [
      " 58%|████████████████████████████████████████████████████████████████████████████████████████▋                                                                | 58/100 [03:09<02:15,  3.22s/it]"
     ]
    },
    {
     "name": "stdout",
     "output_type": "stream",
     "text": [
      "[5435]\n"
     ]
    },
    {
     "name": "stderr",
     "output_type": "stream",
     "text": [
      " 59%|██████████████████████████████████████████████████████████████████████████████████████████▎                                                              | 59/100 [03:12<02:12,  3.22s/it]"
     ]
    },
    {
     "name": "stdout",
     "output_type": "stream",
     "text": [
      "[6079]\n"
     ]
    },
    {
     "name": "stderr",
     "output_type": "stream",
     "text": [
      " 60%|███████████████████████████████████████████████████████████████████████████████████████████▊                                                             | 60/100 [03:15<02:08,  3.22s/it]"
     ]
    },
    {
     "name": "stdout",
     "output_type": "stream",
     "text": [
      "[6080]\n"
     ]
    },
    {
     "name": "stderr",
     "output_type": "stream",
     "text": [
      " 61%|█████████████████████████████████████████████████████████████████████████████████████████████▎                                                           | 61/100 [03:18<02:05,  3.23s/it]"
     ]
    },
    {
     "name": "stdout",
     "output_type": "stream",
     "text": [
      "[6149]\n"
     ]
    },
    {
     "name": "stderr",
     "output_type": "stream",
     "text": [
      " 62%|██████████████████████████████████████████████████████████████████████████████████████████████▊                                                          | 62/100 [03:22<02:02,  3.23s/it]"
     ]
    },
    {
     "name": "stdout",
     "output_type": "stream",
     "text": [
      "[6558]\n"
     ]
    },
    {
     "name": "stderr",
     "output_type": "stream",
     "text": [
      " 63%|████████████████████████████████████████████████████████████████████████████████████████████████▍                                                        | 63/100 [03:25<01:59,  3.22s/it]"
     ]
    },
    {
     "name": "stdout",
     "output_type": "stream",
     "text": [
      "[6729]\n"
     ]
    },
    {
     "name": "stderr",
     "output_type": "stream",
     "text": [
      " 64%|█████████████████████████████████████████████████████████████████████████████████████████████████▉                                                       | 64/100 [03:28<01:55,  3.22s/it]"
     ]
    },
    {
     "name": "stdout",
     "output_type": "stream",
     "text": [
      "[6815]\n"
     ]
    },
    {
     "name": "stderr",
     "output_type": "stream",
     "text": [
      " 65%|███████████████████████████████████████████████████████████████████████████████████████████████████▍                                                     | 65/100 [03:31<01:52,  3.22s/it]"
     ]
    },
    {
     "name": "stdout",
     "output_type": "stream",
     "text": [
      "[6820]\n"
     ]
    },
    {
     "name": "stderr",
     "output_type": "stream",
     "text": [
      " 66%|████████████████████████████████████████████████████████████████████████████████████████████████████▉                                                    | 66/100 [03:34<01:49,  3.22s/it]"
     ]
    },
    {
     "name": "stdout",
     "output_type": "stream",
     "text": [
      "[6817]\n"
     ]
    },
    {
     "name": "stderr",
     "output_type": "stream",
     "text": [
      " 67%|██████████████████████████████████████████████████████████████████████████████████████████████████████▌                                                  | 67/100 [03:38<01:46,  3.22s/it]"
     ]
    },
    {
     "name": "stdout",
     "output_type": "stream",
     "text": [
      "[6909]\n"
     ]
    },
    {
     "name": "stderr",
     "output_type": "stream",
     "text": [
      " 68%|████████████████████████████████████████████████████████████████████████████████████████████████████████                                                 | 68/100 [03:41<01:43,  3.22s/it]"
     ]
    },
    {
     "name": "stdout",
     "output_type": "stream",
     "text": [
      "[6908]\n"
     ]
    },
    {
     "name": "stderr",
     "output_type": "stream",
     "text": [
      " 69%|█████████████████████████████████████████████████████████████████████████████████████████████████████████▌                                               | 69/100 [03:44<01:39,  3.22s/it]"
     ]
    },
    {
     "name": "stdout",
     "output_type": "stream",
     "text": [
      "[7311]\n"
     ]
    },
    {
     "name": "stderr",
     "output_type": "stream",
     "text": [
      " 70%|███████████████████████████████████████████████████████████████████████████████████████████████████████████                                              | 70/100 [03:47<01:36,  3.22s/it]"
     ]
    },
    {
     "name": "stdout",
     "output_type": "stream",
     "text": [
      "[7304]\n"
     ]
    },
    {
     "name": "stderr",
     "output_type": "stream",
     "text": [
      " 71%|████████████████████████████████████████████████████████████████████████████████████████████████████████████▋                                            | 71/100 [03:51<01:33,  3.22s/it]"
     ]
    },
    {
     "name": "stdout",
     "output_type": "stream",
     "text": [
      "[7308]\n"
     ]
    },
    {
     "name": "stderr",
     "output_type": "stream",
     "text": [
      " 72%|██████████████████████████████████████████████████████████████████████████████████████████████████████████████▏                                          | 72/100 [03:54<01:30,  3.22s/it]"
     ]
    },
    {
     "name": "stdout",
     "output_type": "stream",
     "text": [
      "[7307]\n"
     ]
    },
    {
     "name": "stderr",
     "output_type": "stream",
     "text": [
      " 73%|███████████████████████████████████████████████████████████████████████████████████████████████████████████████▋                                         | 73/100 [03:57<01:27,  3.22s/it]"
     ]
    },
    {
     "name": "stdout",
     "output_type": "stream",
     "text": [
      "[7303]\n"
     ]
    },
    {
     "name": "stderr",
     "output_type": "stream",
     "text": [
      " 74%|█████████████████████████████████████████████████████████████████████████████████████████████████████████████████▏                                       | 74/100 [04:00<01:23,  3.23s/it]"
     ]
    },
    {
     "name": "stdout",
     "output_type": "stream",
     "text": [
      "[7305]\n"
     ]
    },
    {
     "name": "stderr",
     "output_type": "stream",
     "text": [
      " 75%|██████████████████████████████████████████████████████████████████████████████████████████████████████████████████▊                                      | 75/100 [04:03<01:20,  3.24s/it]"
     ]
    },
    {
     "name": "stdout",
     "output_type": "stream",
     "text": [
      "[7310]\n"
     ]
    },
    {
     "name": "stderr",
     "output_type": "stream",
     "text": [
      " 76%|████████████████████████████████████████████████████████████████████████████████████████████████████████████████████▎                                    | 76/100 [04:07<01:17,  3.24s/it]"
     ]
    },
    {
     "name": "stdout",
     "output_type": "stream",
     "text": [
      "[7309]\n"
     ]
    },
    {
     "name": "stderr",
     "output_type": "stream",
     "text": [
      " 77%|█████████████████████████████████████████████████████████████████████████████████████████████████████████████████████▊                                   | 77/100 [04:10<01:14,  3.24s/it]"
     ]
    },
    {
     "name": "stdout",
     "output_type": "stream",
     "text": [
      "[7302]\n"
     ]
    },
    {
     "name": "stderr",
     "output_type": "stream",
     "text": [
      " 78%|███████████████████████████████████████████████████████████████████████████████████████████████████████████████████████▎                                 | 78/100 [04:13<01:11,  3.23s/it]"
     ]
    },
    {
     "name": "stdout",
     "output_type": "stream",
     "text": [
      "[7362]\n"
     ]
    },
    {
     "name": "stderr",
     "output_type": "stream",
     "text": [
      " 79%|████████████████████████████████████████████████████████████████████████████████████████████████████████████████████████▊                                | 79/100 [04:16<01:07,  3.23s/it]"
     ]
    },
    {
     "name": "stdout",
     "output_type": "stream",
     "text": [
      "[7363]\n"
     ]
    },
    {
     "name": "stderr",
     "output_type": "stream",
     "text": [
      " 80%|██████████████████████████████████████████████████████████████████████████████████████████████████████████████████████████▍                              | 80/100 [04:20<01:04,  3.23s/it]"
     ]
    },
    {
     "name": "stdout",
     "output_type": "stream",
     "text": [
      "[7359]\n"
     ]
    },
    {
     "name": "stderr",
     "output_type": "stream",
     "text": [
      " 81%|███████████████████████████████████████████████████████████████████████████████████████████████████████████████████████████▉                             | 81/100 [04:23<01:01,  3.23s/it]"
     ]
    },
    {
     "name": "stdout",
     "output_type": "stream",
     "text": [
      "[7393]\n"
     ]
    },
    {
     "name": "stderr",
     "output_type": "stream",
     "text": [
      " 82%|█████████████████████████████████████████████████████████████████████████████████████████████████████████████████████████████▍                           | 82/100 [04:26<00:58,  3.22s/it]"
     ]
    },
    {
     "name": "stdout",
     "output_type": "stream",
     "text": [
      "[8415]\n"
     ]
    },
    {
     "name": "stderr",
     "output_type": "stream",
     "text": [
      " 83%|██████████████████████████████████████████████████████████████████████████████████████████████████████████████████████████████▉                          | 83/100 [04:29<00:54,  3.22s/it]"
     ]
    },
    {
     "name": "stdout",
     "output_type": "stream",
     "text": [
      "[9980]\n"
     ]
    },
    {
     "name": "stderr",
     "output_type": "stream",
     "text": [
      " 84%|████████████████████████████████████████████████████████████████████████████████████████████████████████████████████████████████▌                        | 84/100 [04:33<00:51,  3.23s/it]"
     ]
    },
    {
     "name": "stdout",
     "output_type": "stream",
     "text": [
      "[10399]\n"
     ]
    },
    {
     "name": "stderr",
     "output_type": "stream",
     "text": [
      " 85%|██████████████████████████████████████████████████████████████████████████████████████████████████████████████████████████████████                       | 85/100 [04:36<00:48,  3.23s/it]"
     ]
    },
    {
     "name": "stdout",
     "output_type": "stream",
     "text": [
      "[10400]\n"
     ]
    },
    {
     "name": "stderr",
     "output_type": "stream",
     "text": [
      " 86%|███████████████████████████████████████████████████████████████████████████████████████████████████████████████████████████████████▌                     | 86/100 [04:39<00:45,  3.22s/it]"
     ]
    },
    {
     "name": "stdout",
     "output_type": "stream",
     "text": [
      "[10401]\n"
     ]
    },
    {
     "name": "stderr",
     "output_type": "stream",
     "text": [
      " 87%|█████████████████████████████████████████████████████████████████████████████████████████████████████████████████████████████████████                    | 87/100 [04:42<00:41,  3.22s/it]"
     ]
    },
    {
     "name": "stdout",
     "output_type": "stream",
     "text": [
      "[10402]\n"
     ]
    },
    {
     "name": "stderr",
     "output_type": "stream",
     "text": [
      " 88%|██████████████████████████████████████████████████████████████████████████████████████████████████████████████████████████████████████▋                  | 88/100 [04:45<00:38,  3.22s/it]"
     ]
    },
    {
     "name": "stdout",
     "output_type": "stream",
     "text": [
      "[10403]\n"
     ]
    },
    {
     "name": "stderr",
     "output_type": "stream",
     "text": [
      " 89%|████████████████████████████████████████████████████████████████████████████████████████████████████████████████████████████████████████▏                | 89/100 [04:49<00:35,  3.22s/it]"
     ]
    },
    {
     "name": "stdout",
     "output_type": "stream",
     "text": [
      "[11043]\n"
     ]
    },
    {
     "name": "stderr",
     "output_type": "stream",
     "text": [
      " 90%|█████████████████████████████████████████████████████████████████████████████████████████████████████████████████████████████████████████▋               | 90/100 [04:52<00:32,  3.22s/it]"
     ]
    },
    {
     "name": "stdout",
     "output_type": "stream",
     "text": [
      "[11237]\n"
     ]
    },
    {
     "name": "stderr",
     "output_type": "stream",
     "text": [
      " 91%|███████████████████████████████████████████████████████████████████████████████████████████████████████████████████████████████████████████▏             | 91/100 [04:55<00:29,  3.22s/it]"
     ]
    },
    {
     "name": "stdout",
     "output_type": "stream",
     "text": [
      "[11461]\n"
     ]
    },
    {
     "name": "stderr",
     "output_type": "stream",
     "text": [
      " 92%|████████████████████████████████████████████████████████████████████████████████████████████████████████████████████████████████████████████▊            | 92/100 [04:58<00:25,  3.22s/it]"
     ]
    },
    {
     "name": "stdout",
     "output_type": "stream",
     "text": [
      "[12751]\n"
     ]
    },
    {
     "name": "stderr",
     "output_type": "stream",
     "text": [
      " 93%|██████████████████████████████████████████████████████████████████████████████████████████████████████████████████████████████████████████████▎          | 93/100 [05:02<00:22,  3.22s/it]"
     ]
    },
    {
     "name": "stdout",
     "output_type": "stream",
     "text": [
      "[12755]\n"
     ]
    },
    {
     "name": "stderr",
     "output_type": "stream",
     "text": [
      " 94%|███████████████████████████████████████████████████████████████████████████████████████████████████████████████████████████████████████████████▊         | 94/100 [05:05<00:19,  3.22s/it]"
     ]
    },
    {
     "name": "stdout",
     "output_type": "stream",
     "text": [
      "[12752]\n"
     ]
    },
    {
     "name": "stderr",
     "output_type": "stream",
     "text": [
      " 95%|█████████████████████████████████████████████████████████████████████████████████████████████████████████████████████████████████████████████████▎       | 95/100 [05:08<00:16,  3.22s/it]"
     ]
    },
    {
     "name": "stdout",
     "output_type": "stream",
     "text": [
      "[13159]\n"
     ]
    },
    {
     "name": "stderr",
     "output_type": "stream",
     "text": [
      " 96%|██████████████████████████████████████████████████████████████████████████████████████████████████████████████████████████████████████████████████▉      | 96/100 [05:11<00:12,  3.22s/it]"
     ]
    },
    {
     "name": "stdout",
     "output_type": "stream",
     "text": [
      "[13444]\n"
     ]
    },
    {
     "name": "stderr",
     "output_type": "stream",
     "text": [
      " 97%|████████████████████████████████████████████████████████████████████████████████████████████████████████████████████████████████████████████████████▍    | 97/100 [05:14<00:09,  3.22s/it]"
     ]
    },
    {
     "name": "stdout",
     "output_type": "stream",
     "text": [
      "[13443]\n"
     ]
    },
    {
     "name": "stderr",
     "output_type": "stream",
     "text": [
      " 98%|█████████████████████████████████████████████████████████████████████████████████████████████████████████████████████████████████████████████████████▉   | 98/100 [05:18<00:06,  3.22s/it]"
     ]
    },
    {
     "name": "stdout",
     "output_type": "stream",
     "text": [
      "[13442]\n"
     ]
    },
    {
     "name": "stderr",
     "output_type": "stream",
     "text": [
      " 99%|███████████████████████████████████████████████████████████████████████████████████████████████████████████████████████████████████████████████████████▍ | 99/100 [05:21<00:03,  3.22s/it]"
     ]
    },
    {
     "name": "stdout",
     "output_type": "stream",
     "text": [
      "[14546]\n"
     ]
    },
    {
     "name": "stderr",
     "output_type": "stream",
     "text": [
      "100%|████████████████████████████████████████████████████████████████████████████████████████████████████████████████████████████████████████████████████████| 100/100 [05:24<00:00,  3.25s/it]"
     ]
    },
    {
     "name": "stdout",
     "output_type": "stream",
     "text": [
      "[15128]\n"
     ]
    },
    {
     "name": "stderr",
     "output_type": "stream",
     "text": [
      "\n"
     ]
    }
   ],
   "source": [
    "#Get the index of all_visit data that matches sb2_appid_lst\n",
    "#filtered_allVisit = filter_allVisit(visit_id_list, visit_raw, sb2_info_list)"
   ]
  },
  {
   "cell_type": "code",
   "execution_count": 7,
   "id": "8c1ce1c5-575b-4a58-9dc9-714b2fea2076",
   "metadata": {},
   "outputs": [],
   "source": [
    "f = open(\"data_visits.txt\", \"r\")\n",
    "temp = f.readlines()\n",
    "filtered_allVisit = []\n",
    "for line in temp:\n",
    "    el = line\n",
    "    el = el.replace(\"[\",\"\")\n",
    "    el = el.replace(\"]\",\"\")\n",
    "    el = el.replace(\"'\",\"\")\n",
    "    el = el.replace(\" \",\"\")\n",
    "    final = el.split(\",\")\n",
    "    final[1] = int(final[1])\n",
    "    filtered_allVisit.append(final)"
   ]
  },
  {
   "cell_type": "code",
   "execution_count": 8,
   "id": "fe34ce4f-8371-456c-b7cc-b1f6451a94b6",
   "metadata": {},
   "outputs": [],
   "source": [
    "filenames = [e[0] for e in  filtered_allVisit]"
   ]
  },
  {
   "cell_type": "code",
   "execution_count": 9,
   "id": "fe9e6c5c-f3d3-4096-86ee-9d993239eefe",
   "metadata": {
    "collapsed": true,
    "jupyter": {
     "outputs_hidden": true
    },
    "tags": []
   },
   "outputs": [
    {
     "data": {
      "text/plain": [
       "[['asVisit-dr17-12776-59154-069.fits', 656],\n",
       " ['asVisit-dr17-12776-59155-069.fits', 661],\n",
       " ['asVisit-dr17-12776-59156-069.fits', 655],\n",
       " ['asVisit-dr17-12776-59157-069.fits', 657],\n",
       " ['asVisit-dr17-12776-59164-070.fits', 654],\n",
       " ['asVisit-dr17-12776-59165-070.fits', 662],\n",
       " ['asVisit-dr17-12776-59166-070.fits', 663],\n",
       " ['apVisit-dr17-7063-56666-028.fits', 771],\n",
       " ['apVisit-dr17-9243-57677-015.fits', 817],\n",
       " ['apVisit-dr17-9243-57654-016.fits', 816],\n",
       " ['apVisit-dr17-12184-58776-247.fits', 1974],\n",
       " ['apVisit-dr17-12184-58861-253.fits', 1975],\n",
       " ['apVisit-dr17-9069-57822-224.fits', 2649],\n",
       " ['apVisit-dr17-9069-58150-224.fits', 2639],\n",
       " ['apVisit-dr17-9264-59059-221.fits', 2644],\n",
       " ['apVisit-dr17-9264-59159-227.fits', 2647],\n",
       " ['apVisit-dr17-7950-58731-227.fits', 2629],\n",
       " ['apVisit-dr17-7950-59074-224.fits', 2625],\n",
       " ['apVisit-dr17-7951-59155-278.fits', 2635],\n",
       " ['apVisit-dr17-9264-57672-224.fits', 2646],\n",
       " ['apVisit-dr17-9264-57709-227.fits', 2651],\n",
       " ['apVisit-dr17-9519-57760-224.fits', 2650],\n",
       " ['apVisit-dr17-9264-58009-218.fits', 2643],\n",
       " ['apVisit-dr17-9519-58028-221.fits', 2642],\n",
       " ['apVisit-dr17-9264-58054-224.fits', 2641],\n",
       " ['apVisit-dr17-9519-58083-224.fits', 2640],\n",
       " ['apVisit-dr17-9519-58121-224.fits', 2637],\n",
       " ['apVisit-dr17-5095-55821-233.fits', 2634],\n",
       " ['apVisit-dr17-5095-55824-230.fits', 2633],\n",
       " ['apVisit-dr17-5095-55840-230.fits', 2623],\n",
       " ['apVisit-dr17-9084-57556-224.fits', 2622],\n",
       " ['apVisit-dr17-9082-57789-218.fits', 2624],\n",
       " ['apVisit-dr17-9083-57887-275.fits', 2619],\n",
       " ['apVisit-dr17-7950-58060-224.fits', 2630],\n",
       " ['apVisit-dr17-7950-58085-224.fits', 2631],\n",
       " ['apVisit-dr17-9135-58295-233.fits', 2632],\n",
       " ['apVisit-dr17-7950-58384-224.fits', 2627],\n",
       " ['apVisit-dr17-6560-56584-077.fits', 2676],\n",
       " ['apVisit-dr17-12700-59077-234.fits', 2678],\n",
       " ['apVisit-dr17-7063-56666-117.fits', 3001],\n",
       " ['apVisit-dr17-9243-57654-010.fits', 3072],\n",
       " ['apVisit-dr17-9243-58033-279.fits', 3952],\n",
       " ['apVisit-dr17-9243-57654-285.fits', 3951],\n",
       " ['asVisit-dr17-12776-59147-039.fits', 4669],\n",
       " ['apVisit-dr17-9243-57677-119.fits', 4950],\n",
       " ['apVisit-dr17-9243-58033-113.fits', 4952],\n",
       " ['apVisit-dr17-9243-57654-011.fits', 4951],\n",
       " ['apVisit-dr17-7062-56635-105.fits', 5164],\n",
       " ['apVisit-dr17-7063-56644-106.fits', 5167],\n",
       " ['apVisit-dr17-7063-56666-106.fits', 5170],\n",
       " ['apVisit-dr17-7494-56848-058.fits', 5171],\n",
       " ['apVisit-dr17-9243-57654-112.fits', 5172],\n",
       " ['apVisit-dr17-9243-57677-010.fits', 5166],\n",
       " ['apVisit-dr17-9243-58033-004.fits', 5168],\n",
       " ['apVisit-dr17-7062-56635-278.fits', 5433],\n",
       " ['apVisit-dr17-7063-56644-218.fits', 5430],\n",
       " ['apVisit-dr17-7063-56666-182.fits', 5434],\n",
       " ['apVisit-dr17-7494-56848-236.fits', 5435],\n",
       " ['apVisit-dr17-9243-57654-118.fits', 6079],\n",
       " ['apVisit-dr17-9243-57677-093.fits', 6080],\n",
       " ['apVisit-dr17-9243-58033-249.fits', 6149],\n",
       " ['asVisit-dr17-11914-58804-254.fits', 6558],\n",
       " ['apVisit-dr17-9243-57677-139.fits', 6729],\n",
       " ['apVisit-dr17-5266-55869-023.fits', 6815],\n",
       " ['apVisit-dr17-5267-55871-026.fits', 6820],\n",
       " ['apVisit-dr17-5267-56204-008.fits', 6817],\n",
       " ['apVisit-dr17-12700-59074-039.fits', 6909],\n",
       " ['apVisit-dr17-12700-59077-039.fits', 6908],\n",
       " ['apVisit-dr17-9243-57677-256.fits', 7311],\n",
       " ['apVisit-dr17-9243-58033-202.fits', 7304],\n",
       " ['apVisit-dr17-7062-56635-256.fits', 7308],\n",
       " ['apVisit-dr17-7063-56644-244.fits', 7307],\n",
       " ['apVisit-dr17-7062-56646-298.fits', 7303],\n",
       " ['apVisit-dr17-7063-56666-244.fits', 7305],\n",
       " ['apVisit-dr17-7494-56848-244.fits', 7310],\n",
       " ['apVisit-dr17-9243-57654-255.fits', 7309],\n",
       " ['apVisit-dr17-9243-57674-256.fits', 7302],\n",
       " ['apVisit-dr17-7062-56646-295.fits', 7362],\n",
       " ['apVisit-dr17-7062-56650-295.fits', 7363],\n",
       " ['apVisit-dr17-7494-56848-246.fits', 7359],\n",
       " ['apVisit-dr17-7062-56650-144.fits', 7393],\n",
       " ['asVisit-dr17-10081-58025-255.fits', 8415],\n",
       " ['asVisit-dr17-11914-58804-246.fits', 9980],\n",
       " ['apVisit-dr17-7062-56635-033.fits', 10399],\n",
       " ['apVisit-dr17-7063-56644-081.fits', 10400],\n",
       " ['apVisit-dr17-7062-56646-033.fits', 10401],\n",
       " ['apVisit-dr17-7062-56650-033.fits', 10402],\n",
       " ['apVisit-dr17-7063-56666-033.fits', 10403],\n",
       " ['apVisit-dr17-7063-56666-034.fits', 11043],\n",
       " ['asVisit-dr17-11914-58804-203.fits', 11237],\n",
       " ['asVisit-dr17-11933-58824-152.fits', 11461],\n",
       " ['asVisit-dr17-11932-58794-016.fits', 12751],\n",
       " ['asVisit-dr17-11933-58796-015.fits', 12755],\n",
       " ['asVisit-dr17-11933-58803-022.fits', 12752],\n",
       " ['asVisit-dr17-11914-58804-212.fits', 13159],\n",
       " ['asVisit-dr17-11933-58796-045.fits', 13444],\n",
       " ['asVisit-dr17-11933-58824-046.fits', 13443],\n",
       " ['asVisit-dr17-11933-58803-045.fits', 13442],\n",
       " ['apVisit-dr17-8088-58753-028.fits', 14546],\n",
       " ['apVisit-dr17-7535-57347-211.fits', 15128],\n",
       " ['asVisit-dr17-11933-58824-130.fits', 15191],\n",
       " ['asVisit-dr17-11932-58794-149.fits', 15734],\n",
       " ['asVisit-dr17-11933-58796-146.fits', 15732],\n",
       " ['asVisit-dr17-11932-58802-146.fits', 15736],\n",
       " ['asVisit-dr17-11933-58803-149.fits', 15733],\n",
       " ['asVisit-dr17-11933-58824-149.fits', 15735],\n",
       " ['apVisit-dr17-7950-59074-275.fits', 15899],\n",
       " ['apVisit-dr17-9084-57556-272.fits', 15901],\n",
       " ['apVisit-dr17-9082-57789-281.fits', 15897],\n",
       " ['apVisit-dr17-7950-58060-278.fits', 15908],\n",
       " ['apVisit-dr17-7950-58085-278.fits', 15907],\n",
       " ['apVisit-dr17-9135-58295-272.fits', 15904],\n",
       " ['apVisit-dr17-7950-58384-275.fits', 15906],\n",
       " ['apVisit-dr17-7951-58504-278.fits', 15903],\n",
       " ['apVisit-dr17-7950-58731-278.fits', 15905],\n",
       " ['asVisit-dr17-10123-58092-010.fits', 16085],\n",
       " ['asVisit-dr17-10123-58322-220.fits', 16091],\n",
       " ['asVisit-dr17-10123-58350-220.fits', 16093],\n",
       " ['asVisit-dr17-10123-58355-219.fits', 16083],\n",
       " ['asVisit-dr17-10123-58414-220.fits', 16087],\n",
       " ['asVisit-dr17-11157-58419-219.fits', 16084],\n",
       " ['asVisit-dr17-10123-58446-225.fits', 16082],\n",
       " ['asVisit-dr17-11157-58655-219.fits', 16088],\n",
       " ['apVisit-dr17-7951-59155-021.fits', 17563],\n",
       " ['apVisit-dr17-7950-57295-016.fits', 17564],\n",
       " ['apVisit-dr17-9084-57556-214.fits', 17559],\n",
       " ['apVisit-dr17-9082-57789-015.fits', 17569],\n",
       " ['apVisit-dr17-7950-58060-015.fits', 17565],\n",
       " ['apVisit-dr17-7950-58085-015.fits', 17570],\n",
       " ['apVisit-dr17-7950-58384-027.fits', 17561],\n",
       " ['apVisit-dr17-7950-58731-016.fits', 17566],\n",
       " ['apVisit-dr17-9519-57736-224.fits', 18955],\n",
       " ['apVisit-dr17-9519-58028-227.fits', 18948],\n",
       " ['apVisit-dr17-7950-59074-278.fits', 18947],\n",
       " ['apVisit-dr17-9264-58054-281.fits', 18954],\n",
       " ['apVisit-dr17-9069-58150-278.fits', 18958],\n",
       " ['apVisit-dr17-5095-55840-186.fits', 18932],\n",
       " ['apVisit-dr17-7950-57295-284.fits', 18933],\n",
       " ['apVisit-dr17-9084-57556-278.fits', 18941],\n",
       " ['apVisit-dr17-7950-58060-275.fits', 18946],\n",
       " ['apVisit-dr17-9135-58295-278.fits', 18937],\n",
       " ['apVisit-dr17-7950-58731-284.fits', 18935],\n",
       " ['apVisit-dr17-7535-57294-047.fits', 19066],\n",
       " ['apVisit-dr17-7535-57321-148.fits', 19091],\n",
       " ['apVisit-dr17-7535-57323-148.fits', 19090],\n",
       " ['apVisit-dr17-7535-57347-100.fits', 19089],\n",
       " ['apVisit-dr17-7535-57294-094.fits', 19088],\n",
       " ['apVisit-dr17-7535-57321-059.fits', 19171],\n",
       " ['apVisit-dr17-7535-57323-059.fits', 19168],\n",
       " ['apVisit-dr17-7535-57347-092.fits', 19169],\n",
       " ['apVisit-dr17-8088-58752-255.fits', 19634],\n",
       " ['apVisit-dr17-8088-58753-255.fits', 19633],\n",
       " ['apVisit-dr17-12769-59083-020.fits', 19650],\n",
       " ['apVisit-dr17-12769-59084-020.fits', 19651],\n",
       " ['apVisit-dr17-12769-59085-020.fits', 19652],\n",
       " ['apVisit-dr17-12769-59083-005.fits', 19706],\n",
       " ['apVisit-dr17-12769-59084-005.fits', 19705],\n",
       " ['apVisit-dr17-7535-57323-182.fits', 20050],\n",
       " ['apVisit-dr17-7535-57294-201.fits', 20441],\n",
       " ['apVisit-dr17-7535-57294-034.fits', 20473],\n",
       " ['asVisit-dr17-10081-58025-182.fits', 20708],\n",
       " ['asVisit-dr17-10123-58414-195.fits', 20706],\n",
       " ['apVisit-dr17-8088-58752-155.fits', 21480],\n",
       " ['apVisit-dr17-8088-58753-155.fits', 21479],\n",
       " ['apVisit-dr17-8088-58752-268.fits', 21617],\n",
       " ['apVisit-dr17-8088-58753-268.fits', 21618],\n",
       " ['asVisit-dr17-10123-58092-255.fits', 22210],\n",
       " ['asVisit-dr17-10123-58358-064.fits', 22202],\n",
       " ['asVisit-dr17-11157-58384-063.fits', 22209],\n",
       " ['asVisit-dr17-10123-58414-063.fits', 22207],\n",
       " ['asVisit-dr17-10123-58419-063.fits', 22203],\n",
       " ['asVisit-dr17-10123-58419-063.fits', 22203],\n",
       " ['asVisit-dr17-10123-58446-063.fits', 22208],\n",
       " ['asVisit-dr17-10081-58053-152.fits', 22378],\n",
       " ['apVisit-dr17-7535-57321-035.fits', 22469],\n",
       " ['apVisit-dr17-7535-57347-128.fits', 22470],\n",
       " ['apVisit-dr17-7535-57294-131.fits', 22472],\n",
       " ['apVisit-dr17-7535-57323-035.fits', 22471],\n",
       " ['apVisit-dr17-7921-58084-282.fits', 25232],\n",
       " ['apVisit-dr17-12769-59084-193.fits', 25297],\n",
       " ['apVisit-dr17-12769-59085-193.fits', 25296],\n",
       " ['apVisit-dr17-7535-57294-070.fits', 25912],\n",
       " ['apVisit-dr17-7535-57321-069.fits', 25913],\n",
       " ['apVisit-dr17-7535-57322-069.fits', 25911],\n",
       " ['apVisit-dr17-7535-57323-069.fits', 25910],\n",
       " ['apVisit-dr17-7535-57347-070.fits', 25914],\n",
       " ['asVisit-dr17-10123-58358-075.fits', 26449],\n",
       " ['asVisit-dr17-10123-58089-261.fits', 26450],\n",
       " ['asVisit-dr17-10123-58092-250.fits', 26451],\n",
       " ['asVisit-dr17-10123-58322-076.fits', 26455],\n",
       " ['asVisit-dr17-10123-58350-070.fits', 26456],\n",
       " ['asVisit-dr17-10123-58355-070.fits', 26453],\n",
       " ['asVisit-dr17-11157-58384-070.fits', 26459],\n",
       " ['asVisit-dr17-10123-58414-076.fits', 26448],\n",
       " ['asVisit-dr17-11157-58419-069.fits', 26454],\n",
       " ['asVisit-dr17-11157-58419-069.fits', 26454],\n",
       " ['asVisit-dr17-10123-58446-070.fits', 26460],\n",
       " ['asVisit-dr17-10123-58677-069.fits', 26452],\n",
       " ['apVisit-dr17-12769-59084-144.fits', 27249],\n",
       " ['apVisit-dr17-12769-59085-144.fits', 27250],\n",
       " ['apVisit-dr17-8656-58017-023.fits', 27377],\n",
       " ['apVisit-dr17-8656-58018-023.fits', 27375],\n",
       " ['apVisit-dr17-8656-58021-023.fits', 27376],\n",
       " ['apVisit-dr17-8656-58022-023.fits', 27374],\n",
       " ['apVisit-dr17-12769-59084-040.fits', 27372],\n",
       " ['apVisit-dr17-12769-59085-040.fits', 27371],\n",
       " ['apVisit-dr17-12769-59083-201.fits', 28029],\n",
       " ['apVisit-dr17-12769-59084-201.fits', 28030],\n",
       " ['asVisit-dr17-10081-58053-088.fits', 29175],\n",
       " ['asVisit-dr17-10081-58061-250.fits', 29172],\n",
       " ['asVisit-dr17-10123-58092-208.fits', 29185],\n",
       " ['asVisit-dr17-10123-58322-087.fits', 29182],\n",
       " ['asVisit-dr17-10123-58350-087.fits', 29188],\n",
       " ['asVisit-dr17-10123-58355-033.fits', 29189],\n",
       " ['asVisit-dr17-10123-58358-033.fits', 29183],\n",
       " ['asVisit-dr17-11157-58384-040.fits', 29178],\n",
       " ['asVisit-dr17-10123-58414-141.fits', 29186],\n",
       " ['asVisit-dr17-11157-58419-082.fits', 29173],\n",
       " ['asVisit-dr17-11157-58419-082.fits', 29173],\n",
       " ['asVisit-dr17-10123-58446-039.fits', 29177],\n",
       " ['apVisit-dr17-12769-59083-151.fits', 29440],\n",
       " ['apVisit-dr17-12769-59084-151.fits', 29439],\n",
       " ['apVisit-dr17-12769-59085-151.fits', 29441],\n",
       " ['apVisit-dr17-7950-58384-118.fits', 29953],\n",
       " ['apVisit-dr17-12769-59083-207.fits', 30174],\n",
       " ['apVisit-dr17-12769-59084-207.fits', 30173],\n",
       " ['apVisit-dr17-8656-58017-115.fits', 30642],\n",
       " ['apVisit-dr17-8656-58018-115.fits', 30644],\n",
       " ['apVisit-dr17-8656-58021-115.fits', 30641],\n",
       " ['apVisit-dr17-8656-58022-115.fits', 30643],\n",
       " ['apVisit-dr17-7921-58038-188.fits', 30851],\n",
       " ['apVisit-dr17-7921-58060-188.fits', 30849],\n",
       " ['apVisit-dr17-8656-58017-226.fits', 31087],\n",
       " ['apVisit-dr17-8656-58018-226.fits', 31086],\n",
       " ['apVisit-dr17-8656-58021-226.fits', 31084],\n",
       " ['apVisit-dr17-8656-58022-226.fits', 31085],\n",
       " ['apVisit-dr17-7921-58060-095.fits', 32965],\n",
       " ['apVisit-dr17-7921-58064-095.fits', 32964],\n",
       " ['apVisit-dr17-7921-58084-095.fits', 32967],\n",
       " ['apVisit-dr17-6232-56224-089.fits', 35445],\n",
       " ['asVisit-dr17-12806-59206-298.fits', 38455],\n",
       " ['apVisit-dr17-6233-56262-121.fits', 40737],\n",
       " ['apVisit-dr17-6234-56225-275.fits', 41482],\n",
       " ['apVisit-dr17-6234-56206-275.fits', 41480],\n",
       " ['apVisit-dr17-6235-56226-287.fits', 41481],\n",
       " ['apVisit-dr17-6235-56230-275.fits', 41485],\n",
       " ['apVisit-dr17-6234-56233-287.fits', 41484],\n",
       " ['apVisit-dr17-8089-58805-091.fits', 42732],\n",
       " ['apVisit-dr17-8089-58791-102.fits', 42731],\n",
       " ['apVisit-dr17-8089-58791-207.fits', 43777],\n",
       " ['apVisit-dr17-6234-56206-293.fits', 48187],\n",
       " ['apVisit-dr17-6234-56233-242.fits', 48188],\n",
       " ['apVisit-dr17-6234-56225-293.fits', 48189],\n",
       " ['asVisit-dr17-12805-59204-069.fits', 50255],\n",
       " ['asVisit-dr17-12805-59207-069.fits', 50254],\n",
       " ['asVisit-dr17-12805-59204-089.fits', 51434],\n",
       " ['asVisit-dr17-12806-59206-089.fits', 51433],\n",
       " ['asVisit-dr17-12805-59207-122.fits', 51435],\n",
       " ['apVisit-dr17-8702-57348-257.fits', 52407],\n",
       " ['apVisit-dr17-8702-57374-254.fits', 52405],\n",
       " ['asVisit-dr17-12806-59206-051.fits', 52590],\n",
       " ['asVisit-dr17-12805-59207-051.fits', 52589],\n",
       " ['asVisit-dr17-12805-59204-077.fits', 53177],\n",
       " ['asVisit-dr17-12806-59206-073.fits', 53179],\n",
       " ['asVisit-dr17-12805-59207-077.fits', 53178],\n",
       " ['apVisit-dr17-11207-58389-228.fits', 53619],\n",
       " ['apVisit-dr17-8656-58017-178.fits', 54298],\n",
       " ['apVisit-dr17-8656-58018-178.fits', 54300],\n",
       " ['apVisit-dr17-8656-58021-178.fits', 54299],\n",
       " ['apVisit-dr17-8656-58022-178.fits', 54297],\n",
       " ['asVisit-dr17-12805-59204-126.fits', 54985],\n",
       " ['asVisit-dr17-12806-59206-121.fits', 54986],\n",
       " ['asVisit-dr17-12805-59207-132.fits', 54987],\n",
       " ['apVisit-dr17-8657-58013-014.fits', 56927],\n",
       " ['asVisit-dr17-11183-58413-249.fits', 58802],\n",
       " ['asVisit-dr17-10083-58028-284.fits', 58805],\n",
       " ['asVisit-dr17-10083-58054-248.fits', 58806],\n",
       " ['asVisit-dr17-10083-58057-260.fits', 58803],\n",
       " ['apVisit-dr17-7777-56991-188.fits', 59392],\n",
       " ['apVisit-dr17-7777-57000-188.fits', 59394],\n",
       " ['apVisit-dr17-7950-58085-183.fits', 59611],\n",
       " ['apVisit-dr17-8657-57665-005.fits', 60455],\n",
       " ['apVisit-dr17-8657-58014-008.fits', 60460],\n",
       " ['apVisit-dr17-8657-57667-005.fits', 60456],\n",
       " ['apVisit-dr17-8657-58011-008.fits', 60459],\n",
       " ['apVisit-dr17-8657-58013-008.fits', 60458],\n",
       " ['apVisit-dr17-10347-58116-052.fits', 60629],\n",
       " ['apVisit-dr17-10347-58119-058.fits', 60625],\n",
       " ['apVisit-dr17-8569-58848-213.fits', 60696],\n",
       " ['apVisit-dr17-8569-58849-213.fits', 60695],\n",
       " ['apVisit-dr17-8569-58841-213.fits', 60693],\n",
       " ['apVisit-dr17-10347-58119-238.fits', 62195],\n",
       " ['apVisit-dr17-6234-56225-157.fits', 62463],\n",
       " ['apVisit-dr17-5264-55896-168.fits', 62464],\n",
       " ['apVisit-dr17-5264-56168-175.fits', 62465],\n",
       " ['apVisit-dr17-5265-56205-253.fits', 62461],\n",
       " ['apVisit-dr17-6234-56206-157.fits', 62466],\n",
       " ['apVisit-dr17-5265-56224-162.fits', 62460],\n",
       " ['apVisit-dr17-6235-56230-157.fits', 62458],\n",
       " ['apVisit-dr17-8684-57676-282.fits', 63252],\n",
       " ['apVisit-dr17-8684-57711-288.fits', 63253],\n",
       " ['apVisit-dr17-8684-57708-288.fits', 63251],\n",
       " ['apVisit-dr17-8684-57711-233.fits', 63261],\n",
       " ['apVisit-dr17-7950-57295-197.fits', 63608],\n",
       " ['apVisit-dr17-9082-57789-188.fits', 63615],\n",
       " ['apVisit-dr17-7950-58085-287.fits', 63612],\n",
       " ['apVisit-dr17-7950-58384-197.fits', 63606],\n",
       " ['apVisit-dr17-8657-58014-181.fits', 65129],\n",
       " ['apVisit-dr17-8657-58011-181.fits', 65126],\n",
       " ['apVisit-dr17-8657-58013-181.fits', 65125],\n",
       " ['apVisit-dr17-10347-58116-185.fits', 65517],\n",
       " ['apVisit-dr17-11207-58386-193.fits', 65518],\n",
       " ['apVisit-dr17-11207-58389-294.fits', 65513],\n",
       " ['apVisit-dr17-7950-57295-111.fits', 66530],\n",
       " ['apVisit-dr17-7950-58731-117.fits', 66519],\n",
       " ['apVisit-dr17-8569-58844-026.fits', 66565],\n",
       " ['apVisit-dr17-8569-58848-026.fits', 66563],\n",
       " ['apVisit-dr17-8569-58849-026.fits', 66567],\n",
       " ['apVisit-dr17-6234-56206-263.fits', 66987],\n",
       " ['apVisit-dr17-6234-56233-179.fits', 66986],\n",
       " ['apVisit-dr17-6234-56225-176.fits', 66985],\n",
       " ['asVisit-dr17-10083-58025-255.fits', 67137],\n",
       " ['asVisit-dr17-10083-58028-286.fits', 67139],\n",
       " ['asVisit-dr17-10083-58054-249.fits', 67138],\n",
       " ['apVisit-dr17-12317-58880-017.fits', 67697],\n",
       " ['apVisit-dr17-7951-59155-270.fits', 68701],\n",
       " ['apVisit-dr17-7950-57295-300.fits', 68713],\n",
       " ['apVisit-dr17-9084-57556-295.fits', 68700],\n",
       " ['apVisit-dr17-7950-58060-252.fits', 68712],\n",
       " ['apVisit-dr17-7950-58085-252.fits', 68708],\n",
       " ['apVisit-dr17-7950-58384-295.fits', 68705],\n",
       " ['apVisit-dr17-7950-58731-295.fits', 68709],\n",
       " ['apVisit-dr17-8684-57676-196.fits', 68967],\n",
       " ['apVisit-dr17-8684-57711-183.fits', 68966],\n",
       " ['apVisit-dr17-8569-58844-183.fits', 69007],\n",
       " ['apVisit-dr17-8569-58848-183.fits', 69009],\n",
       " ['apVisit-dr17-8569-58849-183.fits', 69010],\n",
       " ['apVisit-dr17-12313-58821-190.fits', 69406],\n",
       " ['apVisit-dr17-12313-58829-195.fits', 69404],\n",
       " ['apVisit-dr17-12313-59046-190.fits', 69405],\n",
       " ['apVisit-dr17-9264-57645-009.fits', 69757],\n",
       " ['apVisit-dr17-7950-57295-047.fits', 69733],\n",
       " ['apVisit-dr17-9135-58295-059.fits', 69749],\n",
       " ['apVisit-dr17-7951-59155-113.fits', 69976],\n",
       " ['apVisit-dr17-9135-58295-101.fits', 69985],\n",
       " ['apVisit-dr17-7950-58384-095.fits', 69991],\n",
       " ['apVisit-dr17-8000-57271-065.fits', 71113],\n",
       " ['apVisit-dr17-8000-57295-071.fits', 71112],\n",
       " ['apVisit-dr17-8000-56968-065.fits', 71114],\n",
       " ['apVisit-dr17-8569-58844-195.fits', 71820],\n",
       " ['apVisit-dr17-8569-58849-195.fits', 71816],\n",
       " ['apVisit-dr17-8569-58840-195.fits', 71818],\n",
       " ['apVisit-dr17-8569-58848-195.fits', 71817],\n",
       " ['apVisit-dr17-10347-58116-265.fits', 71860],\n",
       " ['apVisit-dr17-12317-58831-293.fits', 72180],\n",
       " ['apVisit-dr17-8657-58014-160.fits', 72420],\n",
       " ['apVisit-dr17-8657-58013-160.fits', 72419],\n",
       " ['apVisit-dr17-8684-57676-037.fits', 72624],\n",
       " ['apVisit-dr17-8684-57708-043.fits', 72622],\n",
       " ['apVisit-dr17-10347-58116-086.fits', 73327],\n",
       " ['apVisit-dr17-10347-58385-083.fits', 73325],\n",
       " ['apVisit-dr17-6561-56587-093.fits', 73731],\n",
       " ['apVisit-dr17-6561-56607-094.fits', 73732],\n",
       " ['apVisit-dr17-6561-56616-105.fits', 73730],\n",
       " ['apVisit-dr17-9084-57556-148.fits', 73745],\n",
       " ['apVisit-dr17-9082-57789-106.fits', 73746],\n",
       " ['apVisit-dr17-9135-58295-148.fits', 73747],\n",
       " ['apVisit-dr17-7950-58384-099.fits', 73743],\n",
       " ['apVisit-dr17-7951-58504-094.fits', 73742],\n",
       " ['apVisit-dr17-7951-59155-106.fits', 73741],\n",
       " ['apVisit-dr17-8684-57676-161.fits', 73749],\n",
       " ['apVisit-dr17-8684-57711-206.fits', 73751],\n",
       " ['apVisit-dr17-8684-57708-206.fits', 73750],\n",
       " ['apVisit-dr17-10347-58119-152.fits', 75520],\n",
       " ['apVisit-dr17-11207-58417-180.fits', 75521],\n",
       " ['apVisit-dr17-8569-58844-209.fits', 76257],\n",
       " ['apVisit-dr17-8569-58848-209.fits', 76259],\n",
       " ['apVisit-dr17-8569-58849-209.fits', 76258],\n",
       " ['asVisit-dr17-10036-58032-160.fits', 76613],\n",
       " ['asVisit-dr17-10036-58057-159.fits', 76614],\n",
       " ['apVisit-dr17-11207-58386-089.fits', 78424],\n",
       " ['apVisit-dr17-11207-58389-125.fits', 78428],\n",
       " ['apVisit-dr17-8657-57665-266.fits', 78953],\n",
       " ['apVisit-dr17-8657-57667-266.fits', 78954],\n",
       " ['apVisit-dr17-8657-58014-257.fits', 78952],\n",
       " ['apVisit-dr17-8657-58013-257.fits', 78956],\n",
       " ['apVisit-dr17-8684-57708-123.fits', 79120],\n",
       " ['apVisit-dr17-10347-58116-081.fits', 81603],\n",
       " ['apVisit-dr17-10347-58119-123.fits', 81604],\n",
       " ['apVisit-dr17-7771-56945-273.fits', 82185],\n",
       " ['apVisit-dr17-7771-57022-279.fits', 82186],\n",
       " ['asVisit-dr17-10082-58027-262.fits', 84085],\n",
       " ['asVisit-dr17-10125-58094-063.fits', 84091],\n",
       " ['asVisit-dr17-10124-58349-063.fits', 84086],\n",
       " ['asVisit-dr17-10124-58352-063.fits', 84092],\n",
       " ['asVisit-dr17-10124-58355-063.fits', 84087],\n",
       " ['asVisit-dr17-10124-58382-069.fits', 84080],\n",
       " ['asVisit-dr17-10125-58444-063.fits', 84090],\n",
       " ['apVisit-dr17-9264-59059-097.fits', 85586],\n",
       " ['apVisit-dr17-9264-59159-055.fits', 85585],\n",
       " ['apVisit-dr17-5221-55815-118.fits', 85578],\n",
       " ['apVisit-dr17-5221-55822-093.fits', 85574],\n",
       " ['apVisit-dr17-5221-55841-094.fits', 85575],\n",
       " ['apVisit-dr17-5221-55866-094.fits', 85576],\n",
       " ['apVisit-dr17-5221-55876-093.fits', 85573],\n",
       " ['apVisit-dr17-5221-56653-099.fits', 85577],\n",
       " ['apVisit-dr17-5221-56656-099.fits', 85579],\n",
       " ['apVisit-dr17-6104-56902-093.fits', 85580],\n",
       " ['apVisit-dr17-9264-57645-102.fits', 85591],\n",
       " ['apVisit-dr17-9264-57672-109.fits', 85593],\n",
       " ['apVisit-dr17-9264-57709-091.fits', 85587],\n",
       " ['apVisit-dr17-9519-57736-109.fits', 85594],\n",
       " ['apVisit-dr17-9519-57760-109.fits', 85592],\n",
       " ['apVisit-dr17-9264-58009-103.fits', 85596],\n",
       " ['apVisit-dr17-9519-58028-103.fits', 85584],\n",
       " ['apVisit-dr17-9519-58121-091.fits', 85582],\n",
       " ['apVisit-dr17-9069-58150-103.fits', 85589],\n",
       " ['apVisit-dr17-8659-57649-272.fits', 85802],\n",
       " ['apVisit-dr17-8659-57673-272.fits', 85800],\n",
       " ['asVisit-dr17-10082-58024-015.fits', 89197],\n",
       " ['asVisit-dr17-10082-58027-232.fits', 89196],\n",
       " ['apVisit-dr17-9069-57822-003.fits', 89859],\n",
       " ['apVisit-dr17-12317-58831-257.fits', 89897],\n",
       " ['apVisit-dr17-8684-57711-061.fits', 90773],\n",
       " ['apVisit-dr17-7950-57295-192.fits', 91191],\n",
       " ['apVisit-dr17-9082-57789-193.fits', 91204],\n",
       " ['apVisit-dr17-9083-57887-193.fits', 91193],\n",
       " ['apVisit-dr17-7950-58384-199.fits', 91199],\n",
       " ['apVisit-dr17-8659-57649-239.fits', 91388],\n",
       " ['asVisit-dr17-11182-58438-255.fits', 91495],\n",
       " ['apVisit-dr17-7771-57029-250.fits', 92751],\n",
       " ['apVisit-dr17-7771-57029-052.fits', 93355],\n",
       " ['asVisit-dr17-10036-58057-039.fits', 93357],\n",
       " ['apVisit-dr17-7771-57022-052.fits', 93354],\n",
       " ['apVisit-dr17-12317-58831-125.fits', 93368],\n",
       " ['apVisit-dr17-12317-58880-089.fits', 93369],\n",
       " ['apVisit-dr17-8569-58840-065.fits', 93752],\n",
       " ['apVisit-dr17-8569-58844-065.fits', 93754],\n",
       " ['apVisit-dr17-8569-58849-065.fits', 93753],\n",
       " ['apVisit-dr17-8091-58754-018.fits', 93756],\n",
       " ['apVisit-dr17-8091-58755-018.fits', 93755],\n",
       " ['apVisit-dr17-12316-58830-276.fits', 94307],\n",
       " ['apVisit-dr17-7771-57029-196.fits', 94651],\n",
       " ['apVisit-dr17-6561-56607-153.fits', 94743],\n",
       " ['apVisit-dr17-7950-57295-093.fits', 95205],\n",
       " ['apVisit-dr17-9082-57789-141.fits', 95203],\n",
       " ['apVisit-dr17-7950-58060-088.fits', 95208],\n",
       " ['apVisit-dr17-7950-58085-088.fits', 95211],\n",
       " ['apVisit-dr17-7950-58384-052.fits', 95213],\n",
       " ['apVisit-dr17-7951-59155-142.fits', 95207],\n",
       " ['asVisit-dr17-10036-58032-047.fits', 95353],\n",
       " ['asVisit-dr17-11900-58708-270.fits', 95876],\n",
       " ['apVisit-dr17-7771-56945-044.fits', 95954],\n",
       " ['apVisit-dr17-7771-57029-041.fits', 95956],\n",
       " ['apVisit-dr17-12317-58831-164.fits', 96083],\n",
       " ['apVisit-dr17-12316-58830-286.fits', 96851],\n",
       " ['apVisit-dr17-12316-58830-113.fits', 97454],\n",
       " ['apVisit-dr17-12696-59079-271.fits', 97934],\n",
       " ['apVisit-dr17-12696-59080-271.fits', 97935],\n",
       " ['apVisit-dr17-12696-59083-271.fits', 97936],\n",
       " ['asVisit-dr17-10036-58032-137.fits', 98395],\n",
       " ['asVisit-dr17-11900-58708-228.fits', 99609],\n",
       " ['asVisit-dr17-11900-58713-223.fits', 99606],\n",
       " ['asVisit-dr17-11901-58714-238.fits', 99610],\n",
       " ['asVisit-dr17-11900-58767-223.fits', 99607],\n",
       " ['asVisit-dr17-11901-58768-238.fits', 99608],\n",
       " ['asVisit-dr17-10126-58093-134.fits', 99790],\n",
       " ['asVisit-dr17-10126-58096-041.fits', 99779],\n",
       " ['asVisit-dr17-11901-58768-197.fits', 100334],\n",
       " ['apVisit-dr17-8114-57265-234.fits', 100622],\n",
       " ['apVisit-dr17-8091-58754-191.fits', 101422],\n",
       " ['asVisit-dr17-10083-58054-073.fits', 101462],\n",
       " ['asVisit-dr17-11900-58708-229.fits', 101620],\n",
       " ['asVisit-dr17-11900-58713-229.fits', 101618],\n",
       " ['asVisit-dr17-11901-58714-233.fits', 101616],\n",
       " ['asVisit-dr17-11900-58767-234.fits', 101619],\n",
       " ['asVisit-dr17-11901-58768-230.fits', 101621],\n",
       " ['asVisit-dr17-11901-58799-239.fits', 101617],\n",
       " ['asVisit-dr17-11037-58331-265.fits', 102010],\n",
       " ['apVisit-dr17-12073-58781-015.fits', 102558],\n",
       " ['apVisit-dr17-12073-58782-015.fits', 102560],\n",
       " ['apVisit-dr17-8659-57377-134.fits', 103662],\n",
       " ['apVisit-dr17-8659-57649-134.fits', 103664],\n",
       " ['apVisit-dr17-8659-57652-137.fits', 103663],\n",
       " ['apVisit-dr17-8659-57673-131.fits', 103665],\n",
       " ['asVisit-dr17-10037-58029-230.fits', 103667],\n",
       " ['apVisit-dr17-8091-58754-106.fits', 103993],\n",
       " ['apVisit-dr17-8091-58755-106.fits', 103994],\n",
       " ['asVisit-dr17-10083-58054-093.fits', 104306],\n",
       " ['asVisit-dr17-10126-58447-088.fits', 104305],\n",
       " ['asVisit-dr17-10137-58295-177.fits', 105936],\n",
       " ['asVisit-dr17-10139-58329-177.fits', 105939],\n",
       " ['asVisit-dr17-10139-58357-177.fits', 105935],\n",
       " ['asVisit-dr17-10140-58385-177.fits', 105947],\n",
       " ['apVisit-dr17-8659-57649-064.fits', 106791],\n",
       " ['asVisit-dr17-10037-58029-022.fits', 106998],\n",
       " ['apVisit-dr17-8114-57265-093.fits', 107148],\n",
       " ['apVisit-dr17-8114-57271-094.fits', 107147],\n",
       " ['asVisit-dr17-11901-58768-055.fits', 107296],\n",
       " ['asVisit-dr17-10037-58029-074.fits', 107433],\n",
       " ['apVisit-dr17-12311-58825-243.fits', 107445],\n",
       " ['apVisit-dr17-8114-57265-041.fits', 107586],\n",
       " ['apVisit-dr17-8114-57271-044.fits', 107584],\n",
       " ['apVisit-dr17-12316-58830-129.fits', 107635],\n",
       " ['apVisit-dr17-12316-58830-129.fits', 107635],\n",
       " ['apVisit-dr17-12696-59083-083.fits', 107820],\n",
       " ['asVisit-dr17-11901-58714-127.fits', 108133],\n",
       " ['asVisit-dr17-11901-58799-127.fits', 108134],\n",
       " ['asVisit-dr17-11036-58324-190.fits', 108351],\n",
       " ['asVisit-dr17-11036-58329-184.fits', 108350],\n",
       " ['asVisit-dr17-11036-58350-190.fits', 108352],\n",
       " ['asVisit-dr17-10137-58095-160.fits', 108719],\n",
       " ['asVisit-dr17-10137-58295-160.fits', 108712],\n",
       " ['asVisit-dr17-10138-58296-262.fits', 108706],\n",
       " ['asVisit-dr17-10139-58297-159.fits', 108711],\n",
       " ['asVisit-dr17-10138-58328-268.fits', 108716],\n",
       " ['asVisit-dr17-10139-58329-159.fits', 108713],\n",
       " ['asVisit-dr17-10138-58352-159.fits', 108708],\n",
       " ['asVisit-dr17-10139-58357-262.fits', 108714],\n",
       " ['asVisit-dr17-11161-58383-171.fits', 108709],\n",
       " ['asVisit-dr17-10140-58385-160.fits', 108717],\n",
       " ['asVisit-dr17-11161-58644-160.fits', 108715],\n",
       " ['asVisit-dr17-10140-58660-159.fits', 108707],\n",
       " ['asVisit-dr17-10140-58675-159.fits', 108720],\n",
       " ['asVisit-dr17-10037-58029-106.fits', 108749],\n",
       " ['asVisit-dr17-9999-58033-296.fits', 109127],\n",
       " ['apVisit-dr17-12073-58781-278.fits', 109166],\n",
       " ['apVisit-dr17-12073-58782-278.fits', 109167],\n",
       " ['apVisit-dr17-12073-58783-278.fits', 109165],\n",
       " ['apVisit-dr17-12696-59080-255.fits', 109162],\n",
       " ['apVisit-dr17-12696-59083-255.fits', 109164],\n",
       " ['apVisit-dr17-12696-59079-132.fits', 109179],\n",
       " ['apVisit-dr17-12696-59080-132.fits', 109178],\n",
       " ['asVisit-dr17-9999-58033-247.fits', 109297],\n",
       " ['asVisit-dr17-10039-58062-297.fits', 109361],\n",
       " ['asVisit-dr17-11036-58324-027.fits', 109857],\n",
       " ['asVisit-dr17-11036-58350-011.fits', 109859],\n",
       " ['asVisit-dr17-11036-58324-030.fits', 110023],\n",
       " ['asVisit-dr17-11037-58325-019.fits', 110022],\n",
       " ['asVisit-dr17-11036-58329-057.fits', 111032],\n",
       " ['apVisit-dr17-12092-58783-107.fits', 111534],\n",
       " ['apVisit-dr17-12092-58784-107.fits', 111533],\n",
       " ['asVisit-dr17-12747-59151-249.fits', 111684],\n",
       " ['asVisit-dr17-12747-59152-249.fits', 111687],\n",
       " ['asVisit-dr17-12747-59156-250.fits', 111685],\n",
       " ['apVisit-dr17-12092-58783-281.fits', 111697],\n",
       " ['apVisit-dr17-12092-58784-281.fits', 111696],\n",
       " ['apVisit-dr17-7950-58731-089.fits', 112234],\n",
       " ['asVisit-dr17-9999-58033-170.fits', 112426],\n",
       " ['asVisit-dr17-10039-58062-188.fits', 112944],\n",
       " ['asVisit-dr17-10039-58063-182.fits', 112945],\n",
       " ['apVisit-dr17-12073-58781-202.fits', 113602],\n",
       " ['apVisit-dr17-12073-58782-202.fits', 113601],\n",
       " ['apVisit-dr17-12073-58783-202.fits', 113603],\n",
       " ['apVisit-dr17-12311-58825-268.fits', 113604],\n",
       " ['apVisit-dr17-8091-58754-172.fits', 113712],\n",
       " ['apVisit-dr17-8091-58755-172.fits', 113711],\n",
       " ['asVisit-dr17-12747-59147-291.fits', 114046],\n",
       " ['asVisit-dr17-12747-59148-291.fits', 114045],\n",
       " ['asVisit-dr17-12747-59149-291.fits', 114047],\n",
       " ['asVisit-dr17-12747-59151-291.fits', 114039],\n",
       " ['asVisit-dr17-12747-59152-291.fits', 114044],\n",
       " ['asVisit-dr17-12747-59154-291.fits', 114043],\n",
       " ['asVisit-dr17-12747-59155-249.fits', 114038],\n",
       " ['asVisit-dr17-12747-59156-243.fits', 114040],\n",
       " ['asVisit-dr17-12747-59158-292.fits', 114048],\n",
       " ['asVisit-dr17-12747-59159-243.fits', 114049],\n",
       " ['asVisit-dr17-10138-58328-219.fits', 114151],\n",
       " ['asVisit-dr17-10139-58329-225.fits', 114157],\n",
       " ['asVisit-dr17-10139-58357-219.fits', 114156],\n",
       " ['asVisit-dr17-11161-58383-220.fits', 114153],\n",
       " ['asVisit-dr17-10140-58385-213.fits', 114146],\n",
       " ['asVisit-dr17-10140-58675-213.fits', 114158],\n",
       " ['asVisit-dr17-10039-58062-204.fits', 114375],\n",
       " ['asVisit-dr17-10039-58063-168.fits', 114374],\n",
       " ['asVisit-dr17-11036-58350-100.fits', 114825],\n",
       " ['apVisit-dr17-12073-58783-257.fits', 115192],\n",
       " ['asVisit-dr17-10039-58062-088.fits', 115309],\n",
       " ['asVisit-dr17-10039-58063-033.fits', 115308],\n",
       " ['asVisit-dr17-12747-59156-241.fits', 115652],\n",
       " ['apVisit-dr17-8035-56990-233.fits', 115835],\n",
       " ['apVisit-dr17-8035-57293-191.fits', 115833],\n",
       " ['apVisit-dr17-12314-58853-224.fits', 115942],\n",
       " ['apVisit-dr17-12092-58783-201.fits', 116131],\n",
       " ['apVisit-dr17-12092-58784-201.fits', 116132],\n",
       " ['apVisit-dr17-7950-57295-137.fits', 116259],\n",
       " ['apVisit-dr17-9082-57789-134.fits', 116266],\n",
       " ['apVisit-dr17-7950-58060-149.fits', 116260],\n",
       " ['apVisit-dr17-7950-58384-128.fits', 116258],\n",
       " ['apVisit-dr17-12073-58782-125.fits', 117320],\n",
       " ['apVisit-dr17-12073-58783-125.fits', 117319],\n",
       " ['apVisit-dr17-5095-55844-038.fits', 119894],\n",
       " ['apVisit-dr17-5095-55821-086.fits', 119893],\n",
       " ['apVisit-dr17-5095-55840-038.fits', 119891],\n",
       " ['asVisit-dr17-10127-58709-280.fits', 122592],\n",
       " ['asVisit-dr17-10137-58095-064.fits', 122742],\n",
       " ['asVisit-dr17-10137-58295-063.fits', 122740],\n",
       " ['asVisit-dr17-10138-58296-063.fits', 122733],\n",
       " ['asVisit-dr17-10139-58297-063.fits', 122735],\n",
       " ['asVisit-dr17-10139-58329-064.fits', 122745],\n",
       " ['asVisit-dr17-10138-58352-063.fits', 122746],\n",
       " ['asVisit-dr17-10139-58357-064.fits', 122739],\n",
       " ['asVisit-dr17-10140-58385-064.fits', 122738],\n",
       " ['asVisit-dr17-11161-58644-063.fits', 122736],\n",
       " ['asVisit-dr17-10140-58675-064.fits', 122734],\n",
       " ['apVisit-dr17-12310-59041-109.fits', 123448],\n",
       " ['apVisit-dr17-12310-58860-102.fits', 123447],\n",
       " ['apVisit-dr17-12092-58784-136.fits', 123805],\n",
       " ['asVisit-dr17-10139-58329-057.fits', 124717],\n",
       " ['apVisit-dr17-12092-58784-128.fits', 124771],\n",
       " ['apVisit-dr17-5095-55840-267.fits', 124798],\n",
       " ['apVisit-dr17-5095-55844-268.fits', 124800],\n",
       " ['apVisit-dr17-12310-58860-291.fits', 126474],\n",
       " ['apVisit-dr17-12310-59041-196.fits', 126473],\n",
       " ['apVisit-dr17-8661-57655-014.fits', 126514],\n",
       " ['apVisit-dr17-8661-57678-017.fits', 126515],\n",
       " ['apVisit-dr17-12314-58829-292.fits', 126517],\n",
       " ['apVisit-dr17-12314-58853-291.fits', 126516],\n",
       " ['apVisit-dr17-8661-57650-029.fits', 126513],\n",
       " ['apVisit-dr17-9519-58028-143.fits', 126973],\n",
       " ['apVisit-dr17-9264-58054-146.fits', 126975],\n",
       " ['apVisit-dr17-9519-58083-143.fits', 126972],\n",
       " ['apVisit-dr17-5221-55815-041.fits', 126953],\n",
       " ['apVisit-dr17-5221-55822-041.fits', 126957],\n",
       " ['apVisit-dr17-5221-55841-038.fits', 126946],\n",
       " ['apVisit-dr17-7950-57295-135.fits', 126964],\n",
       " ['apVisit-dr17-7950-58060-148.fits', 126962],\n",
       " ['apVisit-dr17-7950-58085-148.fits', 126948],\n",
       " ['asVisit-dr17-12740-59175-260.fits', 127573],\n",
       " ['apVisit-dr17-12772-59085-235.fits', 128037],\n",
       " ['apVisit-dr17-8661-57650-014.fits', 128058],\n",
       " ['asVisit-dr17-12740-59175-284.fits', 128515],\n",
       " ['apVisit-dr17-12314-58829-092.fits', 128555],\n",
       " ['apVisit-dr17-12772-59085-230.fits', 130744],\n",
       " ['apVisit-dr17-12314-58829-141.fits', 130745],\n",
       " ['apVisit-dr17-12314-58853-141.fits', 130746],\n",
       " ['apVisit-dr17-12092-58783-066.fits', 130918],\n",
       " ['apVisit-dr17-12092-58784-066.fits', 130917],\n",
       " ['asVisit-dr17-12740-59175-178.fits', 131703],\n",
       " ['apVisit-dr17-12092-58784-061.fits', 131811],\n",
       " ['asVisit-dr17-11180-58413-099.fits', 132819],\n",
       " ['apVisit-dr17-12094-58814-020.fits', 132935],\n",
       " ['apVisit-dr17-12094-58819-020.fits', 132936],\n",
       " ['apVisit-dr17-12094-58868-020.fits', 132934],\n",
       " ['apVisit-dr17-12309-58856-239.fits', 133456],\n",
       " ['asVisit-dr17-12740-59175-236.fits', 133607],\n",
       " ['apVisit-dr17-12094-58814-222.fits', 133856],\n",
       " ['apVisit-dr17-12094-58819-222.fits', 133854],\n",
       " ['apVisit-dr17-11212-58392-030.fits', 133876],\n",
       " ['apVisit-dr17-11212-58419-025.fits', 133874],\n",
       " ['apVisit-dr17-12772-59085-117.fits', 134034],\n",
       " ['asVisit-dr17-12747-59147-014.fits', 134582],\n",
       " ['asVisit-dr17-12747-59148-014.fits', 134578],\n",
       " ['asVisit-dr17-12747-59149-014.fits', 134579],\n",
       " ['asVisit-dr17-12747-59150-014.fits', 134586],\n",
       " ['asVisit-dr17-12747-59151-014.fits', 134583],\n",
       " ['asVisit-dr17-12747-59152-014.fits', 134584],\n",
       " ['asVisit-dr17-12747-59154-014.fits', 134588],\n",
       " ['asVisit-dr17-12747-59155-014.fits', 134587],\n",
       " ['asVisit-dr17-12747-59156-017.fits', 134580],\n",
       " ['asVisit-dr17-12747-59157-014.fits', 134585],\n",
       " ['asVisit-dr17-12747-59159-020.fits', 134589],\n",
       " ['asVisit-dr17-10140-58660-140.fits', 134948],\n",
       " ['asVisit-dr17-10140-58675-146.fits', 134947],\n",
       " ['apVisit-dr17-7548-56995-194.fits', 135386],\n",
       " ['apVisit-dr17-7548-56944-200.fits', 135384],\n",
       " ['apVisit-dr17-7548-57021-188.fits', 135385],\n",
       " ['apVisit-dr17-12310-59041-124.fits', 135566],\n",
       " ['apVisit-dr17-8661-57650-143.fits', 136532],\n",
       " ['apVisit-dr17-8661-57655-038.fits', 136530],\n",
       " ['apVisit-dr17-12314-58829-180.fits', 136534],\n",
       " ['apVisit-dr17-12314-58853-162.fits', 136533],\n",
       " ['apVisit-dr17-12314-58829-175.fits', 136587],\n",
       " ['apVisit-dr17-8661-57650-204.fits', 136789],\n",
       " ['apVisit-dr17-8661-57678-205.fits', 136790],\n",
       " ['apVisit-dr17-12074-58788-097.fits', 137059],\n",
       " ['asVisit-dr17-11902-58676-256.fits', 137176],\n",
       " ['asVisit-dr17-11903-58681-256.fits', 137173],\n",
       " ['asVisit-dr17-11902-58707-249.fits', 137170],\n",
       " ['asVisit-dr17-11903-58708-250.fits', 137174],\n",
       " ['apVisit-dr17-8661-57650-053.fits', 137374],\n",
       " ['apVisit-dr17-8661-57655-053.fits', 137375],\n",
       " ['apVisit-dr17-8661-57678-053.fits', 137373],\n",
       " ['asVisit-dr17-12747-59148-009.fits', 137457],\n",
       " ['asVisit-dr17-12747-59149-009.fits', 137451],\n",
       " ['asVisit-dr17-12747-59150-009.fits', 137449],\n",
       " ['asVisit-dr17-12747-59151-009.fits', 137452],\n",
       " ['asVisit-dr17-12747-59159-009.fits', 137453],\n",
       " ['apVisit-dr17-10352-58418-276.fits', 137490],\n",
       " ['apVisit-dr17-10352-58421-277.fits', 137491],\n",
       " ['apVisit-dr17-10352-58390-271.fits', 137492],\n",
       " ['apVisit-dr17-8661-57650-266.fits', 138036],\n",
       " ['apVisit-dr17-8661-57655-245.fits', 138038],\n",
       " ['asVisit-dr17-11180-58413-098.fits', 138215],\n",
       " ['asVisit-dr17-12740-59175-009.fits', 138401],\n",
       " ['asVisit-dr17-11902-58800-285.fits', 138408],\n",
       " ['asVisit-dr17-11903-58677-276.fits', 138416],\n",
       " ['asVisit-dr17-11903-58681-282.fits', 138418],\n",
       " ['asVisit-dr17-11903-58708-228.fits', 138425],\n",
       " ['asVisit-dr17-11903-58713-271.fits', 138422],\n",
       " ['asVisit-dr17-11902-58800-276.fits', 138424],\n",
       " ['asVisit-dr17-11902-58657-277.fits', 138419],\n",
       " ['asVisit-dr17-11902-58676-282.fits', 138423],\n",
       " ['apVisit-dr17-12093-58784-015.fits', 139486],\n",
       " ['apVisit-dr17-7548-56995-078.fits', 140162],\n",
       " ['asVisit-dr17-12740-59175-146.fits', 140376],\n",
       " ['asVisit-dr17-12743-59192-257.fits', 141091],\n",
       " ['apVisit-dr17-9519-57760-079.fits', 141325],\n",
       " ['apVisit-dr17-9069-57822-079.fits', 141327],\n",
       " ['apVisit-dr17-9264-58009-079.fits', 141323],\n",
       " ['apVisit-dr17-9519-58083-036.fits', 141317],\n",
       " ['apVisit-dr17-5221-55841-036.fits', 141290],\n",
       " ['apVisit-dr17-5221-55876-031.fits', 141304],\n",
       " ['apVisit-dr17-9082-57789-122.fits', 141303],\n",
       " ['apVisit-dr17-9083-57887-122.fits', 141296],\n",
       " ['apVisit-dr17-7950-58085-077.fits', 141308],\n",
       " ['apVisit-dr17-9135-58295-077.fits', 141295],\n",
       " ['apVisit-dr17-7950-58384-086.fits', 141309],\n",
       " ['apVisit-dr17-7950-58731-071.fits', 141301],\n",
       " ['apVisit-dr17-12074-58788-297.fits', 141490],\n",
       " ['asVisit-dr17-12747-59147-040.fits', 141644],\n",
       " ['asVisit-dr17-12747-59148-040.fits', 141647],\n",
       " ['asVisit-dr17-12747-59149-040.fits', 141653],\n",
       " ['asVisit-dr17-12747-59150-040.fits', 141642],\n",
       " ['asVisit-dr17-12747-59151-040.fits', 141652],\n",
       " ['asVisit-dr17-12747-59156-141.fits', 141649],\n",
       " ['asVisit-dr17-12747-59157-141.fits', 141643],\n",
       " ['asVisit-dr17-12747-59158-141.fits', 141651],\n",
       " ['asVisit-dr17-12743-59192-256.fits', 141953],\n",
       " ['asVisit-dr17-11902-58657-188.fits', 142279],\n",
       " ['asVisit-dr17-12742-59176-291.fits', 142504],\n",
       " ['apVisit-dr17-12772-59085-127.fits', 142601],\n",
       " ['asVisit-dr17-11903-58677-082.fits', 143552],\n",
       " ['asVisit-dr17-11903-58681-081.fits', 143555],\n",
       " ['asVisit-dr17-11903-58708-069.fits', 143551],\n",
       " ['asVisit-dr17-11903-58713-082.fits', 143554],\n",
       " ['asVisit-dr17-11903-58768-081.fits', 143553],\n",
       " ['apVisit-dr17-12093-58784-007.fits', 143643],\n",
       " ['apVisit-dr17-12093-58786-007.fits', 143644],\n",
       " ['apVisit-dr17-12093-58784-112.fits', 146125],\n",
       " ['apVisit-dr17-12094-58814-147.fits', 146122],\n",
       " ['apVisit-dr17-12094-58868-124.fits', 146120],\n",
       " ['apVisit-dr17-12093-58786-112.fits', 146124],\n",
       " ['asVisit-dr17-11903-58681-010.fits', 146573],\n",
       " ['asVisit-dr17-11903-58708-056.fits', 147205],\n",
       " ['apVisit-dr17-12094-58868-170.fits', 149402],\n",
       " ['apVisit-dr17-12094-58814-155.fits', 149401],\n",
       " ['apVisit-dr17-12094-58819-155.fits', 149403],\n",
       " ['apVisit-dr17-12308-58854-107.fits', 149601],\n",
       " ['asVisit-dr17-12743-59192-143.fits', 149931],\n",
       " ['asVisit-dr17-10038-58031-293.fits', 150063],\n",
       " ['asVisit-dr17-10038-58805-293.fits', 150062],\n",
       " ['asVisit-dr17-10038-58805-201.fits', 150316],\n",
       " ['apVisit-dr17-12094-58819-083.fits', 150410],\n",
       " ['apVisit-dr17-12074-58788-172.fits', 151187],\n",
       " ['apVisit-dr17-12075-58779-224.fits', 151189],\n",
       " ['apVisit-dr17-12075-58780-224.fits', 151188],\n",
       " ['asVisit-dr17-10038-58031-159.fits', 152019],\n",
       " ['asVisit-dr17-10038-58805-154.fits', 152020],\n",
       " ['apVisit-dr17-12075-58779-013.fits', 152753],\n",
       " ['apVisit-dr17-12075-58780-013.fits', 152752],\n",
       " ['asVisit-dr17-9910-57947-179.fits', 153082],\n",
       " ['apVisit-dr17-12093-58784-259.fits', 153643],\n",
       " ['apVisit-dr17-12318-58823-105.fits', 153815],\n",
       " ['asVisit-dr17-10038-58805-047.fits', 153820],\n",
       " ['asVisit-dr17-12741-59195-080.fits', 154323],\n",
       " ['asVisit-dr17-9910-57947-181.fits', 154322],\n",
       " ['apVisit-dr17-12093-58784-159.fits', 154477],\n",
       " ['apVisit-dr17-8092-58836-241.fits', 154478],\n",
       " ['apVisit-dr17-8092-58837-241.fits', 154479],\n",
       " ['asVisit-dr17-12741-59195-010.fits', 154536],\n",
       " ['apVisit-dr17-12075-58779-274.fits', 154561],\n",
       " ['apVisit-dr17-12318-58832-093.fits', 154596],\n",
       " ['apVisit-dr17-12318-58823-093.fits', 154595],\n",
       " ['apVisit-dr17-12318-58832-052.fits', 154621],\n",
       " ['apVisit-dr17-12308-58854-080.fits', 155212],\n",
       " ['asVisit-dr17-10038-58805-059.fits', 155211],\n",
       " ['apVisit-dr17-8093-58848-117.fits', 155506],\n",
       " ['apVisit-dr17-8093-58849-117.fits', 155507],\n",
       " ['apVisit-dr17-8092-58834-040.fits', 155503],\n",
       " ['apVisit-dr17-8092-58835-040.fits', 155504],\n",
       " ['apVisit-dr17-8092-58836-040.fits', 155502],\n",
       " ['apVisit-dr17-8092-58837-040.fits', 155505],\n",
       " ['asVisit-dr17-9910-57947-196.fits', 155724],\n",
       " ['apVisit-dr17-12318-58823-285.fits', 155787],\n",
       " ['apVisit-dr17-12308-58854-090.fits', 155986],\n",
       " ['apVisit-dr17-12318-58832-203.fits', 156127],\n",
       " ['apVisit-dr17-12075-58779-104.fits', 156192],\n",
       " ['apVisit-dr17-12075-58780-104.fits', 156193],\n",
       " ['asVisit-dr17-12741-59195-101.fits', 156331],\n",
       " ['asVisit-dr17-9910-57947-074.fits', 156716],\n",
       " ['apVisit-dr17-9264-57672-071.fits', 157154],\n",
       " ['apVisit-dr17-9519-57736-083.fits', 157140],\n",
       " ['apVisit-dr17-9519-57760-086.fits', 157151],\n",
       " ['apVisit-dr17-9069-57822-077.fits', 157149],\n",
       " ['apVisit-dr17-9264-58009-071.fits', 157153],\n",
       " ['apVisit-dr17-9519-58028-086.fits', 157152],\n",
       " ['apVisit-dr17-9264-58054-077.fits', 157150],\n",
       " ['apVisit-dr17-9519-58083-083.fits', 157147],\n",
       " ['apVisit-dr17-9519-58121-077.fits', 157144],\n",
       " ['apVisit-dr17-9069-58150-089.fits', 157148],\n",
       " ['apVisit-dr17-5221-55815-086.fits', 157117],\n",
       " ['apVisit-dr17-5221-55822-080.fits', 157128],\n",
       " ['apVisit-dr17-5221-55841-089.fits', 157124],\n",
       " ['apVisit-dr17-5221-55866-080.fits', 157119],\n",
       " ['apVisit-dr17-5221-55876-086.fits', 157135],\n",
       " ['apVisit-dr17-5221-56654-080.fits', 157131],\n",
       " ['apVisit-dr17-5221-56656-080.fits', 157122],\n",
       " ['apVisit-dr17-6104-56902-068.fits', 157136],\n",
       " ['apVisit-dr17-7950-57295-074.fits', 157139],\n",
       " ['apVisit-dr17-9084-57556-077.fits', 157137],\n",
       " ['apVisit-dr17-9082-57789-077.fits', 157125],\n",
       " ['apVisit-dr17-9083-57887-077.fits', 157130],\n",
       " ['apVisit-dr17-7950-58085-137.fits', 157123],\n",
       " ['apVisit-dr17-7950-58384-077.fits', 157120],\n",
       " ['apVisit-dr17-7951-58504-077.fits', 157121],\n",
       " ['apVisit-dr17-7950-58731-125.fits', 157133],\n",
       " ['apVisit-dr17-9264-59059-041.fits', 157145],\n",
       " ['apVisit-dr17-5221-56653-080.fits', 157118],\n",
       " ['apVisit-dr17-7950-59074-128.fits', 157129],\n",
       " ['apVisit-dr17-9264-57645-199.fits', 157382],\n",
       " ['apVisit-dr17-9264-57672-205.fits', 157386],\n",
       " ['apVisit-dr17-9264-57709-205.fits', 157380],\n",
       " ['apVisit-dr17-9264-58009-162.fits', 157381],\n",
       " ['apVisit-dr17-9069-58150-204.fits', 157387],\n",
       " ['apVisit-dr17-5221-55815-205.fits', 157359],\n",
       " ['apVisit-dr17-5221-55866-157.fits', 157368],\n",
       " ['apVisit-dr17-5221-56653-156.fits', 157367],\n",
       " ['apVisit-dr17-5221-56654-156.fits', 157358],\n",
       " ['apVisit-dr17-7950-58384-169.fits', 157355],\n",
       " ['apVisit-dr17-12318-58832-135.fits', 157466],\n",
       " ['apVisit-dr17-12075-58780-042.fits', 157464],\n",
       " ['asVisit-dr17-9910-57947-121.fits', 157498],\n",
       " ['apVisit-dr17-12318-58823-149.fits', 157507],\n",
       " ['apVisit-dr17-12318-58832-137.fits', 157508],\n",
       " ['asVisit-dr17-9910-57947-057.fits', 157927],\n",
       " ['apVisit-dr17-12075-58779-035.fits', 158459],\n",
       " ['apVisit-dr17-12075-58779-245.fits', 158651],\n",
       " ['apVisit-dr17-12075-58780-245.fits', 158650],\n",
       " ['apVisit-dr17-8683-57675-027.fits', 158653],\n",
       " ['apVisit-dr17-8683-57679-111.fits', 158654],\n",
       " ['apVisit-dr17-8093-58866-149.fits', 159010],\n",
       " ['apVisit-dr17-8093-58848-107.fits', 159012],\n",
       " ['apVisit-dr17-8093-58849-107.fits', 159011],\n",
       " ['apVisit-dr17-8093-58863-149.fits', 159008],\n",
       " ['apVisit-dr17-8683-57651-019.fits', 159173],\n",
       " ['apVisit-dr17-8093-58863-188.fits', 159408],\n",
       " ['apVisit-dr17-12075-58779-143.fits', 159435],\n",
       " ['apVisit-dr17-12075-58780-143.fits', 159434],\n",
       " ['asVisit-dr17-12775-59157-249.fits', 160071],\n",
       " ['asVisit-dr17-12775-59160-249.fits', 160068],\n",
       " ['asVisit-dr17-12775-59162-249.fits', 160073],\n",
       " ['asVisit-dr17-12775-59163-249.fits', 160072],\n",
       " ['asVisit-dr17-12775-59179-256.fits', 160078],\n",
       " ['asVisit-dr17-12775-59191-249.fits', 160074],\n",
       " ['asVisit-dr17-12775-59195-249.fits', 160077],\n",
       " ['apVisit-dr17-8093-58848-044.fits', 160571],\n",
       " ['apVisit-dr17-8093-58849-044.fits', 160574],\n",
       " ['asVisit-dr17-12810-59203-291.fits', 160713],\n",
       " ['asVisit-dr17-12810-59212-190.fits', 160714],\n",
       " ['apVisit-dr17-8092-58835-065.fits', 161060],\n",
       " ['apVisit-dr17-8092-58836-065.fits', 161057],\n",
       " ['apVisit-dr17-8093-58848-198.fits', 161061],\n",
       " ['apVisit-dr17-8093-58863-192.fits', 161063],\n",
       " ['apVisit-dr17-8093-58866-192.fits', 161064],\n",
       " ['apVisit-dr17-12075-58780-129.fits', 161696],\n",
       " ['asVisit-dr17-12809-59211-184.fits', 161971],\n",
       " ['asVisit-dr17-12809-59214-183.fits', 161972],\n",
       " ['apVisit-dr17-12075-58779-161.fits', 162033],\n",
       " ['apVisit-dr17-12075-58780-161.fits', 162034],\n",
       " ['apVisit-dr17-12318-58823-077.fits', 162035],\n",
       " ['apVisit-dr17-12318-58832-065.fits', 162036],\n",
       " ['apVisit-dr17-8683-57651-284.fits', 162637],\n",
       " ['apVisit-dr17-8683-57675-293.fits', 162638],\n",
       " ['apVisit-dr17-8683-57679-296.fits', 162636],\n",
       " ['apVisit-dr17-8683-57651-298.fits', 164089],\n",
       " ['apVisit-dr17-8683-57675-249.fits', 164090],\n",
       " ['apVisit-dr17-8683-57679-249.fits', 164088],\n",
       " ['apVisit-dr17-6562-56642-294.fits', 164142],\n",
       " ['apVisit-dr17-6562-56644-295.fits', 164146],\n",
       " ['apVisit-dr17-8683-57651-149.fits', 164195],\n",
       " ['apVisit-dr17-8683-57679-143.fits', 164197],\n",
       " ['apVisit-dr17-8683-57651-204.fits', 164225],\n",
       " ['asVisit-dr17-12809-59211-078.fits', 164365],\n",
       " ['asVisit-dr17-12810-59212-077.fits', 164362],\n",
       " ['asVisit-dr17-12809-59214-090.fits', 164363],\n",
       " ['apVisit-dr17-8570-58838-232.fits', 164494],\n",
       " ['apVisit-dr17-8570-58839-232.fits', 164493],\n",
       " ['asVisit-dr17-12809-59211-123.fits', 164521],\n",
       " ['apVisit-dr17-8570-58838-008.fits', 164816],\n",
       " ['apVisit-dr17-8570-58839-008.fits', 164815],\n",
       " ['asVisit-dr17-12809-59211-046.fits', 165168],\n",
       " ['asVisit-dr17-12809-59214-093.fits', 165169],\n",
       " ['apVisit-dr17-8683-57675-080.fits', 165764],\n",
       " ['apVisit-dr17-8683-57679-158.fits', 166587],\n",
       " ['asVisit-dr17-12746-59148-244.fits', 167706],\n",
       " ['asVisit-dr17-12746-59166-244.fits', 167698],\n",
       " ['asVisit-dr17-12746-59167-244.fits', 167708],\n",
       " ['asVisit-dr17-12746-59176-244.fits', 167699],\n",
       " ['asVisit-dr17-12746-59179-297.fits', 167700],\n",
       " ['asVisit-dr17-12746-59182-297.fits', 167702],\n",
       " ['asVisit-dr17-12746-59188-244.fits', 167707],\n",
       " ['apVisit-dr17-8570-58838-195.fits', 167774],\n",
       " ['asVisit-dr17-9998-58063-284.fits', 167943],\n",
       " ['asVisit-dr17-12744-59198-256.fits', 167944],\n",
       " ['asVisit-dr17-9998-58063-170.fits', 168349],\n",
       " ['asVisit-dr17-12744-59198-172.fits', 168753],\n",
       " ['asVisit-dr17-11179-58413-147.fits', 168798],\n",
       " ['asVisit-dr17-10085-58027-094.fits', 168814],\n",
       " ['asVisit-dr17-10085-58056-147.fits', 168806],\n",
       " ['asVisit-dr17-10085-58059-130.fits', 168804],\n",
       " ['asVisit-dr17-10128-58090-099.fits', 168812],\n",
       " ['asVisit-dr17-10128-58357-100.fits', 168811],\n",
       " ['asVisit-dr17-10128-58383-130.fits', 168805],\n",
       " ['asVisit-dr17-10128-58446-147.fits', 168808],\n",
       " ['asVisit-dr17-10128-58683-148.fits', 168802],\n",
       " ['asVisit-dr17-10128-58707-148.fits', 168807],\n",
       " ['asVisit-dr17-10128-58710-099.fits', 168813],\n",
       " ['asVisit-dr17-9998-58063-271.fits', 169133],\n",
       " ['asVisit-dr17-12746-59167-292.fits', 169441],\n",
       " ['asVisit-dr17-12744-59198-167.fits', 169572],\n",
       " ['apVisit-dr17-8683-57651-064.fits', 170091],\n",
       " ['asVisit-dr17-9998-58063-195.fits', 170561],\n",
       " ['asVisit-dr17-12744-59198-216.fits', 170575],\n",
       " ['apVisit-dr17-8570-58838-268.fits', 173202],\n",
       " ['apVisit-dr17-8570-58839-268.fits', 173201],\n",
       " ['apVisit-dr17-10099-58450-285.fits', 173786],\n",
       " ['apVisit-dr17-10099-58059-286.fits', 173785],\n",
       " ['apVisit-dr17-10099-58067-292.fits', 173787],\n",
       " ['apVisit-dr17-10098-58085-099.fits', 173848],\n",
       " ['asVisit-dr17-9998-58063-126.fits', 173901],\n",
       " ['asVisit-dr17-11995-58795-170.fits', 174778],\n",
       " ['asVisit-dr17-11995-58798-173.fits', 174779],\n",
       " ['asVisit-dr17-11995-58798-173.fits', 174779],\n",
       " ['apVisit-dr17-9291-57712-221.fits', 175454],\n",
       " ['asVisit-dr17-9998-58063-100.fits', 175660],\n",
       " ['apVisit-dr17-5598-56534-198.fits', 176297],\n",
       " ['asVisit-dr17-11995-58798-196.fits', 176425],\n",
       " ['asVisit-dr17-11996-59166-274.fits', 176427],\n",
       " ['apVisit-dr17-9291-57738-113.fits', 177873],\n",
       " ['apVisit-dr17-10097-58056-063.fits', 177886],\n",
       " ['apVisit-dr17-10099-58059-165.fits', 177878],\n",
       " ['apVisit-dr17-10098-58085-172.fits', 177887],\n",
       " ['apVisit-dr17-10303-58767-165.fits', 177880],\n",
       " ['apVisit-dr17-10098-58769-165.fits', 177885],\n",
       " ['apVisit-dr17-8095-58806-226.fits', 178025],\n",
       " ['apVisit-dr17-10099-58059-171.fits', 178492],\n",
       " ['apVisit-dr17-10099-58067-177.fits', 178491],\n",
       " ['apVisit-dr17-8095-58792-228.fits', 179295],\n",
       " ['apVisit-dr17-8095-58806-240.fits', 179296],\n",
       " ['apVisit-dr17-9291-57712-292.fits', 179853],\n",
       " ['apVisit-dr17-9291-57735-190.fits', 179852],\n",
       " ['apVisit-dr17-9291-57738-292.fits', 179851],\n",
       " ['apVisit-dr17-11213-58733-015.fits', 180962],\n",
       " ['apVisit-dr17-11213-58449-015.fits', 180963],\n",
       " ['apVisit-dr17-7926-58055-020.fits', 181247],\n",
       " ['apVisit-dr17-7926-58037-020.fits', 181248],\n",
       " ['apVisit-dr17-8095-58792-097.fits', 181907],\n",
       " ['apVisit-dr17-7926-58037-021.fits', 181916],\n",
       " ['apVisit-dr17-7926-58055-021.fits', 181917],\n",
       " ['asVisit-dr17-11995-58798-194.fits', 182248],\n",
       " ['asVisit-dr17-11996-59174-185.fits', 182246],\n",
       " ['apVisit-dr17-8660-57349-213.fits', 182384],\n",
       " ['apVisit-dr17-8660-57654-213.fits', 182385],\n",
       " ['asVisit-dr17-12775-59157-141.fits', 183123],\n",
       " ['asVisit-dr17-12775-59176-039.fits', 183114],\n",
       " ['apVisit-dr17-7926-58029-190.fits', 183511],\n",
       " ['apVisit-dr17-7926-58055-184.fits', 183513],\n",
       " ['apVisit-dr17-8097-58041-017.fits', 183896],\n",
       " ['apVisit-dr17-8095-58792-047.fits', 183893],\n",
       " ['apVisit-dr17-8095-58806-047.fits', 183891],\n",
       " ['apVisit-dr17-8096-58789-044.fits', 183895],\n",
       " ['apVisit-dr17-8096-58790-044.fits', 183894],\n",
       " ['apVisit-dr17-8097-58042-017.fits', 183898],\n",
       " ['apVisit-dr17-8097-58043-017.fits', 183897],\n",
       " ['apVisit-dr17-8097-58044-017.fits', 183900],\n",
       " ['apVisit-dr17-8097-58049-017.fits', 183899],\n",
       " ['apVisit-dr17-7926-58029-197.fits', 183994],\n",
       " ['apVisit-dr17-7926-58037-191.fits', 183995],\n",
       " ['apVisit-dr17-7926-58055-191.fits', 183996],\n",
       " ['apVisit-dr17-9291-57735-247.fits', 183997],\n",
       " ['apVisit-dr17-9291-57738-264.fits', 183998],\n",
       " ['apVisit-dr17-8096-58789-271.fits', 184190],\n",
       " ['apVisit-dr17-10353-58388-115.fits', 184429],\n",
       " ['apVisit-dr17-10353-58438-120.fits', 184428],\n",
       " ['apVisit-dr17-10353-58442-012.fits', 184427],\n",
       " ['apVisit-dr17-8095-58792-149.fits', 184657],\n",
       " ['apVisit-dr17-8095-58806-146.fits', 184658],\n",
       " ['apVisit-dr17-8096-58789-105.fits', 184660],\n",
       " ['apVisit-dr17-8096-58790-105.fits', 184661],\n",
       " ['apVisit-dr17-10353-58442-110.fits', 185207],\n",
       " ['apVisit-dr17-8095-58811-264.fits', 185677],\n",
       " ['apVisit-dr17-8097-58041-282.fits', 185683],\n",
       " ['apVisit-dr17-8097-58043-282.fits', 185681],\n",
       " ['apVisit-dr17-8097-58044-282.fits', 185685],\n",
       " ['apVisit-dr17-8095-58792-156.fits', 185676],\n",
       " ['apVisit-dr17-8097-58042-282.fits', 185682],\n",
       " ['apVisit-dr17-8097-58049-282.fits', 185684],\n",
       " ['apVisit-dr17-9291-57738-268.fits', 185816],\n",
       " ['apVisit-dr17-9291-57712-268.fits', 185817],\n",
       " ...]"
      ]
     },
     "execution_count": 9,
     "metadata": {},
     "output_type": "execute_result"
    }
   ],
   "source": [
    "filtered_allVisit"
   ]
  },
  {
   "cell_type": "code",
   "execution_count": 11,
   "id": "9c0e64d2-6f9d-46ef-8d08-0c05fcc2cb99",
   "metadata": {
    "collapsed": true,
    "jupyter": {
     "outputs_hidden": true
    },
    "tags": []
   },
   "outputs": [
    {
     "data": {
      "text/plain": [
       "['asVisit-dr17-12776-59154-069.fits',\n",
       " 'asVisit-dr17-12776-59155-069.fits',\n",
       " 'asVisit-dr17-12776-59156-069.fits',\n",
       " 'asVisit-dr17-12776-59157-069.fits',\n",
       " 'asVisit-dr17-12776-59164-070.fits',\n",
       " 'asVisit-dr17-12776-59165-070.fits',\n",
       " 'asVisit-dr17-12776-59166-070.fits',\n",
       " 'apVisit-dr17-7063-56666-028.fits',\n",
       " 'apVisit-dr17-9243-57677-015.fits',\n",
       " 'apVisit-dr17-9243-57654-016.fits',\n",
       " 'apVisit-dr17-12184-58776-247.fits',\n",
       " 'apVisit-dr17-12184-58861-253.fits',\n",
       " 'apVisit-dr17-9069-57822-224.fits',\n",
       " 'apVisit-dr17-9069-58150-224.fits',\n",
       " 'apVisit-dr17-9264-59059-221.fits',\n",
       " 'apVisit-dr17-9264-59159-227.fits',\n",
       " 'apVisit-dr17-7950-58731-227.fits',\n",
       " 'apVisit-dr17-7950-59074-224.fits',\n",
       " 'apVisit-dr17-7951-59155-278.fits',\n",
       " 'apVisit-dr17-9264-57672-224.fits',\n",
       " 'apVisit-dr17-9264-57709-227.fits',\n",
       " 'apVisit-dr17-9519-57760-224.fits',\n",
       " 'apVisit-dr17-9264-58009-218.fits',\n",
       " 'apVisit-dr17-9519-58028-221.fits',\n",
       " 'apVisit-dr17-9264-58054-224.fits',\n",
       " 'apVisit-dr17-9519-58083-224.fits',\n",
       " 'apVisit-dr17-9519-58121-224.fits',\n",
       " 'apVisit-dr17-5095-55821-233.fits',\n",
       " 'apVisit-dr17-5095-55824-230.fits',\n",
       " 'apVisit-dr17-5095-55840-230.fits',\n",
       " 'apVisit-dr17-9084-57556-224.fits',\n",
       " 'apVisit-dr17-9082-57789-218.fits',\n",
       " 'apVisit-dr17-9083-57887-275.fits',\n",
       " 'apVisit-dr17-7950-58060-224.fits',\n",
       " 'apVisit-dr17-7950-58085-224.fits',\n",
       " 'apVisit-dr17-9135-58295-233.fits',\n",
       " 'apVisit-dr17-7950-58384-224.fits',\n",
       " 'apVisit-dr17-6560-56584-077.fits',\n",
       " 'apVisit-dr17-12700-59077-234.fits',\n",
       " 'apVisit-dr17-7063-56666-117.fits',\n",
       " 'apVisit-dr17-9243-57654-010.fits',\n",
       " 'apVisit-dr17-9243-58033-279.fits',\n",
       " 'apVisit-dr17-9243-57654-285.fits',\n",
       " 'asVisit-dr17-12776-59147-039.fits',\n",
       " 'apVisit-dr17-9243-57677-119.fits',\n",
       " 'apVisit-dr17-9243-58033-113.fits',\n",
       " 'apVisit-dr17-9243-57654-011.fits',\n",
       " 'apVisit-dr17-7062-56635-105.fits',\n",
       " 'apVisit-dr17-7063-56644-106.fits',\n",
       " 'apVisit-dr17-7063-56666-106.fits',\n",
       " 'apVisit-dr17-7494-56848-058.fits',\n",
       " 'apVisit-dr17-9243-57654-112.fits',\n",
       " 'apVisit-dr17-9243-57677-010.fits',\n",
       " 'apVisit-dr17-9243-58033-004.fits',\n",
       " 'apVisit-dr17-7062-56635-278.fits',\n",
       " 'apVisit-dr17-7063-56644-218.fits',\n",
       " 'apVisit-dr17-7063-56666-182.fits',\n",
       " 'apVisit-dr17-7494-56848-236.fits',\n",
       " 'apVisit-dr17-9243-57654-118.fits',\n",
       " 'apVisit-dr17-9243-57677-093.fits',\n",
       " 'apVisit-dr17-9243-58033-249.fits',\n",
       " 'asVisit-dr17-11914-58804-254.fits',\n",
       " 'apVisit-dr17-9243-57677-139.fits',\n",
       " 'apVisit-dr17-5266-55869-023.fits',\n",
       " 'apVisit-dr17-5267-55871-026.fits',\n",
       " 'apVisit-dr17-5267-56204-008.fits',\n",
       " 'apVisit-dr17-12700-59074-039.fits',\n",
       " 'apVisit-dr17-12700-59077-039.fits',\n",
       " 'apVisit-dr17-9243-57677-256.fits',\n",
       " 'apVisit-dr17-9243-58033-202.fits',\n",
       " 'apVisit-dr17-7062-56635-256.fits',\n",
       " 'apVisit-dr17-7063-56644-244.fits',\n",
       " 'apVisit-dr17-7062-56646-298.fits',\n",
       " 'apVisit-dr17-7063-56666-244.fits',\n",
       " 'apVisit-dr17-7494-56848-244.fits',\n",
       " 'apVisit-dr17-9243-57654-255.fits',\n",
       " 'apVisit-dr17-9243-57674-256.fits',\n",
       " 'apVisit-dr17-7062-56646-295.fits',\n",
       " 'apVisit-dr17-7062-56650-295.fits',\n",
       " 'apVisit-dr17-7494-56848-246.fits',\n",
       " 'apVisit-dr17-7062-56650-144.fits',\n",
       " 'asVisit-dr17-10081-58025-255.fits',\n",
       " 'asVisit-dr17-11914-58804-246.fits',\n",
       " 'apVisit-dr17-7062-56635-033.fits',\n",
       " 'apVisit-dr17-7063-56644-081.fits',\n",
       " 'apVisit-dr17-7062-56646-033.fits',\n",
       " 'apVisit-dr17-7062-56650-033.fits',\n",
       " 'apVisit-dr17-7063-56666-033.fits',\n",
       " 'apVisit-dr17-7063-56666-034.fits',\n",
       " 'asVisit-dr17-11914-58804-203.fits',\n",
       " 'asVisit-dr17-11933-58824-152.fits',\n",
       " 'asVisit-dr17-11932-58794-016.fits',\n",
       " 'asVisit-dr17-11933-58796-015.fits',\n",
       " 'asVisit-dr17-11933-58803-022.fits',\n",
       " 'asVisit-dr17-11914-58804-212.fits',\n",
       " 'asVisit-dr17-11933-58796-045.fits',\n",
       " 'asVisit-dr17-11933-58824-046.fits',\n",
       " 'asVisit-dr17-11933-58803-045.fits',\n",
       " 'apVisit-dr17-8088-58753-028.fits',\n",
       " 'apVisit-dr17-7535-57347-211.fits',\n",
       " 'asVisit-dr17-11933-58824-130.fits',\n",
       " 'asVisit-dr17-11932-58794-149.fits',\n",
       " 'asVisit-dr17-11933-58796-146.fits',\n",
       " 'asVisit-dr17-11932-58802-146.fits',\n",
       " 'asVisit-dr17-11933-58803-149.fits',\n",
       " 'asVisit-dr17-11933-58824-149.fits',\n",
       " 'apVisit-dr17-7950-59074-275.fits',\n",
       " 'apVisit-dr17-9084-57556-272.fits',\n",
       " 'apVisit-dr17-9082-57789-281.fits',\n",
       " 'apVisit-dr17-7950-58060-278.fits',\n",
       " 'apVisit-dr17-7950-58085-278.fits',\n",
       " 'apVisit-dr17-9135-58295-272.fits',\n",
       " 'apVisit-dr17-7950-58384-275.fits',\n",
       " 'apVisit-dr17-7951-58504-278.fits',\n",
       " 'apVisit-dr17-7950-58731-278.fits',\n",
       " 'asVisit-dr17-10123-58092-010.fits',\n",
       " 'asVisit-dr17-10123-58322-220.fits',\n",
       " 'asVisit-dr17-10123-58350-220.fits',\n",
       " 'asVisit-dr17-10123-58355-219.fits',\n",
       " 'asVisit-dr17-10123-58414-220.fits',\n",
       " 'asVisit-dr17-11157-58419-219.fits',\n",
       " 'asVisit-dr17-10123-58446-225.fits',\n",
       " 'asVisit-dr17-11157-58655-219.fits',\n",
       " 'apVisit-dr17-7951-59155-021.fits',\n",
       " 'apVisit-dr17-7950-57295-016.fits',\n",
       " 'apVisit-dr17-9084-57556-214.fits',\n",
       " 'apVisit-dr17-9082-57789-015.fits',\n",
       " 'apVisit-dr17-7950-58060-015.fits',\n",
       " 'apVisit-dr17-7950-58085-015.fits',\n",
       " 'apVisit-dr17-7950-58384-027.fits',\n",
       " 'apVisit-dr17-7950-58731-016.fits',\n",
       " 'apVisit-dr17-9519-57736-224.fits',\n",
       " 'apVisit-dr17-9519-58028-227.fits',\n",
       " 'apVisit-dr17-7950-59074-278.fits',\n",
       " 'apVisit-dr17-9264-58054-281.fits',\n",
       " 'apVisit-dr17-9069-58150-278.fits',\n",
       " 'apVisit-dr17-5095-55840-186.fits',\n",
       " 'apVisit-dr17-7950-57295-284.fits',\n",
       " 'apVisit-dr17-9084-57556-278.fits',\n",
       " 'apVisit-dr17-7950-58060-275.fits',\n",
       " 'apVisit-dr17-9135-58295-278.fits',\n",
       " 'apVisit-dr17-7950-58731-284.fits',\n",
       " 'apVisit-dr17-7535-57294-047.fits',\n",
       " 'apVisit-dr17-7535-57321-148.fits',\n",
       " 'apVisit-dr17-7535-57323-148.fits',\n",
       " 'apVisit-dr17-7535-57347-100.fits',\n",
       " 'apVisit-dr17-7535-57294-094.fits',\n",
       " 'apVisit-dr17-7535-57321-059.fits',\n",
       " 'apVisit-dr17-7535-57323-059.fits',\n",
       " 'apVisit-dr17-7535-57347-092.fits',\n",
       " 'apVisit-dr17-8088-58752-255.fits',\n",
       " 'apVisit-dr17-8088-58753-255.fits',\n",
       " 'apVisit-dr17-12769-59083-020.fits',\n",
       " 'apVisit-dr17-12769-59084-020.fits',\n",
       " 'apVisit-dr17-12769-59085-020.fits',\n",
       " 'apVisit-dr17-12769-59083-005.fits',\n",
       " 'apVisit-dr17-12769-59084-005.fits',\n",
       " 'apVisit-dr17-7535-57323-182.fits',\n",
       " 'apVisit-dr17-7535-57294-201.fits',\n",
       " 'apVisit-dr17-7535-57294-034.fits',\n",
       " 'asVisit-dr17-10081-58025-182.fits',\n",
       " 'asVisit-dr17-10123-58414-195.fits',\n",
       " 'apVisit-dr17-8088-58752-155.fits',\n",
       " 'apVisit-dr17-8088-58753-155.fits',\n",
       " 'apVisit-dr17-8088-58752-268.fits',\n",
       " 'apVisit-dr17-8088-58753-268.fits',\n",
       " 'asVisit-dr17-10123-58092-255.fits',\n",
       " 'asVisit-dr17-10123-58358-064.fits',\n",
       " 'asVisit-dr17-11157-58384-063.fits',\n",
       " 'asVisit-dr17-10123-58414-063.fits',\n",
       " 'asVisit-dr17-10123-58419-063.fits',\n",
       " 'asVisit-dr17-10123-58419-063.fits',\n",
       " 'asVisit-dr17-10123-58446-063.fits',\n",
       " 'asVisit-dr17-10081-58053-152.fits',\n",
       " 'apVisit-dr17-7535-57321-035.fits',\n",
       " 'apVisit-dr17-7535-57347-128.fits',\n",
       " 'apVisit-dr17-7535-57294-131.fits',\n",
       " 'apVisit-dr17-7535-57323-035.fits',\n",
       " 'apVisit-dr17-7921-58084-282.fits',\n",
       " 'apVisit-dr17-12769-59084-193.fits',\n",
       " 'apVisit-dr17-12769-59085-193.fits',\n",
       " 'apVisit-dr17-7535-57294-070.fits',\n",
       " 'apVisit-dr17-7535-57321-069.fits',\n",
       " 'apVisit-dr17-7535-57322-069.fits',\n",
       " 'apVisit-dr17-7535-57323-069.fits',\n",
       " 'apVisit-dr17-7535-57347-070.fits',\n",
       " 'asVisit-dr17-10123-58358-075.fits',\n",
       " 'asVisit-dr17-10123-58089-261.fits',\n",
       " 'asVisit-dr17-10123-58092-250.fits',\n",
       " 'asVisit-dr17-10123-58322-076.fits',\n",
       " 'asVisit-dr17-10123-58350-070.fits',\n",
       " 'asVisit-dr17-10123-58355-070.fits',\n",
       " 'asVisit-dr17-11157-58384-070.fits',\n",
       " 'asVisit-dr17-10123-58414-076.fits',\n",
       " 'asVisit-dr17-11157-58419-069.fits',\n",
       " 'asVisit-dr17-11157-58419-069.fits',\n",
       " 'asVisit-dr17-10123-58446-070.fits',\n",
       " 'asVisit-dr17-10123-58677-069.fits',\n",
       " 'apVisit-dr17-12769-59084-144.fits',\n",
       " 'apVisit-dr17-12769-59085-144.fits',\n",
       " 'apVisit-dr17-8656-58017-023.fits',\n",
       " 'apVisit-dr17-8656-58018-023.fits',\n",
       " 'apVisit-dr17-8656-58021-023.fits',\n",
       " 'apVisit-dr17-8656-58022-023.fits',\n",
       " 'apVisit-dr17-12769-59084-040.fits',\n",
       " 'apVisit-dr17-12769-59085-040.fits',\n",
       " 'apVisit-dr17-12769-59083-201.fits',\n",
       " 'apVisit-dr17-12769-59084-201.fits',\n",
       " 'asVisit-dr17-10081-58053-088.fits',\n",
       " 'asVisit-dr17-10081-58061-250.fits',\n",
       " 'asVisit-dr17-10123-58092-208.fits',\n",
       " 'asVisit-dr17-10123-58322-087.fits',\n",
       " 'asVisit-dr17-10123-58350-087.fits',\n",
       " 'asVisit-dr17-10123-58355-033.fits',\n",
       " 'asVisit-dr17-10123-58358-033.fits',\n",
       " 'asVisit-dr17-11157-58384-040.fits',\n",
       " 'asVisit-dr17-10123-58414-141.fits',\n",
       " 'asVisit-dr17-11157-58419-082.fits',\n",
       " 'asVisit-dr17-11157-58419-082.fits',\n",
       " 'asVisit-dr17-10123-58446-039.fits',\n",
       " 'apVisit-dr17-12769-59083-151.fits',\n",
       " 'apVisit-dr17-12769-59084-151.fits',\n",
       " 'apVisit-dr17-12769-59085-151.fits',\n",
       " 'apVisit-dr17-7950-58384-118.fits',\n",
       " 'apVisit-dr17-12769-59083-207.fits',\n",
       " 'apVisit-dr17-12769-59084-207.fits',\n",
       " 'apVisit-dr17-8656-58017-115.fits',\n",
       " 'apVisit-dr17-8656-58018-115.fits',\n",
       " 'apVisit-dr17-8656-58021-115.fits',\n",
       " 'apVisit-dr17-8656-58022-115.fits',\n",
       " 'apVisit-dr17-7921-58038-188.fits',\n",
       " 'apVisit-dr17-7921-58060-188.fits',\n",
       " 'apVisit-dr17-8656-58017-226.fits',\n",
       " 'apVisit-dr17-8656-58018-226.fits',\n",
       " 'apVisit-dr17-8656-58021-226.fits',\n",
       " 'apVisit-dr17-8656-58022-226.fits',\n",
       " 'apVisit-dr17-7921-58060-095.fits',\n",
       " 'apVisit-dr17-7921-58064-095.fits',\n",
       " 'apVisit-dr17-7921-58084-095.fits',\n",
       " 'apVisit-dr17-6232-56224-089.fits',\n",
       " 'asVisit-dr17-12806-59206-298.fits',\n",
       " 'apVisit-dr17-6233-56262-121.fits',\n",
       " 'apVisit-dr17-6234-56225-275.fits',\n",
       " 'apVisit-dr17-6234-56206-275.fits',\n",
       " 'apVisit-dr17-6235-56226-287.fits',\n",
       " 'apVisit-dr17-6235-56230-275.fits',\n",
       " 'apVisit-dr17-6234-56233-287.fits',\n",
       " 'apVisit-dr17-8089-58805-091.fits',\n",
       " 'apVisit-dr17-8089-58791-102.fits',\n",
       " 'apVisit-dr17-8089-58791-207.fits',\n",
       " 'apVisit-dr17-6234-56206-293.fits',\n",
       " 'apVisit-dr17-6234-56233-242.fits',\n",
       " 'apVisit-dr17-6234-56225-293.fits',\n",
       " 'asVisit-dr17-12805-59204-069.fits',\n",
       " 'asVisit-dr17-12805-59207-069.fits',\n",
       " 'asVisit-dr17-12805-59204-089.fits',\n",
       " 'asVisit-dr17-12806-59206-089.fits',\n",
       " 'asVisit-dr17-12805-59207-122.fits',\n",
       " 'apVisit-dr17-8702-57348-257.fits',\n",
       " 'apVisit-dr17-8702-57374-254.fits',\n",
       " 'asVisit-dr17-12806-59206-051.fits',\n",
       " 'asVisit-dr17-12805-59207-051.fits',\n",
       " 'asVisit-dr17-12805-59204-077.fits',\n",
       " 'asVisit-dr17-12806-59206-073.fits',\n",
       " 'asVisit-dr17-12805-59207-077.fits',\n",
       " 'apVisit-dr17-11207-58389-228.fits',\n",
       " 'apVisit-dr17-8656-58017-178.fits',\n",
       " 'apVisit-dr17-8656-58018-178.fits',\n",
       " 'apVisit-dr17-8656-58021-178.fits',\n",
       " 'apVisit-dr17-8656-58022-178.fits',\n",
       " 'asVisit-dr17-12805-59204-126.fits',\n",
       " 'asVisit-dr17-12806-59206-121.fits',\n",
       " 'asVisit-dr17-12805-59207-132.fits',\n",
       " 'apVisit-dr17-8657-58013-014.fits',\n",
       " 'asVisit-dr17-11183-58413-249.fits',\n",
       " 'asVisit-dr17-10083-58028-284.fits',\n",
       " 'asVisit-dr17-10083-58054-248.fits',\n",
       " 'asVisit-dr17-10083-58057-260.fits',\n",
       " 'apVisit-dr17-7777-56991-188.fits',\n",
       " 'apVisit-dr17-7777-57000-188.fits',\n",
       " 'apVisit-dr17-7950-58085-183.fits',\n",
       " 'apVisit-dr17-8657-57665-005.fits',\n",
       " 'apVisit-dr17-8657-58014-008.fits',\n",
       " 'apVisit-dr17-8657-57667-005.fits',\n",
       " 'apVisit-dr17-8657-58011-008.fits',\n",
       " 'apVisit-dr17-8657-58013-008.fits',\n",
       " 'apVisit-dr17-10347-58116-052.fits',\n",
       " 'apVisit-dr17-10347-58119-058.fits',\n",
       " 'apVisit-dr17-8569-58848-213.fits',\n",
       " 'apVisit-dr17-8569-58849-213.fits',\n",
       " 'apVisit-dr17-8569-58841-213.fits',\n",
       " 'apVisit-dr17-10347-58119-238.fits',\n",
       " 'apVisit-dr17-6234-56225-157.fits',\n",
       " 'apVisit-dr17-5264-55896-168.fits',\n",
       " 'apVisit-dr17-5264-56168-175.fits',\n",
       " 'apVisit-dr17-5265-56205-253.fits',\n",
       " 'apVisit-dr17-6234-56206-157.fits',\n",
       " 'apVisit-dr17-5265-56224-162.fits',\n",
       " 'apVisit-dr17-6235-56230-157.fits',\n",
       " 'apVisit-dr17-8684-57676-282.fits',\n",
       " 'apVisit-dr17-8684-57711-288.fits',\n",
       " 'apVisit-dr17-8684-57708-288.fits',\n",
       " 'apVisit-dr17-8684-57711-233.fits',\n",
       " 'apVisit-dr17-7950-57295-197.fits',\n",
       " 'apVisit-dr17-9082-57789-188.fits',\n",
       " 'apVisit-dr17-7950-58085-287.fits',\n",
       " 'apVisit-dr17-7950-58384-197.fits',\n",
       " 'apVisit-dr17-8657-58014-181.fits',\n",
       " 'apVisit-dr17-8657-58011-181.fits',\n",
       " 'apVisit-dr17-8657-58013-181.fits',\n",
       " 'apVisit-dr17-10347-58116-185.fits',\n",
       " 'apVisit-dr17-11207-58386-193.fits',\n",
       " 'apVisit-dr17-11207-58389-294.fits',\n",
       " 'apVisit-dr17-7950-57295-111.fits',\n",
       " 'apVisit-dr17-7950-58731-117.fits',\n",
       " 'apVisit-dr17-8569-58844-026.fits',\n",
       " 'apVisit-dr17-8569-58848-026.fits',\n",
       " 'apVisit-dr17-8569-58849-026.fits',\n",
       " 'apVisit-dr17-6234-56206-263.fits',\n",
       " 'apVisit-dr17-6234-56233-179.fits',\n",
       " 'apVisit-dr17-6234-56225-176.fits',\n",
       " 'asVisit-dr17-10083-58025-255.fits',\n",
       " 'asVisit-dr17-10083-58028-286.fits',\n",
       " 'asVisit-dr17-10083-58054-249.fits',\n",
       " 'apVisit-dr17-12317-58880-017.fits',\n",
       " 'apVisit-dr17-7951-59155-270.fits',\n",
       " 'apVisit-dr17-7950-57295-300.fits',\n",
       " 'apVisit-dr17-9084-57556-295.fits',\n",
       " 'apVisit-dr17-7950-58060-252.fits',\n",
       " 'apVisit-dr17-7950-58085-252.fits',\n",
       " 'apVisit-dr17-7950-58384-295.fits',\n",
       " 'apVisit-dr17-7950-58731-295.fits',\n",
       " 'apVisit-dr17-8684-57676-196.fits',\n",
       " 'apVisit-dr17-8684-57711-183.fits',\n",
       " 'apVisit-dr17-8569-58844-183.fits',\n",
       " 'apVisit-dr17-8569-58848-183.fits',\n",
       " 'apVisit-dr17-8569-58849-183.fits',\n",
       " 'apVisit-dr17-12313-58821-190.fits',\n",
       " 'apVisit-dr17-12313-58829-195.fits',\n",
       " 'apVisit-dr17-12313-59046-190.fits',\n",
       " 'apVisit-dr17-9264-57645-009.fits',\n",
       " 'apVisit-dr17-7950-57295-047.fits',\n",
       " 'apVisit-dr17-9135-58295-059.fits',\n",
       " 'apVisit-dr17-7951-59155-113.fits',\n",
       " 'apVisit-dr17-9135-58295-101.fits',\n",
       " 'apVisit-dr17-7950-58384-095.fits',\n",
       " 'apVisit-dr17-8000-57271-065.fits',\n",
       " 'apVisit-dr17-8000-57295-071.fits',\n",
       " 'apVisit-dr17-8000-56968-065.fits',\n",
       " 'apVisit-dr17-8569-58844-195.fits',\n",
       " 'apVisit-dr17-8569-58849-195.fits',\n",
       " 'apVisit-dr17-8569-58840-195.fits',\n",
       " 'apVisit-dr17-8569-58848-195.fits',\n",
       " 'apVisit-dr17-10347-58116-265.fits',\n",
       " 'apVisit-dr17-12317-58831-293.fits',\n",
       " 'apVisit-dr17-8657-58014-160.fits',\n",
       " 'apVisit-dr17-8657-58013-160.fits',\n",
       " 'apVisit-dr17-8684-57676-037.fits',\n",
       " 'apVisit-dr17-8684-57708-043.fits',\n",
       " 'apVisit-dr17-10347-58116-086.fits',\n",
       " 'apVisit-dr17-10347-58385-083.fits',\n",
       " 'apVisit-dr17-6561-56587-093.fits',\n",
       " 'apVisit-dr17-6561-56607-094.fits',\n",
       " 'apVisit-dr17-6561-56616-105.fits',\n",
       " 'apVisit-dr17-9084-57556-148.fits',\n",
       " 'apVisit-dr17-9082-57789-106.fits',\n",
       " 'apVisit-dr17-9135-58295-148.fits',\n",
       " 'apVisit-dr17-7950-58384-099.fits',\n",
       " 'apVisit-dr17-7951-58504-094.fits',\n",
       " 'apVisit-dr17-7951-59155-106.fits',\n",
       " 'apVisit-dr17-8684-57676-161.fits',\n",
       " 'apVisit-dr17-8684-57711-206.fits',\n",
       " 'apVisit-dr17-8684-57708-206.fits',\n",
       " 'apVisit-dr17-10347-58119-152.fits',\n",
       " 'apVisit-dr17-11207-58417-180.fits',\n",
       " 'apVisit-dr17-8569-58844-209.fits',\n",
       " 'apVisit-dr17-8569-58848-209.fits',\n",
       " 'apVisit-dr17-8569-58849-209.fits',\n",
       " 'asVisit-dr17-10036-58032-160.fits',\n",
       " 'asVisit-dr17-10036-58057-159.fits',\n",
       " 'apVisit-dr17-11207-58386-089.fits',\n",
       " 'apVisit-dr17-11207-58389-125.fits',\n",
       " 'apVisit-dr17-8657-57665-266.fits',\n",
       " 'apVisit-dr17-8657-57667-266.fits',\n",
       " 'apVisit-dr17-8657-58014-257.fits',\n",
       " 'apVisit-dr17-8657-58013-257.fits',\n",
       " 'apVisit-dr17-8684-57708-123.fits',\n",
       " 'apVisit-dr17-10347-58116-081.fits',\n",
       " 'apVisit-dr17-10347-58119-123.fits',\n",
       " 'apVisit-dr17-7771-56945-273.fits',\n",
       " 'apVisit-dr17-7771-57022-279.fits',\n",
       " 'asVisit-dr17-10082-58027-262.fits',\n",
       " 'asVisit-dr17-10125-58094-063.fits',\n",
       " 'asVisit-dr17-10124-58349-063.fits',\n",
       " 'asVisit-dr17-10124-58352-063.fits',\n",
       " 'asVisit-dr17-10124-58355-063.fits',\n",
       " 'asVisit-dr17-10124-58382-069.fits',\n",
       " 'asVisit-dr17-10125-58444-063.fits',\n",
       " 'apVisit-dr17-9264-59059-097.fits',\n",
       " 'apVisit-dr17-9264-59159-055.fits',\n",
       " 'apVisit-dr17-5221-55815-118.fits',\n",
       " 'apVisit-dr17-5221-55822-093.fits',\n",
       " 'apVisit-dr17-5221-55841-094.fits',\n",
       " 'apVisit-dr17-5221-55866-094.fits',\n",
       " 'apVisit-dr17-5221-55876-093.fits',\n",
       " 'apVisit-dr17-5221-56653-099.fits',\n",
       " 'apVisit-dr17-5221-56656-099.fits',\n",
       " 'apVisit-dr17-6104-56902-093.fits',\n",
       " 'apVisit-dr17-9264-57645-102.fits',\n",
       " 'apVisit-dr17-9264-57672-109.fits',\n",
       " 'apVisit-dr17-9264-57709-091.fits',\n",
       " 'apVisit-dr17-9519-57736-109.fits',\n",
       " 'apVisit-dr17-9519-57760-109.fits',\n",
       " 'apVisit-dr17-9264-58009-103.fits',\n",
       " 'apVisit-dr17-9519-58028-103.fits',\n",
       " 'apVisit-dr17-9519-58121-091.fits',\n",
       " 'apVisit-dr17-9069-58150-103.fits',\n",
       " 'apVisit-dr17-8659-57649-272.fits',\n",
       " 'apVisit-dr17-8659-57673-272.fits',\n",
       " 'asVisit-dr17-10082-58024-015.fits',\n",
       " 'asVisit-dr17-10082-58027-232.fits',\n",
       " 'apVisit-dr17-9069-57822-003.fits',\n",
       " 'apVisit-dr17-12317-58831-257.fits',\n",
       " 'apVisit-dr17-8684-57711-061.fits',\n",
       " 'apVisit-dr17-7950-57295-192.fits',\n",
       " 'apVisit-dr17-9082-57789-193.fits',\n",
       " 'apVisit-dr17-9083-57887-193.fits',\n",
       " 'apVisit-dr17-7950-58384-199.fits',\n",
       " 'apVisit-dr17-8659-57649-239.fits',\n",
       " 'asVisit-dr17-11182-58438-255.fits',\n",
       " 'apVisit-dr17-7771-57029-250.fits',\n",
       " 'apVisit-dr17-7771-57029-052.fits',\n",
       " 'asVisit-dr17-10036-58057-039.fits',\n",
       " 'apVisit-dr17-7771-57022-052.fits',\n",
       " 'apVisit-dr17-12317-58831-125.fits',\n",
       " 'apVisit-dr17-12317-58880-089.fits',\n",
       " 'apVisit-dr17-8569-58840-065.fits',\n",
       " 'apVisit-dr17-8569-58844-065.fits',\n",
       " 'apVisit-dr17-8569-58849-065.fits',\n",
       " 'apVisit-dr17-8091-58754-018.fits',\n",
       " 'apVisit-dr17-8091-58755-018.fits',\n",
       " 'apVisit-dr17-12316-58830-276.fits',\n",
       " 'apVisit-dr17-7771-57029-196.fits',\n",
       " 'apVisit-dr17-6561-56607-153.fits',\n",
       " 'apVisit-dr17-7950-57295-093.fits',\n",
       " 'apVisit-dr17-9082-57789-141.fits',\n",
       " 'apVisit-dr17-7950-58060-088.fits',\n",
       " 'apVisit-dr17-7950-58085-088.fits',\n",
       " 'apVisit-dr17-7950-58384-052.fits',\n",
       " 'apVisit-dr17-7951-59155-142.fits',\n",
       " 'asVisit-dr17-10036-58032-047.fits',\n",
       " 'asVisit-dr17-11900-58708-270.fits',\n",
       " 'apVisit-dr17-7771-56945-044.fits',\n",
       " 'apVisit-dr17-7771-57029-041.fits',\n",
       " 'apVisit-dr17-12317-58831-164.fits',\n",
       " 'apVisit-dr17-12316-58830-286.fits',\n",
       " 'apVisit-dr17-12316-58830-113.fits',\n",
       " 'apVisit-dr17-12696-59079-271.fits',\n",
       " 'apVisit-dr17-12696-59080-271.fits',\n",
       " 'apVisit-dr17-12696-59083-271.fits',\n",
       " 'asVisit-dr17-10036-58032-137.fits',\n",
       " 'asVisit-dr17-11900-58708-228.fits',\n",
       " 'asVisit-dr17-11900-58713-223.fits',\n",
       " 'asVisit-dr17-11901-58714-238.fits',\n",
       " 'asVisit-dr17-11900-58767-223.fits',\n",
       " 'asVisit-dr17-11901-58768-238.fits',\n",
       " 'asVisit-dr17-10126-58093-134.fits',\n",
       " 'asVisit-dr17-10126-58096-041.fits',\n",
       " 'asVisit-dr17-11901-58768-197.fits',\n",
       " 'apVisit-dr17-8114-57265-234.fits',\n",
       " 'apVisit-dr17-8091-58754-191.fits',\n",
       " 'asVisit-dr17-10083-58054-073.fits',\n",
       " 'asVisit-dr17-11900-58708-229.fits',\n",
       " 'asVisit-dr17-11900-58713-229.fits',\n",
       " 'asVisit-dr17-11901-58714-233.fits',\n",
       " 'asVisit-dr17-11900-58767-234.fits',\n",
       " 'asVisit-dr17-11901-58768-230.fits',\n",
       " 'asVisit-dr17-11901-58799-239.fits',\n",
       " 'asVisit-dr17-11037-58331-265.fits',\n",
       " 'apVisit-dr17-12073-58781-015.fits',\n",
       " 'apVisit-dr17-12073-58782-015.fits',\n",
       " 'apVisit-dr17-8659-57377-134.fits',\n",
       " 'apVisit-dr17-8659-57649-134.fits',\n",
       " 'apVisit-dr17-8659-57652-137.fits',\n",
       " 'apVisit-dr17-8659-57673-131.fits',\n",
       " 'asVisit-dr17-10037-58029-230.fits',\n",
       " 'apVisit-dr17-8091-58754-106.fits',\n",
       " 'apVisit-dr17-8091-58755-106.fits',\n",
       " 'asVisit-dr17-10083-58054-093.fits',\n",
       " 'asVisit-dr17-10126-58447-088.fits',\n",
       " 'asVisit-dr17-10137-58295-177.fits',\n",
       " 'asVisit-dr17-10139-58329-177.fits',\n",
       " 'asVisit-dr17-10139-58357-177.fits',\n",
       " 'asVisit-dr17-10140-58385-177.fits',\n",
       " 'apVisit-dr17-8659-57649-064.fits',\n",
       " 'asVisit-dr17-10037-58029-022.fits',\n",
       " 'apVisit-dr17-8114-57265-093.fits',\n",
       " 'apVisit-dr17-8114-57271-094.fits',\n",
       " 'asVisit-dr17-11901-58768-055.fits',\n",
       " 'asVisit-dr17-10037-58029-074.fits',\n",
       " 'apVisit-dr17-12311-58825-243.fits',\n",
       " 'apVisit-dr17-8114-57265-041.fits',\n",
       " 'apVisit-dr17-8114-57271-044.fits',\n",
       " 'apVisit-dr17-12316-58830-129.fits',\n",
       " 'apVisit-dr17-12316-58830-129.fits',\n",
       " 'apVisit-dr17-12696-59083-083.fits',\n",
       " 'asVisit-dr17-11901-58714-127.fits',\n",
       " 'asVisit-dr17-11901-58799-127.fits',\n",
       " 'asVisit-dr17-11036-58324-190.fits',\n",
       " 'asVisit-dr17-11036-58329-184.fits',\n",
       " 'asVisit-dr17-11036-58350-190.fits',\n",
       " 'asVisit-dr17-10137-58095-160.fits',\n",
       " 'asVisit-dr17-10137-58295-160.fits',\n",
       " 'asVisit-dr17-10138-58296-262.fits',\n",
       " 'asVisit-dr17-10139-58297-159.fits',\n",
       " 'asVisit-dr17-10138-58328-268.fits',\n",
       " 'asVisit-dr17-10139-58329-159.fits',\n",
       " 'asVisit-dr17-10138-58352-159.fits',\n",
       " 'asVisit-dr17-10139-58357-262.fits',\n",
       " 'asVisit-dr17-11161-58383-171.fits',\n",
       " 'asVisit-dr17-10140-58385-160.fits',\n",
       " 'asVisit-dr17-11161-58644-160.fits',\n",
       " 'asVisit-dr17-10140-58660-159.fits',\n",
       " 'asVisit-dr17-10140-58675-159.fits',\n",
       " 'asVisit-dr17-10037-58029-106.fits',\n",
       " 'asVisit-dr17-9999-58033-296.fits',\n",
       " 'apVisit-dr17-12073-58781-278.fits',\n",
       " 'apVisit-dr17-12073-58782-278.fits',\n",
       " 'apVisit-dr17-12073-58783-278.fits',\n",
       " 'apVisit-dr17-12696-59080-255.fits',\n",
       " 'apVisit-dr17-12696-59083-255.fits',\n",
       " 'apVisit-dr17-12696-59079-132.fits',\n",
       " 'apVisit-dr17-12696-59080-132.fits',\n",
       " 'asVisit-dr17-9999-58033-247.fits',\n",
       " 'asVisit-dr17-10039-58062-297.fits',\n",
       " 'asVisit-dr17-11036-58324-027.fits',\n",
       " 'asVisit-dr17-11036-58350-011.fits',\n",
       " 'asVisit-dr17-11036-58324-030.fits',\n",
       " 'asVisit-dr17-11037-58325-019.fits',\n",
       " 'asVisit-dr17-11036-58329-057.fits',\n",
       " 'apVisit-dr17-12092-58783-107.fits',\n",
       " 'apVisit-dr17-12092-58784-107.fits',\n",
       " 'asVisit-dr17-12747-59151-249.fits',\n",
       " 'asVisit-dr17-12747-59152-249.fits',\n",
       " 'asVisit-dr17-12747-59156-250.fits',\n",
       " 'apVisit-dr17-12092-58783-281.fits',\n",
       " 'apVisit-dr17-12092-58784-281.fits',\n",
       " 'apVisit-dr17-7950-58731-089.fits',\n",
       " 'asVisit-dr17-9999-58033-170.fits',\n",
       " 'asVisit-dr17-10039-58062-188.fits',\n",
       " 'asVisit-dr17-10039-58063-182.fits',\n",
       " 'apVisit-dr17-12073-58781-202.fits',\n",
       " 'apVisit-dr17-12073-58782-202.fits',\n",
       " 'apVisit-dr17-12073-58783-202.fits',\n",
       " 'apVisit-dr17-12311-58825-268.fits',\n",
       " 'apVisit-dr17-8091-58754-172.fits',\n",
       " 'apVisit-dr17-8091-58755-172.fits',\n",
       " 'asVisit-dr17-12747-59147-291.fits',\n",
       " 'asVisit-dr17-12747-59148-291.fits',\n",
       " 'asVisit-dr17-12747-59149-291.fits',\n",
       " 'asVisit-dr17-12747-59151-291.fits',\n",
       " 'asVisit-dr17-12747-59152-291.fits',\n",
       " 'asVisit-dr17-12747-59154-291.fits',\n",
       " 'asVisit-dr17-12747-59155-249.fits',\n",
       " 'asVisit-dr17-12747-59156-243.fits',\n",
       " 'asVisit-dr17-12747-59158-292.fits',\n",
       " 'asVisit-dr17-12747-59159-243.fits',\n",
       " 'asVisit-dr17-10138-58328-219.fits',\n",
       " 'asVisit-dr17-10139-58329-225.fits',\n",
       " 'asVisit-dr17-10139-58357-219.fits',\n",
       " 'asVisit-dr17-11161-58383-220.fits',\n",
       " 'asVisit-dr17-10140-58385-213.fits',\n",
       " 'asVisit-dr17-10140-58675-213.fits',\n",
       " 'asVisit-dr17-10039-58062-204.fits',\n",
       " 'asVisit-dr17-10039-58063-168.fits',\n",
       " 'asVisit-dr17-11036-58350-100.fits',\n",
       " 'apVisit-dr17-12073-58783-257.fits',\n",
       " 'asVisit-dr17-10039-58062-088.fits',\n",
       " 'asVisit-dr17-10039-58063-033.fits',\n",
       " 'asVisit-dr17-12747-59156-241.fits',\n",
       " 'apVisit-dr17-8035-56990-233.fits',\n",
       " 'apVisit-dr17-8035-57293-191.fits',\n",
       " 'apVisit-dr17-12314-58853-224.fits',\n",
       " 'apVisit-dr17-12092-58783-201.fits',\n",
       " 'apVisit-dr17-12092-58784-201.fits',\n",
       " 'apVisit-dr17-7950-57295-137.fits',\n",
       " 'apVisit-dr17-9082-57789-134.fits',\n",
       " 'apVisit-dr17-7950-58060-149.fits',\n",
       " 'apVisit-dr17-7950-58384-128.fits',\n",
       " 'apVisit-dr17-12073-58782-125.fits',\n",
       " 'apVisit-dr17-12073-58783-125.fits',\n",
       " 'apVisit-dr17-5095-55844-038.fits',\n",
       " 'apVisit-dr17-5095-55821-086.fits',\n",
       " 'apVisit-dr17-5095-55840-038.fits',\n",
       " 'asVisit-dr17-10127-58709-280.fits',\n",
       " 'asVisit-dr17-10137-58095-064.fits',\n",
       " 'asVisit-dr17-10137-58295-063.fits',\n",
       " 'asVisit-dr17-10138-58296-063.fits',\n",
       " 'asVisit-dr17-10139-58297-063.fits',\n",
       " 'asVisit-dr17-10139-58329-064.fits',\n",
       " 'asVisit-dr17-10138-58352-063.fits',\n",
       " 'asVisit-dr17-10139-58357-064.fits',\n",
       " 'asVisit-dr17-10140-58385-064.fits',\n",
       " 'asVisit-dr17-11161-58644-063.fits',\n",
       " 'asVisit-dr17-10140-58675-064.fits',\n",
       " 'apVisit-dr17-12310-59041-109.fits',\n",
       " 'apVisit-dr17-12310-58860-102.fits',\n",
       " 'apVisit-dr17-12092-58784-136.fits',\n",
       " 'asVisit-dr17-10139-58329-057.fits',\n",
       " 'apVisit-dr17-12092-58784-128.fits',\n",
       " 'apVisit-dr17-5095-55840-267.fits',\n",
       " 'apVisit-dr17-5095-55844-268.fits',\n",
       " 'apVisit-dr17-12310-58860-291.fits',\n",
       " 'apVisit-dr17-12310-59041-196.fits',\n",
       " 'apVisit-dr17-8661-57655-014.fits',\n",
       " 'apVisit-dr17-8661-57678-017.fits',\n",
       " 'apVisit-dr17-12314-58829-292.fits',\n",
       " 'apVisit-dr17-12314-58853-291.fits',\n",
       " 'apVisit-dr17-8661-57650-029.fits',\n",
       " 'apVisit-dr17-9519-58028-143.fits',\n",
       " 'apVisit-dr17-9264-58054-146.fits',\n",
       " 'apVisit-dr17-9519-58083-143.fits',\n",
       " 'apVisit-dr17-5221-55815-041.fits',\n",
       " 'apVisit-dr17-5221-55822-041.fits',\n",
       " 'apVisit-dr17-5221-55841-038.fits',\n",
       " 'apVisit-dr17-7950-57295-135.fits',\n",
       " 'apVisit-dr17-7950-58060-148.fits',\n",
       " 'apVisit-dr17-7950-58085-148.fits',\n",
       " 'asVisit-dr17-12740-59175-260.fits',\n",
       " 'apVisit-dr17-12772-59085-235.fits',\n",
       " 'apVisit-dr17-8661-57650-014.fits',\n",
       " 'asVisit-dr17-12740-59175-284.fits',\n",
       " 'apVisit-dr17-12314-58829-092.fits',\n",
       " 'apVisit-dr17-12772-59085-230.fits',\n",
       " 'apVisit-dr17-12314-58829-141.fits',\n",
       " 'apVisit-dr17-12314-58853-141.fits',\n",
       " 'apVisit-dr17-12092-58783-066.fits',\n",
       " 'apVisit-dr17-12092-58784-066.fits',\n",
       " 'asVisit-dr17-12740-59175-178.fits',\n",
       " 'apVisit-dr17-12092-58784-061.fits',\n",
       " 'asVisit-dr17-11180-58413-099.fits',\n",
       " 'apVisit-dr17-12094-58814-020.fits',\n",
       " 'apVisit-dr17-12094-58819-020.fits',\n",
       " 'apVisit-dr17-12094-58868-020.fits',\n",
       " 'apVisit-dr17-12309-58856-239.fits',\n",
       " 'asVisit-dr17-12740-59175-236.fits',\n",
       " 'apVisit-dr17-12094-58814-222.fits',\n",
       " 'apVisit-dr17-12094-58819-222.fits',\n",
       " 'apVisit-dr17-11212-58392-030.fits',\n",
       " 'apVisit-dr17-11212-58419-025.fits',\n",
       " 'apVisit-dr17-12772-59085-117.fits',\n",
       " 'asVisit-dr17-12747-59147-014.fits',\n",
       " 'asVisit-dr17-12747-59148-014.fits',\n",
       " 'asVisit-dr17-12747-59149-014.fits',\n",
       " 'asVisit-dr17-12747-59150-014.fits',\n",
       " 'asVisit-dr17-12747-59151-014.fits',\n",
       " 'asVisit-dr17-12747-59152-014.fits',\n",
       " 'asVisit-dr17-12747-59154-014.fits',\n",
       " 'asVisit-dr17-12747-59155-014.fits',\n",
       " 'asVisit-dr17-12747-59156-017.fits',\n",
       " 'asVisit-dr17-12747-59157-014.fits',\n",
       " 'asVisit-dr17-12747-59159-020.fits',\n",
       " 'asVisit-dr17-10140-58660-140.fits',\n",
       " 'asVisit-dr17-10140-58675-146.fits',\n",
       " 'apVisit-dr17-7548-56995-194.fits',\n",
       " 'apVisit-dr17-7548-56944-200.fits',\n",
       " 'apVisit-dr17-7548-57021-188.fits',\n",
       " 'apVisit-dr17-12310-59041-124.fits',\n",
       " 'apVisit-dr17-8661-57650-143.fits',\n",
       " 'apVisit-dr17-8661-57655-038.fits',\n",
       " 'apVisit-dr17-12314-58829-180.fits',\n",
       " 'apVisit-dr17-12314-58853-162.fits',\n",
       " 'apVisit-dr17-12314-58829-175.fits',\n",
       " 'apVisit-dr17-8661-57650-204.fits',\n",
       " 'apVisit-dr17-8661-57678-205.fits',\n",
       " 'apVisit-dr17-12074-58788-097.fits',\n",
       " 'asVisit-dr17-11902-58676-256.fits',\n",
       " 'asVisit-dr17-11903-58681-256.fits',\n",
       " 'asVisit-dr17-11902-58707-249.fits',\n",
       " 'asVisit-dr17-11903-58708-250.fits',\n",
       " 'apVisit-dr17-8661-57650-053.fits',\n",
       " 'apVisit-dr17-8661-57655-053.fits',\n",
       " 'apVisit-dr17-8661-57678-053.fits',\n",
       " 'asVisit-dr17-12747-59148-009.fits',\n",
       " 'asVisit-dr17-12747-59149-009.fits',\n",
       " 'asVisit-dr17-12747-59150-009.fits',\n",
       " 'asVisit-dr17-12747-59151-009.fits',\n",
       " 'asVisit-dr17-12747-59159-009.fits',\n",
       " 'apVisit-dr17-10352-58418-276.fits',\n",
       " 'apVisit-dr17-10352-58421-277.fits',\n",
       " 'apVisit-dr17-10352-58390-271.fits',\n",
       " 'apVisit-dr17-8661-57650-266.fits',\n",
       " 'apVisit-dr17-8661-57655-245.fits',\n",
       " 'asVisit-dr17-11180-58413-098.fits',\n",
       " 'asVisit-dr17-12740-59175-009.fits',\n",
       " 'asVisit-dr17-11902-58800-285.fits',\n",
       " 'asVisit-dr17-11903-58677-276.fits',\n",
       " 'asVisit-dr17-11903-58681-282.fits',\n",
       " 'asVisit-dr17-11903-58708-228.fits',\n",
       " 'asVisit-dr17-11903-58713-271.fits',\n",
       " 'asVisit-dr17-11902-58800-276.fits',\n",
       " 'asVisit-dr17-11902-58657-277.fits',\n",
       " 'asVisit-dr17-11902-58676-282.fits',\n",
       " 'apVisit-dr17-12093-58784-015.fits',\n",
       " 'apVisit-dr17-7548-56995-078.fits',\n",
       " 'asVisit-dr17-12740-59175-146.fits',\n",
       " 'asVisit-dr17-12743-59192-257.fits',\n",
       " 'apVisit-dr17-9519-57760-079.fits',\n",
       " 'apVisit-dr17-9069-57822-079.fits',\n",
       " 'apVisit-dr17-9264-58009-079.fits',\n",
       " 'apVisit-dr17-9519-58083-036.fits',\n",
       " 'apVisit-dr17-5221-55841-036.fits',\n",
       " 'apVisit-dr17-5221-55876-031.fits',\n",
       " 'apVisit-dr17-9082-57789-122.fits',\n",
       " 'apVisit-dr17-9083-57887-122.fits',\n",
       " 'apVisit-dr17-7950-58085-077.fits',\n",
       " 'apVisit-dr17-9135-58295-077.fits',\n",
       " 'apVisit-dr17-7950-58384-086.fits',\n",
       " 'apVisit-dr17-7950-58731-071.fits',\n",
       " 'apVisit-dr17-12074-58788-297.fits',\n",
       " 'asVisit-dr17-12747-59147-040.fits',\n",
       " 'asVisit-dr17-12747-59148-040.fits',\n",
       " 'asVisit-dr17-12747-59149-040.fits',\n",
       " 'asVisit-dr17-12747-59150-040.fits',\n",
       " 'asVisit-dr17-12747-59151-040.fits',\n",
       " 'asVisit-dr17-12747-59156-141.fits',\n",
       " 'asVisit-dr17-12747-59157-141.fits',\n",
       " 'asVisit-dr17-12747-59158-141.fits',\n",
       " 'asVisit-dr17-12743-59192-256.fits',\n",
       " 'asVisit-dr17-11902-58657-188.fits',\n",
       " 'asVisit-dr17-12742-59176-291.fits',\n",
       " 'apVisit-dr17-12772-59085-127.fits',\n",
       " 'asVisit-dr17-11903-58677-082.fits',\n",
       " 'asVisit-dr17-11903-58681-081.fits',\n",
       " 'asVisit-dr17-11903-58708-069.fits',\n",
       " 'asVisit-dr17-11903-58713-082.fits',\n",
       " 'asVisit-dr17-11903-58768-081.fits',\n",
       " 'apVisit-dr17-12093-58784-007.fits',\n",
       " 'apVisit-dr17-12093-58786-007.fits',\n",
       " 'apVisit-dr17-12093-58784-112.fits',\n",
       " 'apVisit-dr17-12094-58814-147.fits',\n",
       " 'apVisit-dr17-12094-58868-124.fits',\n",
       " 'apVisit-dr17-12093-58786-112.fits',\n",
       " 'asVisit-dr17-11903-58681-010.fits',\n",
       " 'asVisit-dr17-11903-58708-056.fits',\n",
       " 'apVisit-dr17-12094-58868-170.fits',\n",
       " 'apVisit-dr17-12094-58814-155.fits',\n",
       " 'apVisit-dr17-12094-58819-155.fits',\n",
       " 'apVisit-dr17-12308-58854-107.fits',\n",
       " 'asVisit-dr17-12743-59192-143.fits',\n",
       " 'asVisit-dr17-10038-58031-293.fits',\n",
       " 'asVisit-dr17-10038-58805-293.fits',\n",
       " 'asVisit-dr17-10038-58805-201.fits',\n",
       " 'apVisit-dr17-12094-58819-083.fits',\n",
       " 'apVisit-dr17-12074-58788-172.fits',\n",
       " 'apVisit-dr17-12075-58779-224.fits',\n",
       " 'apVisit-dr17-12075-58780-224.fits',\n",
       " 'asVisit-dr17-10038-58031-159.fits',\n",
       " 'asVisit-dr17-10038-58805-154.fits',\n",
       " 'apVisit-dr17-12075-58779-013.fits',\n",
       " 'apVisit-dr17-12075-58780-013.fits',\n",
       " 'asVisit-dr17-9910-57947-179.fits',\n",
       " 'apVisit-dr17-12093-58784-259.fits',\n",
       " 'apVisit-dr17-12318-58823-105.fits',\n",
       " 'asVisit-dr17-10038-58805-047.fits',\n",
       " 'asVisit-dr17-12741-59195-080.fits',\n",
       " 'asVisit-dr17-9910-57947-181.fits',\n",
       " 'apVisit-dr17-12093-58784-159.fits',\n",
       " 'apVisit-dr17-8092-58836-241.fits',\n",
       " 'apVisit-dr17-8092-58837-241.fits',\n",
       " 'asVisit-dr17-12741-59195-010.fits',\n",
       " 'apVisit-dr17-12075-58779-274.fits',\n",
       " 'apVisit-dr17-12318-58832-093.fits',\n",
       " 'apVisit-dr17-12318-58823-093.fits',\n",
       " 'apVisit-dr17-12318-58832-052.fits',\n",
       " 'apVisit-dr17-12308-58854-080.fits',\n",
       " 'asVisit-dr17-10038-58805-059.fits',\n",
       " 'apVisit-dr17-8093-58848-117.fits',\n",
       " 'apVisit-dr17-8093-58849-117.fits',\n",
       " 'apVisit-dr17-8092-58834-040.fits',\n",
       " 'apVisit-dr17-8092-58835-040.fits',\n",
       " 'apVisit-dr17-8092-58836-040.fits',\n",
       " 'apVisit-dr17-8092-58837-040.fits',\n",
       " 'asVisit-dr17-9910-57947-196.fits',\n",
       " 'apVisit-dr17-12318-58823-285.fits',\n",
       " 'apVisit-dr17-12308-58854-090.fits',\n",
       " 'apVisit-dr17-12318-58832-203.fits',\n",
       " 'apVisit-dr17-12075-58779-104.fits',\n",
       " 'apVisit-dr17-12075-58780-104.fits',\n",
       " 'asVisit-dr17-12741-59195-101.fits',\n",
       " 'asVisit-dr17-9910-57947-074.fits',\n",
       " 'apVisit-dr17-9264-57672-071.fits',\n",
       " 'apVisit-dr17-9519-57736-083.fits',\n",
       " 'apVisit-dr17-9519-57760-086.fits',\n",
       " 'apVisit-dr17-9069-57822-077.fits',\n",
       " 'apVisit-dr17-9264-58009-071.fits',\n",
       " 'apVisit-dr17-9519-58028-086.fits',\n",
       " 'apVisit-dr17-9264-58054-077.fits',\n",
       " 'apVisit-dr17-9519-58083-083.fits',\n",
       " 'apVisit-dr17-9519-58121-077.fits',\n",
       " 'apVisit-dr17-9069-58150-089.fits',\n",
       " 'apVisit-dr17-5221-55815-086.fits',\n",
       " 'apVisit-dr17-5221-55822-080.fits',\n",
       " 'apVisit-dr17-5221-55841-089.fits',\n",
       " 'apVisit-dr17-5221-55866-080.fits',\n",
       " 'apVisit-dr17-5221-55876-086.fits',\n",
       " 'apVisit-dr17-5221-56654-080.fits',\n",
       " 'apVisit-dr17-5221-56656-080.fits',\n",
       " 'apVisit-dr17-6104-56902-068.fits',\n",
       " 'apVisit-dr17-7950-57295-074.fits',\n",
       " 'apVisit-dr17-9084-57556-077.fits',\n",
       " 'apVisit-dr17-9082-57789-077.fits',\n",
       " 'apVisit-dr17-9083-57887-077.fits',\n",
       " 'apVisit-dr17-7950-58085-137.fits',\n",
       " 'apVisit-dr17-7950-58384-077.fits',\n",
       " 'apVisit-dr17-7951-58504-077.fits',\n",
       " 'apVisit-dr17-7950-58731-125.fits',\n",
       " 'apVisit-dr17-9264-59059-041.fits',\n",
       " 'apVisit-dr17-5221-56653-080.fits',\n",
       " 'apVisit-dr17-7950-59074-128.fits',\n",
       " 'apVisit-dr17-9264-57645-199.fits',\n",
       " 'apVisit-dr17-9264-57672-205.fits',\n",
       " 'apVisit-dr17-9264-57709-205.fits',\n",
       " 'apVisit-dr17-9264-58009-162.fits',\n",
       " 'apVisit-dr17-9069-58150-204.fits',\n",
       " 'apVisit-dr17-5221-55815-205.fits',\n",
       " 'apVisit-dr17-5221-55866-157.fits',\n",
       " 'apVisit-dr17-5221-56653-156.fits',\n",
       " 'apVisit-dr17-5221-56654-156.fits',\n",
       " 'apVisit-dr17-7950-58384-169.fits',\n",
       " 'apVisit-dr17-12318-58832-135.fits',\n",
       " 'apVisit-dr17-12075-58780-042.fits',\n",
       " 'asVisit-dr17-9910-57947-121.fits',\n",
       " 'apVisit-dr17-12318-58823-149.fits',\n",
       " 'apVisit-dr17-12318-58832-137.fits',\n",
       " 'asVisit-dr17-9910-57947-057.fits',\n",
       " 'apVisit-dr17-12075-58779-035.fits',\n",
       " 'apVisit-dr17-12075-58779-245.fits',\n",
       " 'apVisit-dr17-12075-58780-245.fits',\n",
       " 'apVisit-dr17-8683-57675-027.fits',\n",
       " 'apVisit-dr17-8683-57679-111.fits',\n",
       " 'apVisit-dr17-8093-58866-149.fits',\n",
       " 'apVisit-dr17-8093-58848-107.fits',\n",
       " 'apVisit-dr17-8093-58849-107.fits',\n",
       " 'apVisit-dr17-8093-58863-149.fits',\n",
       " 'apVisit-dr17-8683-57651-019.fits',\n",
       " 'apVisit-dr17-8093-58863-188.fits',\n",
       " 'apVisit-dr17-12075-58779-143.fits',\n",
       " 'apVisit-dr17-12075-58780-143.fits',\n",
       " 'asVisit-dr17-12775-59157-249.fits',\n",
       " 'asVisit-dr17-12775-59160-249.fits',\n",
       " 'asVisit-dr17-12775-59162-249.fits',\n",
       " 'asVisit-dr17-12775-59163-249.fits',\n",
       " 'asVisit-dr17-12775-59179-256.fits',\n",
       " 'asVisit-dr17-12775-59191-249.fits',\n",
       " 'asVisit-dr17-12775-59195-249.fits',\n",
       " 'apVisit-dr17-8093-58848-044.fits',\n",
       " 'apVisit-dr17-8093-58849-044.fits',\n",
       " 'asVisit-dr17-12810-59203-291.fits',\n",
       " 'asVisit-dr17-12810-59212-190.fits',\n",
       " 'apVisit-dr17-8092-58835-065.fits',\n",
       " 'apVisit-dr17-8092-58836-065.fits',\n",
       " 'apVisit-dr17-8093-58848-198.fits',\n",
       " 'apVisit-dr17-8093-58863-192.fits',\n",
       " 'apVisit-dr17-8093-58866-192.fits',\n",
       " 'apVisit-dr17-12075-58780-129.fits',\n",
       " 'asVisit-dr17-12809-59211-184.fits',\n",
       " 'asVisit-dr17-12809-59214-183.fits',\n",
       " 'apVisit-dr17-12075-58779-161.fits',\n",
       " 'apVisit-dr17-12075-58780-161.fits',\n",
       " 'apVisit-dr17-12318-58823-077.fits',\n",
       " 'apVisit-dr17-12318-58832-065.fits',\n",
       " 'apVisit-dr17-8683-57651-284.fits',\n",
       " 'apVisit-dr17-8683-57675-293.fits',\n",
       " 'apVisit-dr17-8683-57679-296.fits',\n",
       " 'apVisit-dr17-8683-57651-298.fits',\n",
       " 'apVisit-dr17-8683-57675-249.fits',\n",
       " 'apVisit-dr17-8683-57679-249.fits',\n",
       " 'apVisit-dr17-6562-56642-294.fits',\n",
       " 'apVisit-dr17-6562-56644-295.fits',\n",
       " 'apVisit-dr17-8683-57651-149.fits',\n",
       " 'apVisit-dr17-8683-57679-143.fits',\n",
       " 'apVisit-dr17-8683-57651-204.fits',\n",
       " 'asVisit-dr17-12809-59211-078.fits',\n",
       " 'asVisit-dr17-12810-59212-077.fits',\n",
       " 'asVisit-dr17-12809-59214-090.fits',\n",
       " 'apVisit-dr17-8570-58838-232.fits',\n",
       " 'apVisit-dr17-8570-58839-232.fits',\n",
       " 'asVisit-dr17-12809-59211-123.fits',\n",
       " 'apVisit-dr17-8570-58838-008.fits',\n",
       " 'apVisit-dr17-8570-58839-008.fits',\n",
       " 'asVisit-dr17-12809-59211-046.fits',\n",
       " 'asVisit-dr17-12809-59214-093.fits',\n",
       " 'apVisit-dr17-8683-57675-080.fits',\n",
       " 'apVisit-dr17-8683-57679-158.fits',\n",
       " 'asVisit-dr17-12746-59148-244.fits',\n",
       " 'asVisit-dr17-12746-59166-244.fits',\n",
       " 'asVisit-dr17-12746-59167-244.fits',\n",
       " 'asVisit-dr17-12746-59176-244.fits',\n",
       " 'asVisit-dr17-12746-59179-297.fits',\n",
       " 'asVisit-dr17-12746-59182-297.fits',\n",
       " 'asVisit-dr17-12746-59188-244.fits',\n",
       " 'apVisit-dr17-8570-58838-195.fits',\n",
       " 'asVisit-dr17-9998-58063-284.fits',\n",
       " 'asVisit-dr17-12744-59198-256.fits',\n",
       " 'asVisit-dr17-9998-58063-170.fits',\n",
       " 'asVisit-dr17-12744-59198-172.fits',\n",
       " 'asVisit-dr17-11179-58413-147.fits',\n",
       " 'asVisit-dr17-10085-58027-094.fits',\n",
       " 'asVisit-dr17-10085-58056-147.fits',\n",
       " 'asVisit-dr17-10085-58059-130.fits',\n",
       " 'asVisit-dr17-10128-58090-099.fits',\n",
       " 'asVisit-dr17-10128-58357-100.fits',\n",
       " 'asVisit-dr17-10128-58383-130.fits',\n",
       " 'asVisit-dr17-10128-58446-147.fits',\n",
       " 'asVisit-dr17-10128-58683-148.fits',\n",
       " 'asVisit-dr17-10128-58707-148.fits',\n",
       " 'asVisit-dr17-10128-58710-099.fits',\n",
       " 'asVisit-dr17-9998-58063-271.fits',\n",
       " 'asVisit-dr17-12746-59167-292.fits',\n",
       " 'asVisit-dr17-12744-59198-167.fits',\n",
       " 'apVisit-dr17-8683-57651-064.fits',\n",
       " 'asVisit-dr17-9998-58063-195.fits',\n",
       " 'asVisit-dr17-12744-59198-216.fits',\n",
       " 'apVisit-dr17-8570-58838-268.fits',\n",
       " 'apVisit-dr17-8570-58839-268.fits',\n",
       " 'apVisit-dr17-10099-58450-285.fits',\n",
       " 'apVisit-dr17-10099-58059-286.fits',\n",
       " 'apVisit-dr17-10099-58067-292.fits',\n",
       " 'apVisit-dr17-10098-58085-099.fits',\n",
       " 'asVisit-dr17-9998-58063-126.fits',\n",
       " 'asVisit-dr17-11995-58795-170.fits',\n",
       " 'asVisit-dr17-11995-58798-173.fits',\n",
       " 'asVisit-dr17-11995-58798-173.fits',\n",
       " 'apVisit-dr17-9291-57712-221.fits',\n",
       " 'asVisit-dr17-9998-58063-100.fits',\n",
       " 'apVisit-dr17-5598-56534-198.fits',\n",
       " 'asVisit-dr17-11995-58798-196.fits',\n",
       " 'asVisit-dr17-11996-59166-274.fits',\n",
       " 'apVisit-dr17-9291-57738-113.fits',\n",
       " 'apVisit-dr17-10097-58056-063.fits',\n",
       " 'apVisit-dr17-10099-58059-165.fits',\n",
       " 'apVisit-dr17-10098-58085-172.fits',\n",
       " 'apVisit-dr17-10303-58767-165.fits',\n",
       " 'apVisit-dr17-10098-58769-165.fits',\n",
       " 'apVisit-dr17-8095-58806-226.fits',\n",
       " 'apVisit-dr17-10099-58059-171.fits',\n",
       " 'apVisit-dr17-10099-58067-177.fits',\n",
       " 'apVisit-dr17-8095-58792-228.fits',\n",
       " 'apVisit-dr17-8095-58806-240.fits',\n",
       " 'apVisit-dr17-9291-57712-292.fits',\n",
       " 'apVisit-dr17-9291-57735-190.fits',\n",
       " 'apVisit-dr17-9291-57738-292.fits',\n",
       " 'apVisit-dr17-11213-58733-015.fits',\n",
       " 'apVisit-dr17-11213-58449-015.fits',\n",
       " 'apVisit-dr17-7926-58055-020.fits',\n",
       " 'apVisit-dr17-7926-58037-020.fits',\n",
       " 'apVisit-dr17-8095-58792-097.fits',\n",
       " 'apVisit-dr17-7926-58037-021.fits',\n",
       " 'apVisit-dr17-7926-58055-021.fits',\n",
       " 'asVisit-dr17-11995-58798-194.fits',\n",
       " 'asVisit-dr17-11996-59174-185.fits',\n",
       " 'apVisit-dr17-8660-57349-213.fits',\n",
       " 'apVisit-dr17-8660-57654-213.fits',\n",
       " 'asVisit-dr17-12775-59157-141.fits',\n",
       " 'asVisit-dr17-12775-59176-039.fits',\n",
       " 'apVisit-dr17-7926-58029-190.fits',\n",
       " 'apVisit-dr17-7926-58055-184.fits',\n",
       " 'apVisit-dr17-8097-58041-017.fits',\n",
       " 'apVisit-dr17-8095-58792-047.fits',\n",
       " 'apVisit-dr17-8095-58806-047.fits',\n",
       " 'apVisit-dr17-8096-58789-044.fits',\n",
       " 'apVisit-dr17-8096-58790-044.fits',\n",
       " 'apVisit-dr17-8097-58042-017.fits',\n",
       " 'apVisit-dr17-8097-58043-017.fits',\n",
       " 'apVisit-dr17-8097-58044-017.fits',\n",
       " 'apVisit-dr17-8097-58049-017.fits',\n",
       " 'apVisit-dr17-7926-58029-197.fits',\n",
       " 'apVisit-dr17-7926-58037-191.fits',\n",
       " 'apVisit-dr17-7926-58055-191.fits',\n",
       " 'apVisit-dr17-9291-57735-247.fits',\n",
       " 'apVisit-dr17-9291-57738-264.fits',\n",
       " 'apVisit-dr17-8096-58789-271.fits',\n",
       " 'apVisit-dr17-10353-58388-115.fits',\n",
       " 'apVisit-dr17-10353-58438-120.fits',\n",
       " 'apVisit-dr17-10353-58442-012.fits',\n",
       " 'apVisit-dr17-8095-58792-149.fits',\n",
       " 'apVisit-dr17-8095-58806-146.fits',\n",
       " 'apVisit-dr17-8096-58789-105.fits',\n",
       " 'apVisit-dr17-8096-58790-105.fits',\n",
       " 'apVisit-dr17-10353-58442-110.fits',\n",
       " 'apVisit-dr17-8095-58811-264.fits',\n",
       " 'apVisit-dr17-8097-58041-282.fits',\n",
       " 'apVisit-dr17-8097-58043-282.fits',\n",
       " 'apVisit-dr17-8097-58044-282.fits',\n",
       " 'apVisit-dr17-8095-58792-156.fits',\n",
       " 'apVisit-dr17-8097-58042-282.fits',\n",
       " 'apVisit-dr17-8097-58049-282.fits',\n",
       " 'apVisit-dr17-9291-57738-268.fits',\n",
       " 'apVisit-dr17-9291-57712-268.fits',\n",
       " ...]"
      ]
     },
     "execution_count": 11,
     "metadata": {},
     "output_type": "execute_result"
    }
   ],
   "source": [
    "filenames"
   ]
  },
  {
   "cell_type": "code",
   "execution_count": 12,
   "id": "2ab371da-9650-4747-b4db-bd8ffc81805e",
   "metadata": {},
   "outputs": [
    {
     "data": {
      "text/plain": [
       "379.302"
      ]
     },
     "execution_count": 12,
     "metadata": {},
     "output_type": "execute_result"
    }
   ],
   "source": [
    "visit_raw[656][\"SNR\"]"
   ]
  },
  {
   "cell_type": "code",
   "execution_count": 13,
   "id": "500955d7-be25-4b33-a93e-e3b87fd48afd",
   "metadata": {},
   "outputs": [],
   "source": [
    "allvisit_mjd_list = [visit_raw[x[1]][7] for x in filtered_allVisit]"
   ]
  },
  {
   "cell_type": "code",
   "execution_count": 14,
   "id": "4ef49f1f-fe95-48ea-bbe1-18c82d4994ed",
   "metadata": {},
   "outputs": [
    {
     "data": {
      "text/plain": [
       "16284"
      ]
     },
     "execution_count": 14,
     "metadata": {},
     "output_type": "execute_result"
    }
   ],
   "source": [
    "len(allvisit_mjd_list)"
   ]
  },
  {
   "cell_type": "code",
   "execution_count": 15,
   "id": "214cfa38-6066-4b90-93bf-8f24d2f985b5",
   "metadata": {},
   "outputs": [],
   "source": [
    "unique_all_visit = list(dict.fromkeys(allvisit_mjd_list))"
   ]
  },
  {
   "cell_type": "code",
   "execution_count": 16,
   "id": "ebc0bea5-6dc9-486a-88f6-30689a3adbfa",
   "metadata": {},
   "outputs": [
    {
     "data": {
      "text/plain": [
       "1839"
      ]
     },
     "execution_count": 16,
     "metadata": {},
     "output_type": "execute_result"
    }
   ],
   "source": [
    "len(unique_all_visit)"
   ]
  },
  {
   "cell_type": "code",
   "execution_count": 17,
   "id": "fed9ef88-0066-4b3f-92fe-2241096ba205",
   "metadata": {},
   "outputs": [
    {
     "name": "stderr",
     "output_type": "stream",
     "text": [
      "100%|████████████████████████████████████| 16690/16690 [01:28<00:00, 188.35it/s]\n"
     ]
    }
   ],
   "source": [
    "a_visit_file_name = []\n",
    "un = []\n",
    "cnt = 0\n",
    "for mjd in tqdm(sb2_mjd):\n",
    "    try:\n",
    "        idx = allvisit_mjd_list.index(mjd[0])\n",
    "        a_visit_file_name.append([visit_raw[filtered_allVisit[idx][1]][0],mjd[0],filtered_allVisit[idx][0]])\n",
    "    except ValueError:\n",
    "        cnt += 1\n",
    "        continue"
   ]
  },
  {
   "cell_type": "code",
   "execution_count": 18,
   "id": "5925c711-ec37-47dd-a1fe-db432ddc4d10",
   "metadata": {},
   "outputs": [],
   "source": [
    "t = [x[2] for x in a_visit_file_name]\n",
    "t = list(dict.fromkeys(t))"
   ]
  },
  {
   "cell_type": "code",
   "execution_count": 60,
   "id": "9789532d-a506-4a41-a0b4-65a4fb2a4148",
   "metadata": {
    "tags": []
   },
   "outputs": [
    {
     "name": "stderr",
     "output_type": "stream",
     "text": [
      "100%|███████████████████████████████████| 1839/1839 [00:00<00:00, 234034.99it/s]\n"
     ]
    }
   ],
   "source": [
    "f = open(\"visit_installation.txt\", \"a\")\n",
    "cnt = 0\n",
    "for a in tqdm(t):\n",
    "    one = a.split(\"-\")[2]\n",
    "    two = a.split(\"-\")[3]\n",
    "    f.write(\"https://data.sdss.org/sas/dr17/apogee/spectro/redux/dr17/plates/\" + one + \"/\" + two + \"/\" + a + \"\\n\")\n",
    "f.close()"
   ]
  },
  {
   "cell_type": "code",
   "execution_count": 19,
   "id": "967a4695-166f-4c0d-b570-c05e9a1f1851",
   "metadata": {},
   "outputs": [],
   "source": [
    "temp_list = [str(a) for a in a_visit_file_name]\n",
    "temp_list = list(dict.fromkeys(temp_list))"
   ]
  },
  {
   "cell_type": "code",
   "execution_count": 20,
   "id": "e39e5f46-d317-414c-bf1d-49d82430bb10",
   "metadata": {
    "tags": []
   },
   "outputs": [],
   "source": [
    "list_for_db = []\n",
    "for g in temp_list:\n",
    "    el = g\n",
    "    el = el.replace(\"[\",\"\")\n",
    "    el = el.replace(\"]\",\"\")\n",
    "    el = el.replace(\"'\",\"\")\n",
    "    el = el.replace(\" \",\"\")\n",
    "    final = el.split(\",\")\n",
    "    final[1] = int(final[1])\n",
    "    list_for_db.append(final)"
   ]
  },
  {
   "cell_type": "code",
   "execution_count": 21,
   "id": "f2e1ea8d-6f63-44bf-9100-71ad0b65822d",
   "metadata": {
    "collapsed": true,
    "jupyter": {
     "outputs_hidden": true
    },
    "tags": []
   },
   "outputs": [
    {
     "data": {
      "text/plain": [
       "[['2M00004521-7219055', 59154, 'asVisit-dr17-12776-59154-069.fits'],\n",
       " ['2M00004521-7219055', 59155, 'asVisit-dr17-12776-59155-069.fits'],\n",
       " ['2M00004521-7219055', 59156, 'asVisit-dr17-12776-59156-069.fits'],\n",
       " ['2M00004521-7219055', 59157, 'asVisit-dr17-12776-59157-069.fits'],\n",
       " ['2M00004521-7219055', 59164, 'asVisit-dr17-12776-59164-070.fits'],\n",
       " ['2M00004521-7219055', 59165, 'asVisit-dr17-12776-59165-070.fits'],\n",
       " ['2M00004521-7219055', 59166, 'asVisit-dr17-12776-59166-070.fits'],\n",
       " ['2M00005196+0022164', 56666, 'apVisit-dr17-7063-56666-028.fits'],\n",
       " ['2M00005343+0040594', 57677, 'apVisit-dr17-9243-57677-015.fits'],\n",
       " ['2M00005343+0040594', 57654, 'apVisit-dr17-9243-57654-016.fits'],\n",
       " ['2M00015725+5726512', 58776, 'apVisit-dr17-12184-58776-247.fits'],\n",
       " ['2M00015725+5726512', 58861, 'apVisit-dr17-12184-58861-253.fits'],\n",
       " ['2M00023036+8524194', 57822, 'apVisit-dr17-9069-57822-224.fits'],\n",
       " ['2M00023036+8524194', 58150, 'apVisit-dr17-9069-58150-224.fits'],\n",
       " ['2M00023036+8524194', 59059, 'apVisit-dr17-9264-59059-221.fits'],\n",
       " ['2M00023036+8524194', 59159, 'apVisit-dr17-9264-59159-227.fits'],\n",
       " ['2M00023036+8524194', 58731, 'apVisit-dr17-7950-58731-227.fits'],\n",
       " ['2M00023036+8524194', 59074, 'apVisit-dr17-7950-59074-224.fits'],\n",
       " ['2M00023036+8524194', 57672, 'apVisit-dr17-9264-57672-224.fits'],\n",
       " ['2M00023036+8524194', 57709, 'apVisit-dr17-9264-57709-227.fits'],\n",
       " ['2M00023036+8524194', 57760, 'apVisit-dr17-9519-57760-224.fits'],\n",
       " ['2M00023036+8524194', 58009, 'apVisit-dr17-9264-58009-218.fits'],\n",
       " ['2M00023036+8524194', 58028, 'apVisit-dr17-9519-58028-221.fits'],\n",
       " ['2M00023036+8524194', 58054, 'apVisit-dr17-9264-58054-224.fits'],\n",
       " ['2M00023036+8524194', 58083, 'apVisit-dr17-9519-58083-224.fits'],\n",
       " ['2M00023036+8524194', 58121, 'apVisit-dr17-9519-58121-224.fits'],\n",
       " ['2M00023036+8524194', 55821, 'apVisit-dr17-5095-55821-233.fits'],\n",
       " ['2M00023036+8524194', 55824, 'apVisit-dr17-5095-55824-230.fits'],\n",
       " ['2M00023036+8524194', 55840, 'apVisit-dr17-5095-55840-230.fits'],\n",
       " ['2M00023036+8524194', 57556, 'apVisit-dr17-9084-57556-224.fits'],\n",
       " ['2M00023036+8524194', 57789, 'apVisit-dr17-9082-57789-218.fits'],\n",
       " ['2M00023036+8524194', 57887, 'apVisit-dr17-9083-57887-275.fits'],\n",
       " ['2M00023036+8524194', 58060, 'apVisit-dr17-7950-58060-224.fits'],\n",
       " ['2M00023036+8524194', 58085, 'apVisit-dr17-7950-58085-224.fits'],\n",
       " ['2M00023036+8524194', 58295, 'apVisit-dr17-9135-58295-233.fits'],\n",
       " ['2M00023036+8524194', 58384, 'apVisit-dr17-7950-58384-224.fits'],\n",
       " ['2M00023179+1521164', 56584, 'apVisit-dr17-6560-56584-077.fits'],\n",
       " ['2M00023179+1521164', 59077, 'apVisit-dr17-12700-59077-234.fits'],\n",
       " ['2M00033917+0204106', 58033, 'apVisit-dr17-9243-58033-279.fits'],\n",
       " ['2M00041734-7301536', 59147, 'asVisit-dr17-12776-59147-039.fits'],\n",
       " ['2M00044532+0003233', 56635, 'apVisit-dr17-7062-56635-105.fits'],\n",
       " ['2M00044532+0003233', 56644, 'apVisit-dr17-7063-56644-106.fits'],\n",
       " ['2M00044532+0003233', 56848, 'apVisit-dr17-7494-56848-058.fits'],\n",
       " ['2M00060737-5145009', 58804, 'asVisit-dr17-11914-58804-254.fits'],\n",
       " ['2M00062867+6955129', 55869, 'apVisit-dr17-5266-55869-023.fits'],\n",
       " ['2M00062867+6955129', 55871, 'apVisit-dr17-5267-55871-026.fits'],\n",
       " ['2M00062867+6955129', 56204, 'apVisit-dr17-5267-56204-008.fits'],\n",
       " ['2M00065234+0151397', 56646, 'apVisit-dr17-7062-56646-298.fits'],\n",
       " ['2M00065234+0151397', 57674, 'apVisit-dr17-9243-57674-256.fits'],\n",
       " ['2M00065508+0154022', 56650, 'apVisit-dr17-7062-56650-295.fits'],\n",
       " ['2M00074456-7655057', 58025, 'asVisit-dr17-10081-58025-255.fits'],\n",
       " ['2M00101177-2004054', 58824, 'asVisit-dr17-11933-58824-152.fits'],\n",
       " ['2M00111801-2114586', 58794, 'asVisit-dr17-11932-58794-016.fits'],\n",
       " ['2M00111801-2114586', 58796, 'asVisit-dr17-11933-58796-015.fits'],\n",
       " ['2M00111801-2114586', 58803, 'asVisit-dr17-11933-58803-022.fits'],\n",
       " ['2M00125652+1406190', 58753, 'apVisit-dr17-8088-58753-028.fits'],\n",
       " ['2M00132431-1410460', 57347, 'apVisit-dr17-7535-57347-211.fits'],\n",
       " ['2M00135678-2011519', 58802, 'asVisit-dr17-11932-58802-146.fits'],\n",
       " ['2M00140613+8541300', 58504, 'apVisit-dr17-7951-58504-278.fits'],\n",
       " ['2M00141786-7757569', 58092, 'asVisit-dr17-10123-58092-010.fits'],\n",
       " ['2M00141786-7757569', 58322, 'asVisit-dr17-10123-58322-220.fits'],\n",
       " ['2M00141786-7757569', 58350, 'asVisit-dr17-10123-58350-220.fits'],\n",
       " ['2M00141786-7757569', 58355, 'asVisit-dr17-10123-58355-219.fits'],\n",
       " ['2M00141786-7757569', 58414, 'asVisit-dr17-10123-58414-220.fits'],\n",
       " ['2M00141786-7757569', 58419, 'asVisit-dr17-11157-58419-219.fits'],\n",
       " ['2M00141786-7757569', 58446, 'asVisit-dr17-10123-58446-225.fits'],\n",
       " ['2M00141786-7757569', 58655, 'asVisit-dr17-11157-58655-219.fits'],\n",
       " ['2M00155291+8507242', 57295, 'apVisit-dr17-7950-57295-016.fits'],\n",
       " ['2M00170781+8551505', 57736, 'apVisit-dr17-9519-57736-224.fits'],\n",
       " ['2M00171366-1436005', 57294, 'apVisit-dr17-7535-57294-047.fits'],\n",
       " ['2M00171482-1510258', 57321, 'apVisit-dr17-7535-57321-148.fits'],\n",
       " ['2M00171482-1510258', 57323, 'apVisit-dr17-7535-57323-148.fits'],\n",
       " ['2M00174348+1600039', 58752, 'apVisit-dr17-8088-58752-255.fits'],\n",
       " ['2M00174462+0000472', 59083, 'apVisit-dr17-12769-59083-020.fits'],\n",
       " ['2M00174462+0000472', 59084, 'apVisit-dr17-12769-59084-020.fits'],\n",
       " ['2M00174462+0000472', 59085, 'apVisit-dr17-12769-59085-020.fits'],\n",
       " ['2M00193752-7622316', 58358, 'asVisit-dr17-10123-58358-064.fits'],\n",
       " ['2M00194562-7647253', 58053, 'asVisit-dr17-10081-58053-152.fits'],\n",
       " ['2M00212698+0309415', 58084, 'apVisit-dr17-7921-58084-282.fits'],\n",
       " ['2M00215362-1447430', 57322, 'apVisit-dr17-7535-57322-069.fits'],\n",
       " ['2M00221009-7621503', 58089, 'asVisit-dr17-10123-58089-261.fits'],\n",
       " ['2M00221009-7621503', 58677, 'asVisit-dr17-10123-58677-069.fits'],\n",
       " ['2M00223728-0012297', 58017, 'apVisit-dr17-8656-58017-023.fits'],\n",
       " ['2M00223728-0012297', 58018, 'apVisit-dr17-8656-58018-023.fits'],\n",
       " ['2M00223728-0012297', 58021, 'apVisit-dr17-8656-58021-023.fits'],\n",
       " ['2M00223728-0012297', 58022, 'apVisit-dr17-8656-58022-023.fits'],\n",
       " ['2M00231613-7643271', 58061, 'asVisit-dr17-10081-58061-250.fits'],\n",
       " ['2M00235815+0240238', 58038, 'apVisit-dr17-7921-58038-188.fits'],\n",
       " ['2M00244842+0118385', 58064, 'apVisit-dr17-7921-58064-095.fits'],\n",
       " ['2M00254729+7011069', 56224, 'apVisit-dr17-6232-56224-089.fits'],\n",
       " ['2M00265766-1440511', 59206, 'asVisit-dr17-12806-59206-298.fits'],\n",
       " ['2M00274757+6956505', 56262, 'apVisit-dr17-6233-56262-121.fits'],\n",
       " ['2M00280680+5558136', 56225, 'apVisit-dr17-6234-56225-275.fits'],\n",
       " ['2M00280680+5558136', 56206, 'apVisit-dr17-6234-56206-275.fits'],\n",
       " ['2M00280680+5558136', 56226, 'apVisit-dr17-6235-56226-287.fits'],\n",
       " ['2M00280680+5558136', 56230, 'apVisit-dr17-6235-56230-275.fits'],\n",
       " ['2M00280680+5558136', 56233, 'apVisit-dr17-6234-56233-287.fits'],\n",
       " ['2M00283291+1414505', 58805, 'apVisit-dr17-8089-58805-091.fits'],\n",
       " ['2M00283291+1414505', 58791, 'apVisit-dr17-8089-58791-102.fits'],\n",
       " ['2M00310931-1345468', 59204, 'asVisit-dr17-12805-59204-069.fits'],\n",
       " ['2M00310931-1345468', 59207, 'asVisit-dr17-12805-59207-069.fits'],\n",
       " ['2M00315685+5743383', 57348, 'apVisit-dr17-8702-57348-257.fits'],\n",
       " ['2M00315685+5743383', 57374, 'apVisit-dr17-8702-57374-254.fits'],\n",
       " ['2M00322198+3942141', 58389, 'apVisit-dr17-11207-58389-228.fits'],\n",
       " ['2M00334007-0015031', 58013, 'apVisit-dr17-8657-58013-014.fits'],\n",
       " ['2M00342415-7309345', 58413, 'asVisit-dr17-11183-58413-249.fits'],\n",
       " ['2M00342415-7309345', 58057, 'asVisit-dr17-10083-58057-260.fits'],\n",
       " ['2M00343521+5117195', 56991, 'apVisit-dr17-7777-56991-188.fits'],\n",
       " ['2M00343521+5117195', 57000, 'apVisit-dr17-7777-57000-188.fits'],\n",
       " ['2M00350471-0012297', 57665, 'apVisit-dr17-8657-57665-005.fits'],\n",
       " ['2M00350471-0012297', 58014, 'apVisit-dr17-8657-58014-008.fits'],\n",
       " ['2M00350471-0012297', 57667, 'apVisit-dr17-8657-57667-005.fits'],\n",
       " ['2M00350471-0012297', 58011, 'apVisit-dr17-8657-58011-008.fits'],\n",
       " ['2M00350783+3854001', 58116, 'apVisit-dr17-10347-58116-052.fits'],\n",
       " ['2M00350783+3854001', 58119, 'apVisit-dr17-10347-58119-058.fits'],\n",
       " ['2M00351115+1452172', 58848, 'apVisit-dr17-8569-58848-213.fits'],\n",
       " ['2M00351115+1452172', 58849, 'apVisit-dr17-8569-58849-213.fits'],\n",
       " ['2M00351115+1452172', 58841, 'apVisit-dr17-8569-58841-213.fits'],\n",
       " ['2M00360002+5519491', 55896, 'apVisit-dr17-5264-55896-168.fits'],\n",
       " ['2M00360002+5519491', 56168, 'apVisit-dr17-5264-56168-175.fits'],\n",
       " ['2M00360002+5519491', 56205, 'apVisit-dr17-5265-56205-253.fits'],\n",
       " ['2M00362511+3408151', 57676, 'apVisit-dr17-8684-57676-282.fits'],\n",
       " ['2M00362511+3408151', 57711, 'apVisit-dr17-8684-57711-288.fits'],\n",
       " ['2M00362511+3408151', 57708, 'apVisit-dr17-8684-57708-288.fits'],\n",
       " ['2M00372580+3921444', 58386, 'apVisit-dr17-11207-58386-193.fits'],\n",
       " ['2M00375500+1442434', 58844, 'apVisit-dr17-8569-58844-026.fits'],\n",
       " ['2M00382899+0802387', 58880, 'apVisit-dr17-12317-58880-017.fits'],\n",
       " ['2M00392099+0416286', 58821, 'apVisit-dr17-12313-58821-190.fits'],\n",
       " ['2M00392099+0416286', 58829, 'apVisit-dr17-12313-58829-195.fits'],\n",
       " ['2M00392099+0416286', 59046, 'apVisit-dr17-12313-59046-190.fits'],\n",
       " ['2M00392934+8500595', 57645, 'apVisit-dr17-9264-57645-009.fits'],\n",
       " ['2M00400630+5644107', 57271, 'apVisit-dr17-8000-57271-065.fits'],\n",
       " ['2M00400630+5644107', 56968, 'apVisit-dr17-8000-56968-065.fits'],\n",
       " ['2M00402518+1521397', 58840, 'apVisit-dr17-8569-58840-195.fits'],\n",
       " ['2M00403469+0850024', 58831, 'apVisit-dr17-12317-58831-293.fits'],\n",
       " ['2M00410930+3824079', 58385, 'apVisit-dr17-10347-58385-083.fits'],\n",
       " ['2M00412193+1657591', 56587, 'apVisit-dr17-6561-56587-093.fits'],\n",
       " ['2M00412193+1657591', 56607, 'apVisit-dr17-6561-56607-094.fits'],\n",
       " ['2M00412193+1657591', 56616, 'apVisit-dr17-6561-56616-105.fits'],\n",
       " ['2M00415067+3914245', 58417, 'apVisit-dr17-11207-58417-180.fits'],\n",
       " ['2M00420049+0222352', 58032, 'asVisit-dr17-10036-58032-160.fits'],\n",
       " ['2M00424339+0347249', 56945, 'apVisit-dr17-7771-56945-273.fits'],\n",
       " ['2M00424339+0347249', 57022, 'apVisit-dr17-7771-57022-279.fits'],\n",
       " ['2M00425752-6659570', 58027, 'asVisit-dr17-10082-58027-262.fits'],\n",
       " ['2M00425752-6659570', 58094, 'asVisit-dr17-10125-58094-063.fits'],\n",
       " ['2M00425752-6659570', 58349, 'asVisit-dr17-10124-58349-063.fits'],\n",
       " ['2M00425752-6659570', 58352, 'asVisit-dr17-10124-58352-063.fits'],\n",
       " ['2M00425752-6659570', 58382, 'asVisit-dr17-10124-58382-069.fits'],\n",
       " ['2M00425752-6659570', 58444, 'asVisit-dr17-10125-58444-063.fits'],\n",
       " ['2M00430905+8407348', 55815, 'apVisit-dr17-5221-55815-118.fits'],\n",
       " ['2M00430905+8407348', 55822, 'apVisit-dr17-5221-55822-093.fits'],\n",
       " ['2M00430905+8407348', 55841, 'apVisit-dr17-5221-55841-094.fits'],\n",
       " ['2M00430905+8407348', 55866, 'apVisit-dr17-5221-55866-094.fits'],\n",
       " ['2M00430905+8407348', 55876, 'apVisit-dr17-5221-55876-093.fits'],\n",
       " ['2M00430905+8407348', 56653, 'apVisit-dr17-5221-56653-099.fits'],\n",
       " ['2M00430905+8407348', 56656, 'apVisit-dr17-5221-56656-099.fits'],\n",
       " ['2M00430905+8407348', 56902, 'apVisit-dr17-6104-56902-093.fits'],\n",
       " ['2M00431061-1125472', 57649, 'apVisit-dr17-8659-57649-272.fits'],\n",
       " ['2M00431061-1125472', 57673, 'apVisit-dr17-8659-57673-272.fits'],\n",
       " ['2M00434202-6823400', 58024, 'asVisit-dr17-10082-58024-015.fits'],\n",
       " ['2M00442921-7214555', 58438, 'asVisit-dr17-11182-58438-255.fits'],\n",
       " ['2M00450988+0418467', 57029, 'apVisit-dr17-7771-57029-250.fits'],\n",
       " ['2M00454413+1428238', 58754, 'apVisit-dr17-8091-58754-018.fits'],\n",
       " ['2M00454413+1428238', 58755, 'apVisit-dr17-8091-58755-018.fits'],\n",
       " ['2M00460582+0633168', 58830, 'apVisit-dr17-12316-58830-276.fits'],\n",
       " ['2M00465622-2201390', 58708, 'asVisit-dr17-11900-58708-270.fits'],\n",
       " ['2M00475517+0057047', 59079, 'apVisit-dr17-12696-59079-271.fits'],\n",
       " ['2M00475517+0057047', 59080, 'apVisit-dr17-12696-59080-271.fits'],\n",
       " ['2M00485765-2233357', 58713, 'asVisit-dr17-11900-58713-223.fits'],\n",
       " ['2M00485765-2233357', 58714, 'asVisit-dr17-11901-58714-238.fits'],\n",
       " ['2M00485765-2233357', 58767, 'asVisit-dr17-11900-58767-223.fits'],\n",
       " ['2M00485765-2233357', 58768, 'asVisit-dr17-11901-58768-238.fits'],\n",
       " ['2M00490383-7305198', 58093, 'asVisit-dr17-10126-58093-134.fits'],\n",
       " ['2M00490383-7305198', 58096, 'asVisit-dr17-10126-58096-041.fits'],\n",
       " ['2M00493192+4026429', 57265, 'apVisit-dr17-8114-57265-234.fits'],\n",
       " ['2M00500829-2227376', 58799, 'asVisit-dr17-11901-58799-239.fits'],\n",
       " ['2M00502253-2642292', 58331, 'asVisit-dr17-11037-58331-265.fits'],\n",
       " ['2M00503993-0004499', 58781, 'apVisit-dr17-12073-58781-015.fits'],\n",
       " ['2M00503993-0004499', 58782, 'apVisit-dr17-12073-58782-015.fits'],\n",
       " ['2M00511245-1324437', 57377, 'apVisit-dr17-8659-57377-134.fits'],\n",
       " ['2M00511245-1324437', 57652, 'apVisit-dr17-8659-57652-137.fits'],\n",
       " ['2M00511286+0940478', 58029, 'asVisit-dr17-10037-58029-230.fits'],\n",
       " ['2M00513080-7301233', 58447, 'asVisit-dr17-10126-58447-088.fits'],\n",
       " ['2M00522826-7015580', 58329, 'asVisit-dr17-10139-58329-177.fits'],\n",
       " ['2M00522826-7015580', 58357, 'asVisit-dr17-10139-58357-177.fits'],\n",
       " ['2M00531430+0003189', 58825, 'apVisit-dr17-12311-58825-243.fits'],\n",
       " ['2M00534393-2655048', 58324, 'asVisit-dr17-11036-58324-190.fits'],\n",
       " ['2M00535842-7048165', 58095, 'asVisit-dr17-10137-58095-160.fits'],\n",
       " ['2M00535842-7048165', 58296, 'asVisit-dr17-10138-58296-262.fits'],\n",
       " ['2M00535842-7048165', 58297, 'asVisit-dr17-10139-58297-159.fits'],\n",
       " ['2M00535842-7048165', 58328, 'asVisit-dr17-10138-58328-268.fits'],\n",
       " ['2M00535842-7048165', 58383, 'asVisit-dr17-11161-58383-171.fits'],\n",
       " ['2M00535842-7048165', 58644, 'asVisit-dr17-11161-58644-160.fits'],\n",
       " ['2M00535842-7048165', 58660, 'asVisit-dr17-10140-58660-159.fits'],\n",
       " ['2M00535842-7048165', 58675, 'asVisit-dr17-10140-58675-159.fits'],\n",
       " ['2M00541841+0104452', 58783, 'apVisit-dr17-12073-58783-278.fits'],\n",
       " ['2M00542595+0328219', 58062, 'asVisit-dr17-10039-58062-297.fits'],\n",
       " ['2M00545115-2726051', 58325, 'asVisit-dr17-11037-58325-019.fits'],\n",
       " ['2M00554823+1407343', 58784, 'apVisit-dr17-12092-58784-107.fits'],\n",
       " ['2M00555518-6512090', 59151, 'asVisit-dr17-12747-59151-249.fits'],\n",
       " ['2M00555518-6512090', 59152, 'asVisit-dr17-12747-59152-249.fits'],\n",
       " ['2M00563799+0334319', 58063, 'asVisit-dr17-10039-58063-182.fits'],\n",
       " ['2M00571640-6519351', 59148, 'asVisit-dr17-12747-59148-291.fits'],\n",
       " ['2M00571640-6519351', 59149, 'asVisit-dr17-12747-59149-291.fits'],\n",
       " ['2M00571640-6519351', 59158, 'asVisit-dr17-12747-59158-292.fits'],\n",
       " ['2M00581292+6332015', 56990, 'apVisit-dr17-8035-56990-233.fits'],\n",
       " ['2M00581292+6332015', 57293, 'apVisit-dr17-8035-57293-191.fits'],\n",
       " ['2M00581593+0140020', 58853, 'apVisit-dr17-12314-58853-224.fits'],\n",
       " ['2M00593409+8503084', 55844, 'apVisit-dr17-5095-55844-038.fits'],\n",
       " ['2M01000824-7616562', 58709, 'asVisit-dr17-10127-58709-280.fits'],\n",
       " ['2M01001870+1041192', 59041, 'apVisit-dr17-12310-59041-109.fits'],\n",
       " ['2M01001870+1041192', 58860, 'apVisit-dr17-12310-58860-102.fits'],\n",
       " ['2M01012150+0156240', 57655, 'apVisit-dr17-8661-57655-014.fits'],\n",
       " ['2M01012150+0156240', 57678, 'apVisit-dr17-8661-57678-017.fits'],\n",
       " ['2M01012150+0156240', 57650, 'apVisit-dr17-8661-57650-029.fits'],\n",
       " ['2M01014798+0551352', 59175, 'asVisit-dr17-12740-59175-260.fits'],\n",
       " ['2M01042058+1418262', 58814, 'apVisit-dr17-12094-58814-020.fits'],\n",
       " ['2M01042058+1418262', 58819, 'apVisit-dr17-12094-58819-020.fits'],\n",
       " ['2M01042058+1418262', 58868, 'apVisit-dr17-12094-58868-020.fits'],\n",
       " ['2M01043554+0919402', 58856, 'apVisit-dr17-12309-58856-239.fits'],\n",
       " ['2M01045170+3742429', 58392, 'apVisit-dr17-11212-58392-030.fits'],\n",
       " ['2M01051436-6603482', 59150, 'asVisit-dr17-12747-59150-014.fits'],\n",
       " ['2M01053790+5116300', 56995, 'apVisit-dr17-7548-56995-194.fits'],\n",
       " ['2M01053790+5116300', 56944, 'apVisit-dr17-7548-56944-200.fits'],\n",
       " ['2M01053790+5116300', 57021, 'apVisit-dr17-7548-57021-188.fits'],\n",
       " ['2M01063891-0106298', 58788, 'apVisit-dr17-12074-58788-097.fits'],\n",
       " ['2M01064280-0841503', 58676, 'asVisit-dr17-11902-58676-256.fits'],\n",
       " ['2M01064280-0841503', 58681, 'asVisit-dr17-11903-58681-256.fits'],\n",
       " ['2M01064280-0841503', 58707, 'asVisit-dr17-11902-58707-249.fits'],\n",
       " ['2M01065279+3904054', 58418, 'apVisit-dr17-10352-58418-276.fits'],\n",
       " ['2M01065279+3904054', 58421, 'apVisit-dr17-10352-58421-277.fits'],\n",
       " ['2M01065279+3904054', 58390, 'apVisit-dr17-10352-58390-271.fits'],\n",
       " ['2M01072560-0912287', 58800, 'asVisit-dr17-11902-58800-285.fits'],\n",
       " ['2M01072594-0920260', 58657, 'asVisit-dr17-11902-58657-277.fits'],\n",
       " ['2M01085087-0051179', 59192, 'asVisit-dr17-12743-59192-257.fits'],\n",
       " ['2M01093834+0233501', 59176, 'asVisit-dr17-12742-59176-291.fits'],\n",
       " ['2M01101424+1411416', 58786, 'apVisit-dr17-12093-58786-007.fits'],\n",
       " ['2M01133153+0550269', 58854, 'apVisit-dr17-12308-58854-107.fits'],\n",
       " ['2M01135326+0659425', 58031, 'asVisit-dr17-10038-58031-293.fits'],\n",
       " ['2M01143901+0032354', 58779, 'apVisit-dr17-12075-58779-224.fits'],\n",
       " ['2M01143901+0032354', 58780, 'apVisit-dr17-12075-58780-224.fits'],\n",
       " ['2M01160618+1137191', 57947, 'asVisit-dr17-9910-57947-179.fits'],\n",
       " ['2M01164835-0021037', 58823, 'apVisit-dr17-12318-58823-105.fits'],\n",
       " ['2M01171327+1049599', 59195, 'asVisit-dr17-12741-59195-080.fits'],\n",
       " ['2M01172141+1526186', 58836, 'apVisit-dr17-8092-58836-241.fits'],\n",
       " ['2M01172141+1526186', 58837, 'apVisit-dr17-8092-58837-241.fits'],\n",
       " ['2M01172774-0021035', 58832, 'apVisit-dr17-12318-58832-093.fits'],\n",
       " ['2M01180997+1408313', 58834, 'apVisit-dr17-8092-58834-040.fits'],\n",
       " ['2M01180997+1408313', 58835, 'apVisit-dr17-8092-58835-040.fits'],\n",
       " ['2M01193634+8435481', 56654, 'apVisit-dr17-5221-56654-080.fits'],\n",
       " ['2M01210653+0103456', 57675, 'apVisit-dr17-8683-57675-027.fits'],\n",
       " ['2M01210653+0103456', 57679, 'apVisit-dr17-8683-57679-111.fits'],\n",
       " ['2M01212382+1309447', 58866, 'apVisit-dr17-8093-58866-149.fits'],\n",
       " ['2M01212382+1309447', 58863, 'apVisit-dr17-8093-58863-149.fits'],\n",
       " ['2M01213227+0125482', 57651, 'apVisit-dr17-8683-57651-019.fits'],\n",
       " ['2M01221847-7432419', 59160, 'asVisit-dr17-12775-59160-249.fits'],\n",
       " ['2M01221847-7432419', 59162, 'asVisit-dr17-12775-59162-249.fits'],\n",
       " ['2M01221847-7432419', 59163, 'asVisit-dr17-12775-59163-249.fits'],\n",
       " ['2M01221847-7432419', 59179, 'asVisit-dr17-12775-59179-256.fits'],\n",
       " ['2M01221847-7432419', 59191, 'asVisit-dr17-12775-59191-249.fits'],\n",
       " ['2M01224927-0732223', 59203, 'asVisit-dr17-12810-59203-291.fits'],\n",
       " ['2M01224927-0732223', 59212, 'asVisit-dr17-12810-59212-190.fits'],\n",
       " ['2M01234714-0731564', 59211, 'asVisit-dr17-12809-59211-184.fits'],\n",
       " ['2M01234714-0731564', 59214, 'asVisit-dr17-12809-59214-183.fits'],\n",
       " ['2M01252951+1737245', 56642, 'apVisit-dr17-6562-56642-294.fits'],\n",
       " ['2M01254512+1443355', 58838, 'apVisit-dr17-8570-58838-232.fits'],\n",
       " ['2M01254512+1443355', 58839, 'apVisit-dr17-8570-58839-232.fits'],\n",
       " ['2M01283574-7717482', 59167, 'asVisit-dr17-12746-59167-244.fits'],\n",
       " ['2M01283574-7717482', 59182, 'asVisit-dr17-12746-59182-297.fits'],\n",
       " ['2M01283574-7717482', 59188, 'asVisit-dr17-12746-59188-244.fits'],\n",
       " ['2M01284573+0636114', 59198, 'asVisit-dr17-12744-59198-256.fits'],\n",
       " ['2M01292717-7300378', 58056, 'asVisit-dr17-10085-58056-147.fits'],\n",
       " ['2M01292717-7300378', 58059, 'asVisit-dr17-10085-58059-130.fits'],\n",
       " ['2M01292717-7300378', 58090, 'asVisit-dr17-10128-58090-099.fits'],\n",
       " ['2M01292717-7300378', 58683, 'asVisit-dr17-10128-58683-148.fits'],\n",
       " ['2M01292717-7300378', 58710, 'asVisit-dr17-10128-58710-099.fits'],\n",
       " ['2M01332948+3109288', 58450, 'apVisit-dr17-10099-58450-285.fits'],\n",
       " ['2M01332948+3109288', 58067, 'apVisit-dr17-10099-58067-292.fits'],\n",
       " ['2M01340133-8330137', 58795, 'asVisit-dr17-11995-58795-170.fits'],\n",
       " ['2M01340133-8330137', 58798, 'asVisit-dr17-11995-58798-173.fits'],\n",
       " ['2M01342845+3145547', 57712, 'apVisit-dr17-9291-57712-221.fits'],\n",
       " ['2M01345988+6651462', 56534, 'apVisit-dr17-5598-56534-198.fits'],\n",
       " ['2M01362314+3040167', 57738, 'apVisit-dr17-9291-57738-113.fits'],\n",
       " ['2M01362314+3040167', 58769, 'apVisit-dr17-10098-58769-165.fits'],\n",
       " ['2M01363091+1437072', 58806, 'apVisit-dr17-8095-58806-226.fits'],\n",
       " ['2M01380003+1430093', 58792, 'apVisit-dr17-8095-58792-228.fits'],\n",
       " ['2M01384542+3233156', 57735, 'apVisit-dr17-9291-57735-190.fits'],\n",
       " ['2M01394214+3650034', 58733, 'apVisit-dr17-11213-58733-015.fits'],\n",
       " ['2M01394214+3650034', 58449, 'apVisit-dr17-11213-58449-015.fits'],\n",
       " ['2M01395761-0013396', 58055, 'apVisit-dr17-7926-58055-020.fits'],\n",
       " ['2M01395761-0013396', 58037, 'apVisit-dr17-7926-58037-020.fits'],\n",
       " ['2M01405456-8415302', 59174, 'asVisit-dr17-11996-59174-185.fits'],\n",
       " ['2M01410040-1811188', 57349, 'apVisit-dr17-8660-57349-213.fits'],\n",
       " ['2M01421805+1344056', 58041, 'apVisit-dr17-8097-58041-017.fits'],\n",
       " ['2M01421805+1344056', 58789, 'apVisit-dr17-8096-58789-044.fits'],\n",
       " ['2M01421805+1344056', 58790, 'apVisit-dr17-8096-58790-044.fits'],\n",
       " ['2M01421805+1344056', 58042, 'apVisit-dr17-8097-58042-017.fits'],\n",
       " ['2M01421805+1344056', 58043, 'apVisit-dr17-8097-58043-017.fits'],\n",
       " ['2M01421805+1344056', 58044, 'apVisit-dr17-8097-58044-017.fits'],\n",
       " ['2M01421805+1344056', 58049, 'apVisit-dr17-8097-58049-017.fits'],\n",
       " ['2M01424367+3554585', 58388, 'apVisit-dr17-10353-58388-115.fits'],\n",
       " ['2M01424367+3554585', 58442, 'apVisit-dr17-10353-58442-012.fits'],\n",
       " ['2M01435524+1453028', 58811, 'apVisit-dr17-8095-58811-264.fits'],\n",
       " ['2M01490606+0017309', 58477, 'apVisit-dr17-11646-58477-212.fits'],\n",
       " ['2M01503015+1328323', 57659, 'apVisit-dr17-9195-57659-230.fits'],\n",
       " ['2M01503015+1328323', 57662, 'apVisit-dr17-9195-57662-230.fits'],\n",
       " ['2M01514405+3752109', 59071, 'apVisit-dr17-12758-59071-221.fits'],\n",
       " ['2M01514405+3752109', 59072, 'apVisit-dr17-12758-59072-221.fits'],\n",
       " ['2M01514405+3752109', 59146, 'apVisit-dr17-12759-59146-215.fits'],\n",
       " ['2M01521669+3815063', 57003, 'apVisit-dr17-8074-57003-203.fits'],\n",
       " ['2M01521747-0320098', 56670, 'apVisit-dr17-7065-56670-021.fits'],\n",
       " ['2M01525005-0353374', 56641, 'apVisit-dr17-7064-56641-029.fits'],\n",
       " ['2M01525005-0353374', 56668, 'apVisit-dr17-7064-56668-104.fits'],\n",
       " ['2M01531032-0131086', 56643, 'apVisit-dr17-7065-56643-286.fits'],\n",
       " ['2M01540083-0051099', 58787, 'apVisit-dr17-12079-58787-026.fits'],\n",
       " ['2M01554448+1248396', 58015, 'apVisit-dr17-9513-58015-005.fits'],\n",
       " ['2M01561447+3749071', 59069, 'apVisit-dr17-12758-59069-184.fits'],\n",
       " ['2M01563220+3519047', 58770, 'apVisit-dr17-11214-58770-235.fits'],\n",
       " ['2M01564470+0016417', 58812, 'apVisit-dr17-12080-58812-226.fits'],\n",
       " ['2M01572718+6300502', 56935, 'apVisit-dr17-7794-56935-188.fits'],\n",
       " ['2M01593686+6533283', 55867, 'apVisit-dr17-5562-55867-215.fits'],\n",
       " ['2M01593686+6533283', 56585, 'apVisit-dr17-5562-56585-212.fits'],\n",
       " ['2M02001601+3516079', 58747, 'apVisit-dr17-10354-58747-196.fits'],\n",
       " ['2M02001615+3738015', 59073, 'apVisit-dr17-12761-59073-082.fits'],\n",
       " ['2M02002463+3600462', 58773, 'apVisit-dr17-11214-58773-251.fits'],\n",
       " ['2M02005592-0151375', 57653, 'apVisit-dr17-8806-57653-232.fits'],\n",
       " ['2M02012845+1308455', 58751, 'apVisit-dr17-8157-58751-023.fits'],\n",
       " ['2M02020842-0208407', 57656, 'apVisit-dr17-8806-57656-200.fits'],\n",
       " ['2M02062664+1438073', 56582, 'apVisit-dr17-6563-56582-275.fits'],\n",
       " ['2M02062664+1438073', 56608, 'apVisit-dr17-6563-56608-227.fits'],\n",
       " ['2M02063173+1316098', 58020, 'apVisit-dr17-9514-58020-233.fits'],\n",
       " ['2M02064174+6556593', 56589, 'apVisit-dr17-5562-56589-233.fits'],\n",
       " ['2M02072992+5427212', 55932, 'apVisit-dr17-5601-55932-012.fits'],\n",
       " ['2M02072992+5427212', 56235, 'apVisit-dr17-5601-56235-024.fits'],\n",
       " ['2M02092550+3612303', 58448, 'apVisit-dr17-11211-58448-190.fits'],\n",
       " ['2M02092550+3612303', 58467, 'apVisit-dr17-11211-58467-195.fits'],\n",
       " ['2M02092550+3612303', 58476, 'apVisit-dr17-11211-58476-189.fits'],\n",
       " ['2M02112028-7403427', 58058, 'asVisit-dr17-10087-58058-027.fits'],\n",
       " ['2M02112973+1359128', 56586, 'apVisit-dr17-6563-56586-207.fits'],\n",
       " ['2M02142206+5422331', 56259, 'apVisit-dr17-5601-56259-048.fits'],\n",
       " ['2M02142396-0438240', 57327, 'apVisit-dr17-8662-57327-279.fits'],\n",
       " ['2M02152828-7343525', 58030, 'asVisit-dr17-10087-58030-098.fits'],\n",
       " ['2M02160348-7350431', 58114, 'asVisit-dr17-10130-58114-111.fits'],\n",
       " ['2M02171238+6120323', 57762, 'apVisit-dr17-9248-57762-215.fits'],\n",
       " ['2M02173687-8402453', 59177, 'asVisit-dr17-11996-59177-150.fits'],\n",
       " ['2M02173687-8402453', 59181, 'asVisit-dr17-11996-59181-150.fits'],\n",
       " ['2M02173687-8402453', 59193, 'asVisit-dr17-11996-59193-150.fits'],\n",
       " ['2M02190862+5703489', 57681, 'apVisit-dr17-9244-57681-115.fits'],\n",
       " ['2M02190862+5703489', 57734, 'apVisit-dr17-9244-57734-048.fits'],\n",
       " ['2M02190862+5703489', 58007, 'apVisit-dr17-9244-58007-103.fits'],\n",
       " ['2M02190862+5703489', 58039, 'apVisit-dr17-9244-58039-114.fits'],\n",
       " ['2M02191633-0630572', 58688, 'asVisit-dr17-11904-58688-201.fits'],\n",
       " ['2M02202243-0619106', 58682, 'asVisit-dr17-11904-58682-088.fits'],\n",
       " ['2M02202243-0619106', 58689, 'asVisit-dr17-11905-58689-033.fits'],\n",
       " ['2M02203760-0652275', 58684, 'asVisit-dr17-11905-58684-045.fits'],\n",
       " ['2M02215374+0042511', 58762, 'apVisit-dr17-10224-58762-290.fits'],\n",
       " ['2M02215718+4302101', 58118, 'apVisit-dr17-10355-58118-241.fits'],\n",
       " ['2M02223535-8355543', 58833, 'asVisit-dr17-11996-58833-148.fits'],\n",
       " ['2M02243180+5809320', 57765, 'apVisit-dr17-9244-57765-253.fits'],\n",
       " ['2M02262213+3038182', 58391, 'apVisit-dr17-11210-58391-283.fits'],\n",
       " ['2M02263487+6157558', 58008, 'apVisit-dr17-9249-58008-238.fits'],\n",
       " ['2M02270767+5924201', 55850, 'apVisit-dr17-5529-55850-103.fits'],\n",
       " ['2M02273869+6106525', 57710, 'apVisit-dr17-9245-57710-008.fits'],\n",
       " ['2M02273869+6106525', 57764, 'apVisit-dr17-9245-57764-008.fits'],\n",
       " ['2M02274371+3333278', 58441, 'apVisit-dr17-11208-58441-030.fits'],\n",
       " ['2M02274371+3333278', 58420, 'apVisit-dr17-10348-58420-029.fits'],\n",
       " ['2M02282779+3414464', 58500, 'apVisit-dr17-11208-58500-021.fits'],\n",
       " ['2M02290198-0945113', 57027, 'apVisit-dr17-7772-57027-029.fits'],\n",
       " ['2M02293039-0818019', 57262, 'apVisit-dr17-7772-57262-233.fits'],\n",
       " ['2M02323371+2621128', 57680, 'apVisit-dr17-8807-57680-110.fits'],\n",
       " ['2M02342325-0828557', 57020, 'apVisit-dr17-7772-57020-172.fits'],\n",
       " ['2M02343561+1045534', 57297, 'apVisit-dr17-7927-57297-196.fits'],\n",
       " ['2M02400163-0636180', 58706, 'asVisit-dr17-11906-58706-279.fits'],\n",
       " ['2M02401782+4710051', 56943, 'apVisit-dr17-7778-56943-071.fits'],\n",
       " ['2M02401782+4710051', 56937, 'apVisit-dr17-7778-56937-071.fits'],\n",
       " ['2M02404901-0553248', 58712, 'asVisit-dr17-11907-58712-160.fits'],\n",
       " ['2M02420147+4004063', 58120, 'apVisit-dr17-10356-58120-239.fits'],\n",
       " ['2M02432082-0103398', 57307, 'apVisit-dr17-8077-57307-139.fits'],\n",
       " ['2M02432082-0103398', 57308, 'apVisit-dr17-8077-57308-139.fits'],\n",
       " ['2M02432082-0103398', 58872, 'apVisit-dr17-8078-58872-113.fits'],\n",
       " ['2M02432082-0103398', 58873, 'apVisit-dr17-8078-58873-113.fits'],\n",
       " ['2M02432082-0103398', 58874, 'apVisit-dr17-8078-58874-113.fits'],\n",
       " ['2M02432082-0103398', 58875, 'apVisit-dr17-8078-58875-113.fits'],\n",
       " ['2M02432082-0103398', 58877, 'apVisit-dr17-8078-58877-113.fits'],\n",
       " ['2M02432082-0103398', 58879, 'apVisit-dr17-8078-58879-113.fits'],\n",
       " ['2M02440872+3711366', 57291, 'apVisit-dr17-8113-57291-114.fits'],\n",
       " ['2M02450567-0021040', 57663, 'apVisit-dr17-8153-57663-070.fits'],\n",
       " ['2M02455385-1310597', 57329, 'apVisit-dr17-8663-57329-088.fits'],\n",
       " ['2M02464177+3937232', 58146, 'apVisit-dr17-10356-58146-234.fits'],\n",
       " ['2M02464452+0107549', 57309, 'apVisit-dr17-8078-57309-249.fits'],\n",
       " ['2M02491256+0815300', 56637, 'apVisit-dr17-6564-56637-173.fits'],\n",
       " ['2M02512773-1649482', 57350, 'apVisit-dr17-7945-57350-181.fits'],\n",
       " ['2M02521673-1622002', 57409, 'apVisit-dr17-7945-57409-287.fits'],\n",
       " ['2M02522176-0804497', 58862, 'apVisit-dr17-10222-58862-001.fits'],\n",
       " ['2M02570356+0055034', 57666, 'apVisit-dr17-8154-57666-233.fits'],\n",
       " ['2M02570356+0055034', 57785, 'apVisit-dr17-9192-57785-277.fits'],\n",
       " ['2M02570356+0055034', 57786, 'apVisit-dr17-9192-57786-277.fits'],\n",
       " ['2M02570356+0055034', 57787, 'apVisit-dr17-9192-57787-277.fits'],\n",
       " ['2M02580430+0010416', 57668, 'apVisit-dr17-8154-57668-197.fits'],\n",
       " ['2M02595484+0037037', 57779, 'apVisit-dr17-9194-57779-275.fits'],\n",
       " ['2M02595484+0037037', 57780, 'apVisit-dr17-9194-57780-275.fits'],\n",
       " ['2M02595484+0037037', 57782, 'apVisit-dr17-9194-57782-275.fits'],\n",
       " ['2M02595484+0037037', 57783, 'apVisit-dr17-9194-57783-275.fits'],\n",
       " ['2M03002780+4516191', 56947, 'apVisit-dr17-7797-56947-197.fits'],\n",
       " ['2M03002780+4516191', 57002, 'apVisit-dr17-7797-57002-233.fits'],\n",
       " ['2M03004767+2642135', 58147, 'apVisit-dr17-10363-58147-056.fits'],\n",
       " ['2M03011078+0032257', 57693, 'apVisit-dr17-9193-57693-234.fits'],\n",
       " ['2M03011078+0032257', 57687, 'apVisit-dr17-8154-57687-161.fits'],\n",
       " ['2M03011078+0032257', 57691, 'apVisit-dr17-9193-57691-234.fits'],\n",
       " ['2M03011078+0032257', 57776, 'apVisit-dr17-9193-57776-234.fits'],\n",
       " ['2M03011078+0032257', 57778, 'apVisit-dr17-9193-57778-234.fits'],\n",
       " ['2M03015474+0101594', 57692, 'apVisit-dr17-9193-57692-290.fits'],\n",
       " ['2M03094422+7941129', 56284, 'apVisit-dr17-6363-56284-219.fits'],\n",
       " ['2M03094422+7941129', 56560, 'apVisit-dr17-6363-56560-213.fits'],\n",
       " ['2M03094422+7941129', 56561, 'apVisit-dr17-6364-56561-213.fits'],\n",
       " ['2M03110855+5251034', 55929, 'apVisit-dr17-5604-55929-127.fits'],\n",
       " ['2M03110855+5251034', 56615, 'apVisit-dr17-5604-56615-139.fits'],\n",
       " ['2M03111284+6312062', 56264, 'apVisit-dr17-6536-56264-276.fits'],\n",
       " ['2M03111284+6312062', 56260, 'apVisit-dr17-6536-56260-271.fits'],\n",
       " ['2M03112982-0056418', 57306, 'apVisit-dr17-8081-57306-026.fits'],\n",
       " ['2M03124026-0823268', 58047, 'apVisit-dr17-9188-58047-116.fits'],\n",
       " ['2M03124026-0823268', 58045, 'apVisit-dr17-9188-58045-116.fits'],\n",
       " ['2M03124026-0823268', 58048, 'apVisit-dr17-9188-58048-116.fits'],\n",
       " ['2M03133533+3908415', 56165, 'apVisit-dr17-5543-56165-087.fits'],\n",
       " ['2M03142472+4720598', 57324, 'apVisit-dr17-8681-57324-097.fits'],\n",
       " ['2M03142598-0033062', 56953, 'apVisit-dr17-8082-56953-029.fits'],\n",
       " ['2M03142598-0033062', 56960, 'apVisit-dr17-8081-56960-050.fits'],\n",
       " ['2M03152275-7741334', 58775, 'asVisit-dr17-11992-58775-238.fits'],\n",
       " ['2M03154267+5704335', 56169, 'apVisit-dr17-5602-56169-004.fits'],\n",
       " ['2M03154774-0115042', 56955, 'apVisit-dr17-8082-56955-119.fits'],\n",
       " ['2M03154774-0115042', 56954, 'apVisit-dr17-8082-56954-119.fits'],\n",
       " ['2M03154774-0115042', 56959, 'apVisit-dr17-8081-56959-098.fits'],\n",
       " ['2M03160395+8020506', 56263, 'apVisit-dr17-6246-56263-279.fits'],\n",
       " ['2M03160395+8020506', 56539, 'apVisit-dr17-6246-56539-280.fits'],\n",
       " ['2M03164069-0056401', 56956, 'apVisit-dr17-8083-56956-115.fits'],\n",
       " ['2M03164069-0056401', 56957, 'apVisit-dr17-8083-56957-115.fits'],\n",
       " ['2M03164069-0056401', 56958, 'apVisit-dr17-8083-56958-115.fits'],\n",
       " ['2M03165675+7131025', 55845, 'apVisit-dr17-5540-55845-236.fits'],\n",
       " ['2M03170249+7945154', 55905, 'apVisit-dr17-5283-55905-228.fits'],\n",
       " ['2M03191111+0043411', 56651, 'apVisit-dr17-6565-56651-088.fits'],\n",
       " ['2M03210718+0928264', 56588, 'apVisit-dr17-7067-56588-277.fits'],\n",
       " ['2M03211751+0007418', 56611, 'apVisit-dr17-6565-56611-134.fits'],\n",
       " ['2M03214549-7724018', 59183, 'asVisit-dr17-11992-59183-004.fits'],\n",
       " ['2M03214549-7724018', 59187, 'asVisit-dr17-11992-59187-058.fits'],\n",
       " ['2M03220975+4834024', 58097, 'apVisit-dr17-9662-58097-023.fits'],\n",
       " ['2M03220975+4834024', 58148, 'apVisit-dr17-9662-58148-011.fits'],\n",
       " ['2M03221246+2102067', 57408, 'apVisit-dr17-8685-57408-291.fits'],\n",
       " ['2M03221246+2102067', 57648, 'apVisit-dr17-8685-57648-292.fits'],\n",
       " ['2M03222913+0042006', 57340, 'apVisit-dr17-8084-57340-221.fits'],\n",
       " ['2M03222918+5134159', 56288, 'apVisit-dr17-6538-56288-212.fits'],\n",
       " ['2M03222918+5134159', 56257, 'apVisit-dr17-6538-56257-215.fits'],\n",
       " ['2M03222918+5134159', 56261, 'apVisit-dr17-6538-56261-212.fits'],\n",
       " ['2M03223791-0031422', 57423, 'apVisit-dr17-8084-57423-058.fits'],\n",
       " ['2M03223791-0031422', 57424, 'apVisit-dr17-8084-57424-058.fits'],\n",
       " ['2M03223791-0031422', 57425, 'apVisit-dr17-8084-57425-058.fits'],\n",
       " ['2M03223791-0031422', 57426, 'apVisit-dr17-8084-57426-058.fits'],\n",
       " ['2M03223791-0031422', 57427, 'apVisit-dr17-8084-57427-058.fits'],\n",
       " ['2M03230938-0641502', 58051, 'apVisit-dr17-9189-58051-216.fits'],\n",
       " ['2M03230938-0641502', 58052, 'apVisit-dr17-9189-58052-216.fits'],\n",
       " ['2M03235380+0806598', 56592, 'apVisit-dr17-7066-56592-107.fits'],\n",
       " ['2M03245256-0101016', 57658, 'apVisit-dr17-8085-57658-103.fits'],\n",
       " ['2M03245256-0101016', 57660, 'apVisit-dr17-8085-57660-103.fits'],\n",
       " ['2M03250687+0723364', 56593, 'apVisit-dr17-7067-56593-147.fits'],\n",
       " ['2M03255900+7003421', 55842, 'apVisit-dr17-5540-55842-094.fits'],\n",
       " ['2M03255900+7003421', 55843, 'apVisit-dr17-5540-55843-094.fits'],\n",
       " ['2M03261337-0705158', 58071, 'apVisit-dr17-9189-58071-038.fits'],\n",
       " ['2M03282360+3221348', 58820, 'apVisit-dr17-11425-58820-279.fits'],\n",
       " ['2M03282360+3221348', 56236, 'apVisit-dr17-6225-56236-280.fits'],\n",
       " ['2M03282813-0803103', 58050, 'apVisit-dr17-9189-58050-148.fits'],\n",
       " ['2M03283689+7947391', 56283, 'apVisit-dr17-6247-56283-189.fits'],\n",
       " ['2M03283692+3117353', 56563, 'apVisit-dr17-7072-56563-213.fits'],\n",
       " ['2M03285425+3037402', 58828, 'apVisit-dr17-11425-58828-111.fits'],\n",
       " ['2M03290740+3110490', 56315, 'apVisit-dr17-6226-56315-188.fits'],\n",
       " ['2M03291414+4941169', 57821, 'apVisit-dr17-9662-57821-203.fits'],\n",
       " ['2M03291414+4941169', 58179, 'apVisit-dr17-9662-58179-245.fits'],\n",
       " ['2M03314168-0048020', 57310, 'apVisit-dr17-8155-57310-116.fits'],\n",
       " ['2M03320943+7901322', 55823, 'apVisit-dr17-5282-55823-103.fits'],\n",
       " ['2M03320943+7901322', 56285, 'apVisit-dr17-6364-56285-054.fits'],\n",
       " ['2M03322813+4728191', 55910, 'apVisit-dr17-5273-55910-295.fits'],\n",
       " ['2M03322956+7835151', 55874, 'apVisit-dr17-5283-55874-095.fits'],\n",
       " ['2M03331498+4503464', 55884, 'apVisit-dr17-5273-55884-099.fits'],\n",
       " ['2M03344945+4513191', 56195, 'apVisit-dr17-6244-56195-139.fits'],\n",
       " ['2M03345631+6419248', 57407, 'apVisit-dr17-8810-57407-251.fits'],\n",
       " ['2M03361133+3137150', 58745, 'apVisit-dr17-10357-58745-028.fits'],\n",
       " ['2M03361242+4651208', 55904, 'apVisit-dr17-5272-55904-176.fits'],\n",
       " ['2M03361242+4651208', 55883, 'apVisit-dr17-5272-55883-206.fits'],\n",
       " ['2M03363346+3201374', 58772, 'apVisit-dr17-11217-58772-022.fits'],\n",
       " ['2M03363561+3104286', 58527, 'apVisit-dr17-11425-58527-069.fits'],\n",
       " ['2M03370346+2444356', 57684, 'apVisit-dr17-9257-57684-213.fits'],\n",
       " ['2M03371290+4634201', 56200, 'apVisit-dr17-6244-56200-180.fits'],\n",
       " ['2M03371290+4634201', 56223, 'apVisit-dr17-6244-56223-157.fits'],\n",
       " ['2M03372870-0612489', 57688, 'apVisit-dr17-8727-57688-224.fits'],\n",
       " ['2M03375292+6854070', 58904, 'apVisit-dr17-12050-58904-196.fits'],\n",
       " ['2M03384202-0636477', 57689, 'apVisit-dr17-8727-57689-023.fits'],\n",
       " ['2M03391134+2010298', 58764, 'apVisit-dr17-12132-58764-185.fits'],\n",
       " ['2M03391134+2010298', 58766, 'apVisit-dr17-12132-58766-185.fits'],\n",
       " ['2M03393491+1818518', 56597, 'apVisit-dr17-56597-2M03393491+1818518.fits'],\n",
       " ['2M03393700+4531160', 56196, 'apVisit-dr17-6245-56196-077.fits'],\n",
       " ['2M03400448+3118568', 56170, 'apVisit-dr17-6219-56170-110.fits'],\n",
       " ['2M03400448+3118568', 56171, 'apVisit-dr17-6220-56171-022.fits'],\n",
       " ['2M03400448+3118568', 56172, 'apVisit-dr17-6218-56172-112.fits'],\n",
       " ['2M03400448+3118568', 56174, 'apVisit-dr17-6219-56174-110.fits'],\n",
       " ['2M03400448+3118568', 56675, 'apVisit-dr17-7074-56675-027.fits'],\n",
       " ['2M03400448+3118568', 56703, 'apVisit-dr17-7074-56703-021.fits'],\n",
       " ['2M03405533+3106172', 58855, 'apVisit-dr17-11217-58855-097.fits'],\n",
       " ['2M03405779+3118059', 56706, 'apVisit-dr17-7075-56706-110.fits'],\n",
       " ['2M03410169+6750268', 58046, 'apVisit-dr17-10146-58046-104.fits'],\n",
       " ['2M03410169+6750268', 58079, 'apVisit-dr17-10147-58079-110.fits'],\n",
       " ['2M03410169+6750268', 58080, 'apVisit-dr17-10147-58080-110.fits'],\n",
       " ['2M03413473+2305426', 58777, 'apVisit-dr17-12129-58777-013.fits'],\n",
       " ['2M03420199+2506537', 55854, 'apVisit-dr17-5534-55854-280.fits'],\n",
       " ['2M03420766+6430133', 57378, 'apVisit-dr17-8810-57378-269.fits'],\n",
       " ['2M03420766+6430133', 57404, 'apVisit-dr17-8810-57404-266.fits'],\n",
       " ['2M03422556+3256567', 56701, 'apVisit-dr17-7073-56701-238.fits'],\n",
       " ['2M03423215+3229291', 56282, 'apVisit-dr17-6223-56282-238.fits'],\n",
       " ['2M03423215+3229291', 56669, 'apVisit-dr17-7073-56669-221.fits'],\n",
       " ['2M03423215+3229291', 59063, 'apVisit-dr17-12706-59063-237.fits'],\n",
       " ['2M03431058+0101330', 57332, 'apVisit-dr17-8086-57332-294.fits'],\n",
       " ['2M03431058+0101330', 57333, 'apVisit-dr17-8086-57333-294.fits'],\n",
       " ['2M03433662+2413562', 55851, 'apVisit-dr17-5534-55851-022.fits'],\n",
       " ['2M03434101+3237320', 58087, 'apVisit-dr17-10100-58087-298.fits'],\n",
       " ['2M03434101+3237320', 56673, 'apVisit-dr17-7073-56673-292.fits'],\n",
       " ['2M03441568+3231282', 59066, 'apVisit-dr17-12706-59066-243.fits'],\n",
       " ['2M03445399-7144092', 58411, 'asVisit-dr17-10318-58411-247.fits'],\n",
       " ['2M03453821-1017211', 57056, 'apVisit-dr17-7773-57056-214.fits'],\n",
       " ['2M03453821-1017211', 57059, 'apVisit-dr17-7773-57059-226.fits'],\n",
       " ['2M03453821-1017211', 57273, 'apVisit-dr17-7773-57273-232.fits'],\n",
       " ['2M03470376+2336588', 55847, 'apVisit-dr17-5534-55847-038.fits'],\n",
       " ['2M03474790+4803183', 56203, 'apVisit-dr17-6240-56203-101.fits'],\n",
       " ['2M03485503+3903496', 56698, 'apVisit-dr17-7205-56698-184.fits'],\n",
       " ['2M03491989+4915280', 55848, 'apVisit-dr17-5498-55848-032.fits'],\n",
       " ['2M03491989+4915280', 55849, 'apVisit-dr17-5497-55849-048.fits'],\n",
       " ['2M03491989+4915280', 55852, 'apVisit-dr17-5498-55852-035.fits'],\n",
       " ['2M03491989+4915280', 55853, 'apVisit-dr17-5497-55853-037.fits'],\n",
       " ['2M03492228-0514324', 57338, 'apVisit-dr17-8728-57338-215.fits'],\n",
       " ['2M03494383-0512075', 57335, 'apVisit-dr17-8728-57335-220.fits'],\n",
       " ['2M03494383-0512075', 57336, 'apVisit-dr17-8728-57336-220.fits'],\n",
       " ['2M03494383-0512075', 57339, 'apVisit-dr17-8728-57339-220.fits'],\n",
       " ['2M03510315-6950435', 58211, 'asVisit-dr17-9650-58211-250.fits'],\n",
       " ['2M03511059+1210031', 58793, 'apVisit-dr17-12144-58793-014.fits'],\n",
       " ['2M03520566+1453004', 58852, 'apVisit-dr17-12141-58852-209.fits'],\n",
       " ['2M03521852+2451334', 57345, 'apVisit-dr17-8780-57345-217.fits'],\n",
       " ['2M03521852+2451334', 57346, 'apVisit-dr17-8780-57346-217.fits'],\n",
       " ['2M03533894+4857085', 55930, 'apVisit-dr17-5498-55930-084.fits'],\n",
       " ['2M03533894+4857085', 56177, 'apVisit-dr17-6241-56177-068.fits'],\n",
       " ['2M03535927+0928165', 58507, 'apVisit-dr17-11647-58507-077.fits'],\n",
       " ['2M03563567+7857072', 56676, 'apVisit-dr17-6365-56676-136.fits'],\n",
       " ['2M03565396+5256029', 55881, 'apVisit-dr17-5268-55881-226.fits'],\n",
       " ['2M03565396+5256029', 55926, 'apVisit-dr17-5268-55926-220.fits'],\n",
       " ['2M03571647-2929542', 58801, 'asVisit-dr17-9633-58801-160.fits'],\n",
       " ['2M03571647-2929542', 57945, 'asVisit-dr17-9633-57945-070.fits'],\n",
       " ['2M03571647-2929542', 57972, 'asVisit-dr17-9633-57972-076.fits'],\n",
       " ['2M03575616+1030419', 57358, 'apVisit-dr17-8686-57358-115.fits'],\n",
       " ['2M04000451-7522368', 59197, 'asVisit-dr17-12824-59197-183.fits'],\n",
       " ['2M04000451-7522368', 59200, 'asVisit-dr17-12824-59200-189.fits'],\n",
       " ['2M04000628-7426479', 59218, 'asVisit-dr17-12824-59218-262.fits'],\n",
       " ['2M04000628-7426479', 59221, 'asVisit-dr17-12824-59221-178.fits'],\n",
       " ['2M04000628-7426479', 59225, 'asVisit-dr17-12824-59225-160.fits'],\n",
       " ['2M04000628-7426479', 59228, 'asVisit-dr17-12824-59228-208.fits'],\n",
       " ['2M04002554+4608436', 56314, 'apVisit-dr17-5606-56314-117.fits'],\n",
       " ['2M04015510+5336178', 55927, 'apVisit-dr17-5269-55927-285.fits'],\n",
       " ['2M04015510+5336178', 55931, 'apVisit-dr17-5269-55931-298.fits'],\n",
       " ['2M04015510+5336178', 55956, 'apVisit-dr17-5269-55956-279.fits'],\n",
       " ['2M04020951+4553084', 55928, 'apVisit-dr17-5606-55928-117.fits'],\n",
       " ['2M04020951+4553084', 56255, 'apVisit-dr17-5606-56255-100.fits'],\n",
       " ['2M04031546-6431372', 58149, 'asVisit-dr17-10313-58149-263.fits'],\n",
       " ['2M04041108-0536229', 57428, 'apVisit-dr17-8158-57428-218.fits'],\n",
       " ['2M04041108-0536229', 57430, 'apVisit-dr17-8158-57430-218.fits'],\n",
       " ['2M04041108-0536229', 57431, 'apVisit-dr17-8158-57431-218.fits'],\n",
       " ['2M04041108-0536229', 57432, 'apVisit-dr17-8158-57432-218.fits'],\n",
       " ['2M04051669-0510113', 57429, 'apVisit-dr17-8158-57429-181.fits'],\n",
       " ['2M04052043+3649563', 57296, 'apVisit-dr17-8042-57296-067.fits'],\n",
       " ['2M04052852+3736385', 57266, 'apVisit-dr17-8042-57266-162.fits'],\n",
       " ['2M04054829+1836458', 59081, 'apVisit-dr17-12139-59081-101.fits'],\n",
       " ['2M04055095-6759590', 58412, 'asVisit-dr17-10315-58412-254.fits'],\n",
       " ['2M04083064-6842078', 58115, 'asVisit-dr17-10104-58115-202.fits'],\n",
       " ['2M04083064-6842078', 58445, 'asVisit-dr17-10104-58445-190.fits'],\n",
       " ['2M04083064-6842078', 58481, 'asVisit-dr17-10104-58481-190.fits'],\n",
       " ['2M04093871-6314016', 59189, 'asVisit-dr17-12785-59189-284.fits'],\n",
       " ['2M04093871-6314016', 59196, 'asVisit-dr17-12785-59196-281.fits'],\n",
       " ['2M04101262-6225177', 59171, 'asVisit-dr17-12785-59171-161.fits'],\n",
       " ['2M04101262-6225177', 59185, 'asVisit-dr17-12785-59185-209.fits'],\n",
       " ['2M04122244+2422419', 57356, 'apVisit-dr17-8779-57356-290.fits'],\n",
       " ['2M04131512+6703558', 57279, 'apVisit-dr17-7922-57279-037.fits'],\n",
       " ['2M04131512+6703558', 57320, 'apVisit-dr17-7922-57320-133.fits'],\n",
       " ['2M04132083-7431127', 58469, 'asVisit-dr17-10324-58469-262.fits'],\n",
       " ['2M04135110+4938317', 56977, 'apVisit-dr17-8040-56977-015.fits'],\n",
       " ['2M04135110+4938317', 57051, 'apVisit-dr17-8040-57051-015.fits'],\n",
       " ['2M04143819+1359259', 59201, 'asVisit-dr17-10040-59201-282.fits'],\n",
       " ['2M04150546-7214367', 58480, 'asVisit-dr17-10103-58480-057.fits'],\n",
       " ['2M04161726+2817128', 57682, 'apVisit-dr17-9258-57682-182.fits'],\n",
       " ['2M04163818+4034009', 57328, 'apVisit-dr17-8704-57328-025.fits'],\n",
       " ['2M04163818+4034009', 57331, 'apVisit-dr17-8704-57331-030.fits'],\n",
       " ['2M04163818+4034009', 58443, 'apVisit-dr17-11433-58443-223.fits'],\n",
       " ['2M04164269+2724210', 58036, 'apVisit-dr17-9258-58036-059.fits'],\n",
       " ['2M04173043+4406020', 56229, 'apVisit-dr17-6325-56229-002.fits'],\n",
       " ['2M04174609+2401303', 57357, 'apVisit-dr17-8779-57357-169.fits'],\n",
       " ['2M04175109-7230594', 58440, 'asVisit-dr17-10322-58440-152.fits'],\n",
       " ['2M04182393+5423539', 55958, 'apVisit-dr17-5270-55958-119.fits'],\n",
       " ['2M04184061+2819155', 58499, 'apVisit-dr17-11592-58499-081.fits'],\n",
       " ['2M04184061+2819155', 58503, 'apVisit-dr17-11592-58503-142.fits'],\n",
       " ['2M04201815+2045479', 58797, 'apVisit-dr17-12148-58797-027.fits'],\n",
       " ['2M04215749+5410526', 56173, 'apVisit-dr17-6238-56173-116.fits'],\n",
       " ['2M04215749+5410526', 56175, 'apVisit-dr17-6239-56175-140.fits'],\n",
       " ['2M04215749+5410526', 56228, 'apVisit-dr17-6239-56228-098.fits'],\n",
       " ['2M04222563+5933026', 57375, 'apVisit-dr17-8809-57375-101.fits'],\n",
       " ['2M04222563+5933026', 57405, 'apVisit-dr17-8809-57405-116.fits'],\n",
       " ['2M04234759+2940381', 58744, 'apVisit-dr17-11592-58744-160.fits'],\n",
       " ['2M04242736+5458531', 56232, 'apVisit-dr17-6239-56232-047.fits'],\n",
       " ['2M04265985+2532138', 57737, 'apVisit-dr17-9287-57737-107.fits'],\n",
       " ['2M04272406-6735313', 58506, 'asVisit-dr17-11511-58506-176.fits'],\n",
       " ['2M04283619-5933093', 58439, 'asVisit-dr17-11189-58439-270.fits'],\n",
       " ['2M04300075+2957461', 56993, 'apVisit-dr17-7932-56993-102.fits'],\n",
       " ['2M04300075+2957461', 57004, 'apVisit-dr17-7932-57004-048.fits'],\n",
       " ['2M04300665+3520323', 56677, 'apVisit-dr17-7189-56677-117.fits'],\n",
       " ['2M04305186+1511078', 58850, 'apVisit-dr17-12154-58850-112.fits'],\n",
       " ['2M04311419+0041104', 57406, 'apVisit-dr17-8773-57406-215.fits'],\n",
       " ['2M04315609+2136142', 58887, 'apVisit-dr17-12149-58887-028.fits'],\n",
       " ['2M04324415+2253538', 58010, 'apVisit-dr17-9259-58010-104.fits'],\n",
       " ['2M04331907+2246342', 57683, 'apVisit-dr17-9259-57683-100.fits'],\n",
       " ['2M04360354-5804334', 58774, 'asVisit-dr17-10953-58774-267.fits'],\n",
       " ['2M04373881+4650216', 56254, 'apVisit-dr17-6212-56254-050.fits'],\n",
       " ['2M04394989-6945582', 59194, 'asVisit-dr17-10281-59194-284.fits'],\n",
       " ['2M04394989-6945582', 58124, 'asVisit-dr17-10281-58124-284.fits'],\n",
       " ['2M04405716-7139098', 59190, 'asVisit-dr17-12781-59190-052.fits'],\n",
       " ['2M04411881-6428225', 59199, 'asVisit-dr17-12819-59199-177.fits'],\n",
       " ['2M04411881-6428225', 59210, 'asVisit-dr17-12819-59210-177.fits'],\n",
       " ['2M04415164-6751549', 59219, 'asVisit-dr17-12780-59219-118.fits'],\n",
       " ['2M04420974+1558117', 58886, 'apVisit-dr17-12155-58886-112.fits'],\n",
       " ['2M04420974+1558117', 58915, 'apVisit-dr17-12155-58915-106.fits'],\n",
       " ['2M04423093+3258075', 57359, 'apVisit-dr17-8043-57359-059.fits'],\n",
       " ['2M04442280-7524067', 58416, 'asVisit-dr17-10106-58416-188.fits'],\n",
       " ['2M04453335+2728084', 56671, 'apVisit-dr17-7206-56671-090.fits'],\n",
       " ['2M04455059+3808596', 56227, 'apVisit-dr17-6337-56227-058.fits'],\n",
       " ['2M04460281+2832101', 56704, 'apVisit-dr17-7206-56704-259.fits'],\n",
       " ['2M04475318+3844458', 56202, 'apVisit-dr17-6336-56202-051.fits'],\n",
       " ['2M04481234+0542498', 58117, 'apVisit-dr17-10365-58117-125.fits'],\n",
       " ['2M04481636-6639411', 58857, 'asVisit-dr17-12195-58857-248.fits'],\n",
       " ['2M04485954+3749255', 55937, 'apVisit-dr17-5276-55937-143.fits'],\n",
       " ['2M04491848+4954075', 56209, 'apVisit-dr17-6324-56209-212.fits'],\n",
       " ['2M04501423-6015365', 59205, 'asVisit-dr17-12817-59205-262.fits'],\n",
       " ['2M04501423-6015365', 59222, 'asVisit-dr17-12817-59222-267.fits'],\n",
       " ['2M04503647+4519494', 56992, 'apVisit-dr17-7802-56992-245.fits'],\n",
       " ['2M04511439+5747361', 55903, 'apVisit-dr17-5275-55903-083.fits'],\n",
       " ['2M04523015+3925462', 55963, 'apVisit-dr17-5277-55963-171.fits'],\n",
       " ['2M04523015+3925462', 55933, 'apVisit-dr17-5277-55933-159.fits'],\n",
       " ['2M04523015+3925462', 55938, 'apVisit-dr17-5277-55938-261.fits'],\n",
       " ['2M04542876-6723055', 58123, 'asVisit-dr17-10282-58123-272.fits'],\n",
       " ['2M04544572-6429201', 59213, 'asVisit-dr17-12819-59213-130.fits'],\n",
       " ['2M04555060-6837086', 59229, 'asVisit-dr17-10277-59229-270.fits'],\n",
       " ['2M04562189+1605419', 58898, 'apVisit-dr17-12319-58898-236.fits'],\n",
       " ['2M04562456+1830491', 58918, 'apVisit-dr17-12156-58918-207.fits'],\n",
       " ['2M05011401+2230159', 57108, 'apVisit-dr17-8047-57108-203.fits'],\n",
       " ['2M05011401+2230159', 57057, 'apVisit-dr17-8047-57057-188.fits'],\n",
       " ['2M05011401+2230159', 57062, 'apVisit-dr17-8047-57062-197.fits'],\n",
       " ['2M05020738-7120131', 58502, 'asVisit-dr17-11444-58502-255.fits'],\n",
       " ['2M05020738-7120131', 58471, 'asVisit-dr17-10108-58471-112.fits'],\n",
       " ['2M05024263+2151091', 57060, 'apVisit-dr17-8046-57060-150.fits'],\n",
       " ['2M05024263+2151091', 57088, 'apVisit-dr17-8046-57088-031.fits'],\n",
       " ['2M05031102-7313031', 58177, 'asVisit-dr17-10330-58177-252.fits'],\n",
       " ['2M05031611+1108059', 58176, 'apVisit-dr17-10367-58176-277.fits'],\n",
       " ['2M05055570+1618118', 58881, 'apVisit-dr17-12233-58881-016.fits'],\n",
       " ['2M05063621-7118565', 58145, 'asVisit-dr17-10283-58145-023.fits'],\n",
       " ['2M05093315+2444492', 56201, 'apVisit-dr17-6346-56201-217.fits'],\n",
       " ['2M05093315+2444492', 56208, 'apVisit-dr17-6346-56208-211.fits'],\n",
       " ['2M05102604-3937306', 59220, 'asVisit-dr17-12830-59220-158.fits'],\n",
       " ['2M05102604-3937306', 59226, 'asVisit-dr17-12831-59226-179.fits'],\n",
       " ['2M05111425-3952226', 57973, 'asVisit-dr17-9733-57973-208.fits'],\n",
       " ['2M05111425-3952226', 59217, 'asVisit-dr17-12830-59217-255.fits'],\n",
       " ['2M05115958-8541012', 59169, 'asVisit-dr17-11993-59169-160.fits'],\n",
       " ['2M05134032-6859079', 58858, 'asVisit-dr17-12198-58858-172.fits'],\n",
       " ['2M05145217-3935094', 58151, 'asVisit-dr17-9734-58151-076.fits'],\n",
       " ['2M05165888+2507025', 58069, 'apVisit-dr17-8118-58069-238.fits'],\n",
       " ['2M05165990-6236344', 58415, 'asVisit-dr17-10111-58415-040.fits'],\n",
       " ['2M05165990-6236344', 58474, 'asVisit-dr17-10111-58474-045.fits'],\n",
       " ['2M05165990-6236344', 58479, 'asVisit-dr17-10111-58479-051.fits'],\n",
       " ['2M05165990-6236344', 58501, 'asVisit-dr17-10111-58501-045.fits'],\n",
       " ['2M05165990-6236344', 58917, 'asVisit-dr17-9461-58917-046.fits'],\n",
       " ['2M05170957-6944199', 58468, 'asVisit-dr17-11177-58468-054.fits'],\n",
       " ['2M05180495-0112071', 57713, 'apVisit-dr17-9479-57713-278.fits'],\n",
       " ['2M05180671-6520568', 58353, 'asVisit-dr17-10110-58353-135.fits'],\n",
       " ['2M05180671-6520568', 58356, 'asVisit-dr17-10110-58356-129.fits'],\n",
       " ['2M05181584+2408210', 57028, 'apVisit-dr17-8118-57028-003.fits'],\n",
       " ['2M05181584+2408210', 57415, 'apVisit-dr17-8774-57415-052.fits'],\n",
       " ['2M05181584+2408210', 57685, 'apVisit-dr17-8815-57685-058.fits'],\n",
       " ['2M05181584+2408210', 57049, 'apVisit-dr17-8118-57049-046.fits'],\n",
       " ['2M05181584+2408210', 57081, 'apVisit-dr17-8118-57081-051.fits'],\n",
       " ['2M05181584+2408210', 57087, 'apVisit-dr17-8118-57087-046.fits'],\n",
       " ['2M05181584+2408210', 57413, 'apVisit-dr17-8119-57413-057.fits'],\n",
       " ['2M05181584+2408210', 57417, 'apVisit-dr17-8119-57417-057.fits'],\n",
       " ['2M05181584+2408210', 57433, 'apVisit-dr17-8119-57433-057.fits'],\n",
       " ['2M05181584+2408210', 57792, 'apVisit-dr17-8815-57792-010.fits'],\n",
       " ['2M05192667-6947163', 58505, 'asVisit-dr17-11513-58505-204.fits'],\n",
       " ['2M05194502+2905511', 56290, 'apVisit-dr17-6544-56290-108.fits'],\n",
       " ['2M05194803+2404177', 55957, 'apVisit-dr17-5278-55957-090.fits'],\n",
       " ['2M05195578+2426594', 55965, 'apVisit-dr17-5279-55965-061.fits'],\n",
       " ['2M05200157-6734421', 59153, 'asVisit-dr17-12786-59153-142.fits'],\n",
       " ['2M05200157-6734421', 59173, 'asVisit-dr17-12786-59173-141.fits'],\n",
       " ['2M05202001-6902244', 58827, 'asVisit-dr17-12198-58827-124.fits'],\n",
       " ['2M05212181+1250396', 56946, 'apVisit-dr17-7939-56946-020.fits'],\n",
       " ['2M05214287-2424543', 57974, 'asVisit-dr17-9735-57974-254.fits'],\n",
       " ['2M05223172-2425401', 58026, 'asVisit-dr17-9736-58026-245.fits'],\n",
       " ['2M05224331+0328389', 57411, 'apVisit-dr17-8906-57411-216.fits'],\n",
       " ['2M05224331+0328389', 57412, 'apVisit-dr17-8906-57412-216.fits'],\n",
       " ['2M05233649-6232067', 59223, 'asVisit-dr17-12120-59223-022.fits'],\n",
       " ['2M05240837+2711064', 56238, 'apVisit-dr17-5506-56238-212.fits'],\n",
       " ['2M05242219-6606372', 59230, 'asVisit-dr17-12820-59230-267.fits'],\n",
       " ['2M05242219-6606372', 59233, 'asVisit-dr17-12820-59233-261.fits'],\n",
       " ['2M05245445+3821524', 56697, 'apVisit-dr17-7186-56697-072.fits'],\n",
       " ['2M05245445+3821524', 56702, 'apVisit-dr17-7186-56702-067.fits'],\n",
       " ['2M05261295-0143189', 57732, 'apVisit-dr17-9475-57732-213.fits'],\n",
       " ['2M05265810+1311343', 56972, 'apVisit-dr17-7938-56972-044.fits'],\n",
       " ['2M05265958+0246583', 57410, 'apVisit-dr17-8905-57410-053.fits'],\n",
       " ['2M05270322-0242020', 57796, 'apVisit-dr17-9477-57796-107.fits'],\n",
       " ['2M05272590-4513542', 58894, 'asVisit-dr17-9635-58894-285.fits'],\n",
       " ['2M05284223+4359528', 56231, 'apVisit-dr17-6335-56231-170.fits'],\n",
       " ['2M05291630+3549565', 56700, 'apVisit-dr17-7200-56700-191.fits'],\n",
       " ['2M05292628+3555070', 56674, 'apVisit-dr17-7200-56674-245.fits'],\n",
       " ['2M05292628+3555070', 56699, 'apVisit-dr17-7200-56699-197.fits'],\n",
       " ['2M05301265-6531344', 59202, 'asVisit-dr17-12123-59202-284.fits'],\n",
       " ['2M05304951+2532292', 56239, 'apVisit-dr17-6342-56239-099.fits'],\n",
       " ['2M05312357-0437069', 58778, 'apVisit-dr17-11593-58778-278.fits'],\n",
       " ['2M05313079+2526234', 55991, 'apVisit-dr17-5505-55991-102.fits'],\n",
       " ['2M05320638-0111000', 57794, 'apVisit-dr17-9468-57794-278.fits'],\n",
       " ['2M05320673-6359387', 59234, 'asVisit-dr17-12121-59234-026.fits'],\n",
       " ['2M05334627+3958411', 56313, 'apVisit-dr17-6541-56313-032.fits'],\n",
       " ['2M05342386-0515403', 56636, 'apVisit-dr17-7224-56636-219.fits'],\n",
       " ['2M05342767-0537192', 58424, 'apVisit-dr17-9481-58424-056.fits'],\n",
       " ['2M05342829-0610247', 57793, 'apVisit-dr17-9660-57793-226.fits'],\n",
       " ['2M05343976-0524254', 56629, 'apVisit-dr17-7224-56629-027.fits'],\n",
       " ['2M05343976-0524254', 56630, 'apVisit-dr17-7224-56630-027.fits'],\n",
       " ['2M05344507+6223530', 55934, 'apVisit-dr17-5542-55934-043.fits'],\n",
       " ['2M05344507+6223530', 55967, 'apVisit-dr17-5542-55967-055.fits'],\n",
       " ['2M05344692-0535078', 56606, 'apVisit-dr17-7220-56606-112.fits'],\n",
       " ['2M05345094+2720083', 56190, 'apVisit-dr17-5505-56190-169.fits'],\n",
       " ['2M05345563-0601036', 58532, 'apVisit-dr17-11593-58532-011.fits'],\n",
       " ['2M05345563-0601036', 56626, 'apVisit-dr17-7222-56626-149.fits'],\n",
       " ['2M05351077-0651557', 56652, 'apVisit-dr17-7230-56652-111.fits'],\n",
       " ['2M05351316-0140459', 57795, 'apVisit-dr17-9468-57795-196.fits'],\n",
       " ['2M05351755-0453037', 56672, 'apVisit-dr17-7229-56672-248.fits'],\n",
       " ['2M05354815+0024559', 57707, 'apVisit-dr17-9473-57707-056.fits'],\n",
       " ['2M05361296-0623329', 57790, 'apVisit-dr17-9660-57790-185.fits'],\n",
       " ['2M05371317-6216200', 59180, 'asVisit-dr17-12751-59180-232.fits'],\n",
       " ['2M05375674+3145012', 57109, 'apVisit-dr17-8044-57109-088.fits'],\n",
       " ['2M05383316+4556445', 56316, 'apVisit-dr17-6533-56316-291.fits'],\n",
       " ['2M05402330+4617163', 56623, 'apVisit-dr17-7193-56623-192.fits'],\n",
       " ['2M05402381-6038399', 58475, 'asVisit-dr17-10116-58475-284.fits'],\n",
       " ['2M05420795+3849453', 55966, 'apVisit-dr17-5608-55966-300.fits'],\n",
       " ['2M05431999-0432441', 55961, 'apVisit-dr17-5545-55961-218.fits'],\n",
       " ['2M05444704-6435254', 59232, 'asVisit-dr17-12122-59232-259.fits'],\n",
       " ['2M05460266+1442125', 57030, 'apVisit-dr17-7940-57030-075.fits'],\n",
       " ['2M05462028-6006203', 58509, 'asVisit-dr17-10116-58509-081.fits'],\n",
       " ['2M05463005+0012096', 57443, 'apVisit-dr17-8891-57443-188.fits'],\n",
       " ['2M05463489+2738029', 55882, 'apVisit-dr17-5501-55882-100.fits'],\n",
       " ['2M05465074-6316190', 58508, 'asVisit-dr17-10115-58508-135.fits'],\n",
       " ['2M05465074-6316190', 58859, 'asVisit-dr17-10115-58859-135.fits'],\n",
       " ['2M05470607+2125457', 56312, 'apVisit-dr17-6546-56312-295.fits'],\n",
       " ['2M05483299-6102074', 58154, 'asVisit-dr17-10116-58154-057.fits'],\n",
       " ['2M05510949+2547178', 57050, 'apVisit-dr17-7936-57050-228.fits'],\n",
       " ['2M05512611+1933322', 56256, 'apVisit-dr17-6546-56256-126.fits'],\n",
       " ['2M05523961-6952105', 58912, 'asVisit-dr17-11509-58912-254.fits'],\n",
       " ['2M05525580-6054054', 58884, 'asVisit-dr17-12118-58884-065.fits'],\n",
       " ['2M05571307-7126191', 58153, 'asVisit-dr17-10118-58153-112.fits'],\n",
       " ['2M05571307-7126191', 58184, 'asVisit-dr17-10118-58184-028.fits'],\n",
       " ['2M05571307-7126191', 58472, 'asVisit-dr17-10118-58472-105.fits'],\n",
       " ['2M05580210+2631429', 57006, 'apVisit-dr17-7937-57006-260.fits'],\n",
       " ['2M05593050+3038112', 55968, 'apVisit-dr17-5610-55968-043.fits'],\n",
       " ['2M06005313-6655481', 59172, 'asVisit-dr17-12777-59172-280.fits'],\n",
       " ['2M06005313-6655481', 59178, 'asVisit-dr17-12777-59178-279.fits'],\n",
       " ['2M06012838-4755220', 58562, 'asVisit-dr17-11741-58562-271.fits'],\n",
       " ['2M06012838-4755220', 58565, 'asVisit-dr17-11741-58565-282.fits'],\n",
       " ['2M06014027-4731259', 58564, 'asVisit-dr17-11740-58564-201.fits'],\n",
       " ['2M06014027-4731259', 58590, 'asVisit-dr17-11740-58590-244.fits'],\n",
       " ['2M06021800+3209465', 56266, 'apVisit-dr17-6340-56266-242.fits'],\n",
       " ['2M06031425+2949475', 56377, 'apVisit-dr17-6340-56377-148.fits'],\n",
       " ['2M06031578+2952126', 56351, 'apVisit-dr17-6340-56351-143.fits'],\n",
       " ['2M06061979-0614140', 57440, 'apVisit-dr17-8909-57440-212.fits'],\n",
       " ['2M06061979-0614140', 57706, 'apVisit-dr17-8909-57706-218.fits'],\n",
       " ['2M06065008+2352512', 58882, 'apVisit-dr17-12217-58882-113.fits'],\n",
       " ['2M06065008+2352512', 58888, 'apVisit-dr17-12217-58888-107.fits'],\n",
       " ['2M06073849-0608022', 57439, 'apVisit-dr17-8908-57439-217.fits'],\n",
       " ['2M06074063-4729269', 58591, 'asVisit-dr17-11741-58591-048.fits'],\n",
       " ['2M06075523-4731388', 58561, 'asVisit-dr17-11740-58561-044.fits'],\n",
       " ['2M06084439+2411512', 55855, 'apVisit-dr17-5584-55855-086.fits'],\n",
       " ['2M06115599+3325505', 56323, 'apVisit-dr17-6345-56323-220.fits'],\n",
       " ['2M06125378+2343533', 56347, 'apVisit-dr17-6548-56347-027.fits'],\n",
       " ['2M06125378+2343533', 56352, 'apVisit-dr17-6548-56352-021.fits'],\n",
       " ['2M06132183+4057302', 56729, 'apVisit-dr17-7210-56729-212.fits'],\n",
       " ['2M06144696-6943009', 59170, 'asVisit-dr17-12778-59170-010.fits'],\n",
       " ['2M06144696-6943009', 59184, 'asVisit-dr17-12778-59184-057.fits'],\n",
       " ['2M06145582-1832185', 58210, 'asVisit-dr17-10425-58210-179.fits'],\n",
       " ['2M06145582-1832185', 58213, 'asVisit-dr17-10425-58213-263.fits'],\n",
       " ['2M06153889+1942122', 56679, 'apVisit-dr17-7204-56679-179.fits'],\n",
       " ['2M06155451+5532531', 56678, 'apVisit-dr17-7213-56678-100.fits'],\n",
       " ['2M06155982+3958486', 56705, 'apVisit-dr17-7210-56705-116.fits'],\n",
       " ['2M06170830-6120295', 58826, 'asVisit-dr17-12117-58826-270.fits'],\n",
       " ['2M06180730+7506032', 58122, 'apVisit-dr17-10373-58122-292.fits'],\n",
       " ['2M06184505-6447223', 58885, 'asVisit-dr17-12299-58885-256.fits'],\n",
       " ['2M06195901+3259327', 56267, 'apVisit-dr17-6344-56267-162.fits'],\n",
       " ['2M06262967+2054126', 56265, 'apVisit-dr17-6549-56265-032.fits'],\n",
       " ['2M06262967+2054126', 56583, 'apVisit-dr17-6549-56583-080.fits'],\n",
       " ['2M06270107-3100409', 58152, 'asVisit-dr17-9451-58152-152.fits'],\n",
       " ['2M06270107-3100409', 58180, 'asVisit-dr17-10426-58180-265.fits'],\n",
       " ['2M06270107-3100409', 58183, 'asVisit-dr17-10426-58183-265.fits'],\n",
       " ['2M06275567-7052476', 58155, 'asVisit-dr17-10122-58155-274.fits'],\n",
       " ['2M06275567-7052476', 58182, 'asVisit-dr17-10122-58182-226.fits'],\n",
       " ['2M06295728-3210256', 58207, 'asVisit-dr17-10426-58207-212.fits'],\n",
       " ['2M06300241-3212463', 57831, 'asVisit-dr17-9451-57831-214.fits'],\n",
       " ['2M06300433+0118350', 55989, 'apVisit-dr17-5517-55989-190.fits'],\n",
       " ['2M06311522+1637567', 55875, 'apVisit-dr17-5509-55875-092.fits'],\n",
       " ['2M06322404+0332165', 59224, 'asVisit-dr17-11441-59224-213.fits'],\n",
       " ['2M06330390+3512296', 56999, 'apVisit-dr17-7934-56999-292.fits'],\n",
       " ['2M06332612+6851274', 58143, 'apVisit-dr17-10364-58143-054.fits'],\n",
       " ['2M06344417+0553228', 55902, 'apVisit-dr17-5568-55902-157.fits'],\n",
       " ['2M06344417+0553228', 55940, 'apVisit-dr17-5569-55940-159.fits'],\n",
       " ['2M06351099+5023151', 56667, 'apVisit-dr17-7214-56667-207.fits'],\n",
       " ['2M06393584-7024151', 58091, 'asVisit-dr17-10122-58091-184.fits'],\n",
       " ['2M06395957+0956243', 56237, 'apVisit-dr17-6103-56237-239.fits'],\n",
       " ['2M06400522+0950565', 58068, 'apVisit-dr17-10302-58068-239.fits'],\n",
       " ['2M06404686+0932309', 58086, 'apVisit-dr17-10302-58086-049.fits'],\n",
       " ['2M06410360+0930290', 58916, 'apVisit-dr17-11778-58916-096.fits'],\n",
       " ['2M06411465+0150373', 56349, 'apVisit-dr17-6352-56349-112.fits'],\n",
       " ['2M06413207+1001049', 56346, 'apVisit-dr17-6227-56346-227.fits'],\n",
       " ['2M06451860+4759315', 58526, 'apVisit-dr17-11603-58526-246.fits'],\n",
       " ['2M06453267-5044263', 58185, 'asVisit-dr17-10209-58185-135.fits'],\n",
       " ['2M06453267-5044263', 58212, 'asVisit-dr17-10209-58212-087.fits'],\n",
       " ['2M06453267-5044263', 58215, 'asVisit-dr17-10209-58215-124.fits'],\n",
       " ['2M06453267-5044263', 58236, 'asVisit-dr17-10209-58236-123.fits'],\n",
       " ['2M06453267-5044263', 58889, 'asVisit-dr17-10207-58889-123.fits'],\n",
       " ['2M06453267-5044263', 58892, 'asVisit-dr17-10207-58892-088.fits'],\n",
       " ['2M06453267-5044263', 58913, 'asVisit-dr17-10208-58913-129.fits'],\n",
       " ['2M06453267-5044263', 58919, 'asVisit-dr17-10207-58919-123.fits'],\n",
       " ['2M06453267-5044263', 58922, 'asVisit-dr17-10208-58922-124.fits'],\n",
       " ['2M06453267-5044263', 58923, 'asVisit-dr17-10208-58923-124.fits'],\n",
       " ['2M06453267-5044263', 59231, 'asVisit-dr17-10207-59231-123.fits'],\n",
       " ['2M06453267-5044263', 59235, 'asVisit-dr17-10209-59235-130.fits'],\n",
       " ['2M06525427+2545517', 57466, 'apVisit-dr17-8049-57466-237.fits'],\n",
       " ['2M06535020-2911366', 57830, 'asVisit-dr17-9458-57830-261.fits'],\n",
       " ['2M06543813+2333450', 57360, 'apVisit-dr17-8049-57360-102.fits'],\n",
       " ['2M06573455+2456062', 57361, 'apVisit-dr17-8103-57361-154.fits'],\n",
       " ['2M06573455+2456062', 57467, 'apVisit-dr17-8103-57467-207.fits'],\n",
       " ['2M06573841+3600153', 56733, 'apVisit-dr17-7216-56733-119.fits'],\n",
       " ['2M06574218+0433069', 56258, 'apVisit-dr17-6354-56258-182.fits'],\n",
       " ['2M06592172+0353120', 55906, 'apVisit-dr17-5516-55906-040.fits'],\n",
       " ['2M07041942+6959408', 58144, 'apVisit-dr17-10369-58144-251.fits'],\n",
       " ['2M07042921+3611557', 56728, 'apVisit-dr17-7216-56728-124.fits'],\n",
       " ['2M07055281+3836022', 55960, 'apVisit-dr17-5586-55960-244.fits'],\n",
       " ['2M07125169+0710345', 55939, 'apVisit-dr17-5572-55939-198.fits'],\n",
       " ['2M07125169+0710345', 56019, 'apVisit-dr17-5573-56019-186.fits'],\n",
       " ['2M07131061+4748016', 58175, 'apVisit-dr17-10378-58175-060.fits'],\n",
       " ['2M07145297-2738337', 58891, 'asVisit-dr17-11491-58891-042.fits'],\n",
       " ['2M07154275+0621084', 55872, 'apVisit-dr17-5588-55872-209.fits'],\n",
       " ['2M07163333-3842494', 58593, 'asVisit-dr17-11496-58593-266.fits'],\n",
       " ['2M07170651+2732519', 58451, 'apVisit-dr17-10857-58451-224.fits'],\n",
       " ['2M07172400-7952286', 59168, 'asVisit-dr17-11991-59168-226.fits'],\n",
       " ['2M07215917+6006567', 58563, 'apVisit-dr17-11729-58563-221.fits'],\n",
       " ['2M07223915+2410106', 56735, 'apVisit-dr17-7218-56735-276.fits'],\n",
       " ['2M07230591-6118130', 58242, 'asVisit-dr17-10600-58242-207.fits'],\n",
       " ['2M07240918-0854337', 56372, 'apVisit-dr17-6329-56372-217.fits'],\n",
       " ['2M07250686+2435451', 56756, 'apVisit-dr17-7218-56756-251.fits'],\n",
       " ['2M07253099+7409167', 58478, 'apVisit-dr17-11483-58478-090.fits'],\n",
       " ['2M07254126-6040277', 58243, 'asVisit-dr17-10601-58243-213.fits'],\n",
       " ['2M07261441+2237362', 56764, 'apVisit-dr17-7218-56764-095.fits'],\n",
       " ['2M07271566+4148445', 56978, 'apVisit-dr17-8132-56978-050.fits'],\n",
       " ['2M07271566+4148445', 56979, 'apVisit-dr17-8132-56979-050.fits'],\n",
       " ['2M07300562+3904071', 56988, 'apVisit-dr17-8135-56988-272.fits'],\n",
       " ['2M07300562+3904071', 56989, 'apVisit-dr17-8135-56989-272.fits'],\n",
       " ['2M07315268-6554053', 58262, 'asVisit-dr17-10598-58262-078.fits'],\n",
       " ['2M07323850+0435066', 57761, 'apVisit-dr17-9532-57761-212.fits'],\n",
       " ['2M07333181+4719240', 56980, 'apVisit-dr17-8134-56980-184.fits'],\n",
       " ['2M07333181+4719240', 56981, 'apVisit-dr17-8134-56981-184.fits'],\n",
       " ['2M07333296+0435094', 57742, 'apVisit-dr17-9532-57742-186.fits'],\n",
       " ['2M07335741+4152582', 57312, 'apVisit-dr17-8566-57312-281.fits'],\n",
       " ['2M07355627+1643023', 56730, 'apVisit-dr17-7219-56730-002.fits'],\n",
       " ['2M07355627+1643023', 56759, 'apVisit-dr17-7219-56759-005.fits'],\n",
       " ['2M07363470+0551438', 56686, 'apVisit-dr17-56686-2M07363470+0551438.fits'],\n",
       " ['2M07380093+2138364', 55969, 'apVisit-dr17-5590-55969-187.fits'],\n",
       " ['2M07383331+4149226', 56984, 'apVisit-dr17-8137-56984-107.fits'],\n",
       " ['2M07413927+5305101', 56345, 'apVisit-dr17-6568-56345-212.fits'],\n",
       " ['2M07420634+3054122', 57715, 'apVisit-dr17-8936-57715-019.fits'],\n",
       " ['2M07443651+3206135', 57690, 'apVisit-dr17-8139-57690-073.fits'],\n",
       " ['2M07444028+7946423', 56640, 'apVisit-dr17-6566-56640-279.fits'],\n",
       " ['2M07451901+4207545', 57115, 'apVisit-dr17-8140-57115-225.fits'],\n",
       " ['2M07463460+4130403', 56985, 'apVisit-dr17-8140-56985-004.fits'],\n",
       " ['2M07463460+4130403', 56986, 'apVisit-dr17-8140-56986-004.fits'],\n",
       " ['2M07464731+4323181', 57011, 'apVisit-dr17-8141-57011-028.fits'],\n",
       " ['2M07464731+4323181', 57012, 'apVisit-dr17-8141-57012-028.fits'],\n",
       " ['2M07473075+3420333', 57724, 'apVisit-dr17-8977-57724-197.fits'],\n",
       " ['2M07482095+2908120', 57716, 'apVisit-dr17-8937-57716-020.fits'],\n",
       " ['2M07482095+2908120', 57717, 'apVisit-dr17-8937-57717-020.fits'],\n",
       " ['2M07482095+2908120', 57722, 'apVisit-dr17-8937-57722-020.fits'],\n",
       " ['2M07485807+3303542', 57723, 'apVisit-dr17-8977-57723-048.fits'],\n",
       " ['2M07504014+5104535', 58538, 'apVisit-dr17-8710-58538-292.fits'],\n",
       " ['2M07504559+6636139', 57791, 'apVisit-dr17-9539-57791-159.fits'],\n",
       " ['2M07504999+1542203', 58074, 'apVisit-dr17-10217-58074-237.fits'],\n",
       " ['2M07504999+1542203', 58075, 'apVisit-dr17-10217-58075-237.fits'],\n",
       " ['2M07525841+3201133', 57784, 'apVisit-dr17-9184-57784-231.fits'],\n",
       " ['2M07544617+5107504', 57372, 'apVisit-dr17-8715-57372-214.fits'],\n",
       " ['2M07544617+5107504', 57373, 'apVisit-dr17-8715-57373-214.fits'],\n",
       " ['2M07544833+6544379', 56379, 'apVisit-dr17-6608-56379-069.fits'],\n",
       " ['2M07552365+3928120', 56381, 'apVisit-dr17-6610-56381-030.fits'],\n",
       " ['2M07555094+2413412', 58081, 'apVisit-dr17-9499-58081-093.fits'],\n",
       " ['2M07575121+3505480', 58539, 'apVisit-dr17-9484-58539-284.fits'],\n",
       " ['2M07575121+3505480', 58540, 'apVisit-dr17-9484-58540-284.fits'],\n",
       " ['2M07581330+4025511', 56376, 'apVisit-dr17-6610-56376-219.fits'],\n",
       " ['2M07583003+2216140', 58082, 'apVisit-dr17-9496-58082-278.fits'],\n",
       " ['2M07592697-2214224', 58594, 'asVisit-dr17-11495-58594-196.fits'],\n",
       " ['2M07594038+2631062', 57728, 'apVisit-dr17-8940-57728-274.fits'],\n",
       " ['2M07595891+4747070', 57362, 'apVisit-dr17-8719-57362-219.fits'],\n",
       " ['2M08025685+2449068', 57727, 'apVisit-dr17-8940-57727-104.fits'],\n",
       " ['2M08030150+3342272', 58541, 'apVisit-dr17-9484-58541-042.fits'],\n",
       " ['2M08031492+2848215', 58072, 'apVisit-dr17-8986-58072-157.fits'],\n",
       " ['2M08031492+2848215', 58073, 'apVisit-dr17-8986-58073-157.fits'],\n",
       " ['2M08031492+2848215', 58077, 'apVisit-dr17-8986-58077-157.fits'],\n",
       " ['2M08033082+4329451', 57039, 'apVisit-dr17-8143-57039-256.fits'],\n",
       " ['2M08041194+3529130', 58076, 'apVisit-dr17-10214-58076-283.fits'],\n",
       " ['2M08043101+1736544', 58108, 'apVisit-dr17-10497-58108-038.fits'],\n",
       " ['2M08055338+5211275', 58162, 'apVisit-dr17-10493-58162-215.fits'],\n",
       " ['2M08055338+5211275', 58171, 'apVisit-dr17-10493-58171-215.fits'],\n",
       " ['2M08055338+5211275', 58172, 'apVisit-dr17-10493-58172-215.fits'],\n",
       " ['2M08055383+2450505', 57726, 'apVisit-dr17-8940-57726-143.fits'],\n",
       " ['2M08055931-5610498', 57851, 'asVisit-dr17-9706-57851-277.fits'],\n",
       " ['2M08055984+2838564', 57862, 'apVisit-dr17-9504-57862-023.fits'],\n",
       " ['2M08055984+2838564', 57863, 'apVisit-dr17-9504-57863-023.fits'],\n",
       " ['2M08061878+2033251', 58201, 'apVisit-dr17-10380-58201-029.fits'],\n",
       " ['2M08073736-5503573', 57854, 'asVisit-dr17-9705-57854-172.fits'],\n",
       " ['2M08073736-5503573', 57882, 'asVisit-dr17-9705-57882-178.fits'],\n",
       " ['2M08075713+4622202', 57828, 'apVisit-dr17-9487-57828-278.fits'],\n",
       " ['2M08080510+2014051', 58566, 'apVisit-dr17-11731-58566-007.fits'],\n",
       " ['2M08082602+3956431', 58206, 'apVisit-dr17-10389-58206-015.fits'],\n",
       " ['2M08084542-3310068', 58890, 'asVisit-dr17-11492-58890-245.fits'],\n",
       " ['2M08085083+2459087', 57748, 'apVisit-dr17-9509-57748-116.fits'],\n",
       " ['2M08085083+2459087', 57749, 'apVisit-dr17-9509-57749-116.fits'],\n",
       " ['2M08085544+3249050', 58130, 'apVisit-dr17-10220-58130-154.fits'],\n",
       " ['2M08085544+3249050', 58138, 'apVisit-dr17-10220-58138-154.fits'],\n",
       " ['2M08091023+3926168', 58543, 'apVisit-dr17-11742-58543-222.fits'],\n",
       " ['2M08092602+5730026', 58191, 'apVisit-dr17-10492-58191-224.fits'],\n",
       " ['2M08092602+5730026', 58196, 'apVisit-dr17-10492-58196-224.fits'],\n",
       " ['2M08092602+5730026', 58197, 'apVisit-dr17-10492-58197-224.fits'],\n",
       " ['2M08092766+2125410', 58181, 'apVisit-dr17-10380-58181-232.fits'],\n",
       " ['2M08092766+2125410', 58100, 'apVisit-dr17-9495-58100-093.fits'],\n",
       " ['2M08100405+3220142', 56324, 'apVisit-dr17-6779-56324-220.fits'],\n",
       " ['2M08100655+3127281', 56022, 'apVisit-dr17-5575-56022-005.fits'],\n",
       " ['2M08100655+3127281', 56353, 'apVisit-dr17-6778-56353-018.fits'],\n",
       " ['2M08110361+5001239', 58560, 'apVisit-dr17-11733-58560-216.fits'],\n",
       " ['2M08113247+2129213', 58099, 'apVisit-dr17-9495-58099-057.fits'],\n",
       " ['2M08133106+2817307', 57476, 'apVisit-dr17-8942-57476-238.fits'],\n",
       " ['2M08133106+2817307', 57481, 'apVisit-dr17-8942-57481-238.fits'],\n",
       " ['2M08135000+5100070', 58159, 'apVisit-dr17-10493-58159-104.fits'],\n",
       " ['2M08140161+4025061', 58156, 'apVisit-dr17-10389-58156-183.fits'],\n",
       " ['2M08142907+3811345', 58101, 'apVisit-dr17-10215-58101-245.fits'],\n",
       " ['2M08143492+4801220', 58546, 'apVisit-dr17-10495-58546-182.fits'],\n",
       " ['2M08145874+3552062', 58531, 'apVisit-dr17-11487-58531-242.fits'],\n",
       " ['2M08154159+4905529', 58547, 'apVisit-dr17-10495-58547-300.fits'],\n",
       " ['2M08155288+5047084', 58109, 'apVisit-dr17-8722-58109-219.fits'],\n",
       " ['2M08155288+5047084', 58111, 'apVisit-dr17-8722-58111-219.fits'],\n",
       " ['2M08155288+5047084', 58112, 'apVisit-dr17-8722-58112-219.fits'],\n",
       " ['2M08165955+2307441', 58107, 'apVisit-dr17-10219-58107-284.fits'],\n",
       " ['2M08170825-8519227', 58214, 'asVisit-dr17-9646-58214-184.fits'],\n",
       " ['2M08170825-8519227', 58893, 'asVisit-dr17-9646-58893-273.fits'],\n",
       " ['2M08171426+1954234', 58103, 'apVisit-dr17-9489-58103-043.fits'],\n",
       " ['2M08172002+4437166', 58896, 'apVisit-dr17-8240-58896-275.fits'],\n",
       " ['2M08173396+4320177', 58895, 'apVisit-dr17-8240-58895-023.fits'],\n",
       " ['2M08195093+2338056', 57488, 'apVisit-dr17-8939-57488-052.fits'],\n",
       " ['2M08200681+2641037', 57833, 'apVisit-dr17-9508-57833-213.fits'],\n",
       " ['2M08200681+2641037', 57834, 'apVisit-dr17-9508-57834-213.fits'],\n",
       " ['2M08202221+1921150', 57474, 'apVisit-dr17-8241-57474-223.fits'],\n",
       " ['2M08202415+4633577', 57365, 'apVisit-dr17-8725-57365-271.fits'],\n",
       " ['2M08211035-0002136', 57389, 'apVisit-dr17-8794-57389-017.fits'],\n",
       " ['2M08211571+0941157', 58174, 'apVisit-dr17-10379-58174-155.fits'],\n",
       " ['2M08214323+0110313', 57434, 'apVisit-dr17-8924-57434-280.fits'],\n",
       " ['2M08214323+0110313', 57435, 'apVisit-dr17-8925-57435-280.fits'],\n",
       " ['2M08214323+0110313', 57462, 'apVisit-dr17-8924-57462-285.fits'],\n",
       " ['2M08214323+0110313', 57463, 'apVisit-dr17-8925-57463-286.fits'],\n",
       " ['2M08214323+0110313', 57465, 'apVisit-dr17-8924-57465-285.fits'],\n",
       " ['2M08214323+0110313', 57468, 'apVisit-dr17-8924-57468-279.fits'],\n",
       " ['2M08220218+1959592', 57837, 'apVisit-dr17-9488-57837-026.fits'],\n",
       " ['2M08225564+2436204', 57484, 'apVisit-dr17-8939-57484-204.fits'],\n",
       " ['2M08232729-0107375', 57472, 'apVisit-dr17-8925-57472-099.fits'],\n",
       " ['2M08240000+4601011', 57366, 'apVisit-dr17-8725-57366-054.fits'],\n",
       " ['2M08240236+2245515', 57485, 'apVisit-dr17-8939-57485-135.fits'],\n",
       " ['2M08240236+2245515', 57829, 'apVisit-dr17-9494-57829-002.fits'],\n",
       " ['2M08255189+2427045', 57838, 'apVisit-dr17-9502-57838-225.fits'],\n",
       " ['2M08255189+2427045', 57839, 'apVisit-dr17-9502-57839-225.fits'],\n",
       " ['2M08262359+3040445', 58549, 'apVisit-dr17-11746-58549-219.fits'],\n",
       " ['2M08273012+0007409', 57418, 'apVisit-dr17-8794-57418-081.fits'],\n",
       " ['2M08274328-0005140', 57391, 'apVisit-dr17-8795-57391-082.fits'],\n",
       " ['2M08274328-0005140', 57416, 'apVisit-dr17-8795-57416-039.fits'],\n",
       " ['2M08274328-0005140', 57444, 'apVisit-dr17-8925-57444-040.fits'],\n",
       " ['2M08281066+4708492', 57367, 'apVisit-dr17-8725-57367-241.fits'],\n",
       " ['2M08282353-0054184', 57436, 'apVisit-dr17-8795-57436-137.fits'],\n",
       " ['2M08301990+2853511', 57861, 'apVisit-dr17-9510-57861-269.fits'],\n",
       " ['2M08314029+5348525', 57092, 'apVisit-dr17-8243-57092-219.fits'],\n",
       " ['2M08320885+3016141', 58548, 'apVisit-dr17-11746-58548-202.fits'],\n",
       " ['2M08323040+2806029', 57860, 'apVisit-dr17-9510-57860-067.fits'],\n",
       " ['2M08324786+2320190', 57835, 'apVisit-dr17-9493-57835-219.fits'],\n",
       " ['2M08341284+4537281', 58542, 'apVisit-dr17-11745-58542-245.fits'],\n",
       " ['2M08352004+4336137', 58588, 'apVisit-dr17-11606-58588-257.fits'],\n",
       " ['2M08352004+4336137', 58592, 'apVisit-dr17-11606-58592-185.fits'],\n",
       " ['2M08380379+0230212', 57840, 'apVisit-dr17-9511-57840-112.fits'],\n",
       " ...]"
      ]
     },
     "execution_count": 21,
     "metadata": {},
     "output_type": "execute_result"
    }
   ],
   "source": [
    "list_for_db"
   ]
  },
  {
   "cell_type": "code",
   "execution_count": 109,
   "id": "e2fdcc92-0fb0-4d50-abf8-e67ef6d4cc64",
   "metadata": {
    "tags": []
   },
   "outputs": [
    {
     "name": "stderr",
     "output_type": "stream",
     "text": [
      "100%|█████████████████████████████████████| 1839/1839 [1:12:35<00:00,  2.37s/it]\n"
     ]
    }
   ],
   "source": [
    "temp = 0\n",
    "for lst in tqdm(list_for_db):\n",
    "    try:\n",
    "        filename = str(lst[2])\n",
    "        mjd = int(lst[1])\n",
    "        apogeeID = lst[0]\n",
    "        try:\n",
    "            testing_data = fits.open(\"/Users/bmason3/astrodata/data2/\" + filename, memmap=True)\n",
    "        except FileNotFoundError:\n",
    "            continue\n",
    "        fluxa = [float(a) for a in testing_data[1].data[0]]\n",
    "        wavelengtha = [float(a) for a in testing_data[4].data[0]]\n",
    "        fluxb = [float(a) for a in testing_data[1].data[1]]\n",
    "        wavelengthb = [float(a) for a in testing_data[4].data[1]]\n",
    "        fluxc = [float(a) for a in testing_data[1].data[2]]\n",
    "        wavelengthc = [float(a) for a in testing_data[4].data[2]]\n",
    "        \n",
    "        tmplst = [mjd, apogeeID]\n",
    "        tempidx = list(locate(sb2_info_list, lambda x:x == tmplst))\n",
    "        allvisit_temp_idx = list(locate(filtered_allVisit, lambda x:x[0] == filename))\n",
    "        allvisit_idx = filtered_allVisit[allvisit_temp_idx[0]][1]\n",
    "        extract_data_0 = visit_raw[allvisit_idx]\n",
    "        extract_data_1 = sb2_data[tempidx[0]]\n",
    "        \n",
    "        ampa = float(extract_data_1[4][0])\n",
    "        vhelioa = float(extract_data_1[5][0])\n",
    "        fwhma = float(extract_data_1[6][0])\n",
    "        ampb = float(extract_data_1[4][1])\n",
    "        vheliob = float(extract_data_1[5][1])\n",
    "        fwhmb = float(extract_data_1[6][1])\n",
    "        SNR = float(extract_data_0[\"SNR\"])\n",
    "        if np.isnan(ampa) or np.isnan(SNR) or np.isnan(vhelioa) or np.isnan(ampa) or np.isnan(fwhma) or np.isnan(ampb) or np.isnan(vheliob) or np.isnan(fwhmb):\n",
    "            continue\n",
    "        attr = [\"temp\", \"filename\", \"apogeeID\", \"fluxa\", \"wavelengtha\", \"fluxb\", \"wavelengthb\", \"fluxc\", \"wavelengthc\",\n",
    "                     \"ampa\", \"vhelioa\", \"fwhma\", \"ampb\", \"vheliob\", \"fwhmb\", \"SNR\", \"mjd\"]\n",
    "        vals = [temp, filename, apogeeID, fluxa, wavelengtha, fluxb, wavelengthb, fluxc, wavelengthc,\n",
    "                         ampa, vhelioa, fwhma, ampb, vheliob, fwhmb, SNR, mjd]\n",
    "        to_json = {a:b for a,b in zip(attr,vals)}\n",
    "        requests.post('http://127.0.0.1:8050/test', json=to_json)\n",
    "        temp += 1\n",
    "    except ValueError:\n",
    "        print(\"bruh\")\n",
    "        pass"
   ]
  },
  {
   "cell_type": "code",
   "execution_count": 110,
   "id": "07d7eb14-0db7-4819-adfe-d5666ffb6764",
   "metadata": {},
   "outputs": [],
   "source": [
    "ids = requests.get('http://127.0.0.1:8050/get-snr/500')"
   ]
  },
  {
   "cell_type": "code",
   "execution_count": 111,
   "id": "6fd70489-90f7-40b2-abe9-e88fa8bb21b4",
   "metadata": {
    "tags": []
   },
   "outputs": [
    {
     "data": {
      "text/plain": [
       "{'0': ['2M00111801-2114586', 560.6019897460938, 58794],\n",
       " '1': ['2M00111801-2114586', 591.4039916992188, 58796],\n",
       " '10': ['2M14315024+5101159', 729.7030029296875, 57532],\n",
       " '11': ['2M15123445+3558177', 505.0419921875, 57890],\n",
       " '12': ['2M19374372-0503422', 695.3319702148438, 56903],\n",
       " '13': ['2M21252692+1120457', 613.0040283203125, 56847],\n",
       " '2': ['2M00111801-2114586', 588.9089965820312, 58803],\n",
       " '3': ['2M06525427+2545517', 583.6950073242188, 57466],\n",
       " '4': ['2M07595891+4747070', 572.1859741210938, 57362],\n",
       " '5': ['2M12184090+2611253', 550.0709838867188, 56819],\n",
       " '6': ['2M12201518-0008404', 549.9949951171875, 56027],\n",
       " '7': ['2M12514270+4401240', 509.4599914550781, 57077],\n",
       " '8': ['2M13033866+2826598', 502.8739929199219, 57896],\n",
       " '9': ['2M14315024+5101159', 835.0919799804688, 57529]}"
      ]
     },
     "execution_count": 111,
     "metadata": {},
     "output_type": "execute_result"
    }
   ],
   "source": [
    "ids.json()"
   ]
  },
  {
   "cell_type": "code",
   "execution_count": 22,
   "id": "53ad3b30-ac76-4ab8-b84e-3497e93a2644",
   "metadata": {},
   "outputs": [],
   "source": [
    "names = []\n",
    "for star in star_raw:\n",
    "    names.append(star[1])"
   ]
  },
  {
   "cell_type": "code",
   "execution_count": 23,
   "id": "f61f077c-719f-41ce-b6db-c2a9d6b28cd0",
   "metadata": {
    "tags": []
   },
   "outputs": [],
   "source": [
    "idx = []\n",
    "for app in list_for_db:\n",
    "    ids = app[0]\n",
    "    idx.append(names.index(ids))"
   ]
  },
  {
   "cell_type": "code",
   "execution_count": 24,
   "id": "bacfd3cf-0d25-44a4-a3f1-a9c57d69ca78",
   "metadata": {},
   "outputs": [],
   "source": [
    "idx = list(dict.fromkeys(idx))"
   ]
  },
  {
   "cell_type": "code",
   "execution_count": 109,
   "id": "1ad887e3-c6cd-42ee-b995-4c662030c1c3",
   "metadata": {},
   "outputs": [],
   "source": [
    "dirs = []\n",
    "fnames = {}\n",
    "apps_ids = []\n",
    "for i in idx:\n",
    "    fname = star_raw[i][0]\n",
    "    appogeeid = star_raw[i][1]\n",
    "    apps_ids.append(appogeeid)\n",
    "    fnames[appogeeid] = fname\n",
    "    directory = star_raw[i][2]\n",
    "    lst = directory.split(\".\")[0:2]\n",
    "    strng = \"/\" + \"/\".join(lst) + \"/\" + fname\n",
    "    dirs.append(strng)"
   ]
  },
  {
   "cell_type": "code",
   "execution_count": 126,
   "id": "5565f6ae-70eb-4600-806c-0df417c5c283",
   "metadata": {},
   "outputs": [],
   "source": [
    "aspcapstar_dirs = [\"https://data.sdss.org/sas/dr17/apogee/spectro/aspcap/dr17/synspec\" + d for d in dirs]"
   ]
  },
  {
   "cell_type": "code",
   "execution_count": 26,
   "id": "0d9af23e-4f41-4e36-9a05-db4fd389f054",
   "metadata": {},
   "outputs": [],
   "source": [
    "dirs = [\"https://data.sdss.org/sas/dr17/apogee/spectro/redux/dr17/stars/\" + d for d in dirs]"
   ]
  },
  {
   "cell_type": "code",
   "execution_count": 27,
   "id": "3303482b-13dd-4353-9042-fcd974dc7f0a",
   "metadata": {},
   "outputs": [],
   "source": [
    "f = open(\"data_apstar.txt\", \"r\")\n",
    "read = f.readlines()\n",
    "old_list = []\n",
    "for r in read:\n",
    "    old_list.append(r.replace(\"\\n\", \"\"))\n",
    "f.close()"
   ]
  },
  {
   "cell_type": "code",
   "execution_count": 104,
   "id": "e43f1d0c-c659-4871-9b17-aed7df1da8ed",
   "metadata": {},
   "outputs": [],
   "source": [
    "f = open(\"data_apstar_temp.txt\", \"a\")\n",
    "for d in dirs:\n",
    "    f.write(d + \"\\n\")\n",
    "f.close()"
   ]
  },
  {
   "cell_type": "code",
   "execution_count": 28,
   "id": "cb14d866-9482-4044-8ba7-0f435dc29832",
   "metadata": {
    "tags": []
   },
   "outputs": [],
   "source": [
    "new_dload = [d for d in dirs if d not in old_list]"
   ]
  },
  {
   "cell_type": "code",
   "execution_count": 154,
   "id": "7c2e0660-9183-440a-a66f-b9d3e5c608c1",
   "metadata": {},
   "outputs": [],
   "source": [
    "f = open(\"data_apstar_download.txt\", \"a\")\n",
    "for d in new_dload:\n",
    "    f.write(d + \"\\n\")\n",
    "f.close()"
   ]
  },
  {
   "cell_type": "code",
   "execution_count": 29,
   "id": "7286644e-6e2f-4e2e-873f-f9bcd0db6f40",
   "metadata": {
    "tags": []
   },
   "outputs": [],
   "source": [
    "app_ids = list(fnames.keys())"
   ]
  },
  {
   "cell_type": "code",
   "execution_count": 72,
   "id": "6d309b61-806c-4ae8-90bf-78fdbe0d7bd1",
   "metadata": {
    "tags": []
   },
   "outputs": [
    {
     "data": {
      "text/plain": [
       "29"
      ]
     },
     "execution_count": 72,
     "metadata": {},
     "output_type": "execute_result"
    }
   ],
   "source": [
    "app_ids.index(\"2M00212698+0309415\")"
   ]
  },
  {
   "cell_type": "code",
   "execution_count": 92,
   "id": "c65c4e18-d3ff-4848-b80a-249883b99003",
   "metadata": {
    "tags": []
   },
   "outputs": [
    {
     "name": "stdout",
     "output_type": "stream",
     "text": [
      "Found\n"
     ]
    },
    {
     "data": {
      "text/plain": [
       "[<matplotlib.lines.Line2D at 0x7f7c501bc4c0>]"
      ]
     },
     "execution_count": 92,
     "metadata": {},
     "output_type": "execute_result"
    },
    {
     "data": {
      "image/png": "[encoded data removed]",
      "text/plain": [
       "<Figure size 432x288 with 1 Axes>"
      ]
     },
     "metadata": {
      "needs_background": "light"
     },
     "output_type": "display_data"
    }
   ],
   "source": [
    "for i in tqdm(app_ids):\n",
    "    if fnames[i] == \"\":\n",
    "        continue\n",
    "    try:\n",
    "        star = fits.open(\"/Users/bmason3/astrodata/data_apstar/\" + fnames[i])\n",
    "    except FileNotFoundError:\n",
    "        continue\n",
    "    apogeeID = i\n",
    "    \n",
    "    visits = star[0].header[\"NVISITS\"]\n",
    "    lst_ccf = []\n",
    "    lst_mjd = []\n",
    "    for i in range(0, visits):\n",
    "        mjd = int(np.floor(star[9].data[i][\"jd\"]))\n",
    "        ccf_y = [float(a) if not np.isnan(a) else 0 for a in star[9].data[i]['CCF']]\n",
    "        lst_ccf.append(ccf_y)\n",
    "        lst_mjd.append(mjd)\n",
    "    attr = [\"apogeeID\", \"nvisits\", \"mjd\", \"ccf\"]\n",
    "    vals = [apogeeID, visits, lst_mjd, lst_ccf]\n",
    "    to_json = {a:b for a,b in zip(attr,vals)}\n",
    "    requests.post('http://127.0.0.1:8050/addccf', json=to_json)"
   ]
  },
  {
   "cell_type": "code",
   "execution_count": 192,
   "id": "9659f03c-6170-4830-9d91-3748008d6ab8",
   "metadata": {},
   "outputs": [
    {
     "data": {
      "text/plain": [
       "dict_keys(['56459', '56698', '56700', '57498', '57499', '57524', '57529', '57532', '57553', '57556', '57770', '57792', '57793', '57796', '57801', '57819', '57828', '57831', '57849', '57852'])"
      ]
     },
     "execution_count": 192,
     "metadata": {},
     "output_type": "execute_result"
    }
   ],
   "source": [
    "ids = requests.get('http://127.0.0.1:8050/get-ccf/2M14315024+5101159')\n",
    "ids.json().keys()"
   ]
  },
  {
   "cell_type": "code",
   "execution_count": 128,
   "id": "527dabf8-9599-45e0-9261-833af70a9a9a",
   "metadata": {},
   "outputs": [],
   "source": [
    "temp = [a.replace(\"apStar\",\"aspcapStar\") for a in aspcapstar_dirs]"
   ]
  },
  {
   "cell_type": "code",
   "execution_count": 129,
   "id": "10303015-0704-411b-b136-4e0b69dfc6a4",
   "metadata": {},
   "outputs": [],
   "source": [
    "temp_temp = [a.replace(\"asStar\",\"aspcapStar\") for a in temp]"
   ]
  },
  {
   "cell_type": "code",
   "execution_count": 132,
   "id": "c70626fd-6d15-44d0-a734-bda7af2c262a",
   "metadata": {
    "tags": []
   },
   "outputs": [],
   "source": [
    "f = open(\"data_aspcapstar.txt\", \"a\")\n",
    "for d in temp_temp:\n",
    "    f.write(d + \"\\n\")\n",
    "f.close()"
   ]
  },
  {
   "cell_type": "code",
   "execution_count": 142,
   "id": "6ca19b42-6a25-4cb2-8d25-50603c380ebe",
   "metadata": {},
   "outputs": [],
   "source": [
    "aspcapstar_fnames = [a.split(\"/\")[-1] for a in temp_temp]"
   ]
  },
  {
   "cell_type": "code",
   "execution_count": 149,
   "id": "deac3761-cbc8-4c07-a305-b894a56c6ed3",
   "metadata": {},
   "outputs": [
    {
     "data": {
      "text/plain": [
       "[<matplotlib.lines.Line2D at 0x7f7c03dd3e20>]"
      ]
     },
     "execution_count": 149,
     "metadata": {},
     "output_type": "execute_result"
    },
    {
     "data": {
      "image/png": "[encoded data removed]",
      "text/plain": [
       "<Figure size 432x288 with 1 Axes>"
      ]
     },
     "metadata": {
      "needs_background": "light"
     },
     "output_type": "display_data"
    }
   ],
   "source": [
    "tempstar = aspcapstar_fnames[0]\n",
    "star = fits.open(\"/Users/blaine/Documents/astrodata/data_aspcapstar/\" + tempstar)\n",
    "y = star[3].data\n",
    "y = [float(a) if a != 0 else 1 for a in y]\n",
    "a = np.power(10,star[3].header[\"CRVAL1\"])\n",
    "step = np.power(10,star[3].header[\"CDELT1\"])\n",
    "temp= np.arange(star[3].header[\"CRVAL1\"], star[3].header[\"CRVAL1\"]+8575*star[3].header[\"CDELT1\"],star[3].header[\"CDELT1\"])\n",
    "lam = np.power(10, temp)\n",
    "plt.plot(lam, y)"
   ]
  },
  {
   "cell_type": "code",
   "execution_count": null,
   "id": "f6ebbd36-c85b-4a08-997f-9cb2e931550f",
   "metadata": {},
   "outputs": [],
   "source": [
    "[float(a) if not np.isnan(a) else 0 for a in y]"
   ]
  }
 ],
 "metadata": {
  "kernelspec": {
   "display_name": "Python 3 (ipykernel)",
   "language": "python",
   "name": "python3"
  },
  "language_info": {
   "codemirror_mode": {
    "name": "ipython",
    "version": 3
   },
   "file_extension": ".py",
   "mimetype": "text/x-python",
   "name": "python",
   "nbconvert_exporter": "python",
   "pygments_lexer": "ipython3",
   "version": "3.9.7"
  }
 },
 "nbformat": 4,
 "nbformat_minor": 5
}
