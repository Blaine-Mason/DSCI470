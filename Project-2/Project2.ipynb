{
 "cells": [
  {
   "cell_type": "code",
   "execution_count": 211,
   "id": "52521e43-7770-4068-9f69-70901926070b",
   "metadata": {},
   "outputs": [],
   "source": [
    "import pandas as pd\n",
    "import numpy as np\n",
    "import seaborn as sns\n",
    "import matplotlib.pyplot as plt\n",
    "MAX_TIME_STEP = 30"
   ]
  },
  {
   "cell_type": "code",
   "execution_count": 212,
   "id": "132d2036-fab5-4318-9102-94fb2020f4b1",
   "metadata": {},
   "outputs": [],
   "source": [
    "df_raw = pd.read_csv(\"data/archive(1)/LeagueofLegends.csv\")\n",
    "df_raw = df_raw[df_raw['gamelength'] >= MAX_TIME_STEP]\n",
    "df_raw.reset_index(drop = True, inplace = True)"
   ]
  },
  {
   "cell_type": "code",
   "execution_count": 214,
   "id": "a1ad73e9-8f09-42f9-960d-680d12fd6055",
   "metadata": {},
   "outputs": [],
   "source": [
    "df = pd.read_csv(\"data/archive(1)/LeagueofLegends.csv\")\n",
    "df = df[df['gamelength'] >= MAX_TIME_STEP]\n",
    "df.reset_index(drop = True, inplace = True)\n",
    "matches = len(df)"
   ]
  },
  {
   "cell_type": "code",
   "execution_count": 215,
   "id": "c3d76baf-f578-4708-8f90-3afe59ae9ba2",
   "metadata": {},
   "outputs": [],
   "source": [
    "def count_item(items):\n",
    "    count = np.zeros(MAX_TIME_STEP, dtype=np.int8)\n",
    "    for timestep in range(MAX_TIME_STEP) :\n",
    "        for item in items:\n",
    "            if item[0] <= timestep + 1:\n",
    "                count[timestep] += 1\n",
    "    return count"
   ]
  },
  {
   "cell_type": "code",
   "execution_count": 216,
   "id": "7fa85187-eb0d-4f84-a5f5-4844d2609f81",
   "metadata": {},
   "outputs": [],
   "source": [
    "from ast import literal_eval\n",
    "df['golddiff'] = df['golddiff'].apply(literal_eval)\n",
    "blue = ['bDragons', 'bBarons', 'bHeralds', 'bTowers', 'bInhibs', 'bKills']\n",
    "red = ['rDragons', 'rBarons', 'rHeralds', 'rTowers', 'rInhibs', 'rKills']\n",
    "diffs = ['dragondiff', 'barondiff', 'heralddiff', 'towerdiff', 'inhibitordiff', 'killdiff']\n",
    "for r, b, d in zip(blue, red, diffs):\n",
    "    df[b] = df[b].apply(literal_eval)\n",
    "    df[r] = df[r].apply(literal_eval)\n",
    "\n",
    "    df[b] = df[b].apply(count_item)\n",
    "    df[r] = df[r].apply(count_item)\n",
    "    df[d] = df[b] - df[r]"
   ]
  },
  {
   "cell_type": "code",
   "execution_count": 217,
   "id": "c8f5e620-6f7f-462a-8dcf-05cd705a6b6a",
   "metadata": {},
   "outputs": [],
   "source": [
    "df_raw[\"bKills\"] = df_raw[\"bKills\"].apply(literal_eval)\n",
    "df_raw[\"rKills\"] = df_raw[\"rKills\"].apply(literal_eval)"
   ]
  },
  {
   "cell_type": "code",
   "execution_count": 218,
   "id": "08b72be9-7deb-4f3e-963d-d522f364e361",
   "metadata": {},
   "outputs": [],
   "source": [
    "bkls = df_raw[\"bKills\"]\n",
    "btags = df_raw[\"blueTeamTag\"]\n",
    "bjng = df_raw[\"blueJungle\"]\n",
    "blue_ganks = []\n",
    "blue_count = []\n",
    "for jnglr, res, tag in zip(bjng, bkls, btags):\n",
    "    #print([(tag +\" \" + jnglr) in res[i][3] and len(res[i][3]) <= 3 for i in range(len(res))])\n",
    "    tag = str(tag)\n",
    "    jnglr = str(jnglr)\n",
    "    num_ganks = [(tag + \" \" + jnglr) in res[i][3] and len(res[i][3]) < 2 for i in range(len(res))].count(True)\n",
    "    blue_ganks.append(num_ganks)\n",
    "    blue_count.append(len(res))"
   ]
  },
  {
   "cell_type": "code",
   "execution_count": 219,
   "id": "6bcdc795-7779-479b-ba1d-bae8b59a8ce6",
   "metadata": {},
   "outputs": [],
   "source": [
    "rkls = df_raw[\"rKills\"]\n",
    "rtags = df_raw[\"redTeamTag\"]\n",
    "rjng = df_raw[\"redJungle\"]\n",
    "red_ganks = []\n",
    "red_count = []\n",
    "for jnglr, res, tag in zip(rjng, rkls, rtags):\n",
    "    #print([(tag +\" \" + jnglr) in res[i][3] and len(res[i][3]) <= 3 for i in range(len(res))])\n",
    "    tag = str(tag)\n",
    "    jnglr = str(jnglr)\n",
    "    num_ganks = [(tag + \" \" + jnglr) in res[i][3] and len(res[i][3]) < 2 for i in range(len(res))].count(True)\n",
    "    red_ganks.append(num_ganks)\n",
    "    red_count.append(len(res))"
   ]
  },
  {
   "cell_type": "code",
   "execution_count": 220,
   "id": "bd378386-a4a8-431a-b243-2c1130397ec9",
   "metadata": {},
   "outputs": [],
   "source": [
    "df[\"bGanks\"] = blue_ganks\n",
    "df[\"rGanks\"] = red_ganks\n",
    "df[\"bkCount\"]= blue_count\n",
    "df[\"rkCount\"]= red_count"
   ]
  },
  {
   "cell_type": "code",
   "execution_count": 221,
   "id": "7323dcf0-4ff5-412b-9fcd-30bb3d6ec6f0",
   "metadata": {},
   "outputs": [],
   "source": [
    "stats = ['golddiff','dragondiff', 'barondiff', 'heralddiff', 'towerdiff', 'inhibitordiff', 'killdiff']\n",
    "x = df[stats]\n",
    "y = df['bResult']"
   ]
  },
  {
   "cell_type": "code",
   "execution_count": 222,
   "id": "6876ac82-9e51-4cc2-96c4-14e87d1b6f54",
   "metadata": {},
   "outputs": [
    {
     "name": "stdout",
     "output_type": "stream",
     "text": [
      "# of features per timestep: 7\n"
     ]
    }
   ],
   "source": [
    "from sklearn.preprocessing import StandardScaler\n",
    "\n",
    "data = {}\n",
    "scalers = {}\n",
    "for stat in stats:\n",
    "    scalers[stat] = StandardScaler()\n",
    "    for row in df[stat]:\n",
    "        scalers[stat].partial_fit(np.asanyarray(row).reshape(-1, 1))\n",
    "    data[stat] = [scalers[stat].transform(np.asanyarray(row).reshape(-1, 1)).reshape(-1) for row in df[stat]]\n",
    "\n",
    "num_features = len(data)\n",
    "print(f'# of features per timestep: {num_features}')"
   ]
  },
  {
   "cell_type": "code",
   "execution_count": null,
   "id": "fe30b108-dcbe-4eea-94d5-02f754aea0e4",
   "metadata": {},
   "outputs": [],
   "source": [
    "from keras.models import Sequential\n",
    "from keras.layers import Dense"
   ]
  },
  {
   "cell_type": "code",
   "execution_count": null,
   "id": "d629bccb-b40e-4974-a3e2-b2758dcca820",
   "metadata": {},
   "outputs": [],
   "source": []
  }
 ],
 "metadata": {
  "kernelspec": {
   "display_name": "Python 3",
   "language": "python",
   "name": "python3"
  },
  "language_info": {
   "codemirror_mode": {
    "name": "ipython",
    "version": 3
   },
   "file_extension": ".py",
   "mimetype": "text/x-python",
   "name": "python",
   "nbconvert_exporter": "python",
   "pygments_lexer": "ipython3",
   "version": "3.8.5"
  }
 },
 "nbformat": 4,
 "nbformat_minor": 5
}
