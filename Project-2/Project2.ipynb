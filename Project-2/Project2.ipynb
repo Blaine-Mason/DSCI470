{
  "cells": [
    {
      "cell_type": "code",
      "execution_count": 3,
      "id": "52521e43-7770-4068-9f69-70901926070b",
      "metadata": {
        "id": "52521e43-7770-4068-9f69-70901926070b"
      },
      "outputs": [],
      "source": [
        "import pandas as pd\n",
        "import numpy as np\n",
        "import seaborn as sns\n",
        "import matplotlib.pyplot as plt\n",
        "MAX_TIME_STEP = 30"
      ]
    },
    {
      "cell_type": "code",
      "source": [
        "from google.colab import drive\n",
        "drive.mount('/content/drive')"
      ],
      "metadata": {
        "id": "V4GHHYFc1TkS",
        "outputId": "f8bf3909-d06f-4256-cced-7bc0f4e63834",
        "colab": {
          "base_uri": "https://localhost:8080/"
        }
      },
      "id": "V4GHHYFc1TkS",
      "execution_count": 2,
      "outputs": [
        {
          "output_type": "stream",
          "name": "stdout",
          "text": [
            "Mounted at /content/drive\n"
          ]
        }
      ]
    },
    {
      "cell_type": "code",
      "execution_count": 4,
      "id": "132d2036-fab5-4318-9102-94fb2020f4b1",
      "metadata": {
        "id": "132d2036-fab5-4318-9102-94fb2020f4b1"
      },
      "outputs": [],
      "source": [
        "df_raw = pd.read_csv(\"/content/drive/MyDrive/data/archive(1)/LeagueofLegends.csv\")\n",
        "df_raw = df_raw[df_raw['gamelength'] >= MAX_TIME_STEP]\n",
        "df_raw.reset_index(drop = True, inplace = True)"
      ]
    },
    {
      "cell_type": "code",
      "execution_count": 5,
      "id": "a1ad73e9-8f09-42f9-960d-680d12fd6055",
      "metadata": {
        "id": "a1ad73e9-8f09-42f9-960d-680d12fd6055"
      },
      "outputs": [],
      "source": [
        "df = pd.read_csv(\"/content/drive/MyDrive/data/archive(1)/LeagueofLegends.csv\")\n",
        "df = df[df['gamelength'] >= MAX_TIME_STEP]\n",
        "df.reset_index(drop = True, inplace = True)\n",
        "matches = len(df)"
      ]
    },
    {
      "cell_type": "code",
      "execution_count": 6,
      "id": "c3d76baf-f578-4708-8f90-3afe59ae9ba2",
      "metadata": {
        "id": "c3d76baf-f578-4708-8f90-3afe59ae9ba2"
      },
      "outputs": [],
      "source": [
        "def count_item(items):\n",
        "    count = np.zeros(MAX_TIME_STEP, dtype=np.int8)\n",
        "    for timestep in range(MAX_TIME_STEP) :\n",
        "        for item in items:\n",
        "            if item[0] <= timestep + 1:\n",
        "                count[timestep] += 1\n",
        "    return count"
      ]
    },
    {
      "cell_type": "code",
      "execution_count": 7,
      "id": "7fa85187-eb0d-4f84-a5f5-4844d2609f81",
      "metadata": {
        "id": "7fa85187-eb0d-4f84-a5f5-4844d2609f81"
      },
      "outputs": [],
      "source": [
        "from ast import literal_eval\n",
        "df['golddiff'] = df['golddiff'].apply(literal_eval)\n",
        "blue = ['bDragons', 'bBarons', 'bHeralds', 'bTowers', 'bInhibs', 'bKills']\n",
        "red = ['rDragons', 'rBarons', 'rHeralds', 'rTowers', 'rInhibs', 'rKills']\n",
        "diffs = ['dragondiff', 'barondiff', 'heralddiff', 'towerdiff', 'inhibitordiff', 'killdiff']\n",
        "for r, b, d in zip(blue, red, diffs):\n",
        "    df[b] = df[b].apply(literal_eval)\n",
        "    df[r] = df[r].apply(literal_eval)\n",
        "\n",
        "    df[b] = df[b].apply(count_item)\n",
        "    df[r] = df[r].apply(count_item)\n",
        "    df[d] = df[b] - df[r]"
      ]
    },
    {
      "cell_type": "code",
      "execution_count": 8,
      "id": "c8f5e620-6f7f-462a-8dcf-05cd705a6b6a",
      "metadata": {
        "id": "c8f5e620-6f7f-462a-8dcf-05cd705a6b6a"
      },
      "outputs": [],
      "source": [
        "df_raw[\"bKills\"] = df_raw[\"bKills\"].apply(literal_eval)\n",
        "df_raw[\"rKills\"] = df_raw[\"rKills\"].apply(literal_eval)"
      ]
    },
    {
      "cell_type": "code",
      "execution_count": 9,
      "id": "08b72be9-7deb-4f3e-963d-d522f364e361",
      "metadata": {
        "id": "08b72be9-7deb-4f3e-963d-d522f364e361"
      },
      "outputs": [],
      "source": [
        "bkls = df_raw[\"bKills\"]\n",
        "btags = df_raw[\"blueTeamTag\"]\n",
        "bjng = df_raw[\"blueJungle\"]\n",
        "blue_ganks = []\n",
        "blue_count = []\n",
        "for jnglr, res, tag in zip(bjng, bkls, btags):\n",
        "    #print([(tag +\" \" + jnglr) in res[i][3] and len(res[i][3]) <= 3 for i in range(len(res))])\n",
        "    tag = str(tag)\n",
        "    jnglr = str(jnglr)\n",
        "    num_ganks = [(tag + \" \" + jnglr) in res[i][3] and len(res[i][3]) < 2 for i in range(len(res))].count(True)\n",
        "    blue_ganks.append(num_ganks)\n",
        "    blue_count.append(len(res))"
      ]
    },
    {
      "cell_type": "code",
      "execution_count": 10,
      "id": "6bcdc795-7779-479b-ba1d-bae8b59a8ce6",
      "metadata": {
        "id": "6bcdc795-7779-479b-ba1d-bae8b59a8ce6"
      },
      "outputs": [],
      "source": [
        "rkls = df_raw[\"rKills\"]\n",
        "rtags = df_raw[\"redTeamTag\"]\n",
        "rjng = df_raw[\"redJungle\"]\n",
        "red_ganks = []\n",
        "red_count = []\n",
        "for jnglr, res, tag in zip(rjng, rkls, rtags):\n",
        "    #print([(tag +\" \" + jnglr) in res[i][3] and len(res[i][3]) <= 3 for i in range(len(res))])\n",
        "    tag = str(tag)\n",
        "    jnglr = str(jnglr)\n",
        "    num_ganks = [(tag + \" \" + jnglr) in res[i][3] and len(res[i][3]) < 2 for i in range(len(res))].count(True)\n",
        "    red_ganks.append(num_ganks)\n",
        "    red_count.append(len(res))"
      ]
    },
    {
      "cell_type": "code",
      "execution_count": 11,
      "id": "bd378386-a4a8-431a-b243-2c1130397ec9",
      "metadata": {
        "id": "bd378386-a4a8-431a-b243-2c1130397ec9"
      },
      "outputs": [],
      "source": [
        "df[\"bGanks\"] = blue_ganks\n",
        "df[\"rGanks\"] = red_ganks\n",
        "df[\"bkCount\"]= blue_count\n",
        "df[\"rkCount\"]= red_count"
      ]
    },
    {
      "cell_type": "code",
      "execution_count": 12,
      "id": "7323dcf0-4ff5-412b-9fcd-30bb3d6ec6f0",
      "metadata": {
        "id": "7323dcf0-4ff5-412b-9fcd-30bb3d6ec6f0"
      },
      "outputs": [],
      "source": [
        "stats = ['golddiff','dragondiff', 'barondiff', 'heralddiff', 'towerdiff', 'inhibitordiff', 'killdiff']\n",
        "x = df[stats]\n",
        "y = df['bResult']"
      ]
    },
    {
      "cell_type": "code",
      "execution_count": 13,
      "id": "6876ac82-9e51-4cc2-96c4-14e87d1b6f54",
      "metadata": {
        "id": "6876ac82-9e51-4cc2-96c4-14e87d1b6f54",
        "outputId": "fccc233c-a5ff-4001-a236-f3ea142c4a6c",
        "colab": {
          "base_uri": "https://localhost:8080/"
        }
      },
      "outputs": [
        {
          "output_type": "stream",
          "name": "stdout",
          "text": [
            "# of features per timestep: 7\n"
          ]
        }
      ],
      "source": [
        "from sklearn.preprocessing import StandardScaler\n",
        "\n",
        "data = {}\n",
        "scalers = {}\n",
        "for stat in stats:\n",
        "    scalers[stat] = StandardScaler()\n",
        "    for row in df[stat]:\n",
        "        scalers[stat].partial_fit(np.asanyarray(row).reshape(-1, 1))\n",
        "    data[stat] = [scalers[stat].transform(np.asanyarray(row).reshape(-1, 1)).reshape(-1) for row in df[stat]]\n",
        "\n",
        "num_features = len(data)\n",
        "print(f'# of features per timestep: {num_features}')"
      ]
    },
    {
      "cell_type": "code",
      "execution_count": 14,
      "id": "fe30b108-dcbe-4eea-94d5-02f754aea0e4",
      "metadata": {
        "id": "fe30b108-dcbe-4eea-94d5-02f754aea0e4"
      },
      "outputs": [],
      "source": [
        "from keras.models import Sequential\n",
        "from keras.layers import Dense"
      ]
    },
    {
      "cell_type": "code",
      "execution_count": 16,
      "id": "d629bccb-b40e-4974-a3e2-b2758dcca820",
      "metadata": {
        "id": "d629bccb-b40e-4974-a3e2-b2758dcca820"
      },
      "outputs": [],
      "source": [
        "model = Sequential([\n",
        "    Dense(32, activation='relu', input_shape=(7,)),\n",
        "    Dense(32, activation='relu'),\n",
        "    Dense(1, activation='sigmoid'),\n",
        "])"
      ]
    },
    {
      "cell_type": "code",
      "source": [
        "model.compile(optimizer='sgd',\n",
        "              loss='binary_crossentropy',\n",
        "              metrics=['accuracy'])"
      ],
      "metadata": {
        "id": "7n_X4bqF2Wwe"
      },
      "id": "7n_X4bqF2Wwe",
      "execution_count": 17,
      "outputs": []
    }
  ],
  "metadata": {
    "kernelspec": {
      "display_name": "Python 3",
      "language": "python",
      "name": "python3"
    },
    "language_info": {
      "codemirror_mode": {
        "name": "ipython",
        "version": 3
      },
      "file_extension": ".py",
      "mimetype": "text/x-python",
      "name": "python",
      "nbconvert_exporter": "python",
      "pygments_lexer": "ipython3",
      "version": "3.8.5"
    },
    "colab": {
      "provenance": []
    }
  },
  "nbformat": 4,
  "nbformat_minor": 5
}